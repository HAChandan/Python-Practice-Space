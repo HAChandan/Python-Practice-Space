{
 "cells": [
  {
   "cell_type": "code",
   "execution_count": 5,
   "id": "e7f641de",
   "metadata": {},
   "outputs": [
    {
     "name": "stdout",
     "output_type": "stream",
     "text": [
      "[10, 20, 30]\n",
      "[30, 20, 10]\n"
     ]
    }
   ],
   "source": [
    "# 1) Swap the values of the first and last item\n",
    "\n",
    "# Using while loop\n",
    "\n",
    "length = int(input(\"Enter the length of the list : \"))\n",
    "l3 = []\n",
    "x = 1\n",
    "while(x <= length):\n",
    "    y = int(input(\"Enter the list element : \"))\n",
    "    l3.append(y)\n",
    "    x = x + 1\n",
    "print(l3)\n",
    "a = l3[0]\n",
    "l3[0] = l3[length-1]\n",
    "l3[length-1] = a\n",
    "print(l3)"
   ]
  },
  {
   "cell_type": "code",
   "execution_count": 6,
   "id": "2810335b",
   "metadata": {},
   "outputs": [
    {
     "name": "stdout",
     "output_type": "stream",
     "text": [
      "List before Swapping :  [10, 20, 30]\n",
      "List after Swapping :  [30, 20, 10]\n"
     ]
    }
   ],
   "source": [
    "# Using for loop\n",
    "\n",
    "len_of_list = int(input(\"Enter the length of the list : \"))\n",
    "number_list = []\n",
    "for i in range(len_of_list):\n",
    "    list_item = int(input(f\"Enter the list Element {i+1} : \"))\n",
    "    number_list.append(list_item)\n",
    "print(\"List before Swapping : \", number_list)\n",
    "\n",
    "swap_item = number_list[0]\n",
    "number_list[0] = number_list[len_of_list-1]\n",
    "number_list[len_of_list-1] = swap_item\n",
    "print(\"List after Swapping : \", number_list)"
   ]
  },
  {
   "cell_type": "code",
   "execution_count": 7,
   "id": "5aa586d0",
   "metadata": {},
   "outputs": [
    {
     "name": "stdout",
     "output_type": "stream",
     "text": [
      "[10, 20, 30]\n",
      "[10, 20]\n",
      "20\n"
     ]
    }
   ],
   "source": [
    "# 2) Find the second highest in the list\n",
    "\n",
    "length = int(input(\"Enter the length of the list : \"))\n",
    "l4 = []\n",
    "x = 1\n",
    "while(x <= length):\n",
    "    y = int(input(\"Enter the list element : \"))\n",
    "    l4.append(y)\n",
    "    x = x + 1\n",
    "print(l4)\n",
    "l4.remove(max(l4))\n",
    "print(l4)\n",
    "print(max(l4))"
   ]
  },
  {
   "cell_type": "code",
   "execution_count": 8,
   "id": "5e42d494",
   "metadata": {},
   "outputs": [
    {
     "name": "stdout",
     "output_type": "stream",
     "text": [
      "The sorted list is :  [23, 23, 76, 88, 97, 123]\n",
      "The second largest index is :  4\n",
      "The second largest element in the list is :  97\n"
     ]
    }
   ],
   "source": [
    "# Bubble sor method\n",
    "number_list = [23, 97, 23, 123, 76, 88]\n",
    "for index in range(0, len(number_list)):\n",
    "    for position in range(index+1, len(number_list)):\n",
    "        if number_list[position] < number_list[index]:\n",
    "            move_item = number_list[position]\n",
    "            number_list[position] = number_list[index]\n",
    "            number_list[index] = move_item\n",
    "print(\"The sorted list is : \", number_list)\n",
    "print(\"The second largest index is : \", len(number_list)-2)\n",
    "print(\"The second largest element in the list is : \", number_list[len(number_list)-2])"
   ]
  },
  {
   "cell_type": "code",
   "execution_count": 9,
   "id": "962c0443",
   "metadata": {},
   "outputs": [
    {
     "data": {
      "text/plain": [
       "\"\\nIn the find_second_highest function, the line highest = second_highest = float('-inf') initializes two variables, highest and second_highest, both to negative infinity (float('-inf')). Here's what this does:\\n\\nIt sets both highest and second_highest to a value that is lower than any real number you would typically find in a list of numbers. This ensures that any value encountered in the list will be greater than or equal to these initial values during the loop.\\n\\nThe reason for initializing both variables to the same value is to ensure that they are both initially the same. As we iterate through the list, we will update these variables accordingly to track the highest and second highest values.\\n\\nHere's how it works in the loop:\\n\\nIf we encounter a number greater than the current highest, we update second_highest to the current value of highest and then update highest to the new number.\\n\\nIf we encounter a number that is greater than the current second_highest but less than highest, we update second_highest to the new number.\\n\\nBy initializing both variables to negative infinity, we ensure that even if the list contains negative numbers, the algorithm will correctly find the second highest positive number (or the second lowest negative number) in the list.\\n\""
      ]
     },
     "execution_count": 9,
     "metadata": {},
     "output_type": "execute_result"
    }
   ],
   "source": [
    "\n",
    "# Looping and keeping the track\n",
    "\n",
    "'''\n",
    "In the find_second_highest function, the line highest = second_highest = float('-inf') initializes two variables, highest and second_highest, both to negative infinity (float('-inf')). Here's what this does:\n",
    "\n",
    "It sets both highest and second_highest to a value that is lower than any real number you would typically find in a list of numbers. This ensures that any value encountered in the list will be greater than or equal to these initial values during the loop.\n",
    "\n",
    "The reason for initializing both variables to the same value is to ensure that they are both initially the same. As we iterate through the list, we will update these variables accordingly to track the highest and second highest values.\n",
    "\n",
    "Here's how it works in the loop:\n",
    "\n",
    "If we encounter a number greater than the current highest, we update second_highest to the current value of highest and then update highest to the new number.\n",
    "\n",
    "If we encounter a number that is greater than the current second_highest but less than highest, we update second_highest to the new number.\n",
    "\n",
    "By initializing both variables to negative infinity, we ensure that even if the list contains negative numbers, the algorithm will correctly find the second highest positive number (or the second lowest negative number) in the list.\n",
    "'''"
   ]
  },
  {
   "cell_type": "code",
   "execution_count": 10,
   "id": "de88675e",
   "metadata": {},
   "outputs": [],
   "source": [
    "def find_second_highest(numbers):\n",
    "    if len(numbers) < 2:\n",
    "        return \"List must have at least two elements\"\n",
    "    \n",
    "    highest = second_highest = float('-inf')\n",
    "    \n",
    "    for num in numbers:\n",
    "        if num > highest:\n",
    "            second_highest = highest\n",
    "            highest = num\n",
    "            print(f\"If - The loop of {num} the second_highest = {second_highest}, highest = {highest}\")\n",
    "        elif num > second_highest and num < highest:\n",
    "            second_highest = num\n",
    "            print(f\"Elif - The loop of {num} the second_highest = {second_highest}\")\n",
    "    \n",
    "    return second_highest"
   ]
  },
  {
   "cell_type": "code",
   "execution_count": 11,
   "id": "74dc7438",
   "metadata": {},
   "outputs": [
    {
     "name": "stdout",
     "output_type": "stream",
     "text": [
      "If - The loop of 10 the second_highest = -inf, highest = 10\n",
      "Elif - The loop of 5 the second_highest = 5\n",
      "Elif - The loop of 8 the second_highest = 8\n",
      "If - The loop of 20 the second_highest = 10, highest = 20\n",
      "Elif - The loop of 15 the second_highest = 15\n",
      "Second highest element: 15\n"
     ]
    }
   ],
   "source": [
    "# Example usage1:\n",
    "my_list = [10, 5, 8, 20, 15]\n",
    "result = find_second_highest(my_list)\n",
    "print(\"Second highest element:\", result)"
   ]
  },
  {
   "cell_type": "code",
   "execution_count": 12,
   "id": "4a08fb5f",
   "metadata": {},
   "outputs": [
    {
     "name": "stdout",
     "output_type": "stream",
     "text": [
      "If - The loop of 12 the second_highest = -inf, highest = 12\n",
      "If - The loop of 25 the second_highest = 12, highest = 25\n",
      "If - The loop of 34 the second_highest = 25, highest = 34\n",
      "If - The loop of 54 the second_highest = 34, highest = 54\n",
      "If - The loop of 97 the second_highest = 54, highest = 97\n",
      "Elif - The loop of 86 the second_highest = 86\n",
      "Second highest element: 86\n"
     ]
    }
   ],
   "source": [
    "# Example usage2:\n",
    "my_list = [12, 25, 34, 54, 97, 54, 43, 86, 14]\n",
    "result = find_second_highest(my_list)\n",
    "print(\"Second highest element:\", result)"
   ]
  },
  {
   "cell_type": "code",
   "execution_count": 13,
   "id": "1d298e04",
   "metadata": {},
   "outputs": [
    {
     "name": "stdout",
     "output_type": "stream",
     "text": [
      "[10, 20, 30]\n",
      "3\n",
      "30 2\n",
      "[10, 20]\n",
      "20 1\n"
     ]
    }
   ],
   "source": [
    "\n",
    "# 3) Find the second highest in the list and its index without using max function\n",
    "\n",
    "\n",
    "length = int(input(\"Enter the length of the list : \"))\n",
    "l4 = []\n",
    "x = 1\n",
    "while x <= length:\n",
    "    y = int(input(\"Enter the list element : \"))\n",
    "    l4.append(y)\n",
    "    x = x + 1\n",
    "print(l4)\n",
    "print(len(l4))\n",
    "\n",
    "max1 = l4[0]\n",
    "x = 1\n",
    "ind = 0\n",
    "while x < len(l4):\n",
    "    if max1 < l4[x]:\n",
    "        max1 = l4[x]\n",
    "        ind = x\n",
    "    x = x + 1\n",
    "print(max1, ind)\n",
    "\n",
    "del(l4[ind])\n",
    "print(l4)\n",
    "\n",
    "max1 = l4[0]\n",
    "x = 1\n",
    "ind = 0\n",
    "while x < len(l4):\n",
    "    if max1 < l4[x]:\n",
    "        max1 = l4[x]\n",
    "        ind = x\n",
    "    x = x + 1\n",
    "print(max1, ind)"
   ]
  },
  {
   "cell_type": "code",
   "execution_count": 14,
   "id": "3980cbca",
   "metadata": {},
   "outputs": [
    {
     "name": "stdout",
     "output_type": "stream",
     "text": [
      "first_max =  97\n",
      "second_max =  86\n"
     ]
    }
   ],
   "source": [
    "# Method - 2\n",
    "\n",
    "my_list = [12, 25, 34, 54, 97, 54, 43, 86, 14]\n",
    "first_max = second_max = my_list[0]\n",
    "for num in my_list:\n",
    "    if num > first_max:\n",
    "        second_max = first_max\n",
    "        first_max = num\n",
    "    elif num > second_max and num < first_max:\n",
    "        second_max = num\n",
    "\n",
    "print(\"first_max = \", first_max)\n",
    "print(\"second_max = \", second_max)"
   ]
  },
  {
   "cell_type": "code",
   "execution_count": 15,
   "id": "8018e46d",
   "metadata": {},
   "outputs": [
    {
     "name": "stdout",
     "output_type": "stream",
     "text": [
      "8 4\n"
     ]
    }
   ],
   "source": [
    "# 4) Swapping two Numbers Based on Multiple assignment(Method -1)\n",
    "\n",
    "a, b = 4, 8\n",
    "a, b = b, a\n",
    "print(a,b)"
   ]
  },
  {
   "cell_type": "code",
   "execution_count": 16,
   "id": "3014d979",
   "metadata": {},
   "outputs": [
    {
     "name": "stdout",
     "output_type": "stream",
     "text": [
      "23 10\n"
     ]
    }
   ],
   "source": [
    "# 5) Swapping two Numbers using third variable (Method -2)\n",
    "\n",
    "a, b = 10, 23\n",
    "c = a\n",
    "a = b\n",
    "b = c\n",
    "print(a,b)"
   ]
  },
  {
   "cell_type": "code",
   "execution_count": 17,
   "id": "51bd5e66",
   "metadata": {},
   "outputs": [
    {
     "name": "stdout",
     "output_type": "stream",
     "text": [
      "14 12\n"
     ]
    }
   ],
   "source": [
    "# 6) Swapping two Numbers using addition (Method -3)\n",
    "\n",
    "a, b = 12, 14\n",
    "a = a + b #26\n",
    "b = a - b #12\n",
    "a = a - b #14\n",
    "print(a, b)"
   ]
  },
  {
   "cell_type": "code",
   "execution_count": 18,
   "id": "c64c4b72",
   "metadata": {},
   "outputs": [
    {
     "name": "stdout",
     "output_type": "stream",
     "text": [
      "5.0 10.0\n"
     ]
    }
   ],
   "source": [
    "# 7) Swapping two Numbers using multiplication and division (Method -4)\n",
    "\n",
    "a, b = 10, 5\n",
    "a = a * b #50\n",
    "b = a / b #10\n",
    "a = a / b #5\n",
    "print(a, b)"
   ]
  },
  {
   "cell_type": "code",
   "execution_count": 19,
   "id": "9a51e1cc",
   "metadata": {},
   "outputs": [
    {
     "name": "stdout",
     "output_type": "stream",
     "text": [
      "50 100\n"
     ]
    }
   ],
   "source": [
    "# 8) Swapping two Numbers using multiplication and division (Method -5)\n",
    "\n",
    "a, b = 100, 50\n",
    "a = a / b #2\n",
    "b = a * b #100\n",
    "a = b / a #50\n",
    "print(int(a), int(b))"
   ]
  },
  {
   "cell_type": "code",
   "execution_count": 20,
   "id": "564ac8c2",
   "metadata": {},
   "outputs": [
    {
     "name": "stdout",
     "output_type": "stream",
     "text": [
      "Max number is :  60\n"
     ]
    }
   ],
   "source": [
    "# 9) Print maximum of three numbers\n",
    "\n",
    "a = int(input(\"Enter number1 : \"))\n",
    "b = int(input(\"Enter number2 : \"))\n",
    "c = int(input(\"Enter number3 : \"))\n",
    "\n",
    "if a >= b and a >= c:\n",
    "    print(\"Max number is : \", a)\n",
    "elif b >= a and b >= c:\n",
    "    print(\"Max number is : \", b)\n",
    "else:\n",
    "    print(\"Max number is : \", c)"
   ]
  },
  {
   "cell_type": "code",
   "execution_count": 21,
   "id": "187a488a",
   "metadata": {},
   "outputs": [
    {
     "name": "stdout",
     "output_type": "stream",
     "text": [
      "Descending order of the numbers is :  60 30 20\n"
     ]
    }
   ],
   "source": [
    "# 10) maximum of three numbers and in descending order\n",
    "\n",
    "a = int(input(\"Enter number1 : \"))\n",
    "b = int(input(\"Enter number2 : \"))\n",
    "c = int(input(\"Enter number3 : \"))\n",
    "if a > b and a > c:\n",
    "    if b > c:\n",
    "        print(\"Descending order of the numbers is : \", a, b, c)\n",
    "    else:\n",
    "        print(\"Descending order of the numbers is : \", a, c, b)\n",
    "elif b > a and b > c:\n",
    "    if a > c:\n",
    "        print(\"Descending order of the numbers is : \", b, a, c)\n",
    "    else:\n",
    "        print(\"Descending order of the numbers is : \", b, c, a)\n",
    "elif a > b:\n",
    "    print(\"Descending order of the numbers is : \", c, a, b)\n",
    "else:\n",
    "    print(\"Descending order of the numbers is : \", c, b, a)"
   ]
  },
  {
   "cell_type": "code",
   "execution_count": 22,
   "id": "c90ffbf1",
   "metadata": {},
   "outputs": [
    {
     "name": "stdout",
     "output_type": "stream",
     "text": [
      "Max number is c:  305\n"
     ]
    }
   ],
   "source": [
    "\n",
    "# 11) Maximum of three numbers\n",
    "\n",
    "a = int(input(\"Enter number1 : \"))\n",
    "b = int(input(\"Enter number2 : \"))\n",
    "c = int(input(\"Enter number3 : \"))\n",
    "\n",
    "# Case1 : a = b  = c\n",
    "\n",
    "if a == b == c:\n",
    "    print(\"all three numbers are same\")\n",
    "\n",
    "# Case2 : a = b  or b = c or c = a\n",
    "elif a == b:\n",
    "    if a > c:\n",
    "        print(\"Max number is a, b \", a)\n",
    "    else:\n",
    "        print(\"Max number is c\", c)\n",
    "elif b == c:\n",
    "    if b > a:\n",
    "        print(\"Max number is b, c \", b)\n",
    "    else:\n",
    "        print(\"Max number is a\", a)\n",
    "elif c == a:\n",
    "    if c > b:\n",
    "        print(\"Max number is c, a \", a)\n",
    "    else:\n",
    "        print(\"Max number is b\", b)\n",
    "\n",
    "# Case3 : a != b != c\n",
    "\n",
    "elif a > b and a > c:\n",
    "    print(\"Max number is a : \", a)\n",
    "elif b > a and b > c:\n",
    "    print(\"Max number is b: \", b)\n",
    "else:\n",
    "    print(\"Max number is c: \", c)"
   ]
  },
  {
   "cell_type": "code",
   "execution_count": 23,
   "id": "76116341",
   "metadata": {},
   "outputs": [
    {
     "name": "stdout",
     "output_type": "stream",
     "text": [
      "Not A Prime number\n"
     ]
    }
   ],
   "source": [
    "# 12) program to check prime number or not\n",
    "\n",
    "num = int(input(\"Enter a Number: \"))\n",
    "\n",
    "if num > 1:\n",
    "    for i in range(2, num):\n",
    "        if num % i == 0:\n",
    "            print(\"Not A Prime number\")\n",
    "            break\n",
    "    else:\n",
    "        print(\"Prime number\")\n",
    "else:\n",
    "    print(\"Not a prime number\")\n"
   ]
  },
  {
   "cell_type": "code",
   "execution_count": 24,
   "id": "9791b67c",
   "metadata": {},
   "outputs": [
    {
     "name": "stdout",
     "output_type": "stream",
     "text": [
      "area of the circle is :  3.0 is 28.278\n",
      "perimeter of the circle is :  3.0 is 18.852\n",
      "volume of the sphere is :  3.0 is 113.112\n",
      "surface area of the circle is :  3.0 is 113.112\n"
     ]
    }
   ],
   "source": [
    "# 13) program to check prime number or not\n",
    "\n",
    "pi = 3.142\n",
    "r = float(input(\"enter the radius is cms : \"))\n",
    "# area of the circle:\n",
    "area = pi*r**2\n",
    "print(\"area of the circle is : \", r, \"is\", area)\n",
    "# perimeter of the circle:\n",
    "per = 2 * pi * r\n",
    "print(\"perimeter of the circle is : \", r, \"is\", per)\n",
    "# volume of the sphere:\n",
    "vol = (4/3)*(pi*r**3)\n",
    "print(\"volume of the sphere is : \", r, \"is\", vol)\n",
    "surf = 4 * pi * r**2\n",
    "print(\"surface area of the circle is : \", r, \"is\", surf)"
   ]
  },
  {
   "cell_type": "code",
   "execution_count": 26,
   "id": "4b6c5c70",
   "metadata": {},
   "outputs": [
    {
     "name": "stdout",
     "output_type": "stream",
     "text": [
      "56 Is a not a prime Number\n"
     ]
    }
   ],
   "source": [
    "# 15) To Check Prime number or not with while loop method\n",
    "\n",
    "num2 = int(input(\"enter a number: \"))\n",
    "if num2 == 1:\n",
    "    print(num2, \"Is a prime Number\")\n",
    "else:\n",
    "    n = 2\n",
    "    flag = 0\n",
    "    while n < num2:\n",
    "        if num2 % n == 0:\n",
    "            flag = 1\n",
    "        n += 1\n",
    "    if flag == 0:\n",
    "        print(num2, \"Is a prime Number\")\n",
    "    else:\n",
    "        print(num2, \"Is a not a prime Number\")"
   ]
  },
  {
   "cell_type": "code",
   "execution_count": 27,
   "id": "1416923f",
   "metadata": {},
   "outputs": [
    {
     "name": "stdout",
     "output_type": "stream",
     "text": [
      "[10, 20, 30, 60, 40]\n",
      " \n",
      "List does not contain Prime Number\n"
     ]
    }
   ],
   "source": [
    "# 16) Program to print a prime number from a list of a number\n",
    "\n",
    "length = int(input(\"Enter the length of the list : \"))\n",
    "l3 = []\n",
    "x = 1\n",
    "while(x <= length):\n",
    "    y = int(input(\"Enter the list element : \"))\n",
    "    l3.append(y)\n",
    "    x = x + 1\n",
    "print(l3)\n",
    "flag1 = 0 # not a prime number\n",
    "for i in l3:\n",
    "    n = 2\n",
    "    flag = 0\n",
    "    while n < i:\n",
    "        if i % n == 0:\n",
    "            flag = 1\n",
    "        n += 1\n",
    "    if flag == 0:\n",
    "        print(i, end = \" \")\n",
    "        flag1 = 1\n",
    "print(' ')\n",
    "if flag1 == 0:\n",
    "    print(\"List does not contain Prime Number\")"
   ]
  },
  {
   "cell_type": "code",
   "execution_count": 28,
   "id": "3c5d6646",
   "metadata": {},
   "outputs": [],
   "source": [
    "# Bubble Sort Chatgpt code ascending order\n",
    "\n",
    "def bubble_sort(arr):\n",
    "    n = len(arr)\n",
    "    \n",
    "    # Traverse through all elements in the list\n",
    "    for i in range(n):\n",
    "        # Flag to optimize the algorithm by stopping early if no swaps are made\n",
    "        swapped = False\n",
    "        print(f\"{i} cycle of outer loop\")\n",
    "        # Last i elements are already in place, so we don't need to check them\n",
    "        for j in range(0, n-i-1):\n",
    "            # If the element found is greater than the next element, swap them\n",
    "            print(f\"the {j} index and element = {arr[j]}\")\n",
    "            if arr[j] > arr[j+1]:\n",
    "                print(f\"swapping of {arr[j]} and {arr[j+1]}\")\n",
    "                arr[j], arr[j+1] = arr[j+1], arr[j]  # Swap the elements\n",
    "                print(arr)\n",
    "                swapped = True\n",
    "                \n",
    "        \n",
    "        # If no two elements were swapped in the inner loop, the list is already sorted\n",
    "        if not swapped:\n",
    "            print(\"yes break\")\n",
    "            break"
   ]
  },
  {
   "cell_type": "code",
   "execution_count": 29,
   "id": "94e9e7e8",
   "metadata": {},
   "outputs": [
    {
     "name": "stdout",
     "output_type": "stream",
     "text": [
      "0 cycle of outer loop\n",
      "the 0 index and element = 64\n",
      "swapping of 64 and 25\n",
      "[25, 64, 12, 22, 11]\n",
      "the 1 index and element = 64\n",
      "swapping of 64 and 12\n",
      "[25, 12, 64, 22, 11]\n",
      "the 2 index and element = 64\n",
      "swapping of 64 and 22\n",
      "[25, 12, 22, 64, 11]\n",
      "the 3 index and element = 64\n",
      "swapping of 64 and 11\n",
      "[25, 12, 22, 11, 64]\n",
      "1 cycle of outer loop\n",
      "the 0 index and element = 25\n",
      "swapping of 25 and 12\n",
      "[12, 25, 22, 11, 64]\n",
      "the 1 index and element = 25\n",
      "swapping of 25 and 22\n",
      "[12, 22, 25, 11, 64]\n",
      "the 2 index and element = 25\n",
      "swapping of 25 and 11\n",
      "[12, 22, 11, 25, 64]\n",
      "2 cycle of outer loop\n",
      "the 0 index and element = 12\n",
      "the 1 index and element = 22\n",
      "swapping of 22 and 11\n",
      "[12, 11, 22, 25, 64]\n",
      "3 cycle of outer loop\n",
      "the 0 index and element = 12\n",
      "swapping of 12 and 11\n",
      "[11, 12, 22, 25, 64]\n",
      "4 cycle of outer loop\n",
      "yes break\n",
      "Sorted list: [11, 12, 22, 25, 64]\n"
     ]
    }
   ],
   "source": [
    "# Example usage 1:\n",
    "my_list = [64, 25, 12, 22, 11]\n",
    "bubble_sort(my_list)\n",
    "print(\"Sorted list:\", my_list)"
   ]
  },
  {
   "cell_type": "code",
   "execution_count": 30,
   "id": "40ae6095",
   "metadata": {},
   "outputs": [
    {
     "name": "stdout",
     "output_type": "stream",
     "text": [
      "0 cycle of outer loop\n",
      "the 0 index and element = 13\n",
      "the 1 index and element = 24\n",
      "the 2 index and element = 35\n",
      "the 3 index and element = 97\n",
      "swapping of 97 and 47\n",
      "[13, 24, 35, 47, 97]\n",
      "1 cycle of outer loop\n",
      "the 0 index and element = 13\n",
      "the 1 index and element = 24\n",
      "the 2 index and element = 35\n",
      "yes break\n",
      "Sorted list: [13, 24, 35, 47, 97]\n"
     ]
    }
   ],
   "source": [
    "# Example usage 1:\n",
    "L1 = [13, 24, 35, 97, 47]\n",
    "bubble_sort(L1)\n",
    "print(\"Sorted list:\", L1)"
   ]
  },
  {
   "cell_type": "code",
   "execution_count": 31,
   "id": "953fb0c9",
   "metadata": {},
   "outputs": [],
   "source": [
    "\n",
    "# Bubble Sort Chatgpt code descending order\n",
    "\n",
    "def bubble_sort_descending(arr):\n",
    "    n = len(arr)\n",
    "    \n",
    "    # Traverse through all elements in the list\n",
    "    for i in range(n):\n",
    "        # Flag to optimize the algorithm by stopping early if no swaps are made\n",
    "        swapped = False\n",
    "        print(f\"{i} cycle of outer loop\")\n",
    "        # Last i elements are already in place, so we don't need to check them\n",
    "        for j in range(0, n-i-1):\n",
    "            # If the element found is less than the next element, swap them\n",
    "            print(f\"the {j} index and element = {arr[j]}\")\n",
    "            if arr[j] < arr[j+1]:  # Change the comparison to less than\n",
    "                print(f\"swapping of {arr[j]} and {arr[j+1]}\")\n",
    "                arr[j], arr[j+1] = arr[j+1], arr[j]  # Swap the elements\n",
    "                print(arr)\n",
    "                swapped = True\n",
    "                \n",
    "        \n",
    "        # If no two elements were swapped in the inner loop, the list is already sorted\n",
    "        if not swapped:\n",
    "            print(\"yes break\")\n",
    "            break"
   ]
  },
  {
   "cell_type": "code",
   "execution_count": 32,
   "id": "523c7564",
   "metadata": {},
   "outputs": [
    {
     "name": "stdout",
     "output_type": "stream",
     "text": [
      "0 cycle of outer loop\n",
      "the 0 index and element = 64\n",
      "the 1 index and element = 25\n",
      "the 2 index and element = 12\n",
      "swapping of 12 and 22\n",
      "[64, 25, 22, 12, 11]\n",
      "the 3 index and element = 12\n",
      "1 cycle of outer loop\n",
      "the 0 index and element = 64\n",
      "the 1 index and element = 25\n",
      "the 2 index and element = 22\n",
      "yes break\n",
      "Sorted list (descending order): [64, 25, 22, 12, 11]\n"
     ]
    }
   ],
   "source": [
    "# Example usage:\n",
    "my_list = [64, 25, 12, 22, 11]\n",
    "bubble_sort_descending(my_list)\n",
    "print(\"Sorted list (descending order):\", my_list)"
   ]
  },
  {
   "cell_type": "code",
   "execution_count": 33,
   "id": "51860626",
   "metadata": {},
   "outputs": [],
   "source": [
    "# Check the number is prime number or not method- 1\n",
    "\n",
    "def is_prime(number):\n",
    "    if number <= 1:\n",
    "        return False  # Numbers less than or equal to 1 are not prime\n",
    "    \n",
    "    # Check for divisibility from 2 to the square root of the number\n",
    "    for i in range(2, int(number**0.5) + 1):\n",
    "        if number % i == 0:\n",
    "            return False  # The number is divisible by 'i', so it's not prime\n",
    "    \n",
    "    return True  # If no divisors were found, the number is prime"
   ]
  },
  {
   "cell_type": "code",
   "execution_count": 34,
   "id": "da31b199",
   "metadata": {},
   "outputs": [
    {
     "name": "stdout",
     "output_type": "stream",
     "text": [
      "17 is a prime number\n"
     ]
    }
   ],
   "source": [
    "# Example usage:\n",
    "num = 17  # Replace this with the number you want to check\n",
    "if is_prime(num):\n",
    "    print(f\"{num} is a prime number\")\n",
    "else:\n",
    "    print(f\"{num} is not a prime number\")"
   ]
  },
  {
   "cell_type": "code",
   "execution_count": 35,
   "id": "f81f629c",
   "metadata": {},
   "outputs": [],
   "source": [
    "# Check the number is prime number or not method- 2\n",
    "\n",
    "def prime_check(number):\n",
    "    if number <= 1:\n",
    "        return False # Numbers less than or equal to 1 are not prime\n",
    "    \n",
    "    for i in range(2, number):\n",
    "        if number % i == 0:\n",
    "            return False # The number is divisible by 'i', so it's not prime\n",
    "        \n",
    "    return True  # If no divisors were found, the number is prime"
   ]
  },
  {
   "cell_type": "code",
   "execution_count": 36,
   "id": "ab1a604a",
   "metadata": {},
   "outputs": [
    {
     "name": "stdout",
     "output_type": "stream",
     "text": [
      "2 is a prime number\n"
     ]
    }
   ],
   "source": [
    "# Example usage:\n",
    "num = 2  # Replace this with the number you want to check\n",
    "if prime_check(num):\n",
    "    print(f\"{num} is a prime number\")\n",
    "else:\n",
    "    print(f\"{num} is not a prime number\")"
   ]
  },
  {
   "cell_type": "code",
   "execution_count": 37,
   "id": "5b1529ac",
   "metadata": {},
   "outputs": [
    {
     "name": "stdout",
     "output_type": "stream",
     "text": [
      "[30, 20, 54, 68, 54, 654]\n",
      "List does not contain Prime Numbers\n",
      "Sorted non-prime numbers list: [30, 20, 54, 68, 54, 654]\n"
     ]
    }
   ],
   "source": [
    "\n",
    "# Program to print a prime number from a list of a number and seperate prime and not-prime to another list\n",
    "\n",
    "length = int(input(\"Enter the length of the list: \"))\n",
    "Numbers_List = []\n",
    "x = 1\n",
    "while x <= length:\n",
    "    list_item = int(input(\"Enter the list element: \"))\n",
    "    Numbers_List.append(list_item)\n",
    "    x = x + 1\n",
    "print(Numbers_List)\n",
    "\n",
    "Prime_Numbers_List = []\n",
    "Non_Prime_Numbers_List = []\n",
    "\n",
    "for row in Numbers_List:\n",
    "    divisor_check = 2\n",
    "    flag = 1  # Assume the number is prime\n",
    "    while divisor_check <= row ** 0.5:  # Optimize the divisor range\n",
    "        if row % divisor_check == 0:\n",
    "            flag = 0\n",
    "            Non_Prime_Numbers_List.append(row)\n",
    "            break\n",
    "        divisor_check += 1\n",
    "    if flag == 1:\n",
    "        Prime_Numbers_List.append(row)\n",
    "\n",
    "if not Prime_Numbers_List:\n",
    "    print(\"List does not contain Prime Numbers\")\n",
    "else:\n",
    "    print(\"List contains Prime Numbers\")\n",
    "\n",
    "if Prime_Numbers_List:\n",
    "    print(\"Sorted prime numbers list:\", Prime_Numbers_List)\n",
    "\n",
    "print(\"Sorted non-prime numbers list:\", Non_Prime_Numbers_List)"
   ]
  },
  {
   "cell_type": "code",
   "execution_count": 38,
   "id": "1c3a2658",
   "metadata": {},
   "outputs": [
    {
     "name": "stdout",
     "output_type": "stream",
     "text": [
      "The number of Vowels in String =  12\n"
     ]
    }
   ],
   "source": [
    "# program to check number of vowels using sets in given string\n",
    "\n",
    "str1 = \"Only desired action produces results\"\n",
    "vowels = {'a', 'e', 'i', 'o', 'u'}\n",
    "count = 0\n",
    "for i in str1.lower():\n",
    "    if i in vowels:\n",
    "        count = count+1\n",
    "print(\"The number of Vowels in String = \", count)"
   ]
  },
  {
   "cell_type": "code",
   "execution_count": 46,
   "id": "835abcb2",
   "metadata": {},
   "outputs": [
    {
     "name": "stdout",
     "output_type": "stream",
     "text": [
      "The number of Vowels in String = 7\n",
      "The number of Consonants in String = 13\n"
     ]
    }
   ],
   "source": [
    "# program to check number of vowels using sets in given string\n",
    "\n",
    "str1 = \"Deep Knowledge Group\"\n",
    "vowels = {'a', 'e', 'i', 'o', 'u'}\n",
    "count_v = 0\n",
    "count_c = 0\n",
    "for i in str1.lower():\n",
    "    if i in vowels:\n",
    "        count_v = count_v + 1\n",
    "    else:\n",
    "        count_c = count_c + 1\n",
    "print(\"The number of Vowels in String =\", count_v)\n",
    "print(\"The number of Consonants in String =\", count_c)"
   ]
  },
  {
   "cell_type": "code",
   "execution_count": 41,
   "id": "703448a4",
   "metadata": {},
   "outputs": [
    {
     "name": "stdout",
     "output_type": "stream",
     "text": [
      "slyvptuic\n",
      "['e', 'o', ' ', 'h', 'n', 'a', 'w', 'd', 'r']\n",
      "['e', 'o', ' ', 'h', 'n', 'a', 'w', 'd', 'r']\n",
      "words only have powerwhen turned in to action\n",
      "The Uncommon words are = s l y v p t u i c\n"
     ]
    }
   ],
   "source": [
    "# Python Program to Give Concatenated string with uncommon characters in 2 strings\n",
    "\n",
    "# Method -1\n",
    "\n",
    "str2 = \"words only have power\"\n",
    "str3 = \"when turned in to action\"\n",
    "print(\"slyvptuic\")\n",
    "all2 = list(set(str2) & set(str3))\n",
    "all1 = list(set(str2).intersection(set(str3)))\n",
    "print(all2)\n",
    "print(all1)\n",
    "\n",
    "str4 = str2 + str3\n",
    "print(str4)\n",
    "res = []\n",
    "for x in str4:\n",
    "    if x not in all1:\n",
    "        if x not in res:\n",
    "            res.append(x)\n",
    "print(\"The Uncommon words are =\",\" \".join(res))"
   ]
  },
  {
   "cell_type": "code",
   "execution_count": 42,
   "id": "f58c6b09",
   "metadata": {},
   "outputs": [
    {
     "name": "stdout",
     "output_type": "stream",
     "text": [
      "{'t', 'i', 'p', 'l', 'y', 'u', 'c', 's', 'v'}\n",
      "{'t', 'i', 'p', 'l', 'y', 'u', 'c', 's', 'v'}\n",
      "['t', 'i', 'p', 'l', 'y', 'u', 'c', 's', 'v']\n",
      "The Uncommon words are = tiplyucsv\n"
     ]
    }
   ],
   "source": [
    "# Method -2\n",
    "print(set(str2).symmetric_difference(set(str3)))\n",
    "un_com_set =set(str2).symmetric_difference(set(str3))\n",
    "un_com_list = list(un_com_set)\n",
    "print(un_com_set)\n",
    "print(un_com_list)\n",
    "joined_string = ''.join(un_com_list)\n",
    "print(\"The Uncommon words are =\",joined_string)\n"
   ]
  },
  {
   "cell_type": "code",
   "execution_count": 45,
   "id": "c113969c",
   "metadata": {},
   "outputs": [
    {
     "name": "stdout",
     "output_type": "stream",
     "text": [
      "Given Character  d is consonant\n"
     ]
    }
   ],
   "source": [
    "#1) ==>> To check the single character is Vowel or Consonant\n",
    "\n",
    "xyz = input(\"Enter a Character to Check Vowel or Consonant : \")\n",
    "\n",
    "if (xyz == 'a' or xyz == 'e' or xyz == 'i' or xyz == 'o' or xyz == 'u' or xyz == 'A' or xyz == 'E' or xyz == 'I' or xyz == 'O' or xyz == 'U'):\n",
    "    print(\"Given Character \", xyz , \"is vowel\")\n",
    "# To reduce the length of a program all consonants are not mentioned inside elseif\n",
    "elif (xyz == 'c' or xyz == 'd' or xyz == 'h' or xyz == 'f' or xyz == 'g'):\n",
    "    print(\"Given Character \", xyz, \"is consonant\")\n",
    "else:\n",
    "    print(xyz, \"Is not a valid character\")"
   ]
  },
  {
   "cell_type": "code",
   "execution_count": 47,
   "id": "96c83c22",
   "metadata": {},
   "outputs": [
    {
     "name": "stdout",
     "output_type": "stream",
     "text": [
      "[0, 3, 5, 7]\n"
     ]
    }
   ],
   "source": [
    "#2) ==>> Missing Number in the list\n",
    "\n",
    "xyz = [1, 4, 2, 6, 8, 9, 10]\n",
    "abc = [x for x in range(max(xyz)) if x not in xyz]\n",
    "print(abc)"
   ]
  },
  {
   "cell_type": "code",
   "execution_count": 48,
   "id": "0d180d3e",
   "metadata": {},
   "outputs": [
    {
     "name": "stdout",
     "output_type": "stream",
     "text": [
      "44\n"
     ]
    }
   ],
   "source": [
    "#3) ==>> Max of three numbers(Method-1)\n",
    "\n",
    "n1 = 35\n",
    "n2 = 25\n",
    "n3 = 44\n",
    "num = max(n1, n2, n3)\n",
    "print(num)"
   ]
  },
  {
   "cell_type": "code",
   "execution_count": 49,
   "id": "96b63736",
   "metadata": {},
   "outputs": [
    {
     "name": "stdout",
     "output_type": "stream",
     "text": [
      "[3, 4]\n"
     ]
    }
   ],
   "source": [
    "#4) ==>> Sorting without sort function\n",
    "box = [4, 3]\n",
    "for i in range(0, len(box)):\n",
    "    for j in range(0, len(box)):\n",
    "        if box[i] < box[j]:\n",
    "            box[i], box[j] = box[j], box[i]\n",
    "print(box)\n"
   ]
  },
  {
   "cell_type": "code",
   "execution_count": null,
   "id": "b022243e",
   "metadata": {},
   "outputs": [],
   "source": []
  }
 ],
 "metadata": {
  "kernelspec": {
   "display_name": "venv",
   "language": "python",
   "name": "python3"
  },
  "language_info": {
   "codemirror_mode": {
    "name": "ipython",
    "version": 3
   },
   "file_extension": ".py",
   "mimetype": "text/x-python",
   "name": "python",
   "nbconvert_exporter": "python",
   "pygments_lexer": "ipython3",
   "version": "3.10.11"
  }
 },
 "nbformat": 4,
 "nbformat_minor": 5
}
