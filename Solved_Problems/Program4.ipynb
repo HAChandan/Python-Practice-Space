{
 "cells": [
  {
   "cell_type": "code",
   "execution_count": 1,
   "id": "4e2ea107",
   "metadata": {},
   "outputs": [
    {
     "name": "stdout",
     "output_type": "stream",
     "text": [
      "\n",
      "PYTHON COLLECTION ARRAYS\n",
      "\n",
      "There are four collection data types in the python programing language\n",
      "\n",
      "-> LIST - is a collection which is ordered and changeable. allows duplicate members.\n",
      "-> TUPLE - is a collection which is ordered and unchangeable. allows duplicate members.\n",
      "-> SET - is a collection which is unordered, unchangeable and unindexed. no duplicate members.\n",
      "-> SET - is a collection which is ordered and changeable. no duplicate members.\n"
     ]
    }
   ],
   "source": [
    "print()\n",
    "print(\"PYTHON COLLECTION ARRAYS\")\n",
    "print()\n",
    "print(\"There are four collection data types in the python programing language\")\n",
    "print()\n",
    "print(\"-> LIST - is a collection which is ordered and changeable. allows duplicate members.\")\n",
    "print(\"-> TUPLE - is a collection which is ordered and unchangeable. allows duplicate members.\")\n",
    "print(\"-> SET - is a collection which is unordered, unchangeable and unindexed. no duplicate members.\")\n",
    "print(\"-> SET - is a collection which is ordered and changeable. no duplicate members.\")"
   ]
  },
  {
   "cell_type": "code",
   "execution_count": 3,
   "id": "1c9e21e4",
   "metadata": {},
   "outputs": [
    {
     "name": "stdout",
     "output_type": "stream",
     "text": [
      "1\n",
      "2\n"
     ]
    }
   ],
   "source": [
    "#1) ==>> Break Continue Pass Example\n",
    "\n",
    "# Break\n",
    "\n",
    "for i in range(1, 5):\n",
    "    if i == 3:\n",
    "        break\n",
    "    print(i)\n"
   ]
  },
  {
   "cell_type": "code",
   "execution_count": 4,
   "id": "fda9bed0",
   "metadata": {},
   "outputs": [
    {
     "name": "stdout",
     "output_type": "stream",
     "text": [
      "1\n",
      "2\n",
      "3\n"
     ]
    }
   ],
   "source": [
    "for i in range(1, 5):\n",
    "    print(i)\n",
    "    if i == 3:\n",
    "        break"
   ]
  },
  {
   "cell_type": "code",
   "execution_count": 5,
   "id": "118f2b6b",
   "metadata": {},
   "outputs": [
    {
     "name": "stdout",
     "output_type": "stream",
     "text": [
      "1\n",
      "2\n",
      "4\n"
     ]
    }
   ],
   "source": [
    "# Continue\n",
    "\n",
    "for i in range(1, 5):\n",
    "    if i == 3:\n",
    "        continue\n",
    "    print(i)"
   ]
  },
  {
   "cell_type": "code",
   "execution_count": 6,
   "id": "7182a3b6",
   "metadata": {},
   "outputs": [],
   "source": [
    "# Pass\n",
    "\n",
    "for i in range(1, 5):\n",
    "    pass"
   ]
  },
  {
   "cell_type": "code",
   "execution_count": 7,
   "id": "b50988cd",
   "metadata": {},
   "outputs": [
    {
     "name": "stdout",
     "output_type": "stream",
     "text": [
      "1 3 5 7 9 "
     ]
    }
   ],
   "source": [
    "for i in range(1, 10):\n",
    "    if i % 2 == 0:\n",
    "        pass\n",
    "    else:\n",
    "        print(i, end=' ')"
   ]
  },
  {
   "cell_type": "code",
   "execution_count": 8,
   "id": "32917345",
   "metadata": {},
   "outputs": [
    {
     "name": "stdout",
     "output_type": "stream",
     "text": [
      "The entered number 5 is palindrome <class 'int'>\n"
     ]
    }
   ],
   "source": [
    "#2) ==>> Palindrome or Not\n",
    "\n",
    "\n",
    "x = int(input(\"Enter a Number : \"))\n",
    "x = str(x)\n",
    "y = int(x[::-1])\n",
    "x = int(x)\n",
    "if y == x:\n",
    "    print(\"The entered number\", x, \"is palindrome\", type(x))\n",
    "else:\n",
    "    print(\"The entered number\", x, \"is not palindrome\", type(x))"
   ]
  },
  {
   "cell_type": "code",
   "execution_count": 9,
   "id": "ee4b9c85",
   "metadata": {},
   "outputs": [
    {
     "name": "stdout",
     "output_type": "stream",
     "text": [
      "[20, 30, 60]\n",
      "[20, 30, 60] are not prime numbers\n",
      "[] are prime numbers\n",
      "[] 1 is Neither prime nor Composite\n"
     ]
    }
   ],
   "source": [
    "#3) ==>> # Creating a list from input and Entering the Elements in List and sort\n",
    "         # them in to another 2 list which are prime numbers and not prime numbers.\n",
    "\n",
    "\n",
    "length = int(input(\"Enter the length of the list : \"))\n",
    "l3 = []\n",
    "x = 1\n",
    "while(x <= length):\n",
    "    y = int(input(\"Enter the list element : \"))\n",
    "    l3.append(y)\n",
    "    x = x + 1\n",
    "print(l3)\n",
    "l4 = []\n",
    "l5 = []\n",
    "l6 = []\n",
    "for i in l3:\n",
    "    if i == 1:\n",
    "        l6.append(1)\n",
    "    elif i > 1:\n",
    "        for j in range(2, i):\n",
    "            if i % j == 0:\n",
    "                l4.append(i)\n",
    "                break\n",
    "        else:\n",
    "            l5.append(i)\n",
    "    else:\n",
    "        l4.append(i)\n",
    "print(l4, \"are not prime numbers\")\n",
    "print(l5, \"are prime numbers\")\n",
    "print(l6, \"1 is Neither prime nor Composite\")"
   ]
  },
  {
   "cell_type": "code",
   "execution_count": 11,
   "id": "a0434fb5",
   "metadata": {},
   "outputs": [
    {
     "name": "stdout",
     "output_type": "stream",
     "text": [
      "5 6 5 2 \n"
     ]
    }
   ],
   "source": [
    "# 4) Extract Each Digit of an integer in reverse order\n",
    "\n",
    "num1 = int(input(\"Enter a Number : \"))\n",
    "while num1 > 0:\n",
    "    d = num1 % 10\n",
    "    num1 = num1 // 10\n",
    "    print(d, end =\" \")\n",
    "print()"
   ]
  },
  {
   "cell_type": "code",
   "execution_count": 12,
   "id": "a9ab7c93",
   "metadata": {},
   "outputs": [
    {
     "name": "stdout",
     "output_type": "stream",
     "text": [
      "* * * * * \n",
      "* * * * \n",
      "* * * \n",
      "* * \n",
      "* \n"
     ]
    }
   ],
   "source": [
    "# 5) 5 Star Pattern\n",
    "\n",
    "num = 5\n",
    "for i in range(num):\n",
    "    for j in range(0, num-i):\n",
    "        print(\"*\", end=\" \")\n",
    "    print()"
   ]
  },
  {
   "cell_type": "code",
   "execution_count": 13,
   "id": "f0620a0e",
   "metadata": {},
   "outputs": [
    {
     "name": "stdout",
     "output_type": "stream",
     "text": [
      "Multiplication Table for 1\n",
      "1 X 1 = 1\n",
      "1 X 2 = 2\n",
      "1 X 3 = 3\n",
      "1 X 4 = 4\n",
      "1 X 5 = 5\n",
      "1 X 6 = 6\n",
      "1 X 7 = 7\n",
      "1 X 8 = 8\n",
      "1 X 9 = 9\n",
      "1 X 10 = 10\n",
      "\n",
      "Multiplication Table for 2\n",
      "2 X 1 = 2\n",
      "2 X 2 = 4\n",
      "2 X 3 = 6\n",
      "2 X 4 = 8\n",
      "2 X 5 = 10\n",
      "2 X 6 = 12\n",
      "2 X 7 = 14\n",
      "2 X 8 = 16\n",
      "2 X 9 = 18\n",
      "2 X 10 = 20\n",
      "\n",
      "Multiplication Table for 3\n",
      "3 X 1 = 3\n",
      "3 X 2 = 6\n",
      "3 X 3 = 9\n",
      "3 X 4 = 12\n",
      "3 X 5 = 15\n",
      "3 X 6 = 18\n",
      "3 X 7 = 21\n",
      "3 X 8 = 24\n",
      "3 X 9 = 27\n",
      "3 X 10 = 30\n",
      "\n",
      "Multiplication Table for 4\n",
      "4 X 1 = 4\n",
      "4 X 2 = 8\n",
      "4 X 3 = 12\n",
      "4 X 4 = 16\n",
      "4 X 5 = 20\n",
      "4 X 6 = 24\n",
      "4 X 7 = 28\n",
      "4 X 8 = 32\n",
      "4 X 9 = 36\n",
      "4 X 10 = 40\n",
      "\n",
      "Multiplication Table for 5\n",
      "5 X 1 = 5\n",
      "5 X 2 = 10\n",
      "5 X 3 = 15\n",
      "5 X 4 = 20\n",
      "5 X 5 = 25\n",
      "5 X 6 = 30\n",
      "5 X 7 = 35\n",
      "5 X 8 = 40\n",
      "5 X 9 = 45\n",
      "5 X 10 = 50\n",
      "\n",
      "Multiplication Table for 6\n",
      "6 X 1 = 6\n",
      "6 X 2 = 12\n",
      "6 X 3 = 18\n",
      "6 X 4 = 24\n",
      "6 X 5 = 30\n",
      "6 X 6 = 36\n",
      "6 X 7 = 42\n",
      "6 X 8 = 48\n",
      "6 X 9 = 54\n",
      "6 X 10 = 60\n",
      "\n",
      "Multiplication Table for 7\n",
      "7 X 1 = 7\n",
      "7 X 2 = 14\n",
      "7 X 3 = 21\n",
      "7 X 4 = 28\n",
      "7 X 5 = 35\n",
      "7 X 6 = 42\n",
      "7 X 7 = 49\n",
      "7 X 8 = 56\n",
      "7 X 9 = 63\n",
      "7 X 10 = 70\n",
      "\n",
      "Multiplication Table for 8\n",
      "8 X 1 = 8\n",
      "8 X 2 = 16\n",
      "8 X 3 = 24\n",
      "8 X 4 = 32\n",
      "8 X 5 = 40\n",
      "8 X 6 = 48\n",
      "8 X 7 = 56\n",
      "8 X 8 = 64\n",
      "8 X 9 = 72\n",
      "8 X 10 = 80\n",
      "\n",
      "Multiplication Table for 9\n",
      "9 X 1 = 9\n",
      "9 X 2 = 18\n",
      "9 X 3 = 27\n",
      "9 X 4 = 36\n",
      "9 X 5 = 45\n",
      "9 X 6 = 54\n",
      "9 X 7 = 63\n",
      "9 X 8 = 72\n",
      "9 X 9 = 81\n",
      "9 X 10 = 90\n",
      "\n",
      "Multiplication Table for 10\n",
      "10 X 1 = 10\n",
      "10 X 2 = 20\n",
      "10 X 3 = 30\n",
      "10 X 4 = 40\n",
      "10 X 5 = 50\n",
      "10 X 6 = 60\n",
      "10 X 7 = 70\n",
      "10 X 8 = 80\n",
      "10 X 9 = 90\n",
      "10 X 10 = 100\n",
      "\n",
      "Multiplication Table for 11\n",
      "11 X 1 = 11\n",
      "11 X 2 = 22\n",
      "11 X 3 = 33\n",
      "11 X 4 = 44\n",
      "11 X 5 = 55\n",
      "11 X 6 = 66\n",
      "11 X 7 = 77\n",
      "11 X 8 = 88\n",
      "11 X 9 = 99\n",
      "11 X 10 = 110\n",
      "\n",
      "Multiplication Table for 12\n",
      "12 X 1 = 12\n",
      "12 X 2 = 24\n",
      "12 X 3 = 36\n",
      "12 X 4 = 48\n",
      "12 X 5 = 60\n",
      "12 X 6 = 72\n",
      "12 X 7 = 84\n",
      "12 X 8 = 96\n",
      "12 X 9 = 108\n",
      "12 X 10 = 120\n",
      "\n",
      "Multiplication Table for 13\n",
      "13 X 1 = 13\n",
      "13 X 2 = 26\n",
      "13 X 3 = 39\n",
      "13 X 4 = 52\n",
      "13 X 5 = 65\n",
      "13 X 6 = 78\n",
      "13 X 7 = 91\n",
      "13 X 8 = 104\n",
      "13 X 9 = 117\n",
      "13 X 10 = 130\n",
      "\n",
      "Multiplication Table for 14\n",
      "14 X 1 = 14\n",
      "14 X 2 = 28\n",
      "14 X 3 = 42\n",
      "14 X 4 = 56\n",
      "14 X 5 = 70\n",
      "14 X 6 = 84\n",
      "14 X 7 = 98\n",
      "14 X 8 = 112\n",
      "14 X 9 = 126\n",
      "14 X 10 = 140\n",
      "\n",
      "Multiplication Table for 15\n",
      "15 X 1 = 15\n",
      "15 X 2 = 30\n",
      "15 X 3 = 45\n",
      "15 X 4 = 60\n",
      "15 X 5 = 75\n",
      "15 X 6 = 90\n",
      "15 X 7 = 105\n",
      "15 X 8 = 120\n",
      "15 X 9 = 135\n",
      "15 X 10 = 150\n",
      "\n",
      "Multiplication Table for 16\n",
      "16 X 1 = 16\n",
      "16 X 2 = 32\n",
      "16 X 3 = 48\n",
      "16 X 4 = 64\n",
      "16 X 5 = 80\n",
      "16 X 6 = 96\n",
      "16 X 7 = 112\n",
      "16 X 8 = 128\n",
      "16 X 9 = 144\n",
      "16 X 10 = 160\n",
      "\n",
      "Multiplication Table for 17\n",
      "17 X 1 = 17\n",
      "17 X 2 = 34\n",
      "17 X 3 = 51\n",
      "17 X 4 = 68\n",
      "17 X 5 = 85\n",
      "17 X 6 = 102\n",
      "17 X 7 = 119\n",
      "17 X 8 = 136\n",
      "17 X 9 = 153\n",
      "17 X 10 = 170\n",
      "\n",
      "Multiplication Table for 18\n",
      "18 X 1 = 18\n",
      "18 X 2 = 36\n",
      "18 X 3 = 54\n",
      "18 X 4 = 72\n",
      "18 X 5 = 90\n",
      "18 X 6 = 108\n",
      "18 X 7 = 126\n",
      "18 X 8 = 144\n",
      "18 X 9 = 162\n",
      "18 X 10 = 180\n",
      "\n",
      "Multiplication Table for 19\n",
      "19 X 1 = 19\n",
      "19 X 2 = 38\n",
      "19 X 3 = 57\n",
      "19 X 4 = 76\n",
      "19 X 5 = 95\n",
      "19 X 6 = 114\n",
      "19 X 7 = 133\n",
      "19 X 8 = 152\n",
      "19 X 9 = 171\n",
      "19 X 10 = 190\n",
      "\n",
      "Multiplication Table for 20\n",
      "20 X 1 = 20\n",
      "20 X 2 = 40\n",
      "20 X 3 = 60\n",
      "20 X 4 = 80\n",
      "20 X 5 = 100\n",
      "20 X 6 = 120\n",
      "20 X 7 = 140\n",
      "20 X 8 = 160\n",
      "20 X 9 = 180\n",
      "20 X 10 = 200\n",
      "\n"
     ]
    }
   ],
   "source": [
    "# 6) Multiplication table from 1 to 10\n",
    "\n",
    "for num in range(1, 21):\n",
    "    print(\"Multiplication Table for\", num)\n",
    "    for i in range(1, 11):\n",
    "        product = num * i\n",
    "        print(num, 'X', i, '=', product)\n",
    "    print()"
   ]
  },
  {
   "cell_type": "code",
   "execution_count": 14,
   "id": "f3972aea",
   "metadata": {},
   "outputs": [
    {
     "name": "stdout",
     "output_type": "stream",
     "text": [
      "24\n",
      "Mean =  49.625\n",
      "Median =  51.5\n"
     ]
    }
   ],
   "source": [
    "# 7) Mean Median Mode From Given data set (Method - 1)\n",
    "\n",
    "\n",
    "import math\n",
    "# Calculating measures of centrality\n",
    "data = [19, 28, 34, 36, 37, 43, 44, 44, 46, 47, 48, 51, 52, 54, 55, 55, 56, 59, 60, 62, 62, 65, 66, 68]\n",
    "n = len(data)\n",
    "print(n)\n",
    "sum = 0\n",
    "x = 0\n",
    "while x < n:\n",
    "    sum = data[x] + sum\n",
    "    x += 1\n",
    "mean = sum / n\n",
    "print(\"Mean = \", mean)\n",
    "\n",
    "# finding median of the data :\n",
    "\n",
    "if n % 2 == 0:\n",
    "    p = int(n/2)\n",
    "    x = data[p-1]\n",
    "    y = data[p]\n",
    "    median = (x+y)/2\n",
    "    print(\"Median = \", median)\n",
    "else:\n",
    "    p = int((n-1)/2)\n",
    "    median = data[p-1]\n",
    "    print(\"Median = \", median)"
   ]
  },
  {
   "cell_type": "code",
   "execution_count": 15,
   "id": "759b050a",
   "metadata": {},
   "outputs": [
    {
     "name": "stdout",
     "output_type": "stream",
     "text": [
      "Count  [1, 1, 1, 1, 1, 1, 2, 1, 1, 1, 1, 1, 1, 2, 1, 1, 1, 2, 1, 1, 1]\n",
      "mode  [19, 28, 34, 36, 37, 43, 44, 46, 47, 48, 51, 52, 54, 55, 56, 59, 60, 62, 65, 66, 68]\n",
      "Mode =  [44, 55, 62]\n"
     ]
    }
   ],
   "source": [
    "# Find Mode :\n",
    "\n",
    "data = [19, 28, 34, 36, 37, 43, 44, 44, 46, 47, 48, 51, 52, 54, 55, 55, 56, 59, 60, 62, 62, 65, 66, 68]\n",
    "count = []\n",
    "sort = []\n",
    "for x in data:\n",
    "    c = 0\n",
    "    if x in sort:\n",
    "        continue\n",
    "    for y in data:\n",
    "        if x == y:\n",
    "            c += 1\n",
    "    count.append(c)\n",
    "    sort.append(x)\n",
    "print(\"Count \", count)\n",
    "print(\"mode \", sort)\n",
    "mode = []\n",
    "for g in range(len(count)):\n",
    "    if count[g] == max(count):\n",
    "        mode.append(sort[g])\n",
    "print(\"Mode = \",mode)"
   ]
  },
  {
   "cell_type": "code",
   "execution_count": 16,
   "id": "651c93aa",
   "metadata": {},
   "outputs": [
    {
     "name": "stdout",
     "output_type": "stream",
     "text": [
      "count [1, 1, 1, 1, 1, 1, 1, 2, 1, 2, 1, 1, 1, 1, 1, 1, 1, 2, 1, 2, 1, 1, 1, 1, 2, 1, 2, 1, 1, 1]\n",
      "mode [19, 28, 34, 36, 37, 43, 44, 44, 44, 44, 46, 47, 48, 51, 52, 54, 55, 55, 55, 55, 56, 59, 60, 62, 62, 62, 62, 65, 66, 68]\n",
      "2\n",
      "[44, 55, 62]\n"
     ]
    }
   ],
   "source": [
    "# 8) Mode From PI class method (Method - 2)\n",
    "\n",
    "count = []\n",
    "mode = []\n",
    "for x in data:\n",
    "    c = 0\n",
    "    for y in data:\n",
    "        if x == y:\n",
    "            c += 1\n",
    "            count.append(c)\n",
    "            mode.append(x)\n",
    "print(\"count\", count)\n",
    "print(\"mode\", mode)\n",
    "print(max(count))\n",
    "\n",
    "ind = 0 # track index of values in count\n",
    "res = []\n",
    "for i in count:\n",
    "    if i == max(count): # if value in count is max then fetch the value from mode\n",
    "        z = mode[ind]\n",
    "        if z not in res:\n",
    "            res.append(z)\n",
    "        ind += 1\n",
    "    else:\n",
    "        ind += 1\n",
    "print(res)"
   ]
  },
  {
   "cell_type": "code",
   "execution_count": 17,
   "id": "74626fdf",
   "metadata": {},
   "outputs": [
    {
     "name": "stdout",
     "output_type": "stream",
     "text": [
      "[1, 1, 1, 1, 1, 1, 2, 2, 1, 1, 1, 1, 1, 1, 2, 2, 1, 1, 1, 2, 2, 1, 1, 1]\n",
      "[44, 44, 55, 55, 62, 62]\n",
      "[44, 55, 62]\n"
     ]
    }
   ],
   "source": [
    "# 9) Method - 3\n",
    "\n",
    "data = [19, 28, 34, 36, 37, 43, 44, 44, 46, 47, 48, 51, 52, 54, 55, 55, 56, 59, 60, 62, 62, 65, 66, 68]\n",
    "n = len(data)\n",
    "#finding the mode\n",
    "Count = []\n",
    "mode = []\n",
    "x=0\n",
    "#to get an list with count of values\n",
    "while x<n:\n",
    "     y=data[x]\n",
    "     u=data.count(y)\n",
    "     Count.append(u)\n",
    "     x+=1\n",
    "print(Count)\n",
    "max = max(Count)\n",
    "x=0\n",
    "mode_temp = []\n",
    "#to get an array with all corresponding index values from 'data'\n",
    "while x<n:\n",
    "    if max==Count[x]:\n",
    "        mode_temp.append(data[x])\n",
    "        x += 1\n",
    "    else:\n",
    "        x += 1\n",
    "        continue\n",
    "print(mode_temp)\n",
    "# To print mode without repeated values only once\n",
    "\n",
    "for x in mode_temp:\n",
    "    if x in mode:\n",
    "        continue\n",
    "    else:\n",
    "        mode.append(x)\n",
    "print(mode)"
   ]
  },
  {
   "cell_type": "code",
   "execution_count": 18,
   "id": "b82dbba5",
   "metadata": {},
   "outputs": [
    {
     "name": "stdout",
     "output_type": "stream",
     "text": [
      "List of people with age more than 3 =  [5, 17, 23, 37, 43]\n",
      "List of people with age less than or equal to 3 =  [1, 2, 3]\n",
      "Total flight Charge (100 RS each) =  500\n"
     ]
    }
   ],
   "source": [
    "# 10) Flight ticket 100 for each of the passengers except for age less than or equal 3 find total Total flight charge for all\n",
    "\n",
    "group = [1, 2, 3, 5, 17, 23, 37, 43]\n",
    "pay = []\n",
    "none = []\n",
    "total = 0\n",
    "for i in group:\n",
    "    if i <= 3:\n",
    "        none.append(i)\n",
    "    else:\n",
    "        pay.append(i)\n",
    "        total = total + 100\n",
    "print(\"List of people with age more than 3 = \", pay)\n",
    "print(\"List of people with age less than or equal to 3 = \", none)\n",
    "print(\"Total flight Charge (100 RS each) = \", total)"
   ]
  },
  {
   "cell_type": "code",
   "execution_count": 19,
   "id": "375f7446",
   "metadata": {},
   "outputs": [
    {
     "name": "stdout",
     "output_type": "stream",
     "text": [
      "[20, 30, 40, 50, 60, 10]\n"
     ]
    }
   ],
   "source": [
    "# 11)  Given a list l1 = [10, 20, 30, 40, 50, 60], create an another list and print as [20, 30, 40, 50, 60, 10]\n",
    "\n",
    "l1 = [10, 20, 30, 40, 50, 60]\n",
    "box1 = []\n",
    "a = 1\n",
    "while a <= len(l1):\n",
    "    if a == len(l1):\n",
    "        box1.append(l1[0])\n",
    "    else:\n",
    "        box1.append(l1[a])\n",
    "    a = a + 1\n",
    "print(box1)"
   ]
  },
  {
   "cell_type": "code",
   "execution_count": 20,
   "id": "2a260bd6",
   "metadata": {},
   "outputs": [
    {
     "name": "stdout",
     "output_type": "stream",
     "text": [
      "[30, 10, 20, 40, 50, 60]\n"
     ]
    }
   ],
   "source": [
    "# 12) Insert and Pop to Change the Index position on the list\n",
    "\n",
    "# Example1\n",
    "\n",
    "l1 = [10, 20, 30, 40, 50, 60]\n",
    "l1.insert(0, l1.pop(2))\n",
    "print(l1)"
   ]
  },
  {
   "cell_type": "code",
   "execution_count": 21,
   "id": "85aa0f48",
   "metadata": {},
   "outputs": [
    {
     "name": "stdout",
     "output_type": "stream",
     "text": [
      "[50, 10, 20, 30, 40, 60]\n"
     ]
    }
   ],
   "source": [
    "# Example2\n",
    "\n",
    "l1 = [10, 20, 30, 40, 50, 60]\n",
    "l1.insert(0, l1.pop(4))\n",
    "print(l1)"
   ]
  },
  {
   "cell_type": "code",
   "execution_count": 22,
   "id": "f46f73e1",
   "metadata": {},
   "outputs": [
    {
     "name": "stdout",
     "output_type": "stream",
     "text": [
      "[10, 20, 30, 60, 40, 50]\n"
     ]
    }
   ],
   "source": [
    "# Example3\n",
    "\n",
    "l1 = [10, 20, 30, 40, 50, 60]\n",
    "l1.insert(3, l1.pop(5))\n",
    "print(l1)"
   ]
  },
  {
   "cell_type": "code",
   "execution_count": 23,
   "id": "f6d96a1c",
   "metadata": {},
   "outputs": [
    {
     "name": "stdout",
     "output_type": "stream",
     "text": [
      "Tiles size in Sq Feet =  1.5\n",
      "box of tails in Sq Feet =  9.0\n",
      "Total area of tiles in Sq Feet =  125\n",
      "Total Number of box required =  14\n",
      "Total Number of tails required =  83.33333333333333\n"
     ]
    }
   ],
   "source": [
    "# 12) Tiles and Box problem\n",
    "\n",
    "\n",
    "roomfloar = 6*5 # In  Sq feet\n",
    "eastwall = 6*5 # In  Sq feet\n",
    "westwall = 6*5 # In  Sq feet\n",
    "northtwall = 5*5 # In  Sq feet\n",
    "door = 8*3 # In sq feet\n",
    "doortail = 5*3 # In sq feet\n",
    "southwall = 5*5 - doortail # In Sq feet\n",
    "tailsize = 1.5*1 # In sq feet\n",
    "box = 6*tailsize # In sq feet\n",
    "totalarea = roomfloar+eastwall+westwall+northtwall+southwall # In sq feet\n",
    "tails = totalarea/tailsize\n",
    "totalbox = totalarea/box\n",
    "print(\"Tiles size in Sq Feet = \",tailsize)\n",
    "print(\"box of tails in Sq Feet = \",box)\n",
    "print(\"Total area of tiles in Sq Feet = \",totalarea)\n",
    "print(\"Total Number of box required = \",round(totalbox))\n",
    "print(\"Total Number of tails required = \",tails)"
   ]
  },
  {
   "cell_type": "code",
   "execution_count": 25,
   "id": "711cfe3d",
   "metadata": {},
   "outputs": [
    {
     "name": "stdout",
     "output_type": "stream",
     "text": [
      "Door Height for which tail is removed =  10\n",
      "Tail length in feet =  2.5\n",
      "Tail width in feet =  1.6666666666666667\n",
      "Tiles size in Sq Feet =  4.166666666666667\n",
      "box of tails in Sq Feet =  83.33333333333334\n",
      "Total area of tiles in Sq Feet =  480\n",
      "5.76\n",
      "Total Number of box required =  6\n",
      "Total Number of tails required =  115.19999999999999\n"
     ]
    }
   ],
   "source": [
    "\n",
    "# 12) Tiles and Box problem with all inputs\n",
    "\n",
    "l = int(input(\"Enter the length of floor in feet = \"))\n",
    "w = int(input(\"Enter the width of floor in feet = \"))\n",
    "h = int(input(\"Enter the height for which tail is required= \"))\n",
    "h1 = int(input(\"Enter the height of the door in feet = \"))\n",
    "hd1 = h1-(h1-h)\n",
    "print(\"Door Height for which tail is removed = \", hd1)\n",
    "wd2 = int(input(\"Enter the width of the door in feet = \"))\n",
    "tl = int(input(\"Enter the tail length in inch = \"))\n",
    "tw = int(input(\"Enter the tail width in inch = \"))\n",
    "tlf = tl/12\n",
    "print(\"Tail length in feet = \", tlf)\n",
    "twf = tw/12\n",
    "print(\"Tail width in feet = \", twf)\n",
    "num1 = int(input(\"How many tails contained in box = \"))\n",
    "roomfloor = l*w # Area In  Sq feet\n",
    "eastwall = l*h # Area In  Sq feet\n",
    "westwall = l*h # Area In  Sq feet\n",
    "northtwall = w*h # Area In  Sq feet\n",
    "southwall = w*h # Area In  Sq feet\n",
    "door = hd1*wd2 # Area In  Sq feet\n",
    "tailsize = tlf*twf # Area In  Sq feet\n",
    "box = num1*tailsize # Area In  Sq feet\n",
    "totalarea = roomfloor+eastwall+westwall+northtwall+southwall-door # Total area of tails in sq feet\n",
    "tails = totalarea/tailsize\n",
    "totalbox = totalarea/box\n",
    "print(\"Tiles size in Sq Feet = \",tailsize)\n",
    "print(\"box of tails in Sq Feet = \",box)\n",
    "print(\"Total area of tiles in Sq Feet = \",totalarea)\n",
    "print(totalbox)\n",
    "print(\"Total Number of box required = \",round(totalbox))\n",
    "print(\"Total Number of tails required = \",tails)"
   ]
  },
  {
   "cell_type": "code",
   "execution_count": 26,
   "id": "ab525d9c",
   "metadata": {},
   "outputs": [
    {
     "name": "stdout",
     "output_type": "stream",
     "text": [
      "[20, 30, 40, 50, 60, 10]\n",
      "[44, 55, 66, 77, 88, 99]\n",
      "[15, 7, 10, 12]\n"
     ]
    }
   ],
   "source": [
    "l1 = [10, 20, 30, 40, 50, 60]\n",
    "box1 = []\n",
    "a = 1\n",
    "while a <= len(l1):\n",
    "    if a == len(l1):\n",
    "        box1.append(l1[0])\n",
    "    else:\n",
    "        box1.append(l1[a])\n",
    "    a = a + 1\n",
    "print(box1)\n",
    "\n",
    "q1 = [44, 55, 66, 77, 88, 99]\n",
    "box2 = []\n",
    "n = len(q1)\n",
    "while n <= 5:\n",
    "    if n == len(q1):\n",
    "        box2.append(q1[n])\n",
    "    else:\n",
    "        box2.append(q1[len(q1)-n])\n",
    "    n = n - 1\n",
    "print(q1)\n",
    "\n",
    "\n",
    "l2 = [7, 10, 12, 15]\n",
    "l2.insert(0, l2.pop())\n",
    "print(l2)\n"
   ]
  },
  {
   "cell_type": "code",
   "execution_count": 27,
   "id": "302ea3e9",
   "metadata": {},
   "outputs": [
    {
     "name": "stdout",
     "output_type": "stream",
     "text": [
      "Fibonacci Series :  0, 1 , 1 , 2 , 3 , 5 , 8 , 13 , 21 , 34 , 55 , 89 , 144 , 233 , 377 , 610 , 987 , 1597 , 2584 , 4181 , 6765 , 10946 , 17711 , 28657 , 46368 \n"
     ]
    }
   ],
   "source": [
    "#13) ==>> Fibonacci Series (Method-1)\n",
    "\n",
    "x = int(input(\"Enter a Numer : \"))\n",
    "y = 2\n",
    "n1 = 0\n",
    "n2 = 1\n",
    "if x == 0:\n",
    "    pass\n",
    "else:\n",
    "    print(\"Fibonacci Series : \", n1, end= '')\n",
    "    while y <= x:\n",
    "        n3 = n1 + n2\n",
    "        print(',', n2, end= ' ')\n",
    "        n1 = n2\n",
    "        n2 = n3\n",
    "        y = y+1\n",
    "print()"
   ]
  },
  {
   "cell_type": "code",
   "execution_count": 29,
   "id": "304990e2",
   "metadata": {},
   "outputs": [
    {
     "name": "stdout",
     "output_type": "stream",
     "text": [
      "Fibonacci Series :  0 , 1 , 1 , 2 , 3 \n"
     ]
    }
   ],
   "source": [
    "#14) ==>> Fibonacci Series (Method-2)\n",
    "\n",
    "x = int(input(\"Enter a Numer : \"))\n",
    "n1, n2, y = 0, 1, 2\n",
    "print(\"Fibonacci Series : \", n1, end=' ')\n",
    "while(y <= x):\n",
    "    n3 = n2 + n1\n",
    "    print(',', n2, end = ' ')\n",
    "    n1, n2 = n2, n3\n",
    "    y = y+1\n",
    "print()"
   ]
  },
  {
   "cell_type": "code",
   "execution_count": 30,
   "id": "a33f9a84",
   "metadata": {},
   "outputs": [
    {
     "name": "stdout",
     "output_type": "stream",
     "text": [
      "Fibonacci Series :  0 , 1 , 1 , 2 , 3 , 5 , 8 , 13 , 21 , 34 , 55 , 89 , 144 , 233 , 377 , 610 , 987 , 1597 , 2584 , 4181 , 6765 , 10946 , 17711 , 28657 , 46368 \n",
      "[0]\n"
     ]
    }
   ],
   "source": [
    "#15) ==>> Fibonacci Series (Method-3)\n",
    "\n",
    "x = int(input(\"Enter a Numer : \"))\n",
    "n1, n2, y = 0, 1, 2\n",
    "fs = []\n",
    "print(\"Fibonacci Series : \", n1, end=' ')\n",
    "fs.append(n1)\n",
    "while(y <= x):\n",
    "    n3 = n2 + n1\n",
    "    print(',', n2, end = ' ')\n",
    "    n1, n2 = n2, n3\n",
    "    y = y+1\n",
    "print()\n",
    "print(fs)"
   ]
  },
  {
   "cell_type": "code",
   "execution_count": 31,
   "id": "1037cab4",
   "metadata": {},
   "outputs": [
    {
     "name": "stdout",
     "output_type": "stream",
     "text": [
      "[10, 20, 30, 40, 50]\n",
      "[15, 25, 35]\n"
     ]
    }
   ],
   "source": [
    "#16) ==>> Given a List Create a list of all even numbers and create a list of all odd numbers using for loop\n",
    "\n",
    "l1 = [10,15,20,25,30,35,40,50]\n",
    "even = []\n",
    "odd = []\n",
    "for i in l1:\n",
    "    if i % 2 == 0:\n",
    "        even.append(i)\n",
    "    else:\n",
    "        odd.append(i)\n",
    "print(even)\n",
    "print(odd)"
   ]
  },
  {
   "cell_type": "code",
   "execution_count": 32,
   "id": "f3f587f6",
   "metadata": {},
   "outputs": [
    {
     "name": "stdout",
     "output_type": "stream",
     "text": [
      "[2, 4, 6, 8, 0]\n",
      "[1, 3, 5, 7, 9]\n"
     ]
    }
   ],
   "source": [
    "#17) ==>> Given a List Create a list of all even numbers and create a list of all odd numbers using while loop\n",
    "\n",
    "l1 = [1, 2, 3, 4, 5, 6, 7, 8, 9, 0]\n",
    "even = []\n",
    "odd = []\n",
    "ln = len(l1)\n",
    "n = 0\n",
    "while n < ln:\n",
    "    if l1[n] % 2 == 0:\n",
    "        even.append(l1[n])\n",
    "    else:\n",
    "        odd.append(l1[n])\n",
    "    n = n + 1\n",
    "print(even)\n",
    "print(odd)"
   ]
  },
  {
   "cell_type": "code",
   "execution_count": 33,
   "id": "48a30824",
   "metadata": {},
   "outputs": [
    {
     "name": "stdout",
     "output_type": "stream",
     "text": [
      "[2, 4, 6, 8, 0]\n",
      "[1, 3, 5, 7, 9]\n"
     ]
    }
   ],
   "source": [
    "#18) ==>> Given a List Create a list of all even numbers and create a list of all odd numbers using List Comprehension\n",
    "\n",
    "l1 = [1, 2, 3, 4, 5, 6, 7, 8, 9, 0]\n",
    "even = [x for x in l1 if x % 2 == 0]\n",
    "odd = [x for x in l1 if x % 2 != 0]\n",
    "print(even)\n",
    "print(odd)\n"
   ]
  },
  {
   "cell_type": "code",
   "execution_count": 34,
   "id": "f7b1cb78",
   "metadata": {},
   "outputs": [
    {
     "name": "stdout",
     "output_type": "stream",
     "text": [
      "[2, 4, 6, 8, 10, 12, 14, 16, 18, 20]\n"
     ]
    }
   ],
   "source": [
    "#19) Create Multiplication tables\n",
    "y = int(input(\"Enter a Number : \"))\n",
    "l1 = [1,2,3,4,5,6,7,8,9,10]\n",
    "mul = [x*y for x in l1]\n",
    "print(mul)"
   ]
  },
  {
   "cell_type": "code",
   "execution_count": 35,
   "id": "33118b3b",
   "metadata": {},
   "outputs": [
    {
     "name": "stdout",
     "output_type": "stream",
     "text": [
      "0\n",
      "1\n",
      "2\n",
      "3\n",
      "4\n",
      "44\n",
      "55\n",
      "66\n",
      "77\n",
      "88\n",
      "99\n",
      "9\n",
      "13\n",
      "17\n",
      "21\n",
      "33\n"
     ]
    }
   ],
   "source": [
    "num1 = 5\n",
    "for i in range(num1):\n",
    "    print(i)\n",
    "\n",
    "l1 = [44, 55, 66, 77, 88, 99]\n",
    "for k in l1:\n",
    "    print(k)\n",
    "\n",
    "\n",
    "xi = [8, 12, 16, 20, 32]\n",
    "for n in xi:\n",
    "    print(n+1)"
   ]
  },
  {
   "cell_type": "code",
   "execution_count": 36,
   "id": "5d908552",
   "metadata": {},
   "outputs": [
    {
     "name": "stdout",
     "output_type": "stream",
     "text": [
      "The reverse of the number is :  3\n",
      "The number 3 is palindrome\n"
     ]
    }
   ],
   "source": [
    "#20) Palindrome\n",
    "\n",
    "a = int(input(\"Enter a Number : \"))\n",
    "b = a\n",
    "rev = 0\n",
    "while b > 0:\n",
    "    d = b % 10\n",
    "    rev = rev*10 + d\n",
    "    b = b // 10\n",
    "print(\"The reverse of the number is : \", rev)\n",
    "if rev == a:\n",
    "    print(\"The number\", a, \"is palindrome\")\n",
    "else:\n",
    "    print(\"The number \", a, \"is not a palindrome :\")"
   ]
  },
  {
   "cell_type": "code",
   "execution_count": null,
   "id": "5878e253",
   "metadata": {},
   "outputs": [],
   "source": []
  }
 ],
 "metadata": {
  "kernelspec": {
   "display_name": "venv",
   "language": "python",
   "name": "python3"
  },
  "language_info": {
   "codemirror_mode": {
    "name": "ipython",
    "version": 3
   },
   "file_extension": ".py",
   "mimetype": "text/x-python",
   "name": "python",
   "nbconvert_exporter": "python",
   "pygments_lexer": "ipython3",
   "version": "3.10.11"
  }
 },
 "nbformat": 4,
 "nbformat_minor": 5
}
