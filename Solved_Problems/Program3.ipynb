{
 "cells": [
  {
   "cell_type": "code",
   "execution_count": 39,
   "id": "dd5bdd51",
   "metadata": {},
   "outputs": [
    {
     "name": "stdout",
     "output_type": "stream",
     "text": [
      "     *    \n",
      "    * *   \n",
      "   * * *  \n",
      "  * * * * \n",
      " * * * * *\n"
     ]
    }
   ],
   "source": [
    "#0) ==>> Star Pattern program (Type-1)\n",
    "\n",
    "n = int(input(\"Enter the number :\"))\n",
    "for i in range(1, n+1):\n",
    "    a = ' *'*i\n",
    "    print(a.center(n*2,\" \"))"
   ]
  },
  {
   "cell_type": "code",
   "execution_count": 40,
   "metadata": {},
   "outputs": [
    {
     "name": "stdout",
     "output_type": "stream",
     "text": [
      "*****\n"
     ]
    }
   ],
   "source": [
    "#1) ==>> Star Pattern program (Type-1)\n",
    "\n",
    "n = 5\n",
    "print(\"*\"*n)"
   ]
  },
  {
   "cell_type": "code",
   "execution_count": 41,
   "metadata": {},
   "outputs": [
    {
     "name": "stdout",
     "output_type": "stream",
     "text": [
      "= = = = = \n"
     ]
    }
   ],
   "source": [
    "#2) ==>> Star Pattern program (Type-2)\n",
    "\n",
    "n = 5\n",
    "for i in range (n):\n",
    "    print(\"=\", end=\" \")\n",
    "print()"
   ]
  },
  {
   "cell_type": "code",
   "execution_count": 42,
   "id": "8d506c06",
   "metadata": {},
   "outputs": [
    {
     "name": "stdout",
     "output_type": "stream",
     "text": [
      "$  $  $  $  $  \n",
      "$  $  $  $  $  \n",
      "$  $  $  $  $  \n",
      "$  $  $  $  $  \n",
      "$  $  $  $  $  \n"
     ]
    }
   ],
   "source": [
    "#3) ==>> Star Pattern program (Type-3)\n",
    "\n",
    "n = 5\n",
    "for i in range (n):\n",
    "    for j in range(n):\n",
    "        print(\"$\", end=\"  \")\n",
    "    print()"
   ]
  },
  {
   "cell_type": "code",
   "execution_count": 43,
   "id": "6abe2b4b",
   "metadata": {},
   "outputs": [
    {
     "name": "stdout",
     "output_type": "stream",
     "text": [
      "Y  \n",
      "Y  Y  \n",
      "Y  Y  Y  \n",
      "Y  Y  Y  Y  \n",
      "Y  Y  Y  Y  Y  \n"
     ]
    }
   ],
   "source": [
    "#4) ==>> Star Pattern program (Type-4)\n",
    "\n",
    "n = 5\n",
    "for i in range (n):\n",
    "    for j in range(i+1):\n",
    "        print(\"Y\", end=\"  \")\n",
    "    print()"
   ]
  },
  {
   "cell_type": "code",
   "execution_count": 44,
   "id": "eaf90c69",
   "metadata": {},
   "outputs": [
    {
     "name": "stdout",
     "output_type": "stream",
     "text": [
      "P  P  P  P  P  \n",
      "P  P  P  P  \n",
      "P  P  P  \n",
      "P  P  \n",
      "P  \n"
     ]
    }
   ],
   "source": [
    "#5) ==>> Star Pattern program (Type-5)\n",
    "\n",
    "n = 5\n",
    "for i in range (n):\n",
    "    for j in range(i, n):\n",
    "        print(\"P\", end=\"  \")\n",
    "    print()"
   ]
  },
  {
   "cell_type": "code",
   "execution_count": 45,
   "id": "9d5b9264",
   "metadata": {},
   "outputs": [
    {
     "name": "stdout",
     "output_type": "stream",
     "text": [
      "          C \n",
      "        C C \n",
      "      C C C \n",
      "    C C C C \n",
      "  C C C C C \n"
     ]
    }
   ],
   "source": [
    "#6) ==>> Star Pattern program (Type-6)\n",
    "\n",
    "n = 5\n",
    "for i in range (n):\n",
    "    for j in range(i, n):\n",
    "        print(\" \", end=\" \")\n",
    "    for j in range(i+1):\n",
    "        print(\"C\", end=\" \")\n",
    "    print()"
   ]
  },
  {
   "cell_type": "code",
   "execution_count": 46,
   "id": "ef1a88cb",
   "metadata": {},
   "outputs": [
    {
     "name": "stdout",
     "output_type": "stream",
     "text": [
      "  N N N N N \n",
      "    N N N N \n",
      "      N N N \n",
      "        N N \n",
      "          N \n"
     ]
    }
   ],
   "source": [
    "#7) ==>> Star Pattern program (Type-7)\n",
    "\n",
    "n = 5\n",
    "for i in range (n):\n",
    "    for j in range(i+1):\n",
    "        print(\" \", end=\" \")\n",
    "    for j in range(i, n):\n",
    "        print(\"N\", end=\" \")\n",
    "    print()"
   ]
  },
  {
   "cell_type": "code",
   "execution_count": 47,
   "id": "ee5d8de8",
   "metadata": {},
   "outputs": [
    {
     "name": "stdout",
     "output_type": "stream",
     "text": [
      "        S \n",
      "      S S S \n",
      "    S S S S S \n",
      "  S S S S S S S \n",
      "S S S S S S S S S \n"
     ]
    }
   ],
   "source": [
    "#8) ==>> Star Pattern program (Type-8)\n",
    "\n",
    "n = 5\n",
    "for i in range (n):\n",
    "    for j in range(i+1, n):\n",
    "        print(\" \", end=\" \")\n",
    "    for j in range(i+1):\n",
    "        print(\"S\", end=\" \")\n",
    "    for j in range(i):\n",
    "        print(\"S\", end=\" \")\n",
    "    print()"
   ]
  },
  {
   "cell_type": "code",
   "execution_count": 48,
   "id": "1a1ed835",
   "metadata": {},
   "outputs": [
    {
     "name": "stdout",
     "output_type": "stream",
     "text": [
      "c c c c c c c c c \n",
      "  c c c c c c c \n",
      "    c c c c c \n",
      "      c c c \n",
      "        c \n"
     ]
    }
   ],
   "source": [
    "#9) ==>> Star Pattern program (Type-9)\n",
    "\n",
    "n = 5\n",
    "for i in range (n):\n",
    "    for j in range(i):\n",
    "        print(\" \", end=\" \")\n",
    "    for j in range(i, n):\n",
    "        print(\"c\", end=\" \")\n",
    "    for j in range(i+1, n):\n",
    "        print(\"c\", end=\" \")\n",
    "    print()"
   ]
  },
  {
   "cell_type": "code",
   "execution_count": 49,
   "id": "3c4b4057",
   "metadata": {},
   "outputs": [
    {
     "name": "stdout",
     "output_type": "stream",
     "text": [
      "          A \n",
      "        A A A \n",
      "      A A A A A \n",
      "    A A A A A A A \n",
      "  A A A A A A A A A \n",
      "    A A A A A A A \n",
      "      A A A A A \n",
      "        A A A \n",
      "          A \n"
     ]
    }
   ],
   "source": [
    "#10) ==>> Star Pattern program (Type-10)\n",
    "\n",
    "n = 5\n",
    "for i in range (n-1):\n",
    "    for j in range(i, n):\n",
    "        print(\" \", end=\" \")\n",
    "    for j in range(i):\n",
    "        print(\"A\", end=\" \")\n",
    "    for j in range(i+1):\n",
    "        print(\"A\", end=\" \")\n",
    "    print()\n",
    "for i in range (n):\n",
    "    for j in range(i+1):\n",
    "        print(\" \", end=\" \")\n",
    "    for j in range(i, n):\n",
    "        print(\"A\", end=\" \")\n",
    "    for j in range(i+1, n):\n",
    "        print(\"A\", end=\" \")\n",
    "    print()"
   ]
  },
  {
   "cell_type": "code",
   "execution_count": 50,
   "id": "9a34bc51",
   "metadata": {},
   "outputs": [
    {
     "name": "stdout",
     "output_type": "stream",
     "text": [
      "        M \n",
      "      M M M \n",
      "    M M M M M \n",
      "  M M M M M M M \n",
      "M M M M M M M M M \n",
      "  M M M M M M M \n",
      "    M M M M M \n",
      "      M M M \n",
      "        M \n",
      "          \n"
     ]
    }
   ],
   "source": [
    "#11) ==>> Star Pattern program (Type-11)\n",
    "\n",
    "n = 5\n",
    "for i in range(n):\n",
    "    for j in range(i+1, n):\n",
    "        print(\" \", end=\" \")\n",
    "    for j in range(i+1):\n",
    "        print(\"M\", end=\" \")\n",
    "    for j in range(i):\n",
    "        print(\"M\", end=\" \")\n",
    "    print()\n",
    "for i in range(n):\n",
    "    for j in range(i+1):\n",
    "        print(\" \", end=\" \")\n",
    "    for j in range(i+1, n):\n",
    "        print(\"M\", end=\" \")\n",
    "    for j in range(i+2, n):\n",
    "        print(\"M\", end=\" \")\n",
    "    print()"
   ]
  },
  {
   "cell_type": "code",
   "execution_count": 51,
   "id": "1e3fd3c5",
   "metadata": {},
   "outputs": [
    {
     "name": "stdout",
     "output_type": "stream",
     "text": [
      "1  \n",
      "2  2  \n",
      "3  3  3  \n",
      "4  4  4  4  \n",
      "5  5  5  5  5  \n"
     ]
    }
   ],
   "source": [
    "#12) ==>> Number Pattern program (Type-1)\n",
    "\n",
    "n = 5\n",
    "for i in range (n):\n",
    "    for j in range(i+1):\n",
    "        print(i+1, end=\"  \")\n",
    "    print()"
   ]
  },
  {
   "cell_type": "code",
   "execution_count": 52,
   "id": "ab995e56",
   "metadata": {},
   "outputs": [
    {
     "name": "stdout",
     "output_type": "stream",
     "text": [
      "\n",
      "1  \n",
      "2  2  \n",
      "3  3  3  \n",
      "4  4  4  4  \n",
      "5  5  5  5  5  \n"
     ]
    }
   ],
   "source": [
    "#13) ==>> Number Pattern program (Type-2)\n",
    "\n",
    "print()\n",
    "n = 5\n",
    "p = 1\n",
    "for i in range (n):\n",
    "    for j in range(i+1):\n",
    "        print(p, end=\"  \")\n",
    "    p += 1\n",
    "    print()"
   ]
  },
  {
   "cell_type": "code",
   "execution_count": 53,
   "id": "58099504",
   "metadata": {},
   "outputs": [
    {
     "name": "stdout",
     "output_type": "stream",
     "text": [
      "\n",
      "5  5  5  5  5  \n",
      "4  4  4  4  \n",
      "3  3  3  \n",
      "2  2  \n",
      "1  \n"
     ]
    }
   ],
   "source": [
    "#14) ==>> Number Pattern program (Type-3)\n",
    "\n",
    "print()\n",
    "n = 5\n",
    "p = 5\n",
    "for i in range (n):\n",
    "    for j in range(i, n):\n",
    "        print(p, end=\"  \")\n",
    "    p -= 1\n",
    "    print()"
   ]
  },
  {
   "cell_type": "code",
   "execution_count": 54,
   "id": "83d622b1",
   "metadata": {},
   "outputs": [
    {
     "name": "stdout",
     "output_type": "stream",
     "text": [
      "\n",
      "        1 \n",
      "      2 2 \n",
      "    3 3 3 \n",
      "  4 4 4 4 \n",
      "5 5 5 5 5 \n"
     ]
    }
   ],
   "source": [
    "#15) ==>> Number Pattern program (Type-4)\n",
    "\n",
    "print()\n",
    "n = 5\n",
    "p = 1\n",
    "for i in range(n):\n",
    "    for j in range(i+1, n):\n",
    "        print(\" \", end=\" \")\n",
    "    for j in range(i+1):\n",
    "        print(p, end=\" \")\n",
    "    p += 1\n",
    "    print()"
   ]
  },
  {
   "cell_type": "code",
   "execution_count": 55,
   "id": "362d8638",
   "metadata": {},
   "outputs": [
    {
     "name": "stdout",
     "output_type": "stream",
     "text": [
      "\n",
      "5 5 5 5 5 \n",
      "  4 4 4 4 \n",
      "    3 3 3 \n",
      "      2 2 \n",
      "        1 \n"
     ]
    }
   ],
   "source": [
    "#16) ==>> Number Pattern program (Type-5)\n",
    "\n",
    "print()\n",
    "n = 5\n",
    "p = 5\n",
    "for i in range (n):\n",
    "    for j in range(i):\n",
    "        print(\" \", end=\" \")\n",
    "    for j in range(i, n):\n",
    "        print(p, end=\" \")\n",
    "    p -= 1\n",
    "    print()"
   ]
  },
  {
   "cell_type": "code",
   "execution_count": 56,
   "id": "438151da",
   "metadata": {},
   "outputs": [
    {
     "name": "stdout",
     "output_type": "stream",
     "text": [
      "\n",
      "        1 \n",
      "      2 2 2 \n",
      "    3 3 3 3 3 \n",
      "  4 4 4 4 4 4 4 \n",
      "5 5 5 5 5 5 5 5 5 \n"
     ]
    }
   ],
   "source": [
    "#17) ==>> Number Pattern program (Type-6)\n",
    "\n",
    "print()\n",
    "n = 5\n",
    "p = 1\n",
    "for i in range (n):\n",
    "    for j in range(i+1, n):\n",
    "        print(\" \", end=\" \")\n",
    "    for j in range(i+1):\n",
    "        print(p, end=\" \")\n",
    "    for j in range(i):\n",
    "        print(p, end=\" \")\n",
    "    p += 1\n",
    "    print()"
   ]
  },
  {
   "cell_type": "code",
   "execution_count": 57,
   "id": "60567476",
   "metadata": {},
   "outputs": [
    {
     "name": "stdout",
     "output_type": "stream",
     "text": [
      "\n",
      "5 5 5 5 5 5 5 5 5 \n",
      "  4 4 4 4 4 4 4 \n",
      "    3 3 3 3 3 \n",
      "      2 2 2 \n",
      "        1 \n"
     ]
    }
   ],
   "source": [
    "#18) ==>> Number Pattern program (Type-7)\n",
    "\n",
    "print()\n",
    "n = 5\n",
    "p = 5\n",
    "for i in range (n):\n",
    "    for j in range(i):\n",
    "        print(\" \", end=\" \")\n",
    "    for j in range(i, n):\n",
    "        print(p, end=\" \")\n",
    "    for j in range(i+1, n):\n",
    "        print(p, end=\" \")\n",
    "    p -= 1\n",
    "    print()"
   ]
  },
  {
   "cell_type": "code",
   "execution_count": 58,
   "id": "ebfa306f",
   "metadata": {},
   "outputs": [
    {
     "name": "stdout",
     "output_type": "stream",
     "text": [
      "\n",
      "          1 \n",
      "        2 2 2 \n",
      "      3 3 3 3 3 \n",
      "    4 4 4 4 4 4 4 \n",
      "  5 5 5 5 5 5 5 5 5 \n",
      "    4 4 4 4 4 4 4 \n",
      "      3 3 3 3 3 \n",
      "        2 2 2 \n",
      "          1 \n"
     ]
    }
   ],
   "source": [
    "#19) ==>> Number Pattern program (Type-7)\n",
    "\n",
    "print()\n",
    "n = 5\n",
    "p = 1\n",
    "for i in range (n-1):\n",
    "    for j in range(i, n):\n",
    "        print(\" \", end=\" \")\n",
    "    for j in range(i):\n",
    "        print(p, end=\" \")\n",
    "    for j in range(i+1):\n",
    "        print(p, end=\" \")\n",
    "    p += 1\n",
    "    print()\n",
    "\n",
    "q = 5\n",
    "for i in range (n):\n",
    "    for j in range(i+1):\n",
    "        print(\" \", end=\" \")\n",
    "    for j in range(i, n):\n",
    "        print(q, end=\" \")\n",
    "    for j in range(i+1, n):\n",
    "        print(q, end=\" \")\n",
    "    q -= 1\n",
    "    print()"
   ]
  },
  {
   "cell_type": "code",
   "execution_count": 59,
   "id": "8582d77a",
   "metadata": {},
   "outputs": [
    {
     "name": "stdout",
     "output_type": "stream",
     "text": [
      "\n",
      "        1 \n",
      "      2 2 2 \n",
      "    3 3 3 3 3 \n",
      "  4 4 4 4 4 4 4 \n",
      "5 5 5 5 5 5 5 5 5 \n",
      "  4 4 4 4 4 4 4 \n",
      "    3 3 3 3 3 \n",
      "      2 2 2 \n",
      "        1 \n",
      "          \n"
     ]
    }
   ],
   "source": [
    "#20) ==>> Number Pattern program (Type-8)\n",
    "\n",
    "print()\n",
    "n = 5\n",
    "p = 1\n",
    "for i in range(n):\n",
    "    for j in range(i+1, n):\n",
    "        print(\" \", end=\" \")\n",
    "    for j in range(i+1):\n",
    "        print(p, end=\" \")\n",
    "    for j in range(i):\n",
    "        print(p, end=\" \")\n",
    "    p += 1\n",
    "    print()\n",
    "\n",
    "q = 4\n",
    "for i in range(n):\n",
    "    for j in range(i+1):\n",
    "        print(\" \", end=\" \")\n",
    "    for j in range(i+1, n):\n",
    "        print(q, end=\" \")\n",
    "    for j in range(i+2, n):\n",
    "        print(q, end=\" \")\n",
    "    q -= 1\n",
    "    print()"
   ]
  },
  {
   "cell_type": "code",
   "execution_count": 60,
   "id": "a70b19e0",
   "metadata": {},
   "outputs": [
    {
     "name": "stdout",
     "output_type": "stream",
     "text": [
      "1  \n",
      "1  2  \n",
      "1  2  3  \n",
      "1  2  3  4  \n",
      "1  2  3  4  5  \n"
     ]
    }
   ],
   "source": [
    "#21) ==>> Number Pattern program (Type-9)\n",
    "\n",
    "n = 5\n",
    "for i in range(n):\n",
    "    p = 1\n",
    "    for j in range(i+1):\n",
    "        print(p, end=\"  \")\n",
    "        p += 1\n",
    "    print()"
   ]
  },
  {
   "cell_type": "code",
   "execution_count": 61,
   "id": "edfa5466",
   "metadata": {},
   "outputs": [
    {
     "name": "stdout",
     "output_type": "stream",
     "text": [
      "\n",
      "1  2  3  4  5  \n",
      "1  2  3  4  \n",
      "1  2  3  \n",
      "1  2  \n",
      "1  \n"
     ]
    }
   ],
   "source": [
    "#22) ==>> Number Pattern program (Type-10)\n",
    "\n",
    "print()\n",
    "n = 5\n",
    "for i in range(n):\n",
    "    p = 1\n",
    "    for j in range(i, n):\n",
    "        print(p, end=\"  \")\n",
    "        p += 1\n",
    "    print()"
   ]
  },
  {
   "cell_type": "code",
   "execution_count": 62,
   "id": "11a27bed",
   "metadata": {},
   "outputs": [
    {
     "name": "stdout",
     "output_type": "stream",
     "text": [
      "\n",
      "          1 \n",
      "        1 2 \n",
      "      1 2 3 \n",
      "    1 2 3 4 \n",
      "  1 2 3 4 5 \n"
     ]
    }
   ],
   "source": [
    "#23) ==>> Number Pattern program (Type-11)\n",
    "\n",
    "print()\n",
    "n = 5\n",
    "for i in range(n):\n",
    "    p = 1\n",
    "    for j in range(i, n):\n",
    "        print(\" \", end=\" \")\n",
    "    for j in range(i+1):\n",
    "        print(p, end=\" \")\n",
    "        p += 1\n",
    "    print()"
   ]
  },
  {
   "cell_type": "code",
   "execution_count": 63,
   "id": "fa72eaaf",
   "metadata": {},
   "outputs": [
    {
     "name": "stdout",
     "output_type": "stream",
     "text": [
      "\n",
      "  1 2 3 4 5 \n",
      "    1 2 3 4 \n",
      "      1 2 3 \n",
      "        1 2 \n",
      "          1 \n"
     ]
    }
   ],
   "source": [
    "#24) ==>> Number Pattern program (Type-12)\n",
    "\n",
    "print()\n",
    "n = 5\n",
    "for i in range(n):\n",
    "    p = 1\n",
    "    for j in range(i+1):\n",
    "        print(\" \", end=\" \")\n",
    "    for j in range(i, n):\n",
    "        print(p, end=\" \")\n",
    "        p += 1\n",
    "    print()"
   ]
  },
  {
   "cell_type": "code",
   "execution_count": 64,
   "id": "bc1248b6",
   "metadata": {},
   "outputs": [
    {
     "name": "stdout",
     "output_type": "stream",
     "text": [
      "\n",
      "        1 \n",
      "      1 2 3 \n",
      "    1 2 3 4 5 \n",
      "  1 2 3 4 5 6 7 \n",
      "1 2 3 4 5 6 7 8 9 \n"
     ]
    }
   ],
   "source": [
    "#25) ==>> Number Pattern program (Type-13)\n",
    "\n",
    "print()\n",
    "n = 5\n",
    "for i in range(n):\n",
    "    p = 1\n",
    "    for j in range(i+1, n):\n",
    "        print(\" \", end=\" \")\n",
    "    for j in range(i+1):\n",
    "        print(p, end=\" \")\n",
    "        p += 1\n",
    "    for j in range(i):\n",
    "        print(p, end=\" \")\n",
    "        p += 1\n",
    "    print()"
   ]
  },
  {
   "cell_type": "code",
   "execution_count": 65,
   "id": "8289a102",
   "metadata": {},
   "outputs": [
    {
     "name": "stdout",
     "output_type": "stream",
     "text": [
      "\n",
      "5 5 5 5 5 5 5 5 5 \n",
      "  4 4 4 4 4 4 4 \n",
      "    3 3 3 3 3 \n",
      "      2 2 2 \n",
      "        1 \n"
     ]
    }
   ],
   "source": [
    "#26) ==>> Number Pattern program (Type-14)\n",
    "\n",
    "print()\n",
    "n = 5\n",
    "p = 5\n",
    "for i in range(n):\n",
    "    for j in range(i):\n",
    "        print(\" \", end=\" \")\n",
    "    for j in range(i, n):\n",
    "        print(p, end=\" \")\n",
    "    for j in range(i+1, n):\n",
    "        print(p, end=\" \")\n",
    "    p -= 1\n",
    "    print()"
   ]
  },
  {
   "cell_type": "code",
   "execution_count": 66,
   "id": "a0f6e2a0",
   "metadata": {},
   "outputs": [
    {
     "name": "stdout",
     "output_type": "stream",
     "text": [
      "\n",
      "5  \n",
      "5  4  \n",
      "5  4  3  \n",
      "5  4  3  2  \n",
      "5  4  3  2  1  \n"
     ]
    }
   ],
   "source": [
    "#27) ==>> Number Pattern program (Type-15)\n",
    "\n",
    "print()\n",
    "n = 5\n",
    "for i in range(n):\n",
    "    p = 5\n",
    "    for j in range(i+1):\n",
    "        print(p, end=\"  \")\n",
    "        p -= 1\n",
    "    print()"
   ]
  },
  {
   "cell_type": "code",
   "execution_count": 67,
   "id": "f4303c3e",
   "metadata": {},
   "outputs": [
    {
     "name": "stdout",
     "output_type": "stream",
     "text": [
      "\n",
      "5 4 3 2 1 \n",
      "  4 3 2 1 \n",
      "    3 2 1 \n",
      "      2 1 \n",
      "        1 \n"
     ]
    }
   ],
   "source": [
    "#28) ==>> Number Pattern program (Type-16)\n",
    "\n",
    "print()\n",
    "n = 5\n",
    "k = 5\n",
    "for i in range (n):\n",
    "    p = k\n",
    "    for j in range(i):\n",
    "        print(\" \", end=\" \")\n",
    "    for j in range(i, n):\n",
    "        print(p, end=\" \")\n",
    "        p -= 1\n",
    "    k -= 1\n",
    "    print()"
   ]
  },
  {
   "cell_type": "code",
   "execution_count": 68,
   "id": "52f8d290",
   "metadata": {},
   "outputs": [
    {
     "name": "stdout",
     "output_type": "stream",
     "text": [
      "        1 \n",
      "      1 2 3 \n",
      "    1 2 3 4 3 \n",
      "  1 2 3 4 5 4 3 \n",
      "1 2 3 4 5 6 5 4 3 \n"
     ]
    }
   ],
   "source": [
    "\n",
    "#29) ==>> Number Pattern program (Type-17)\n",
    "\n",
    "n = 5\n",
    "for i in range(n):\n",
    "    p = 1\n",
    "    for j in range(i+1, n):\n",
    "        print(\" \", end=\" \")\n",
    "    for j in range(i+1):\n",
    "        print(p, end=\" \")\n",
    "        p += 1\n",
    "    for j in range(i):\n",
    "        print(p, end=\" \")\n",
    "        p -= 1\n",
    "    print()"
   ]
  },
  {
   "cell_type": "code",
   "execution_count": 69,
   "id": "dc7e8139",
   "metadata": {},
   "outputs": [
    {
     "name": "stdout",
     "output_type": "stream",
     "text": [
      "1  \n",
      "2  3  \n",
      "4  5  6  \n",
      "7  8  9  10  \n"
     ]
    }
   ],
   "source": [
    "#30) ==>> Number Pattern program (Type-18)\n",
    "\n",
    "n = 4\n",
    "p = 1\n",
    "for i in range(n):\n",
    "    for j in range(i+1):\n",
    "        print(p, end=\"  \")\n",
    "        p += 1\n",
    "    print()"
   ]
  },
  {
   "cell_type": "code",
   "execution_count": 70,
   "id": "1cad4da6",
   "metadata": {},
   "outputs": [
    {
     "name": "stdout",
     "output_type": "stream",
     "text": [
      "        1 \n",
      "      2 2 \n",
      "    3 3 3 \n",
      "  4 4 4 4 \n",
      "5 5 5 5 5 \n"
     ]
    }
   ],
   "source": [
    "n = 5\n",
    "for i in range(n):\n",
    "    for j in range(i+1, n):\n",
    "        print(\" \", end=\" \")\n",
    "    for j in range(i+1):\n",
    "        print(n-(n-(i+1)), end=\" \")\n",
    "    print()"
   ]
  },
  {
   "cell_type": "code",
   "execution_count": 71,
   "id": "3be0a766",
   "metadata": {},
   "outputs": [
    {
     "name": "stdout",
     "output_type": "stream",
     "text": [
      "\n",
      "5 5 5 5 5 \n",
      "  4 4 4 4 \n",
      "    3 3 3 \n",
      "      2 2 \n",
      "        1 \n"
     ]
    }
   ],
   "source": [
    "print()\n",
    "n = 5\n",
    "for i in range (n):\n",
    "    for j in range(i):\n",
    "        print(\" \", end=\" \")\n",
    "    for j in range(i, n):\n",
    "        print(n-i, end=\" \")\n",
    "    print()"
   ]
  },
  {
   "cell_type": "code",
   "execution_count": 72,
   "id": "2dee91f9",
   "metadata": {},
   "outputs": [
    {
     "name": "stdout",
     "output_type": "stream",
     "text": [
      "\n",
      "        1 \n",
      "      2 2 2 \n",
      "    3 3 3 3 3 \n",
      "  4 4 4 4 4 4 4 \n",
      "5 5 5 5 5 5 5 5 5 \n"
     ]
    }
   ],
   "source": [
    "print()\n",
    "n = 5\n",
    "for i in range (n):\n",
    "    for j in range(i+1, n):\n",
    "        print(\" \", end=\" \")\n",
    "    for j in range(i+1):\n",
    "        print(n-(n-(i+1)), end=\" \")\n",
    "    for j in range(i):\n",
    "        print(n-(n-(i+1)), end=\" \")\n",
    "    print()"
   ]
  },
  {
   "cell_type": "code",
   "execution_count": 73,
   "id": "c033dbc5",
   "metadata": {},
   "outputs": [
    {
     "name": "stdout",
     "output_type": "stream",
     "text": [
      "\n",
      "        5 \n",
      "      4 4 4 \n",
      "    3 3 3 3 3 \n",
      "  2 2 2 2 2 2 2 \n",
      "1 1 1 1 1 1 1 1 1 \n"
     ]
    }
   ],
   "source": [
    "print()\n",
    "n = 5\n",
    "for i in range (n):\n",
    "    for j in range(i+1, n):\n",
    "        print(\" \", end=\" \")\n",
    "    for j in range(i+1):\n",
    "        print(n-i, end=\" \")\n",
    "    for j in range(i):\n",
    "        print(n-i, end=\" \")\n",
    "    print()"
   ]
  },
  {
   "cell_type": "code",
   "execution_count": null,
   "id": "dd306b7c",
   "metadata": {},
   "outputs": [],
   "source": []
  }
 ],
 "metadata": {
  "kernelspec": {
   "display_name": "venv",
   "language": "python",
   "name": "python3"
  },
  "language_info": {
   "codemirror_mode": {
    "name": "ipython",
    "version": 3
   },
   "file_extension": ".py",
   "mimetype": "text/x-python",
   "name": "python",
   "nbconvert_exporter": "python",
   "pygments_lexer": "ipython3",
   "version": "3.10.11"
  }
 },
 "nbformat": 4,
 "nbformat_minor": 5
}
