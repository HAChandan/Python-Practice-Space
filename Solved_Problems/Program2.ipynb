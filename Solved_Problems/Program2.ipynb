{
 "cells": [
  {
   "cell_type": "code",
   "execution_count": 1,
   "id": "3eccdf4f",
   "metadata": {},
   "outputs": [
    {
     "name": "stdout",
     "output_type": "stream",
     "text": [
      "Given year is not leap year\n"
     ]
    }
   ],
   "source": [
    "\n",
    "# 1) Write a program to check whether a year is leap year or not.\n",
    "\n",
    "year = int(input(\"Enter the year: \"))\n",
    "if (year % 400) == 0:\n",
    "    print(\"The year is leap year\")\n",
    "elif year % 4 == 0 and year % 100 != 0:\n",
    "    print('The year is leap year')\n",
    "else:\n",
    "    print(\"Given year is not leap year\")"
   ]
  },
  {
   "cell_type": "code",
   "execution_count": 2,
   "id": "6d2085d2",
   "metadata": {},
   "outputs": [
    {
     "name": "stdout",
     "output_type": "stream",
     "text": [
      "Not A Prime number\n"
     ]
    }
   ],
   "source": [
    "# 2) Prime Number using for loop\n",
    "\n",
    "num = int(input(\"Enter a Number: \"))\n",
    "if num > 1:\n",
    "    for i in range(2, num):\n",
    "        if num % i == 0:\n",
    "            print(\"Not A Prime number\")\n",
    "            break\n",
    "    else:\n",
    "        print(\"Prime number\")\n",
    "else:\n",
    "    print(\"Not a prime number\")\n"
   ]
  },
  {
   "cell_type": "code",
   "execution_count": 3,
   "id": "1762b470",
   "metadata": {},
   "outputs": [
    {
     "name": "stdout",
     "output_type": "stream",
     "text": [
      "256 Is a not a prime Number\n"
     ]
    }
   ],
   "source": [
    "# 3) Prime Number using while loop\n",
    "\n",
    "num = int(input(\"enter a number: \"))\n",
    "n = 2\n",
    "flag = 0\n",
    "# assume the number is prime\n",
    "while n < num:\n",
    "    if num % n == 0:\n",
    "        flag = 1\n",
    "    n += 1\n",
    "if flag == 0:\n",
    "    print(num, \"Is a prime Number\")\n",
    "else:\n",
    "    print(num, \"Is a not a prime Number\")"
   ]
  },
  {
   "cell_type": "code",
   "execution_count": 4,
   "metadata": {},
   "outputs": [
    {
     "name": "stdout",
     "output_type": "stream",
     "text": [
      "[20, 30, 65]\n",
      "\n",
      "The list does not contain prime number\n"
     ]
    }
   ],
   "source": [
    "# 4) Program to print a prime number from a list of a number and to check if the list contain prime numbers or not\n",
    "\n",
    "length = int(input(\"Enter The Length Of the List : \"))\n",
    "x = 1\n",
    "l3 = []\n",
    "while x <= length:\n",
    "    y = int(input(\"Enter the element of the list : \"))\n",
    "    l3.append(y)\n",
    "    x += 1\n",
    "print(l3)\n",
    "flag1 = 1\n",
    "# Assume The list Doesn't contain prime number\n",
    "for num in l3:\n",
    "    n = 2\n",
    "    flag = 0\n",
    "    # The num is prime number\n",
    "    while n < num:\n",
    "        if num % n == 0:\n",
    "            flag = 1\n",
    "        n = n + 1\n",
    "    if flag == 0:\n",
    "        print(num, end=' ')\n",
    "        flag1 = 0\n",
    "print()\n",
    "if flag1 == 0:\n",
    "    print('The list contain prime number')\n",
    "else:\n",
    "    print('The list does not contain prime number')"
   ]
  },
  {
   "cell_type": "code",
   "execution_count": 5,
   "id": "42fb61f3",
   "metadata": {},
   "outputs": [
    {
     "name": "stdout",
     "output_type": "stream",
     "text": [
      "Number of Vowels are :  1 Number of Consonants are 3\n"
     ]
    }
   ],
   "source": [
    "# 5) Check number of vowels and consonants\n",
    "\n",
    "name = input(\"Enter any String : \")\n",
    "vowels = 0\n",
    "consonants = 0\n",
    "for n in name:\n",
    "    if n in ('a', 'e', 'i', 'o', 'u', 'A', 'E', 'I', 'O', 'U'):\n",
    "        vowels += 1\n",
    "    elif n.isalpha():\n",
    "        consonants += 1\n",
    "print(\"Number of Vowels are : \", vowels, \"Number of Consonants are\", consonants)"
   ]
  },
  {
   "cell_type": "code",
   "execution_count": 7,
   "id": "0691f226",
   "metadata": {},
   "outputs": [
    {
     "name": "stdout",
     "output_type": "stream",
     "text": [
      "0 1 1 2 3 5 8 13 21 34 55 89 144 233 377 610 987 1597 2584 4181 6765 10946 17711 28657 46368 "
     ]
    }
   ],
   "source": [
    "# 6) Fibonacci number\n",
    "\n",
    "n = int(input(\"Enter a number : \"))\n",
    "a, b, i = 0, 1, 1\n",
    "while i <= n:\n",
    "    print(a, end=' ')\n",
    "    a, b, i = b, a+b, i + 1"
   ]
  },
  {
   "cell_type": "code",
   "execution_count": 8,
   "id": "41588fdd",
   "metadata": {},
   "outputs": [],
   "source": [
    "# 6) Fibonacci number using functions\n",
    "\n",
    "def fibo(n):\n",
    "    a, b, i = 0, 1, 1\n",
    "    while i <= n:\n",
    "        yield a\n",
    "        a, b, i = b, a + b, i + 1"
   ]
  },
  {
   "cell_type": "code",
   "execution_count": 9,
   "id": "16ca9c11",
   "metadata": {},
   "outputs": [],
   "source": [
    "# 6) Fibonacci number limit\n",
    "\n",
    "lim = int(input(\"Enter a number : \"))\n",
    "n1, n2 = 0, 1\n",
    "while a <= lim:\n",
    "    print(a, end=' ')\n",
    "    n1, n2 = n2, n1 + n2"
   ]
  },
  {
   "cell_type": "code",
   "execution_count": 10,
   "id": "47f00b3e",
   "metadata": {},
   "outputs": [
    {
     "name": "stdout",
     "output_type": "stream",
     "text": [
      "[0, 1, 1, 2, 3, 5, 8, 13]\n"
     ]
    }
   ],
   "source": [
    "# 6) Fibonacci number limit using functions\n",
    "\n",
    "def fibo(n):\n",
    "    a, b = 0, 1\n",
    "    while a <= n:\n",
    "        yield a\n",
    "        a, b = b, a + b\n",
    "\n",
    "y = list(fibo(20))\n",
    "print(y)"
   ]
  },
  {
   "cell_type": "code",
   "execution_count": 11,
   "id": "96ccee5d",
   "metadata": {},
   "outputs": [
    {
     "name": "stdout",
     "output_type": "stream",
     "text": [
      "All the List items are not prime number\n"
     ]
    }
   ],
   "source": [
    "# 7) Check List items are prime number or not\n",
    "\n",
    "l3 = [5, 7, 10]\n",
    "\n",
    "count = 0\n",
    "for i in l3:\n",
    "    for j in range(2, i):\n",
    "        if i % j == 0:\n",
    "            count = count + 1\n",
    "    if count == 1:\n",
    "        print(i, end = '')\n",
    "if count == 0:\n",
    "    print(\"All the List items are prime number\")\n",
    "else:\n",
    "    print(\"All the List items are not prime number\")"
   ]
  },
  {
   "cell_type": "code",
   "execution_count": 12,
   "id": "dc2116b9",
   "metadata": {},
   "outputs": [
    {
     "name": "stdout",
     "output_type": "stream",
     "text": [
      "Yes the Number is Palindrome\n"
     ]
    }
   ],
   "source": [
    "# 8) Check a number is palindrome or not.\n",
    "\n",
    "n = 767\n",
    "m = n\n",
    "sum_n = 0\n",
    "while m != 0:\n",
    "    d = m % 10\n",
    "    sum_n = sum_n * 10 + d\n",
    "    m = m // 10\n",
    "if sum_n == n:\n",
    "    print(\"Yes the Number is Palindrome\")\n",
    "else:\n",
    "    print(\"The Number is not a Palindrome\")"
   ]
  },
  {
   "cell_type": "code",
   "execution_count": 13,
   "id": "098a7a9b",
   "metadata": {},
   "outputs": [
    {
     "name": "stdout",
     "output_type": "stream",
     "text": [
      "Number of Vowels are :  2 Number of Consonants are 4\n"
     ]
    }
   ],
   "source": [
    "# 9) To check the number of Vowels and Consonants\n",
    "\n",
    "name = input(\"Enter any String : \")\n",
    "vowels = 0\n",
    "consonants = 0\n",
    "for n in name:\n",
    "    if n in ('a', 'e', 'i', 'o', 'u', 'A', 'E', 'I', 'O', 'U'):\n",
    "        vowels += 1\n",
    "    elif n.isalpha():\n",
    "        consonants += 1\n",
    "print(\"Number of Vowels are : \", vowels, \"Number of Consonants are\", consonants)"
   ]
  },
  {
   "cell_type": "code",
   "execution_count": 15,
   "id": "f34a14d5",
   "metadata": {},
   "outputs": [
    {
     "name": "stdout",
     "output_type": "stream",
     "text": [
      "[20, 30, 60]\n",
      "[20, 30]\n",
      "30\n"
     ]
    }
   ],
   "source": [
    "# 11) Find the second highest in the list\n",
    "\n",
    "length = int(input(\"Enter the length of the list : \"))\n",
    "l4 = []\n",
    "x = 1\n",
    "while(x <= length):\n",
    "    y = int(input(\"Enter the list element : \"))\n",
    "    l4.append(y)\n",
    "    x = x + 1\n",
    "print(l4)\n",
    "l4.remove(max(l4))\n",
    "print(l4)\n",
    "print(max(l4))"
   ]
  },
  {
   "cell_type": "code",
   "execution_count": 16,
   "id": "a668caa7",
   "metadata": {},
   "outputs": [
    {
     "name": "stdout",
     "output_type": "stream",
     "text": [
      "[35, 45, 45, 46, 52, 54, 77, 99]\n",
      "8\n",
      "77\n",
      "77\n"
     ]
    }
   ],
   "source": [
    "# 11) Find the second highest in the list - using sort method\n",
    "\n",
    "l4 = [52, 35, 46, 54, 45, 77, 45, 99]\n",
    "l4.sort()\n",
    "print(l4)\n",
    "print(len(l4))\n",
    "print(l4[len(l4) - 2])\n",
    "print(l4[-2])"
   ]
  },
  {
   "cell_type": "code",
   "execution_count": 17,
   "id": "89268c0f",
   "metadata": {},
   "outputs": [
    {
     "name": "stdout",
     "output_type": "stream",
     "text": [
      "[20, 60, 54]\n",
      "3\n",
      "60 1\n",
      "[20, 54]\n",
      "54 1\n"
     ]
    }
   ],
   "source": [
    "# 12) Find the second highest in the list without using max function\n",
    "\n",
    "length = int(input(\"Enter the length of the list : \"))\n",
    "l4 = []\n",
    "x = 1\n",
    "while(x <= length):\n",
    "    y = int(input(\"Enter the list element : \"))\n",
    "    l4.append(y)\n",
    "    x = x + 1\n",
    "print(l4)\n",
    "print(len(l4))\n",
    "\n",
    "max = l4[0]\n",
    "x = 1\n",
    "ind = 0\n",
    "while x < len(l4):\n",
    "    if max < l4[x]:\n",
    "        max = l4[x]\n",
    "        ind = x\n",
    "    x = x + 1\n",
    "print(max, ind)\n",
    "\n",
    "del(l4[ind])\n",
    "print(l4)\n",
    "\n",
    "max = l4[0]\n",
    "x = 1\n",
    "ind = 0\n",
    "while x < len(l4):\n",
    "    if max < l4[x]:\n",
    "        max = l4[x]\n",
    "        ind = x\n",
    "    x = x + 1\n",
    "print(max, ind)"
   ]
  },
  {
   "cell_type": "code",
   "execution_count": 18,
   "id": "6698c61d",
   "metadata": {},
   "outputs": [
    {
     "name": "stdout",
     "output_type": "stream",
     "text": [
      "[2, 4, 6, 8, 0]\n",
      "[1, 3, 5, 7, 9]\n"
     ]
    }
   ],
   "source": [
    "# 13) Given a List Create a list of all even numbers and create a list of all odd numbers using List Comprehension\n",
    "\n",
    "l1 = [1, 2, 3, 4, 5, 6, 7, 8, 9, 0]\n",
    "even = [x for x in l1 if x % 2 == 0]\n",
    "odd = [x for x in l1 if x % 2 != 0]\n",
    "print(even)\n",
    "print(odd)"
   ]
  },
  {
   "cell_type": "code",
   "execution_count": 19,
   "id": "70aa827d",
   "metadata": {},
   "outputs": [
    {
     "name": "stdout",
     "output_type": "stream",
     "text": [
      "[35, 70, 105, 140, 175, 210, 245, 280, 315, 350]\n",
      "32  64  96  128  160  192  224  256  288  320  "
     ]
    }
   ],
   "source": [
    "# 14) Create Multiplication tables\n",
    "\n",
    "y = int(input(\"Enter a number :\"))\n",
    "l1 = [1, 2, 3, 4, 5, 6, 7, 8, 9, 10]\n",
    "mul = [x*y for x in l1]\n",
    "print(mul)\n",
    "\n",
    "y = int(input(\"Enter a number :\"))\n",
    "for x in range(1, 11):\n",
    "    print(y*x,' ', end='')"
   ]
  },
  {
   "cell_type": "code",
   "execution_count": 20,
   "id": "39340cac",
   "metadata": {},
   "outputs": [
    {
     "name": "stdout",
     "output_type": "stream",
     "text": [
      "5 10\n"
     ]
    }
   ],
   "source": [
    "# 15) Swapping two Numbers Based on Multiple assignment(Method -1)\n",
    "\n",
    "a, b = 10, 5\n",
    "a, b = b, a\n",
    "print(a,b)"
   ]
  },
  {
   "cell_type": "code",
   "execution_count": 21,
   "id": "ed03eca5",
   "metadata": {},
   "outputs": [
    {
     "name": "stdout",
     "output_type": "stream",
     "text": [
      "23 10\n"
     ]
    }
   ],
   "source": [
    "# 16) Swapping two Numbers using third variable (Method -2)\n",
    "\n",
    "a, b = 10, 23\n",
    "c = a\n",
    "a = b\n",
    "b = c\n",
    "print(a,b)"
   ]
  },
  {
   "cell_type": "code",
   "execution_count": 22,
   "id": "666fe773",
   "metadata": {},
   "outputs": [
    {
     "name": "stdout",
     "output_type": "stream",
     "text": [
      "5.0 10.0\n"
     ]
    }
   ],
   "source": [
    "# 17) Swapping two Numbers using multiplication and division (Method -4)\n",
    "\n",
    "a, b = 10, 5\n",
    "a = a * b\n",
    "# 50\n",
    "b = a / b\n",
    "# 10\n",
    "a = a / b\n",
    "# 5\n",
    "print(a, b)"
   ]
  },
  {
   "cell_type": "code",
   "execution_count": 23,
   "id": "c1cd7b76",
   "metadata": {},
   "outputs": [
    {
     "name": "stdout",
     "output_type": "stream",
     "text": [
      "Max Number is :  10.0\n"
     ]
    }
   ],
   "source": [
    "# 18) Find Max of two numbers\n",
    "\n",
    "ab = 25\n",
    "bb = 30\n",
    "if ab > bb:\n",
    "    print(\"Max Number is : \", a)\n",
    "else:\n",
    "    ab < bb\n",
    "    print(\"Max Number is : \", b)"
   ]
  },
  {
   "cell_type": "code",
   "execution_count": 24,
   "id": "539c54ad",
   "metadata": {},
   "outputs": [
    {
     "name": "stdout",
     "output_type": "stream",
     "text": [
      "Max number is :  45\n"
     ]
    }
   ],
   "source": [
    "# 19) Print maximum of three numbers\n",
    "\n",
    "a = int(input(\"Enter number1 : \"))\n",
    "b = int(input(\"Enter number2 : \"))\n",
    "c = int(input(\"Enter number3 : \"))\n",
    "\n",
    "if a >= b and a >= c:\n",
    "    print(\"Max number is : \", a)\n",
    "elif b >= a and b >= c:\n",
    "    print(\"Max number is : \", b)\n",
    "else:\n",
    "    print(\"Max number is : \", c)"
   ]
  },
  {
   "cell_type": "code",
   "execution_count": 25,
   "id": "fbd91b5f",
   "metadata": {},
   "outputs": [
    {
     "name": "stdout",
     "output_type": "stream",
     "text": [
      "Descending order of the numbers is :  60 50 30\n"
     ]
    }
   ],
   "source": [
    "# 20) maximum of three numbers and in descending order\n",
    "\n",
    "a = int(input(\"Enter number1 : \"))\n",
    "b = int(input(\"Enter number2 : \"))\n",
    "c = int(input(\"Enter number3 : \"))\n",
    "if a > b and a > c:\n",
    "    if b > c:\n",
    "        print(\"Descending order of the numbers is : \", a, b, c)\n",
    "    else:\n",
    "        print(\"Descending order of the numbers is : \", a, c, b)\n",
    "elif b > a and b > c:\n",
    "    if a > c:\n",
    "        print(\"Descending order of the numbers is : \", b, a, c)\n",
    "    else:\n",
    "        print(\"Descending order of the numbers is : \", b, c, a)\n",
    "elif a > b:\n",
    "    print(\"Descending order of the numbers is : \", c, a, b)\n",
    "else:\n",
    "    print(\"Descending order of the numbers is : \", c, b, a)"
   ]
  },
  {
   "cell_type": "code",
   "execution_count": 26,
   "id": "359eac09",
   "metadata": {},
   "outputs": [
    {
     "name": "stdout",
     "output_type": "stream",
     "text": [
      "['Prime', 'Intuit', 'The', 'Finishing', 'Best', 'School']\n",
      "['Prime', 'The', 'Best']\n",
      "r\n",
      "h\n",
      "e\n"
     ]
    }
   ],
   "source": [
    "# 21) Given a String Write a program to print the second characters of 1, 3, 5, 7 etc Continue...\n",
    "\n",
    "txt = \"Prime Intuit The Finishing Best School\"\n",
    "b = txt.split()\n",
    "print(b)\n",
    "a = b[0::2]\n",
    "print(a)\n",
    "for i in a:\n",
    "    print(i[1])"
   ]
  },
  {
   "cell_type": "code",
   "execution_count": 27,
   "id": "297636d9",
   "metadata": {},
   "outputs": [
    {
     "name": "stdout",
     "output_type": "stream",
     "text": [
      "['Prime', 'Intuit', 'The', 'Finishing', 'Best', 'School']\n",
      "r\n",
      "h\n",
      "e\n"
     ]
    }
   ],
   "source": [
    "# OR\n",
    "\n",
    "txt = \"Prime Intuit The Finishing Best School\"\n",
    "b = txt.split()\n",
    "print(b)\n",
    "i = 0\n",
    "while i < len(b):\n",
    "    c = b[i]\n",
    "    print(c[1])\n",
    "    i = i + 2"
   ]
  },
  {
   "cell_type": "code",
   "execution_count": 28,
   "id": "82d0c41a",
   "metadata": {},
   "outputs": [
    {
     "name": "stdout",
     "output_type": "stream",
     "text": [
      "0\n",
      "['Data', 'is', 'Vital']\n",
      "['Vital', 'is', 'Data']\n",
      "Vital is Data\n"
     ]
    }
   ],
   "source": [
    "# Count vowels\n",
    "\n",
    "name = input(\"Enter any String : \")\n",
    "vowels = 0\n",
    "consonants = 0\n",
    "l1 = []\n",
    "for n in name:\n",
    "    if n not in l1:\n",
    "        if n in ('a', 'e', 'i', 'o', 'u', 'A', 'E', 'I', 'O', 'U'):\n",
    "            vowels += 1\n",
    "            l1.append(n)\n",
    "print(vowels)\n",
    "\n",
    "# Reverse the string\n",
    "\n",
    "a = \"Data is Vital\"\n",
    "l1 = a.split()\n",
    "print(l1)\n",
    "l1.reverse()\n",
    "print(l1)\n",
    "print(\" \".join(l1))"
   ]
  },
  {
   "cell_type": "code",
   "execution_count": 29,
   "id": "f2eb04eb",
   "metadata": {},
   "outputs": [
    {
     "name": "stdout",
     "output_type": "stream",
     "text": [
      "Before Sorting The Array Elements : \n",
      "24 10 35 65 77 41 2 21 14 9 41 \n",
      "11\n",
      "Loop Starting With 0th Element 24 of the List\n",
      "During loop [10, 24, 35, 65, 77, 41, 2, 21, 14, 9, 41]\n",
      "During loop [10, 24, 35, 65, 77, 41, 2, 21, 14, 9, 41]\n",
      "During loop [10, 24, 35, 65, 77, 41, 2, 21, 14, 9, 41]\n",
      "During loop [10, 24, 35, 65, 77, 41, 2, 21, 14, 9, 41]\n",
      "During loop [10, 24, 35, 65, 77, 41, 2, 21, 14, 9, 41]\n",
      "During loop [2, 24, 35, 65, 77, 41, 10, 21, 14, 9, 41]\n",
      "During loop [2, 24, 35, 65, 77, 41, 10, 21, 14, 9, 41]\n",
      "During loop [2, 24, 35, 65, 77, 41, 10, 21, 14, 9, 41]\n",
      "During loop [2, 24, 35, 65, 77, 41, 10, 21, 14, 9, 41]\n",
      "During loop [2, 24, 35, 65, 77, 41, 10, 21, 14, 9, 41]\n",
      "Loop Starting With 1th Element 24 of the List\n",
      "During loop [2, 24, 35, 65, 77, 41, 10, 21, 14, 9, 41]\n",
      "During loop [2, 24, 35, 65, 77, 41, 10, 21, 14, 9, 41]\n",
      "During loop [2, 24, 35, 65, 77, 41, 10, 21, 14, 9, 41]\n",
      "During loop [2, 24, 35, 65, 77, 41, 10, 21, 14, 9, 41]\n",
      "During loop [2, 10, 35, 65, 77, 41, 24, 21, 14, 9, 41]\n",
      "During loop [2, 10, 35, 65, 77, 41, 24, 21, 14, 9, 41]\n",
      "During loop [2, 10, 35, 65, 77, 41, 24, 21, 14, 9, 41]\n",
      "During loop [2, 9, 35, 65, 77, 41, 24, 21, 14, 10, 41]\n",
      "During loop [2, 9, 35, 65, 77, 41, 24, 21, 14, 10, 41]\n",
      "Loop Starting With 2th Element 35 of the List\n",
      "During loop [2, 9, 35, 65, 77, 41, 24, 21, 14, 10, 41]\n",
      "During loop [2, 9, 35, 65, 77, 41, 24, 21, 14, 10, 41]\n",
      "During loop [2, 9, 35, 65, 77, 41, 24, 21, 14, 10, 41]\n",
      "During loop [2, 9, 24, 65, 77, 41, 35, 21, 14, 10, 41]\n",
      "During loop [2, 9, 21, 65, 77, 41, 35, 24, 14, 10, 41]\n",
      "During loop [2, 9, 14, 65, 77, 41, 35, 24, 21, 10, 41]\n",
      "During loop [2, 9, 10, 65, 77, 41, 35, 24, 21, 14, 41]\n",
      "During loop [2, 9, 10, 65, 77, 41, 35, 24, 21, 14, 41]\n",
      "Loop Starting With 3th Element 65 of the List\n",
      "During loop [2, 9, 10, 65, 77, 41, 35, 24, 21, 14, 41]\n",
      "During loop [2, 9, 10, 41, 77, 65, 35, 24, 21, 14, 41]\n",
      "During loop [2, 9, 10, 35, 77, 65, 41, 24, 21, 14, 41]\n",
      "During loop [2, 9, 10, 24, 77, 65, 41, 35, 21, 14, 41]\n",
      "During loop [2, 9, 10, 21, 77, 65, 41, 35, 24, 14, 41]\n",
      "During loop [2, 9, 10, 14, 77, 65, 41, 35, 24, 21, 41]\n",
      "During loop [2, 9, 10, 14, 77, 65, 41, 35, 24, 21, 41]\n",
      "Loop Starting With 4th Element 77 of the List\n",
      "During loop [2, 9, 10, 14, 65, 77, 41, 35, 24, 21, 41]\n",
      "During loop [2, 9, 10, 14, 41, 77, 65, 35, 24, 21, 41]\n",
      "During loop [2, 9, 10, 14, 35, 77, 65, 41, 24, 21, 41]\n",
      "During loop [2, 9, 10, 14, 24, 77, 65, 41, 35, 21, 41]\n",
      "During loop [2, 9, 10, 14, 21, 77, 65, 41, 35, 24, 41]\n",
      "During loop [2, 9, 10, 14, 21, 77, 65, 41, 35, 24, 41]\n",
      "Loop Starting With 5th Element 77 of the List\n",
      "During loop [2, 9, 10, 14, 21, 65, 77, 41, 35, 24, 41]\n",
      "During loop [2, 9, 10, 14, 21, 41, 77, 65, 35, 24, 41]\n",
      "During loop [2, 9, 10, 14, 21, 35, 77, 65, 41, 24, 41]\n",
      "During loop [2, 9, 10, 14, 21, 24, 77, 65, 41, 35, 41]\n",
      "During loop [2, 9, 10, 14, 21, 24, 77, 65, 41, 35, 41]\n",
      "Loop Starting With 6th Element 77 of the List\n",
      "During loop [2, 9, 10, 14, 21, 24, 65, 77, 41, 35, 41]\n",
      "During loop [2, 9, 10, 14, 21, 24, 41, 77, 65, 35, 41]\n",
      "During loop [2, 9, 10, 14, 21, 24, 35, 77, 65, 41, 41]\n",
      "During loop [2, 9, 10, 14, 21, 24, 35, 77, 65, 41, 41]\n",
      "Loop Starting With 7th Element 77 of the List\n",
      "During loop [2, 9, 10, 14, 21, 24, 35, 65, 77, 41, 41]\n",
      "During loop [2, 9, 10, 14, 21, 24, 35, 41, 77, 65, 41]\n",
      "During loop [2, 9, 10, 14, 21, 24, 35, 41, 77, 65, 41]\n",
      "Loop Starting With 8th Element 77 of the List\n",
      "During loop [2, 9, 10, 14, 21, 24, 35, 41, 65, 77, 41]\n",
      "During loop [2, 9, 10, 14, 21, 24, 35, 41, 41, 77, 65]\n",
      "Loop Starting With 9th Element 77 of the List\n",
      "During loop [2, 9, 10, 14, 21, 24, 35, 41, 41, 65, 77]\n",
      "Loop Starting With 10th Element 77 of the List\n",
      "\n",
      "After Sorting The Array Elements : \n",
      "2 9 10 14 21 24 35 41 41 65 77 "
     ]
    }
   ],
   "source": [
    "\n",
    "\n",
    "L2 = [24, 10, 35, 65, 77, 41, 2, 21, 14, 9, 41]\n",
    "\n",
    "print(\"Before Sorting The Array Elements : \")\n",
    "for i in L2:\n",
    "    print(i, end=\" \")\n",
    "print()\n",
    "print(len(L2))\n",
    "\n",
    "# During every loop the lowest element is moved to left position of the list\n",
    "# During First loop first lowest element is moved to the left position of the list\n",
    "# During Second loop first lowest element is moved to the left position of the list\n",
    "\n",
    "for i in range(0, len(L2)):\n",
    "    print(f\"Loop Starting With {i}th Element {L2[i]} of the List\")\n",
    "    for j in range(i+1, len(L2)):\n",
    "        if L2[j] < L2[i]:\n",
    "            temp = L2[j]\n",
    "            L2[j] = L2[i]\n",
    "            L2[i] = temp\n",
    "        print(\"During loop\", L2)\n",
    "print()\n",
    "print(\"After Sorting The Array Elements : \")\n",
    "for i in L2:\n",
    "    print(i, end=\" \")\n"
   ]
  },
  {
   "cell_type": "code",
   "execution_count": 30,
   "id": "934367c7",
   "metadata": {},
   "outputs": [
    {
     "name": "stdout",
     "output_type": "stream",
     "text": [
      "Before Sorting The Array Elements : \n",
      "24 35 65 77 41 21 14 41 \n",
      "\n",
      "After Sorting The Array Elements : \n",
      "14 21 24 35 41 41 65 77 \n"
     ]
    }
   ],
   "source": [
    "def bubble_sort(array):\n",
    "    print(\"Before Sorting The Array Elements : \")\n",
    "    for i in array:\n",
    "        print(i, end=\" \")\n",
    "    print()\n",
    "\n",
    "    for i in range(0, len(array)):\n",
    "        for j in range(i+1, len(array)):\n",
    "            if array[j] < array[i]:\n",
    "                array[j], array[i] = array[i], array[j]\n",
    "    print()\n",
    "\n",
    "    print(\"After Sorting The Array Elements : \")\n",
    "    for i in array:\n",
    "        print(i, end=\" \")\n",
    "    print()\n",
    "\n",
    "\n",
    "L2 = [24, 35, 65, 77, 41, 21, 14, 41]\n",
    "bubble_sort(L2)"
   ]
  },
  {
   "cell_type": "code",
   "execution_count": 31,
   "id": "9340a19b",
   "metadata": {},
   "outputs": [
    {
     "name": "stdout",
     "output_type": "stream",
     "text": [
      "The sorted list [4, 12, 32, 34, 43, 45, 56, 65, 76]\n"
     ]
    }
   ],
   "source": [
    "L3 = [12, 34, 45, 32, 65, 76, 43, 56, 4]\n",
    "for i in range(0, len(L3)):\n",
    "    for j in range(i+1, len(L3)):\n",
    "        if L3[j] < L3[i]:\n",
    "            temp = L3[j]\n",
    "            L3[j] = L3[i]\n",
    "            L3[i] = temp\n",
    "\n",
    "print(\"The sorted list\", L3)"
   ]
  },
  {
   "cell_type": "code",
   "execution_count": null,
   "id": "77f943c3",
   "metadata": {},
   "outputs": [],
   "source": []
  }
 ],
 "metadata": {
  "kernelspec": {
   "display_name": "venv",
   "language": "python",
   "name": "python3"
  },
  "language_info": {
   "codemirror_mode": {
    "name": "ipython",
    "version": 3
   },
   "file_extension": ".py",
   "mimetype": "text/x-python",
   "name": "python",
   "nbconvert_exporter": "python",
   "pygments_lexer": "ipython3",
   "version": "3.10.11"
  }
 },
 "nbformat": 4,
 "nbformat_minor": 5
}
