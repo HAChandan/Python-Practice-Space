{
 "cells": [
  {
   "cell_type": "code",
   "execution_count": 1,
   "id": "cd986c05",
   "metadata": {},
   "outputs": [
    {
     "name": "stdout",
     "output_type": "stream",
     "text": [
      "Output of read file \n",
      " Apple\n",
      "Banana\n",
      "Mango\n",
      "grapes \n",
      "pear \n",
      "peach \n",
      "watermelon\n",
      "Output of read line \n",
      " \n",
      "Output of read line1 \n",
      " Apple\n",
      "\n",
      "Output of read line2 \n",
      " Banana\n",
      "\n",
      "Output of read cat \n",
      " Mango\n",
      "\n",
      "Output of read dog \n",
      " grapes \n",
      "\n"
     ]
    }
   ],
   "source": [
    "# File handling in python\n",
    "\n",
    "frt = open('fruits.txt', 'r')\n",
    "print(\"Output of read file \\n\", frt.read())\n",
    "print(\"Output of read line \\n\", frt.readline()) # No output because end of file reached\n",
    "frt = open('fruits.txt', 'r')\n",
    "print(\"Output of read line1 \\n\", frt.readline())\n",
    "print(\"Output of read line2 \\n\", frt.readline())\n",
    "cat = frt.readline()\n",
    "print(\"Output of read cat \\n\", cat)\n",
    "dog = frt.readline()\n",
    "print(\"Output of read dog \\n\", dog)"
   ]
  },
  {
   "cell_type": "code",
   "execution_count": 2,
   "id": "2edee8d7",
   "metadata": {},
   "outputs": [
    {
     "name": "stdout",
     "output_type": "stream",
     "text": [
      "using for loop\n",
      "pear \n",
      "\n",
      "peach \n",
      "\n",
      "watermelon\n",
      "\n"
     ]
    }
   ],
   "source": [
    "# Use for loop to read the line\n",
    "print(\"using for loop\")\n",
    "for i in frt:\n",
    "    print(i)\n",
    "print()"
   ]
  },
  {
   "cell_type": "code",
   "execution_count": 3,
   "id": "8ceac47c",
   "metadata": {},
   "outputs": [
    {
     "name": "stdout",
     "output_type": "stream",
     "text": [
      "File mode :  r\n",
      "File name :  fruits.txt\n",
      "File close :  False\n"
     ]
    }
   ],
   "source": [
    "# File attributes\n",
    "print(\"File mode : \", frt.mode)\n",
    "print(\"File name : \", frt.name)\n",
    "print(\"File close : \", frt.closed) # Check if the file is closed or not"
   ]
  },
  {
   "cell_type": "code",
   "execution_count": 4,
   "id": "9bdd1bde",
   "metadata": {},
   "outputs": [],
   "source": [
    "# How to use the Append Function\n",
    "frt = open(\"fruits.txt\", 'a')\n",
    "frt.write('\\nJackfruit\\nGuava')\n",
    "frt.close()"
   ]
  },
  {
   "cell_type": "code",
   "execution_count": 5,
   "id": "57239ac0",
   "metadata": {},
   "outputs": [
    {
     "name": "stdout",
     "output_type": "stream",
     "text": [
      "\n"
     ]
    }
   ],
   "source": [
    "# How to use the Append Function\n",
    "frt = open(\"fruits.txt\", 'a+')\n",
    "frt.write('\\nPlums')\n",
    "print(frt.read())\n",
    "frt.close()"
   ]
  },
  {
   "cell_type": "code",
   "execution_count": 6,
   "id": "5caab6d6",
   "metadata": {},
   "outputs": [],
   "source": [
    "# How to use write mode\n",
    "frt = open('fruits.txt', 'w')\n",
    "# Once we open file in write(w) mode existing file will be rewritten(delete old file contents)\n",
    "frt.write('\\nApple\\nBanana\\nMango')\n",
    "frt.close()"
   ]
  },
  {
   "cell_type": "code",
   "execution_count": 7,
   "id": "a93925fa",
   "metadata": {},
   "outputs": [
    {
     "name": "stdout",
     "output_type": "stream",
     "text": [
      "context mode \n",
      "Apple\n",
      "Banana\n",
      "Mango\n",
      "True\n"
     ]
    }
   ],
   "source": [
    "# Using Context management\n",
    "\n",
    "with open('fruits.txt', 'r') as frt:\n",
    "    print(\"context mode\", frt.read())\n",
    "\n",
    "# when we use context management it will automatically close the file\n",
    "# we don't need to give the file.close to close the file\n",
    "print(frt.closed) # Check whether file is closed or not"
   ]
  },
  {
   "cell_type": "code",
   "execution_count": 8,
   "id": "e128d899",
   "metadata": {},
   "outputs": [
    {
     "name": "stdout",
     "output_type": "stream",
     "text": [
      "read lines ['\\n', 'Apple\\n']\n"
     ]
    }
   ],
   "source": [
    "# using read lines\n",
    "\n",
    "with open('fruits.txt', 'r') as frt:\n",
    "    print(\"read lines\", frt.readlines(1))\n",
    "    frt.flush() # just flushes the internal buffer memory from the heep space and name space"
   ]
  },
  {
   "cell_type": "code",
   "execution_count": 9,
   "id": "ef78e64e",
   "metadata": {},
   "outputs": [
    {
     "name": "stdout",
     "output_type": "stream",
     "text": [
      "write lines \n",
      "58\n",
      "write lines Banana\n",
      "Mango\n",
      "grapes \n",
      "pear \n",
      "peach \n",
      "watermelon\n"
     ]
    }
   ],
   "source": [
    "with open('fruits.txt', 'a+') as frt:\n",
    "    str = \"\\ngrapes \\npear \\npeach \\nwatermelon\"\n",
    "    print(\"write lines\", frt.read())\n",
    "    # since we use append cursor in last position so it has nothing to read so\n",
    "    # this print statement doesn't give output\n",
    "    # so move the cursor to starting position\n",
    "    frt.writelines(str)\n",
    "    print(frt.tell())\n",
    "    frt.seek(9)\n",
    "    print(\"write lines\", frt.read())\n",
    "    #since we use append cursor in last position so it has nothing to read so\n",
    "    # this print statement doesn't give output"
   ]
  },
  {
   "cell_type": "code",
   "execution_count": null,
   "id": "d14880a9",
   "metadata": {},
   "outputs": [
    {
     "name": "stdout",
     "output_type": "stream",
     "text": [
      "\n"
     ]
    }
   ],
   "source": [
    "# Reading from file other than default directory\n",
    "with open('d:\\\\CCC\\\\Python_Learning\\\\Others\\\\game.txt', 'r+') as game:\n",
    "    text = game.read()\n",
    "    print(text)"
   ]
  },
  {
   "cell_type": "code",
   "execution_count": 11,
   "id": "1bbcb971",
   "metadata": {},
   "outputs": [
    {
     "name": "stdout",
     "output_type": "stream",
     "text": [
      "d:\\CCC\\Python_Learning\\Others\n"
     ]
    }
   ],
   "source": [
    "import os\n",
    "print(os.getcwd()) # Present working directory"
   ]
  },
  {
   "cell_type": "code",
   "execution_count": null,
   "id": "70aeeb8f",
   "metadata": {},
   "outputs": [],
   "source": [
    "# import os\n",
    "# print(os.getcwd()) # Present working directory\n",
    "# os.chdir('C:\\\\Users\\\\SHIVA PRASAD\\\\PycharmProjects') # change working directory\n",
    "# os.mkdir('C:\\\\Users\\\\SHIVA PRASAD\\\\PycharmProjects\\\\prime_intuit') # make new directory\n",
    "# os.remove('C:\\\\Users\\\\SHIVA PRASAD\\\\PycharmProjects\\\\prime_intuit\\\\game123.txt') # remove file from directory"
   ]
  }
 ],
 "metadata": {
  "kernelspec": {
   "display_name": "venv",
   "language": "python",
   "name": "python3"
  },
  "language_info": {
   "codemirror_mode": {
    "name": "ipython",
    "version": 3
   },
   "file_extension": ".py",
   "mimetype": "text/x-python",
   "name": "python",
   "nbconvert_exporter": "python",
   "pygments_lexer": "ipython3",
   "version": "3.10.11"
  }
 },
 "nbformat": 4,
 "nbformat_minor": 5
}
