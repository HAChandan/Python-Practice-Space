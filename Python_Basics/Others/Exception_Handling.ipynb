{
 "cells": [
  {
   "cell_type": "code",
   "execution_count": 1,
   "id": "76d12f17",
   "metadata": {},
   "outputs": [
    {
     "name": "stdout",
     "output_type": "stream",
     "text": [
      "Error: Please enter integer only\n",
      "Thank you !, Execution Completed\n"
     ]
    }
   ],
   "source": [
    "\n",
    "# Exception handling in python\n",
    "# Case1\n",
    "# Try : Block will hold the code which is excepted to execution error\n",
    "try:\n",
    "    a = int(input(\"Enter the num 1: \"))\n",
    "    b = int(input(\"Enter the num 2: \"))\n",
    "# Try : Block will catch the error and print a meaningful error\n",
    "# Or perform correction required\n",
    "except:\n",
    "    print(\"Error: Please enter integer only\")\n",
    "# Else: Block will hold the code which needs to be executed\n",
    "else:\n",
    "    # Add Numbers\n",
    "    c = a + b\n",
    "    print(\"Sum = \", c)\n",
    "# Finally: Finally is an optional block, it will execute in case of error or no error\n",
    "finally:\n",
    "    print(\"Thank you !, Execution Completed\")"
   ]
  },
  {
   "cell_type": "code",
   "execution_count": 2,
   "id": "ab2b5a61",
   "metadata": {},
   "outputs": [
    {
     "name": "stdout",
     "output_type": "stream",
     "text": [
      "Thank you !, Execution Completed\n",
      "[10, 20, 30, 40, 50]\n"
     ]
    }
   ],
   "source": [
    "\n",
    "def inputlist():\n",
    "    try:\n",
    "        ln = int(input(\"Enter the length of the list : \"))\n",
    "        x = 0\n",
    "        l = []\n",
    "        while x < ln:\n",
    "            # To get an ValueError enter element of the list other than integer example: float or character\n",
    "            # Error = Please enter integers only\n",
    "            y = int(input(\"Enter the element in the list : \"))\n",
    "            l.append(y)\n",
    "            x = x + 1\n",
    "\n",
    "        # Without error\n",
    "        # z = 0\n",
    "        # while z < ln:\n",
    "        #     print(l[z], end=' ')\n",
    "        #     z = z + 1\n",
    "        # print()\n",
    "\n",
    "        # Error = index is out of range\n",
    "        # while x <= ln:\n",
    "        #     print(l[x])\n",
    "\n",
    "        # Error = unknown error\n",
    "        # while z < ln:\n",
    "        #     print(l[z])\n",
    "        #     z = z + 1\n",
    "\n",
    "    except ValueError:\n",
    "        print(\"Error: Please enter integers only\")\n",
    "    except IndexError:\n",
    "        print(\"Error: Please note that index is out of range\")\n",
    "    except:\n",
    "        print(\"Error: There are an unknown error\")\n",
    "    else:\n",
    "        return(l)\n",
    "    finally:\n",
    "        print(\"Thank you !, Execution Completed\")\n",
    "\n",
    "l1 = inputlist()\n",
    "print(l1)"
   ]
  },
  {
   "cell_type": "code",
   "execution_count": null,
   "id": "c3d299de",
   "metadata": {},
   "outputs": [],
   "source": []
  }
 ],
 "metadata": {
  "kernelspec": {
   "display_name": "venv",
   "language": "python",
   "name": "python3"
  },
  "language_info": {
   "codemirror_mode": {
    "name": "ipython",
    "version": 3
   },
   "file_extension": ".py",
   "mimetype": "text/x-python",
   "name": "python",
   "nbconvert_exporter": "python",
   "pygments_lexer": "ipython3",
   "version": "3.10.11"
  }
 },
 "nbformat": 4,
 "nbformat_minor": 5
}
