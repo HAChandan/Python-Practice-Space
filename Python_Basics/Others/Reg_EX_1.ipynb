{
 "cells": [
  {
   "cell_type": "code",
   "execution_count": 1,
   "id": "68d8876a",
   "metadata": {},
   "outputs": [
    {
     "name": "stdout",
     "output_type": "stream",
     "text": [
      "['i', 'i', 'i']\n",
      "[]\n"
     ]
    }
   ],
   "source": [
    "# Regular expression or RegEx module is used to\n",
    "# access information in the string or to clean\n",
    "\n",
    "# RegEx is used to check if a string contain specific search pattern or not\n",
    "# RegEx is a sequence of characters that contain a search pattern\n",
    "\n",
    "import re\n",
    "str = \"Prime Intuit - Niranjan * Mahesh - 7204251901-90days\"\n",
    "\n",
    "# find all function takes 2 arguments (\"Pattern\", String)\n",
    "# and returns all occurrence of the pattern as a list, in case of no match returns empty list\n",
    "a = re.findall(\"i\", str) # Match\n",
    "print(a)\n",
    "b = re.findall(\"z\", str) # No-Match\n",
    "print(b)"
   ]
  },
  {
   "cell_type": "code",
   "execution_count": 2,
   "id": "26c26fea",
   "metadata": {},
   "outputs": [
    {
     "name": "stdout",
     "output_type": "stream",
     "text": [
      "Start function returns starting index 13\n",
      "Span function returns starting and ending index (13, 14)\n",
      "Span function returns starting and ending index (15, 17)\n",
      "String function returns entire string :  Prime Intuit - Niranjan * Mahesh - 7204251901-90days\n"
     ]
    }
   ],
   "source": [
    "# Search function takes 2 arguments (\"Pattern\", String)\n",
    "# Search Function returns a search object for first instance of the pattern,\n",
    "# which can be used along with functions\n",
    "# start, span and string\n",
    "# search instance will give the first instance\n",
    "c = re.search(\"-\", str)\n",
    "print(\"Start function returns starting index\", c.start())\n",
    "print(\"Span function returns starting and ending index\", c.span())\n",
    "d = re.search(\"Ni\", str)\n",
    "print(\"Span function returns starting and ending index\", d.span())\n",
    "print(\"String function returns entire string : \", c.string)"
   ]
  },
  {
   "cell_type": "code",
   "execution_count": 3,
   "id": "e8b35ef0",
   "metadata": {},
   "outputs": [
    {
     "name": "stdout",
     "output_type": "stream",
     "text": [
      "['Prime', 'Intuit', '-', 'Niranjan', '*', 'Mahesh', '-', '7204251901-90days']\n",
      "['Prime Intuit ', ' Niranjan * Mahesh ', ' 7204251901', '90days']\n"
     ]
    }
   ],
   "source": [
    "# split function is used to split the string based on given pattern\n",
    "e = re.split(\" \", str)\n",
    "print(e)\n",
    "f = re.split(\"-\", str)\n",
    "print(f)"
   ]
  },
  {
   "cell_type": "code",
   "execution_count": 4,
   "id": "7a58614c",
   "metadata": {},
   "outputs": [
    {
     "name": "stdout",
     "output_type": "stream",
     "text": [
      "Prime Intuit ** Niranjan * Mahesh ** 7204251901**90days\n",
      "Prime Intuit ** Niranjan * Mahesh ** 7204251901-90days\n"
     ]
    }
   ],
   "source": [
    "# sub / substitute function is used to replace a pattern with a given string\n",
    "# count is a optional argument to tell how many replacement we want\n",
    "\n",
    "g = re.sub(\"-\", \"**\", str)\n",
    "print(g)\n",
    "h = re.sub(\"-\", \"**\", str, 2)\n",
    "print(h)"
   ]
  },
  {
   "cell_type": "code",
   "execution_count": 5,
   "id": "8fbe5484",
   "metadata": {},
   "outputs": [
    {
     "name": "stdout",
     "output_type": "stream",
     "text": [
      "['7204251901']\n",
      "['7', '2', '0', '4', '2', '5', '1', '9', '0', '1', '9', '0']\n"
     ]
    }
   ],
   "source": [
    "# the real application and what makes regular expressions powerful\n",
    "i = re.findall(\"\\d{10}\",str)\n",
    "print(i)\n",
    "\n",
    "j = re.findall(\"[\\d{10}]\",str)\n",
    "print(j)"
   ]
  },
  {
   "cell_type": "code",
   "execution_count": 6,
   "id": "27588e58",
   "metadata": {},
   "outputs": [
    {
     "name": "stdout",
     "output_type": "stream",
     "text": [
      "['P', 'I']\n"
     ]
    }
   ],
   "source": [
    "# Meta Characters\n",
    "# [] - Returns a match if string contains patterns / characters specified (even if one character is matching)\n",
    "k = re.findall(\"[PI]\", str)\n",
    "print(k)"
   ]
  },
  {
   "cell_type": "code",
   "execution_count": 7,
   "id": "52f8c62b",
   "metadata": {},
   "outputs": [
    {
     "name": "stdout",
     "output_type": "stream",
     "text": [
      "['P']\n",
      "[]\n"
     ]
    }
   ],
   "source": [
    "# ^ - Return a match if string starts with given pattern\n",
    "l = re.findall(\"^P\", str)\n",
    "print(l)\n",
    "n = re.findall(\"^I\", str) # Returns empty since string doesn't start with I\n",
    "print(n)"
   ]
  },
  {
   "cell_type": "code",
   "execution_count": 8,
   "id": "16c98b71",
   "metadata": {},
   "outputs": [
    {
     "name": "stdout",
     "output_type": "stream",
     "text": [
      "['s']\n",
      "[]\n"
     ]
    }
   ],
   "source": [
    "# $ - Return a match if string ends with given pattern\n",
    "m = re.findall(\"s$\", str)\n",
    "print(m)\n",
    "o = re.findall(\"a$\", str) # Returns empty since string doesn't end with a\n",
    "print(o)"
   ]
  },
  {
   "cell_type": "code",
   "execution_count": 9,
   "id": "c76a3da7",
   "metadata": {},
   "outputs": [
    {
     "name": "stdout",
     "output_type": "stream",
     "text": [
      "['Prime']\n",
      "['days']\n"
     ]
    }
   ],
   "source": [
    "# . - Returns a match for any characters except new line\n",
    "p = re.findall(\"^P....\", str)\n",
    "print(p)\n",
    "\n",
    "q = re.findall(\"...s$\", str)\n",
    "print(q)"
   ]
  },
  {
   "cell_type": "code",
   "execution_count": 10,
   "id": "7b3a5e53",
   "metadata": {},
   "outputs": [
    {
     "name": "stdout",
     "output_type": "stream",
     "text": [
      "['', '', '', '', '', '', '', 'n', '', '', '', '', '', '', '', '', '', '', '', 'n', '', '', 'n', '', '', '', '', '', '', '', '', '', '', '', '', '', '', '', '', '', '', '', '', '', '', '', '', '', '', '', '', '', '']\n",
      "['', '', '', 'm', '', '', '', 'n', '', '', '', '', '', '', '', '', '', '', '', 'n', '', '', 'n', '', '', '', '', '', '', '', '', '', '', '', '', '', '', '', '', '', '', '', '', '', '', '', '', '', '', '', '', '', '']\n",
      "['n', 'n', 'n']\n"
     ]
    }
   ],
   "source": [
    "# * - Returns a match if zero or more occurrences\n",
    "t = re.findall(\"n*\", str)\n",
    "print(t)\n",
    "r = re.findall(\"m*n*\", str)\n",
    "print(r)\n",
    "\n",
    "# + - Returns a match if one or more occurrences\n",
    "s = re.findall(\"n+\", str)\n",
    "print(s)"
   ]
  },
  {
   "cell_type": "code",
   "execution_count": 11,
   "id": "5d9d32fc",
   "metadata": {},
   "outputs": [
    {
     "name": "stdout",
     "output_type": "stream",
     "text": [
      "['', '', '', '', '', '', '', 'n', '', '', '', '', '', '', '', '', '', '', '', 'n', '', '', 'n', '', '', '', '', '', '', '', '', '', '', '', '', '', '', '', '', '', '', '', '', '', '', '', '', '', '', '', '', '', '']\n",
      "['ee', 'ee']\n"
     ]
    }
   ],
   "source": [
    "# ? - Returns a match if zero or one occurrences\n",
    "s = re.findall(\"n?\", str)\n",
    "print(s)\n",
    "\n",
    "# {} - Returns a match if specified number of occurrences\n",
    "str1 = \"A friend is need is a friend indeed\"\n",
    "u = re.findall(\"e{2}\", str1)\n",
    "print(u)"
   ]
  },
  {
   "cell_type": "code",
   "execution_count": 12,
   "id": "fc7b4539",
   "metadata": {},
   "outputs": [
    {
     "name": "stdout",
     "output_type": "stream",
     "text": [
      "['7204251901']\n",
      "['90days']\n"
     ]
    }
   ],
   "source": [
    "# \\ - special sequences(eg : d for digits)\n",
    "v = re.findall(\"\\d{10}\", str)\n",
    "print(v)\n",
    "\n",
    "ab = re.findall(\"\\d{2}d...\", str)\n",
    "print(ab)"
   ]
  },
  {
   "cell_type": "code",
   "execution_count": 13,
   "id": "5e172e8b",
   "metadata": {},
   "outputs": [],
   "source": [
    "# ?\n",
    "# Causes the resulting RE to match 0 or 1\n",
    "# repetitions of the preceding RE. ab? will match either ‘a’ or ‘ab’.  (see problem 4)\n",
    "\n",
    "# \\d - Return match if given string is having digits (0-9)\n",
    "# same example as above v and ab\n",
    "# \\D - Return match if given string does not have digits"
   ]
  },
  {
   "cell_type": "code",
   "execution_count": 14,
   "id": "3fa96b11",
   "metadata": {},
   "outputs": [
    {
     "name": "stdout",
     "output_type": "stream",
     "text": [
      "['P', 'r', 'i', 'm', 'e', ' ', 'I', 'n', 't', 'u', 'i', 't', ' ', '-', ' ', 'N', 'i', 'r', 'a', 'n', 'j', 'a', 'n', ' ', '*', ' ', 'M', 'a', 'h', 'e', 's', 'h', ' ', '-', ' ', '-', 'd', 'a', 'y', 's']\n",
      "['P', 'r', 'i', 'm', 'e', 'I', 'n', 't', 'u', 'i', 't', 'N', 'i', 'r', 'a', 'n', 'j', 'a', 'n', 'M', 'a', 'h', 'e', 's', 'h', '7', '2', '0', '4', '2', '5', '1', '9', '0', '1', '9', '0', 'd', 'a', 'y', 's']\n"
     ]
    }
   ],
   "source": [
    "ab = re.findall(\"\\D\", str)\n",
    "print(ab)\n",
    "# \\w - Return match if given string is having characters (a-z, A-Z,0-9)\n",
    "ac = re.findall(\"\\w\", str)\n",
    "print(ac)"
   ]
  },
  {
   "cell_type": "code",
   "execution_count": 15,
   "id": "f1468b8b",
   "metadata": {},
   "outputs": [
    {
     "name": "stdout",
     "output_type": "stream",
     "text": [
      "[' ', ' ', '-', ' ', ' ', '*', ' ', ' ', '-', ' ', '-']\n",
      "[' ', ' ', ' ', ' ', ' ', ' ', ' ']\n"
     ]
    }
   ],
   "source": [
    "# \\W - Return match if given string does not have characters\n",
    "ad = re.findall(\"\\W\", str)\n",
    "print(ad)\n",
    "# \\s - Return match if given string is having spaces\n",
    "ae = re.findall(\"\\s\", str)\n",
    "print(ae)"
   ]
  },
  {
   "cell_type": "code",
   "execution_count": 16,
   "id": "1704ee28",
   "metadata": {},
   "outputs": [
    {
     "name": "stdout",
     "output_type": "stream",
     "text": [
      "['P', 'r', 'i', 'm', 'e', 'I', 'n', 't', 'u', 'i', 't', '-', 'N', 'i', 'r', 'a', 'n', 'j', 'a', 'n', '*', 'M', 'a', 'h', 'e', 's', 'h', '-', '7', '2', '0', '4', '2', '5', '1', '9', '0', '1', '-', '9', '0', 'd', 'a', 'y', 's']\n",
      "['s']\n"
     ]
    }
   ],
   "source": [
    "# \\S - Return match if given string does not have spaces\n",
    "af = re.findall(\"\\S\", str)\n",
    "print(af)\n",
    "# \\Z - Return match if given string ends with a specified character\n",
    "ag = re.findall(\"s\\Z\", str)\n",
    "print(ag)"
   ]
  },
  {
   "cell_type": "code",
   "execution_count": 17,
   "id": "769ea98e",
   "metadata": {},
   "outputs": [
    {
     "name": "stdout",
     "output_type": "stream",
     "text": [
      "['P', 'I']\n"
     ]
    }
   ],
   "source": [
    "# Sets\n",
    "# [abc] - Returns match if string contains any one of the specified characters\n",
    "ah = re.findall(\"[PI]\", str)\n",
    "print(ah)"
   ]
  },
  {
   "cell_type": "code",
   "execution_count": 18,
   "id": "235beaf1",
   "metadata": {},
   "outputs": [
    {
     "name": "stdout",
     "output_type": "stream",
     "text": [
      "['r', 'i', 'm', 'e', 'n', 't', 'u', 'i', 't', 'i', 'r', 'a', 'n', 'j', 'a', 'n', 'a', 'h', 'e', 's', 'h', 'd', 'a', 'y', 's']\n"
     ]
    }
   ],
   "source": [
    "# [a-z] - Returns match if string contains any characters between specified characters\n",
    "ai = re.findall(\"[a-z]\", str)\n",
    "print(ai)"
   ]
  },
  {
   "cell_type": "code",
   "execution_count": 19,
   "id": "b08112a3",
   "metadata": {},
   "outputs": [
    {
     "name": "stdout",
     "output_type": "stream",
     "text": [
      "['7', '2', '0', '4', '2', '5', '1', '9', '0', '1', '9', '0']\n"
     ]
    }
   ],
   "source": [
    "ak = re.findall(\"[0-9]\", str)\n",
    "print(ak)"
   ]
  },
  {
   "cell_type": "code",
   "execution_count": 20,
   "id": "2c822e99",
   "metadata": {},
   "outputs": [
    {
     "name": "stdout",
     "output_type": "stream",
     "text": [
      "['0d']\n"
     ]
    }
   ],
   "source": [
    "al = re.findall(\"[0-9][a-z]\", str)\n",
    "print(al)"
   ]
  },
  {
   "cell_type": "code",
   "execution_count": 21,
   "id": "3da7f888",
   "metadata": {},
   "outputs": [
    {
     "name": "stdout",
     "output_type": "stream",
     "text": [
      "['P', 'm', ' ', 'I', 't', 'u', 't', ' ', '-', ' ', 'N', 'j', ' ', '*', ' ', 'M', 'h', 's', 'h', ' ', '-', ' ', '7', '2', '0', '4', '2', '5', '1', '9', '0', '1', '-', '9', '0', 'd', 'y', 's']\n"
     ]
    }
   ],
   "source": [
    "# [^abc] - Returns match if string contains characters except specified\n",
    "aj = re.findall(\"[^aiern]\", str)\n",
    "print(aj)"
   ]
  },
  {
   "cell_type": "code",
   "execution_count": 22,
   "id": "fbf02104",
   "metadata": {},
   "outputs": [
    {
     "name": "stdout",
     "output_type": "stream",
     "text": [
      "['Prime ', ' Intuit ', ' Niranjan ', ' Mahesh ', ' 7204251901 ', ' 90days']\n",
      "Prime  Intuit  Niranjan  Mahesh  7204251901  90days\n"
     ]
    }
   ],
   "source": [
    "str1 = \"Prime @ Intuit - Niranjan * Mahesh - 7204251901 - 90days\"\n",
    "ak = re.findall(\"[^@*-]+\", str1)\n",
    "print(ak)\n",
    "al = ''.join(ak)\n",
    "print(al)"
   ]
  },
  {
   "cell_type": "code",
   "execution_count": 23,
   "id": "0189143c",
   "metadata": {},
   "outputs": [
    {
     "name": "stdout",
     "output_type": "stream",
     "text": [
      "['7', '2', '2']\n",
      "['7', '2', '0', '4', '2', '5', '1', '9', '0', '1', '9', '0']\n"
     ]
    }
   ],
   "source": [
    "# [5678] - Returns match if string contains any numbers that is specified\n",
    "am = re.findall(\"[72]\", str)\n",
    "print(am)\n",
    "# [1-100] - Returns match if string contains any numbers specified by range\n",
    "an = re.findall(\"[0-9]\", str)\n",
    "print(an)"
   ]
  },
  {
   "cell_type": "code",
   "execution_count": 24,
   "id": "fe9a39cb",
   "metadata": {},
   "outputs": [
    {
     "name": "stdout",
     "output_type": "stream",
     "text": [
      "['72', '04', '25', '19', '01', '90']\n",
      "['ri', 'me', 'nt', 'ui', 'ir', 'an', 'ja', 'ah', 'es', 'da', 'ys']\n"
     ]
    }
   ],
   "source": [
    "# [0-9][0-9] - Returns match if string contains 2 dig number 00 to 99\n",
    "ao = re.findall(\"[0-9][0-9]\", str)\n",
    "print(ao)\n",
    "\n",
    "# [a-z][a-z] - Returns match if string contains continuous characters\n",
    "ao = re.findall(\"[a-z][a-z]\", str)\n",
    "print(ao)"
   ]
  },
  {
   "cell_type": "code",
   "execution_count": 25,
   "id": "9e7de0f1",
   "metadata": {},
   "outputs": [
    {
     "name": "stdout",
     "output_type": "stream",
     "text": [
      "['a', 'a', 'a', 'abb', 'a', 'a', 'ab', 'abb', 'abbb', 'ab']\n"
     ]
    }
   ],
   "source": [
    "\n",
    "# Problems for Regex\n",
    "# 1) Write a Python program to check that a string contains only a certain set of characters\n",
    "# (in this case a-z, A-Z and 0-9).\n",
    "# 2) Write a Python program that matches a string that has an 'a' followed by zero or more b's\n",
    "str2 = \"There was one a Bee by the name abb, it is used to sing a song, a, ab, abb, abbb ab_\"\n",
    "ap = re.findall('ab*', str2)\n",
    "print(ap)"
   ]
  },
  {
   "cell_type": "code",
   "execution_count": 26,
   "id": "9676f9c7",
   "metadata": {},
   "outputs": [
    {
     "name": "stdout",
     "output_type": "stream",
     "text": [
      "['abb', 'ab', 'abb', 'abbb', 'ab']\n"
     ]
    }
   ],
   "source": [
    "# 3) Write a Python program that matches a string that has an 'a' followed by one or more b's\n",
    "aq = re.findall('ab+', str2)\n",
    "print(aq)"
   ]
  },
  {
   "cell_type": "code",
   "execution_count": 27,
   "id": "f466551a",
   "metadata": {},
   "outputs": [
    {
     "name": "stdout",
     "output_type": "stream",
     "text": [
      "['a', 'a', 'a', 'ab', 'a', 'a', 'ab', 'ab', 'ab', 'ab']\n"
     ]
    }
   ],
   "source": [
    "# 4) Write a Python program that matches a string that has an 'a' followed by zero or one 'b'\n",
    "ar = re.findall('ab?', str2)\n",
    "print(ar)"
   ]
  },
  {
   "cell_type": "code",
   "execution_count": 28,
   "id": "75ca68e6",
   "metadata": {},
   "outputs": [
    {
     "name": "stdout",
     "output_type": "stream",
     "text": [
      "['abbb']\n"
     ]
    }
   ],
   "source": [
    "# 5) Write a Python program that matches a string that has an 'a' followed by three 'b'\n",
    "at = re.findall('ab{3}', str2)\n",
    "print(at)"
   ]
  },
  {
   "cell_type": "code",
   "execution_count": 29,
   "id": "59c05f68",
   "metadata": {},
   "outputs": [
    {
     "name": "stdout",
     "output_type": "stream",
     "text": [
      "['abb', 'abb', 'abbb']\n"
     ]
    }
   ],
   "source": [
    "# 6) Write a Python program that matches a string that has an 'a' followed by two to three 'b'.\n",
    "au = re.findall('ab{2,3}', str2)\n",
    "print(au)"
   ]
  },
  {
   "cell_type": "code",
   "execution_count": 30,
   "id": "50c01fe9",
   "metadata": {},
   "outputs": [
    {
     "name": "stdout",
     "output_type": "stream",
     "text": [
      "['ab_']\n"
     ]
    }
   ],
   "source": [
    "# 7) Write a Python program to find sequences of lowercase letters joined with a underscore.\n",
    "aw = re.findall('[a-z]+_[a-z]*', str2)\n",
    "print(aw)"
   ]
  },
  {
   "cell_type": "code",
   "execution_count": 31,
   "id": "1d33d2f0",
   "metadata": {},
   "outputs": [
    {
     "name": "stdout",
     "output_type": "stream",
     "text": [
      "['There', 'Bee']\n"
     ]
    }
   ],
   "source": [
    "# 8) Write a Python program to find the sequences of one upper case letter followed by lower case letters.\n",
    "az = re.findall('[A-Z][a-z]+', str2)\n",
    "print(az)"
   ]
  },
  {
   "cell_type": "code",
   "execution_count": 32,
   "id": "a8cf63e6",
   "metadata": {},
   "outputs": [],
   "source": [
    "# 9) Write a Python program that matches a string that has an 'a' followed by anything, ending in 'b'.\n",
    "# 10) Write a Python program that matches a word at the beginning of a string.\n",
    "# 11) Write a Python program that matches a word at the end of string, with optional punctuation.\n",
    "# 12) Write a Python program that matches a word containing 'z'"
   ]
  },
  {
   "cell_type": "code",
   "execution_count": null,
   "id": "a71dc667",
   "metadata": {},
   "outputs": [],
   "source": []
  }
 ],
 "metadata": {
  "kernelspec": {
   "display_name": "venv",
   "language": "python",
   "name": "python3"
  },
  "language_info": {
   "codemirror_mode": {
    "name": "ipython",
    "version": 3
   },
   "file_extension": ".py",
   "mimetype": "text/x-python",
   "name": "python",
   "nbconvert_exporter": "python",
   "pygments_lexer": "ipython3",
   "version": "3.10.11"
  }
 },
 "nbformat": 4,
 "nbformat_minor": 5
}
