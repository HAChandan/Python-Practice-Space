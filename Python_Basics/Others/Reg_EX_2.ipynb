{
 "cells": [
  {
   "cell_type": "code",
   "execution_count": 3,
   "id": "969edc49",
   "metadata": {},
   "outputs": [
    {
     "name": "stdout",
     "output_type": "stream",
     "text": [
      "['i', 'i', 'i']\n",
      "[]\n"
     ]
    }
   ],
   "source": [
    "# Regular expression or RegEx module is used to\n",
    "# access information in the string or to clean\n",
    "# RegEx is used to check if a string contain specific search pattern or not\n",
    "# RegEx is a sequence of characters that contain a search pattern\n",
    "\n",
    "import re\n",
    "str = \"Prime Intuit - Niranjan * Mahesh - 7204251901-90days\"\n",
    "\n",
    "# find all function takes 2 arguments (\"Pattern\", String)\n",
    "# and returns all occurrence of the pattern as a list, in case of no match returns empty list\n",
    "a = re.findall(\"i\", str) # Match\n",
    "print(a)\n",
    "b = re.findall(\"z\", str) # No-Match\n",
    "print(b)"
   ]
  },
  {
   "cell_type": "code",
   "execution_count": 4,
   "id": "526ee9fa",
   "metadata": {},
   "outputs": [
    {
     "name": "stdout",
     "output_type": "stream",
     "text": [
      "Start function returns starting index 13\n",
      "Span function returns starting and ending index (13, 14)\n",
      "Span function returns starting and ending index (15, 17)\n",
      "String function returns entire string :  Prime Intuit - Niranjan * Mahesh - 7204251901-90days\n"
     ]
    }
   ],
   "source": [
    "# Search function takes 2 arguments (\"Pattern\", String)\n",
    "# Search Function returns a search object for first instance of the pattern,\n",
    "# which can be used along with functions\n",
    "# start, span and string\n",
    "# search instance will give the first instance\n",
    "c = re.search(\"-\", str)\n",
    "print(\"Start function returns starting index\", c.start())\n",
    "print(\"Span function returns starting and ending index\", c.span())\n",
    "d = re.search(\"Ni\", str)\n",
    "print(\"Span function returns starting and ending index\", d.span())\n",
    "print(\"String function returns entire string : \", c.string)"
   ]
  },
  {
   "cell_type": "code",
   "execution_count": 5,
   "id": "3899f5f7",
   "metadata": {},
   "outputs": [
    {
     "name": "stdout",
     "output_type": "stream",
     "text": [
      "['Prime', 'Intuit', '-', 'Niranjan', '*', 'Mahesh', '-', '7204251901-90days']\n",
      "['Prime Intuit ', ' Niranjan * Mahesh ', ' 7204251901', '90days']\n"
     ]
    }
   ],
   "source": [
    "# split function is used to split the string based on given pattern\n",
    "e = re.split(\" \", str)\n",
    "print(e)\n",
    "f = re.split(\"-\", str)\n",
    "print(f)"
   ]
  },
  {
   "cell_type": "code",
   "execution_count": 6,
   "metadata": {},
   "outputs": [
    {
     "name": "stdout",
     "output_type": "stream",
     "text": [
      "Prime Intuit ** Niranjan * Mahesh ** 7204251901**90days\n",
      "Prime Intuit ** Niranjan * Mahesh ** 7204251901-90days\n"
     ]
    }
   ],
   "source": [
    "# sub / substitute function is used to replace a pattern with a given string\n",
    "# count is a optional argument to tell how many replacement we want\n",
    "\n",
    "g = re.sub(\"-\", \"**\", str)\n",
    "print(g)\n",
    "h = re.sub(\"-\", \"**\", str, 2)\n",
    "print(h)"
   ]
  },
  {
   "cell_type": "code",
   "execution_count": 7,
   "id": "e9f471ee",
   "metadata": {},
   "outputs": [
    {
     "name": "stdout",
     "output_type": "stream",
     "text": [
      "name5\n",
      "\t name5\n",
      "\\t name5\n"
     ]
    }
   ],
   "source": [
    "# Python raw string is created by prefixing a string literal with 'r' or 'R'.\n",
    "# Python raw string treats backslash (\\) as a literal character\n",
    "\n",
    "print(\"name5\")\n",
    "print(\"\\t name5\")\n",
    "print(r\"\\t name5\")"
   ]
  },
  {
   "cell_type": "code",
   "execution_count": 8,
   "id": "104923f0",
   "metadata": {},
   "outputs": [
    {
     "name": "stdout",
     "output_type": "stream",
     "text": [
      "['a', 'b', 'c', '.', 'c', 'o', 'm', ' ', '2', '5', '-', '6', '5', '-', '6', '4', ' ', '7', '7', ' ', ' ', ' ']\n"
     ]
    }
   ],
   "source": [
    "# Meta Characters (Need to be escaped):\n",
    "# . ^ $ * + ? {} [] \\ | ()\n",
    "\n",
    "# .(Dot)\n",
    "# Any Characters Except new Line\n",
    "\n",
    "s1 = \"abc.com 25-65-64 77   \"\n",
    "a1 = re.findall(r\".\", s1)\n",
    "print(a1)\n",
    "\n",
    "# Tab is considered as three spaces"
   ]
  },
  {
   "cell_type": "code",
   "execution_count": 9,
   "id": "2c65e460",
   "metadata": {},
   "outputs": [
    {
     "name": "stdout",
     "output_type": "stream",
     "text": [
      "['a', 'b', 'c', '.', 'c', 'o', 'm', 'd', 'o', 'g', '.', '5', 'c', 'a', 't', '.', '8']\n"
     ]
    }
   ],
   "source": [
    "s111 = '''abc.com\n",
    "dog.5\n",
    "cat.8'''\n",
    "a111 = re.findall(r\".\", s111)\n",
    "print(a111)\n",
    "\n",
    "# Here new line is not considered"
   ]
  },
  {
   "cell_type": "code",
   "execution_count": 10,
   "id": "56a707d7",
   "metadata": {},
   "outputs": [
    {
     "name": "stdout",
     "output_type": "stream",
     "text": [
      "['2', '5', '6', '5', '6', '4', '7', '7']\n"
     ]
    }
   ],
   "source": [
    "# \\d\n",
    "# Returns digit(0-9)\n",
    "a1 = re.findall(r\"\\d\", s1)\n",
    "print(a1)"
   ]
  },
  {
   "cell_type": "code",
   "execution_count": 11,
   "id": "af23cc22",
   "metadata": {},
   "outputs": [
    {
     "name": "stdout",
     "output_type": "stream",
     "text": [
      "['25', '65', '64', '77']\n"
     ]
    }
   ],
   "source": [
    "a111 = re.findall(r\"\\d{2}\", s1)\n",
    "print(a111)"
   ]
  },
  {
   "cell_type": "code",
   "execution_count": 12,
   "id": "f5770f67",
   "metadata": {},
   "outputs": [
    {
     "name": "stdout",
     "output_type": "stream",
     "text": [
      "['90days']\n",
      "['72', '04', '25', '19', '01', '90']\n",
      "['72042', '51901']\n"
     ]
    }
   ],
   "source": [
    "str = \"Prime Intuit - Niranjan * Mahesh - 7204251901-90days\"\n",
    "ab = re.findall(\"\\d{2}d...\", str)\n",
    "print(ab)\n",
    "\n",
    "ac = re.findall(\"\\d{2}\", str)\n",
    "print(ac)\n",
    "\n",
    "ad = re.findall(\"\\d{5}\", str)\n",
    "print(ad)"
   ]
  },
  {
   "cell_type": "code",
   "execution_count": 13,
   "id": "d7dc8890",
   "metadata": {},
   "outputs": [
    {
     "name": "stdout",
     "output_type": "stream",
     "text": [
      "['a', 'b', 'c', ' ', ' ', 'a', 'b', 'c', '.', 'c', 'o', 'm', ' ', 'a', 'h', '#', '$', '^', ' ', '-', '-']\n"
     ]
    }
   ],
   "source": [
    "\n",
    "# \\D\n",
    "# Returns every characters except digit (0-9)\n",
    "s2 = \"abc  abc.com ah#$^ 986-987-546\"\n",
    "a2 = re.findall(r\"\\D\", s2)\n",
    "print(a2)\n"
   ]
  },
  {
   "cell_type": "code",
   "execution_count": 14,
   "id": "c5c40e4e",
   "metadata": {},
   "outputs": [
    {
     "name": "stdout",
     "output_type": "stream",
     "text": [
      "['The Lion', ' is the ', 'King of ', ' But the', ' Tiger$&', ' more St', ' and pow']\n"
     ]
    }
   ],
   "source": [
    "\n",
    "s202 = '''The Lion785 is the King of Jungle2658 But the Tiger$&% is786 more Stronger256 and powerful'''\n",
    "a202 = re.findall(r\"\\D{8}\", s202)\n",
    "print(a202)"
   ]
  },
  {
   "cell_type": "code",
   "execution_count": 15,
   "id": "c7a7e9fc",
   "metadata": {},
   "outputs": [
    {
     "name": "stdout",
     "output_type": "stream",
     "text": [
      "['a', 'b', 'c', 'A', '_', 'J', '_', 'D', 'L', '5', '4', '6', '9', '8', '9', '8', '6', '7', '7', '7', '7', '7']\n"
     ]
    }
   ],
   "source": [
    "\n",
    "# \\w\n",
    "# Returns Word Character (a-z, A-Z, 0-9, _)\n",
    "# It Neglects special character except underscore\n",
    "\n",
    "s3 = \"abc A_J_DL546@#$ 98-98-677-777\"\n",
    "a3 = re.findall(r\"\\w\", s3)\n",
    "print(a3)"
   ]
  },
  {
   "cell_type": "code",
   "execution_count": 16,
   "id": "adcc2d19",
   "metadata": {},
   "outputs": [
    {
     "name": "stdout",
     "output_type": "stream",
     "text": [
      "[' ', '@', '#', '$', ' ', '-', '-', '-']\n"
     ]
    }
   ],
   "source": [
    "\n",
    "# \\W\n",
    "# Returns Not Word Character, all other than (a-z, A-Z, 0-9, _)\n",
    "\n",
    "s4 = \"abc A_J_DL546@#$ 98-98-677-777\"\n",
    "a4 = re.findall(r\"\\W\", s4)\n",
    "print(a4)\n"
   ]
  },
  {
   "cell_type": "code",
   "execution_count": 17,
   "id": "484f4676",
   "metadata": {},
   "outputs": [
    {
     "name": "stdout",
     "output_type": "stream",
     "text": [
      "[' ', ' ', '\\n', '\\n']\n"
     ]
    }
   ],
   "source": [
    "\n",
    "# \\s\n",
    "# Returns Whitespace (space, tab, newline)\n",
    "\n",
    "s5 = '''ac 6@$ 77-77\n",
    "ad\n",
    "54gg'''\n",
    "a5 = re.findall(r\"\\s\", s5)\n",
    "print(a5)"
   ]
  },
  {
   "cell_type": "code",
   "execution_count": 18,
   "id": "a7c2b1c0",
   "metadata": {},
   "outputs": [
    {
     "name": "stdout",
     "output_type": "stream",
     "text": [
      "['a', 'c', '6', '@', '$', '7', '7', '-', '7', '7', 'a', 'd', '5', '4', 'g', 'g']\n"
     ]
    }
   ],
   "source": [
    "\n",
    "# \\S\n",
    "# Returns other than Whitespace (space, tab, newline)\n",
    "\n",
    "s6 = '''ac 6@$ 77-77\n",
    "ad\n",
    "54gg'''\n",
    "a6 = re.findall(r\"\\S\", s6)\n",
    "print(a6)"
   ]
  },
  {
   "cell_type": "code",
   "execution_count": 19,
   "id": "54901ad4",
   "metadata": {},
   "outputs": [
    {
     "name": "stdout",
     "output_type": "stream",
     "text": [
      "['abc', 'abc', 'abc']\n"
     ]
    }
   ],
   "source": [
    "\n",
    "# \\b\n",
    "# Word Boundary\n",
    "s7 = \"abc abc abc \"\n",
    "a7 = re.findall(r\"\\babc\", s7)\n",
    "print(a7)"
   ]
  },
  {
   "cell_type": "code",
   "execution_count": 20,
   "id": "317412b8",
   "metadata": {},
   "outputs": [
    {
     "name": "stdout",
     "output_type": "stream",
     "text": [
      "['abc', 'abc']\n"
     ]
    }
   ],
   "source": [
    "\n",
    "s8 = \"abc abc58abc\"\n",
    "a8 = re.findall(r\"\\babc\", s8)\n",
    "print(a8)\n"
   ]
  },
  {
   "cell_type": "code",
   "execution_count": 21,
   "id": "e83e8422",
   "metadata": {},
   "outputs": [
    {
     "name": "stdout",
     "output_type": "stream",
     "text": [
      "['abc', 'abc']\n"
     ]
    }
   ],
   "source": [
    "s9 = \"abc56 5abc665ab77\"\n",
    "a9 = re.findall(r\"\\babc\", s9)\n",
    "print(a8)"
   ]
  },
  {
   "cell_type": "code",
   "execution_count": 22,
   "id": "39b784ef",
   "metadata": {},
   "outputs": [
    {
     "name": "stdout",
     "output_type": "stream",
     "text": [
      "['abc']\n"
     ]
    }
   ],
   "source": [
    "\n",
    "# ^\n",
    "# Beginning of the string\n",
    "# ^ - Return a match if string starts with given pattern\n",
    "\n",
    "s10 = \"abc56 5abc665ab77\"\n",
    "a10 = re.findall(r\"^abc\", s10)\n",
    "print(a10)"
   ]
  },
  {
   "cell_type": "code",
   "execution_count": 23,
   "id": "5ae2663a",
   "metadata": {},
   "outputs": [
    {
     "name": "stdout",
     "output_type": "stream",
     "text": [
      "[]\n"
     ]
    }
   ],
   "source": [
    "\n",
    "s10 = \"Prime Intuit\"\n",
    "a10 = re.findall(r\"^ABD\", s10)\n",
    "print(a10)"
   ]
  },
  {
   "cell_type": "code",
   "execution_count": 24,
   "id": "eb000762",
   "metadata": {},
   "outputs": [
    {
     "name": "stdout",
     "output_type": "stream",
     "text": [
      "['Fi']\n"
     ]
    }
   ],
   "source": [
    "s10 = \"Finishing School\"\n",
    "a10 = re.findall(r\"^Fi\", s10)\n",
    "print(a10)"
   ]
  },
  {
   "cell_type": "code",
   "execution_count": 25,
   "id": "96deddc0",
   "metadata": {},
   "outputs": [
    {
     "name": "stdout",
     "output_type": "stream",
     "text": [
      "['7']\n"
     ]
    }
   ],
   "source": [
    "\n",
    "# $\n",
    "# End of the string\n",
    "# $ - Return a match if string ends with given pattern\n",
    "\n",
    "s11 = \"abc56 5abc665ab77\"\n",
    "a11 = re.findall(r\"7$\", s11)\n",
    "print(a11)"
   ]
  },
  {
   "cell_type": "code",
   "execution_count": 26,
   "id": "d11535a0",
   "metadata": {},
   "outputs": [
    {
     "name": "stdout",
     "output_type": "stream",
     "text": [
      "['it']\n"
     ]
    }
   ],
   "source": [
    "\n",
    "s12 = \"Prime Intuit\"\n",
    "a12 = re.findall(r\"it$\", s12)\n",
    "print(a12)"
   ]
  },
  {
   "cell_type": "code",
   "execution_count": 27,
   "id": "b3c2a622",
   "metadata": {},
   "outputs": [
    {
     "name": "stdout",
     "output_type": "stream",
     "text": [
      "[]\n"
     ]
    }
   ],
   "source": [
    "s13 = \"Finishing School\"\n",
    "a13 = re.findall(r\"U$\", s13)\n",
    "print(a13)"
   ]
  },
  {
   "cell_type": "code",
   "execution_count": 28,
   "id": "21602acd",
   "metadata": {},
   "outputs": [
    {
     "name": "stdout",
     "output_type": "stream",
     "text": [
      "['P', 'I']\n"
     ]
    }
   ],
   "source": [
    "# []\n",
    "# Matches the Characters in the brackets\n",
    "# [] - Returns a match if string contains patterns / characters specified (even if one character is matching)\n",
    "\n",
    "s14 = \"Prime Intuit\"\n",
    "a14 = re.findall(\"[PIx]\", s14)\n",
    "print(a14)"
   ]
  },
  {
   "cell_type": "code",
   "execution_count": 29,
   "id": "ce0e3688",
   "metadata": {},
   "outputs": [
    {
     "name": "stdout",
     "output_type": "stream",
     "text": [
      "['398_875_8452', '745*856*3256']\n"
     ]
    }
   ],
   "source": [
    "s15 = '''958-987-3254\n",
    "         398_875_8452\n",
    "         745*856*3256\n",
    "         '''\n",
    "a15 = re.findall(r\"\\d\\d\\d[_*]\\d\\d\\d[_*]\\d\\d\\d\\d\", s15)\n",
    "print(a15)"
   ]
  },
  {
   "cell_type": "code",
   "execution_count": 30,
   "id": "b317f609",
   "metadata": {},
   "outputs": [
    {
     "name": "stdout",
     "output_type": "stream",
     "text": [
      "['958-987-3254']\n"
     ]
    }
   ],
   "source": [
    "a16 = re.findall(r\"\\d\\d\\d[^_*]\\d\\d\\d[^_*]\\d\\d\\d\\d\", s15)\n",
    "print(a16)"
   ]
  },
  {
   "cell_type": "code",
   "execution_count": 31,
   "id": "eb00c5cb",
   "metadata": {},
   "outputs": [
    {
     "name": "stdout",
     "output_type": "stream",
     "text": [
      "[]\n"
     ]
    }
   ],
   "source": [
    "s17 = \"Prime Intuit\"\n",
    "a17 = re.findall(\"[jl]\", s17)\n",
    "print(a17)"
   ]
  },
  {
   "cell_type": "code",
   "execution_count": 32,
   "id": "1eed1609",
   "metadata": {},
   "outputs": [
    {
     "name": "stdout",
     "output_type": "stream",
     "text": [
      "['3254', '8452', '3256']\n"
     ]
    }
   ],
   "source": [
    "\n",
    "# {min, max}\n",
    "# Range of numbers (min, max)\n",
    "\n",
    "s19 = '''958-987-3254\n",
    "         398_875_8452\n",
    "         745*856*3256\n",
    "         '''\n",
    "a19 = re.findall(r\"\\d{4,5}\", s19)\n",
    "print(a19)"
   ]
  },
  {
   "cell_type": "code",
   "execution_count": 33,
   "id": "343954fc",
   "metadata": {},
   "outputs": [
    {
     "name": "stdout",
     "output_type": "stream",
     "text": [
      "['958', '987', '325', '398', '875', '845', '745', '856', '325']\n"
     ]
    }
   ],
   "source": [
    "a20 = re.findall(r\"\\d{3}\", s19)\n",
    "print(a20)"
   ]
  },
  {
   "cell_type": "code",
   "execution_count": 34,
   "id": "ddeb3291",
   "metadata": {},
   "outputs": [
    {
     "name": "stdout",
     "output_type": "stream",
     "text": [
      "['958-987-3254', '398_875_8452', '745*856*3256']\n"
     ]
    }
   ],
   "source": [
    "a21 = re.findall(r\"\\d{3,4}.\\d{3,4}.\\d{4,5}\", s19)\n",
    "print(a21)"
   ]
  },
  {
   "cell_type": "code",
   "execution_count": 35,
   "id": "26304a93",
   "metadata": {},
   "outputs": [
    {
     "name": "stdout",
     "output_type": "stream",
     "text": [
      "['', '', '', '', '', '', '', 'n', '', '', '', '', '']\n"
     ]
    }
   ],
   "source": [
    "# ?\n",
    "# Matches 0 or 1 characters\n",
    "str1 = \"Prime Intuit\"\n",
    "t2 = re.findall(\"n?\", str1)\n",
    "print(t2)"
   ]
  },
  {
   "cell_type": "code",
   "execution_count": 36,
   "id": "004516cf",
   "metadata": {},
   "outputs": [
    {
     "name": "stdout",
     "output_type": "stream",
     "text": [
      "['n']\n"
     ]
    }
   ],
   "source": [
    "t2 = re.findall(\"na?\", str1)\n",
    "print(t2)"
   ]
  },
  {
   "cell_type": "code",
   "execution_count": 37,
   "id": "36347b18",
   "metadata": {},
   "outputs": [
    {
     "name": "stdout",
     "output_type": "stream",
     "text": [
      "['', '', '', '', '', '', '', 'n', '', '', '', '', '']\n"
     ]
    }
   ],
   "source": [
    "# *\n",
    "# Matches 0 or more characters\n",
    "str1 = \"Prime Intuit\"\n",
    "t = re.findall(\"n*\", str1)\n",
    "print(t)"
   ]
  },
  {
   "cell_type": "code",
   "execution_count": 38,
   "id": "7c9af7ae",
   "metadata": {},
   "outputs": [
    {
     "name": "stdout",
     "output_type": "stream",
     "text": [
      "['', '', '', 'm', '', '', '', 'n', '', '', '', '', '']\n"
     ]
    }
   ],
   "source": [
    "r = re.findall(\"m*n*\", str1)\n",
    "print(r)"
   ]
  },
  {
   "cell_type": "code",
   "execution_count": 39,
   "id": "0b3f02ce",
   "metadata": {},
   "outputs": [
    {
     "name": "stdout",
     "output_type": "stream",
     "text": [
      "['na', 'na', 'na']\n"
     ]
    }
   ],
   "source": [
    "# +\n",
    "# Matches 1 or more characters\n",
    "str2 = \"bhavana meghana lalana\"\n",
    "s = re.findall(\"na+\", str2)\n",
    "print(s)"
   ]
  },
  {
   "cell_type": "code",
   "execution_count": 40,
   "id": "ae59b510",
   "metadata": {},
   "outputs": [
    {
     "name": "stdout",
     "output_type": "stream",
     "text": [
      "['Mr Smith', 'Mr Divya', 'Mr. T']\n"
     ]
    }
   ],
   "source": [
    "s25 = ''' Mr.Sachin\n",
    "          Mr Smith\n",
    "          Mr Divya\n",
    "          Mrs. Robinson\n",
    "          Mr. T'''\n",
    "a25 = re.findall(r\"Mr\\.?\\s[A-Z]\\w*\", s25)\n",
    "print(a25)"
   ]
  },
  {
   "cell_type": "code",
   "execution_count": 41,
   "id": "12a28202",
   "metadata": {},
   "outputs": [
    {
     "name": "stdout",
     "output_type": "stream",
     "text": [
      "['Mr Smith', 'Mr Divya', 'Mrs. Robinson', 'Mr. T']\n"
     ]
    }
   ],
   "source": [
    "s26 = ''' Mr.Sachin\n",
    "          Mr Smith\n",
    "          Mr Divya\n",
    "          Mrs. Robinson\n",
    "          Mr. T'''\n",
    "a26 = re.findall(r\"M[a-z]+\\.?\\s[A-Z]\\w*\", s26)\n",
    "print(a26)"
   ]
  },
  {
   "cell_type": "code",
   "execution_count": null,
   "id": "0614c0e2",
   "metadata": {},
   "outputs": [],
   "source": []
  }
 ],
 "metadata": {
  "kernelspec": {
   "display_name": "venv",
   "language": "python",
   "name": "python3"
  },
  "language_info": {
   "codemirror_mode": {
    "name": "ipython",
    "version": 3
   },
   "file_extension": ".py",
   "mimetype": "text/x-python",
   "name": "python",
   "nbconvert_exporter": "python",
   "pygments_lexer": "ipython3",
   "version": "3.10.11"
  }
 },
 "nbformat": 4,
 "nbformat_minor": 5
}
