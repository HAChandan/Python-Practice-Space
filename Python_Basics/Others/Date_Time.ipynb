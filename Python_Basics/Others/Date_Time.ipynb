{
 "cells": [
  {
   "cell_type": "code",
   "execution_count": 1,
   "id": "bd570a3b",
   "metadata": {},
   "outputs": [
    {
     "name": "stdout",
     "output_type": "stream",
     "text": [
      "Epoch timestamp value : 1750243640.8366706\n"
     ]
    }
   ],
   "source": [
    "import time\n",
    "\n",
    "# Time in secounds starts from 1970\n",
    "ball = time.time()\n",
    "print(\"Epoch timestamp value :\", ball)"
   ]
  },
  {
   "cell_type": "code",
   "execution_count": 2,
   "id": "045d9652",
   "metadata": {},
   "outputs": [
    {
     "name": "stdout",
     "output_type": "stream",
     "text": [
      "Local Time : time.struct_time(tm_year=2025, tm_mon=6, tm_mday=18, tm_hour=16, tm_min=17, tm_sec=20, tm_wday=2, tm_yday=169, tm_isdst=0)\n"
     ]
    }
   ],
   "source": [
    "bat = time.localtime(ball)\n",
    "print(\"Local Time :\", bat)"
   ]
  },
  {
   "cell_type": "code",
   "execution_count": 3,
   "id": "9cd2c009",
   "metadata": {},
   "outputs": [
    {
     "name": "stdout",
     "output_type": "stream",
     "text": [
      "Normal time format as in OS : Wed Jun 18 16:17:20 2025\n"
     ]
    }
   ],
   "source": [
    "wicket = time.ctime(ball)\n",
    "print(\"Normal time format as in OS :\", wicket)"
   ]
  },
  {
   "cell_type": "code",
   "execution_count": 4,
   "id": "77001688",
   "metadata": {},
   "outputs": [
    {
     "name": "stdout",
     "output_type": "stream",
     "text": [
      "ASCI format :  Wed Jun 18 16:17:20 2025\n"
     ]
    }
   ],
   "source": [
    "run = time.asctime(bat)\n",
    "print(\"ASCI format : \", run)"
   ]
  },
  {
   "cell_type": "code",
   "execution_count": 5,
   "id": "742aef1b",
   "metadata": {},
   "outputs": [
    {
     "name": "stdout",
     "output_type": "stream",
     "text": [
      "Current time 2025-06-18 16:18:30.591658\n",
      "Current year :  2025\n",
      "Current month :  6\n",
      "Current day :  18\n",
      "Current date :  2025-06-18\n",
      "Current hour :  16\n",
      "Current minute :  18\n",
      "Current second :  30\n",
      "Current microsecond :  591658\n"
     ]
    }
   ],
   "source": [
    "import datetime\n",
    "\n",
    "out = datetime.datetime.now()\n",
    "print(\"Current time\", out)\n",
    "print(\"Current year : \", out.year)\n",
    "print(\"Current month : \", out.month)\n",
    "print(\"Current day : \", out.day)\n",
    "print(\"Current date : \", out.date())\n",
    "print(\"Current hour : \", out.hour)\n",
    "print(\"Current minute : \", out.minute)\n",
    "print(\"Current second : \", out.second)\n",
    "print(\"Current microsecond : \", out.microsecond)"
   ]
  },
  {
   "cell_type": "code",
   "execution_count": 10,
   "id": "54c53bdb",
   "metadata": {},
   "outputs": [
    {
     "name": "stdout",
     "output_type": "stream",
     "text": [
      "Required date 2022-06-18 12:10:42.333657\n",
      "Required date 2022-10-10 12:10:42.333657\n"
     ]
    }
   ],
   "source": [
    "score1 = datetime.datetime(2022, 6, 18, 12, 10, 42, 333657)\n",
    "print(\"Required date\", score1)\n",
    "score2 = datetime.datetime(2022, 10, 10, 12, 10, 42, 333657)\n",
    "print(\"Required date\", score2)"
   ]
  },
  {
   "cell_type": "code",
   "execution_count": 11,
   "id": "fb4aa470",
   "metadata": {},
   "outputs": [
    {
     "name": "stdout",
     "output_type": "stream",
     "text": [
      "Difference of D1:  -1097 days, 19:52:11.741999\n",
      "Difference of D2:  -983 days, 19:52:11.741999\n",
      "Difference D2 - D1:  114 days, 0:00:00\n"
     ]
    }
   ],
   "source": [
    "difference1 = score1 - out\n",
    "print(\"Difference of D1: \", difference1)\n",
    "difference2 = score2 - out\n",
    "print(\"Difference of D2: \", difference2)\n",
    "difference3 = difference2 - difference1\n",
    "print(\"Difference D2 - D1: \", difference3)"
   ]
  },
  {
   "cell_type": "code",
   "execution_count": 12,
   "id": "99f27051",
   "metadata": {},
   "outputs": [
    {
     "name": "stdout",
     "output_type": "stream",
     "text": [
      "25\n"
     ]
    }
   ],
   "source": [
    "print((out.day)+ 7)"
   ]
  },
  {
   "cell_type": "code",
   "execution_count": 13,
   "id": "3be1c0a0",
   "metadata": {},
   "outputs": [
    {
     "name": "stdout",
     "output_type": "stream",
     "text": [
      "Week day short version - Wed\n"
     ]
    }
   ],
   "source": [
    "# Week day short version\n",
    "print(\"Week day short version -\",out.strftime(\"%a\"))"
   ]
  },
  {
   "cell_type": "code",
   "execution_count": 14,
   "id": "9339a1f2",
   "metadata": {},
   "outputs": [
    {
     "name": "stdout",
     "output_type": "stream",
     "text": [
      "Week day full version - Wednesday\n"
     ]
    }
   ],
   "source": [
    "# Week day full version\n",
    "print(\"Week day full version -\",out.strftime(\"%A\"))"
   ]
  },
  {
   "cell_type": "code",
   "execution_count": 15,
   "id": "fb017c47",
   "metadata": {},
   "outputs": [
    {
     "name": "stdout",
     "output_type": "stream",
     "text": [
      "Week day as number # 0 as Sunday - 3\n"
     ]
    }
   ],
   "source": [
    "# Week day as number # 0 as Sunday\n",
    "print(\"Week day as number # 0 as Sunday -\",out.strftime(\"%w\"))"
   ]
  },
  {
   "cell_type": "code",
   "execution_count": 16,
   "id": "6f5fd0a6",
   "metadata": {},
   "outputs": [
    {
     "name": "stdout",
     "output_type": "stream",
     "text": [
      "Day of month - 18\n"
     ]
    }
   ],
   "source": [
    "# Day of month\n",
    "print(\"Day of month -\",out.strftime(\"%d\"))"
   ]
  },
  {
   "cell_type": "code",
   "execution_count": 17,
   "id": "94d66d2b",
   "metadata": {},
   "outputs": [
    {
     "name": "stdout",
     "output_type": "stream",
     "text": [
      "Month Name short version - Jun\n"
     ]
    }
   ],
   "source": [
    "# Month Name short version\n",
    "print(\"Month Name short version -\",out.strftime(\"%b\"))"
   ]
  },
  {
   "cell_type": "code",
   "execution_count": 18,
   "id": "8f3d84d6",
   "metadata": {},
   "outputs": [
    {
     "name": "stdout",
     "output_type": "stream",
     "text": [
      "Month Name full version - June\n"
     ]
    }
   ],
   "source": [
    "# Month Name full version\n",
    "print(\"Month Name full version -\",out.strftime(\"%B\"))"
   ]
  },
  {
   "cell_type": "code",
   "execution_count": 19,
   "id": "cae97dda",
   "metadata": {},
   "outputs": [
    {
     "name": "stdout",
     "output_type": "stream",
     "text": [
      "Month as a number - 06\n"
     ]
    }
   ],
   "source": [
    "# Month as a number\n",
    "print(\"Month as a number -\",out.strftime(\"%m\"))"
   ]
  },
  {
   "cell_type": "code",
   "execution_count": 20,
   "id": "7fa6d81e",
   "metadata": {},
   "outputs": [
    {
     "name": "stdout",
     "output_type": "stream",
     "text": [
      "Year Short version - 25\n"
     ]
    }
   ],
   "source": [
    "# Year Short version\n",
    "print(\"Year Short version -\",out.strftime(\"%y\"))"
   ]
  },
  {
   "cell_type": "code",
   "execution_count": 21,
   "id": "9fb8ba2c",
   "metadata": {},
   "outputs": [
    {
     "name": "stdout",
     "output_type": "stream",
     "text": [
      "Year Full version - 2025\n"
     ]
    }
   ],
   "source": [
    "# Year Full version\n",
    "print(\"Year Full version -\",out.strftime(\"%Y\"))"
   ]
  },
  {
   "cell_type": "code",
   "execution_count": 22,
   "id": "ca499c10",
   "metadata": {},
   "outputs": [
    {
     "name": "stdout",
     "output_type": "stream",
     "text": [
      "Minute - 18\n"
     ]
    }
   ],
   "source": [
    "# Minute\n",
    "print(\"Minute -\",out.strftime(\"%M\"))"
   ]
  },
  {
   "cell_type": "code",
   "execution_count": 23,
   "id": "0954341e",
   "metadata": {},
   "outputs": [
    {
     "name": "stdout",
     "output_type": "stream",
     "text": [
      "Second - 30\n"
     ]
    }
   ],
   "source": [
    "# Second\n",
    "print(\"Second -\",out.strftime(\"%S\"))"
   ]
  },
  {
   "cell_type": "code",
   "execution_count": 24,
   "id": "3c80e3fa",
   "metadata": {},
   "outputs": [
    {
     "name": "stdout",
     "output_type": "stream",
     "text": [
      "Hour - 24-Hour Format - 16\n"
     ]
    }
   ],
   "source": [
    "# Hour - 24-Hour Format\n",
    "print(\"Hour - 24-Hour Format -\",out.strftime(\"%H\"))"
   ]
  },
  {
   "cell_type": "code",
   "execution_count": 25,
   "id": "b317f639",
   "metadata": {},
   "outputs": [
    {
     "name": "stdout",
     "output_type": "stream",
     "text": [
      "Hour - 12-Hour Format - 04\n"
     ]
    }
   ],
   "source": [
    "# Hour - 12-Hour Format\n",
    "print(\"Hour - 12-Hour Format -\",out.strftime(\"%I\"))"
   ]
  },
  {
   "cell_type": "code",
   "execution_count": 26,
   "id": "fd529208",
   "metadata": {},
   "outputs": [
    {
     "name": "stdout",
     "output_type": "stream",
     "text": [
      "dd-mm-yy HH:MM:SS : - 18-06-25 16:18:30\n",
      "dd-mm-yy HH:MM:SS : - 18/June/2025 16:18:30\n"
     ]
    }
   ],
   "source": [
    "# Represent Dates in numerical format\n",
    "print(\"dd-mm-yy HH:MM:SS : -\", out.strftime(\"%d-%m-%y %H:%M:%S\"))\n",
    "print(\"dd-mm-yy HH:MM:SS : -\", out.strftime(\"%d/%B/%Y %H:%M:%S\"))"
   ]
  },
  {
   "cell_type": "code",
   "execution_count": 27,
   "id": "088fe110",
   "metadata": {},
   "outputs": [
    {
     "name": "stdout",
     "output_type": "stream",
     "text": [
      "    August 2021\n",
      "Mo Tu We Th Fr Sa Su\n",
      "                   1\n",
      " 2  3  4  5  6  7  8\n",
      " 9 10 11 12 13 14 15\n",
      "16 17 18 19 20 21 22\n",
      "23 24 25 26 27 28 29\n",
      "30 31\n",
      "\n",
      "0\n"
     ]
    }
   ],
   "source": [
    "import calendar\n",
    "print(calendar.month(2021, 8))\n",
    "print(calendar.firstweekday())"
   ]
  },
  {
   "cell_type": "code",
   "execution_count": 28,
   "id": "d4c978ea",
   "metadata": {},
   "outputs": [
    {
     "name": "stdout",
     "output_type": "stream",
     "text": [
      "0\n"
     ]
    }
   ],
   "source": [
    "print(calendar.firstweekday())"
   ]
  },
  {
   "cell_type": "code",
   "execution_count": 29,
   "id": "cdd7954a",
   "metadata": {},
   "outputs": [
    {
     "name": "stdout",
     "output_type": "stream",
     "text": [
      "    October 2025\n",
      "Mo Tu We Th Fr Sa Su\n",
      "       1  2  3  4  5\n",
      " 6  7  8  9 10 11 12\n",
      "13 14 15 16 17 18 19\n",
      "20 21 22 23 24 25 26\n",
      "27 28 29 30 31\n",
      "\n",
      "0\n"
     ]
    }
   ],
   "source": [
    "print(calendar.month(2025, 10))\n",
    "print(calendar.firstweekday())"
   ]
  },
  {
   "cell_type": "code",
   "execution_count": null,
   "id": "fb72a739",
   "metadata": {},
   "outputs": [],
   "source": []
  }
 ],
 "metadata": {
  "kernelspec": {
   "display_name": "venv",
   "language": "python",
   "name": "python3"
  },
  "language_info": {
   "codemirror_mode": {
    "name": "ipython",
    "version": 3
   },
   "file_extension": ".py",
   "mimetype": "text/x-python",
   "name": "python",
   "nbconvert_exporter": "python",
   "pygments_lexer": "ipython3",
   "version": "3.10.11"
  }
 },
 "nbformat": 4,
 "nbformat_minor": 5
}
