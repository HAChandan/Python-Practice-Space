{
 "cells": [
  {
   "cell_type": "code",
   "execution_count": 2,
   "id": "a85ca36e",
   "metadata": {},
   "outputs": [
    {
     "name": "stdout",
     "output_type": "stream",
     "text": [
      "apple\n",
      "banana\n",
      "grapes\n",
      "jackfruit\n",
      "mango\n",
      "orange\n",
      "\n"
     ]
    }
   ],
   "source": [
    "# For loop\n",
    "\n",
    "# Example - 1\n",
    "box1 = [\"apple\", \"banana\", \"grapes\", \"jackfruit\", \"mango\", \"orange\"]\n",
    "for fruits in box1:\n",
    "    print(fruits)\n",
    "print()"
   ]
  },
  {
   "cell_type": "code",
   "execution_count": 3,
   "id": "49852e76",
   "metadata": {},
   "outputs": [
    {
     "name": "stdout",
     "output_type": "stream",
     "text": [
      "2\n",
      "4\n",
      "6\n",
      "8\n",
      "10\n",
      "\n"
     ]
    }
   ],
   "source": [
    "# Example - 2\n",
    "box2 = [1, 2, 3, 4, 5, 6, 7, 8, 9, 10]\n",
    "for num in box2:\n",
    "    if num % 2 == 0:\n",
    "        print(num)\n",
    "print()"
   ]
  },
  {
   "cell_type": "code",
   "execution_count": 4,
   "id": "33e19e7e",
   "metadata": {},
   "outputs": [
    {
     "name": "stdout",
     "output_type": "stream",
     "text": [
      "1 3 5 7 9 \n"
     ]
    }
   ],
   "source": [
    "# Example - 3\n",
    "box2 = [1, 2, 3, 4, 5, 6, 7, 8, 9, 10]\n",
    "for num in box2:\n",
    "    if num % 2 != 0:\n",
    "        print(num, end = \" \") # Here we use end to give space after printing a number and don't go for next line\n",
    "print()"
   ]
  },
  {
   "cell_type": "code",
   "execution_count": 5,
   "id": "a90b22cf",
   "metadata": {},
   "outputs": [
    {
     "name": "stdout",
     "output_type": "stream",
     "text": [
      "[10, 20, 30, 40, 50]\n"
     ]
    }
   ],
   "source": [
    "# Example - 4\n",
    "len = int(input(\"Enter the length of the list : \"))\n",
    "l4 = []\n",
    "for num in range(len):\n",
    "    item = int(input(\"Enter the list element : \"))\n",
    "    l4.append(item)\n",
    "print(l4)"
   ]
  },
  {
   "cell_type": "code",
   "execution_count": 6,
   "id": "c6268f2c",
   "metadata": {},
   "outputs": [
    {
     "name": "stdout",
     "output_type": "stream",
     "text": [
      "Even number [2, 4, 6, 8, 10]\n",
      "Odd number [1, 3, 5, 7, 9]\n"
     ]
    }
   ],
   "source": [
    "# Example - 5\n",
    "box2 = [1, 2, 3, 4, 5, 6, 7, 8, 9, 10]\n",
    "l1 = []\n",
    "l2 = []\n",
    "for num in box2:\n",
    "    if num % 2 == 0:\n",
    "        l1.append(num)\n",
    "    else:\n",
    "        l2.append(num)\n",
    "print(\"Even number\", l1)\n",
    "print(\"Odd number\", l2)"
   ]
  },
  {
   "cell_type": "code",
   "execution_count": 14,
   "id": "47f31d96",
   "metadata": {},
   "outputs": [
    {
     "name": "stdout",
     "output_type": "stream",
     "text": [
      "Prime number\n"
     ]
    }
   ],
   "source": [
    "# Example - 6\n",
    "num2 = int(input(\"enter a number: \"))\n",
    "if num2 > 1:\n",
    "    for i in range(2, num2):\n",
    "        if num2 % i == 0:\n",
    "            print(\"Not a prime number\")\n",
    "            break\n",
    "    else:\n",
    "        print(\"Prime number\")\n",
    "else:\n",
    "    print(\"Not a prime number\")"
   ]
  },
  {
   "cell_type": "code",
   "execution_count": 10,
   "id": "72873d36",
   "metadata": {},
   "outputs": [
    {
     "name": "stdout",
     "output_type": "stream",
     "text": [
      "[10, 20, 30, 40, 50]\n"
     ]
    }
   ],
   "source": [
    "# While loop\n",
    "\n",
    "# initializing x as 1\n",
    "length = int(input(\"Enter the length of the list : \"))\n",
    "l3 = []\n",
    "x = 1\n",
    "while(x <= length):\n",
    "    item = int(input(\"Enter the list element : \"))\n",
    "    l3.append(item)\n",
    "    x = x + 1\n",
    "print(l3)"
   ]
  },
  {
   "cell_type": "code",
   "execution_count": 11,
   "id": "203149b6",
   "metadata": {},
   "outputs": [
    {
     "name": "stdout",
     "output_type": "stream",
     "text": [
      "[10, 20]\n"
     ]
    }
   ],
   "source": [
    "# initializing x as 0\n",
    "length = int(input(\"Enter the length of the list : \"))\n",
    "l3 = []\n",
    "x = 0\n",
    "while(x < length):\n",
    "    item = int(input(\"Enter the list element : \"))\n",
    "    l3.append(item)\n",
    "    x = x + 1\n",
    "print(l3)"
   ]
  },
  {
   "cell_type": "code",
   "execution_count": 18,
   "id": "e9f7e8e7",
   "metadata": {},
   "outputs": [
    {
     "name": "stdout",
     "output_type": "stream",
     "text": [
      "25 Is not a prime Number\n"
     ]
    }
   ],
   "source": [
    "# Check number is prime or not using while loop method - 1\n",
    "\n",
    "num2 = int(input(\"enter a number: \"))\n",
    "n = 2\n",
    "flag = 0 # Asuming the number is prime\n",
    "while n < num2:\n",
    "    if num2 % n == 0:\n",
    "        flag = 1\n",
    "        break\n",
    "    n += 1\n",
    "if flag == 0 and num2 != 0 and num2 != 1:\n",
    "    print(num2, \"Is a prime Number\")\n",
    "else:\n",
    "    print(num2, \"Is not a prime Number\")"
   ]
  },
  {
   "cell_type": "code",
   "execution_count": 20,
   "id": "8316ba62",
   "metadata": {},
   "outputs": [
    {
     "name": "stdout",
     "output_type": "stream",
     "text": [
      "24 Is is not a prime Number\n"
     ]
    }
   ],
   "source": [
    "# Check number is prime or not using while loop method - 2\n",
    "\n",
    "check_number = int(input(\"enter a number: \"))\n",
    "n = 2\n",
    "is_prime = True\n",
    "while n < check_number:\n",
    "    if check_number % n == 0:\n",
    "        is_prime = False\n",
    "        # comes out for the loop if check_number is divisible by 2 or divisible by any numbers between 2 and check_number\n",
    "        break\n",
    "    n += 1\n",
    "if check_number <= 1:\n",
    "    print(f\"{check_number} Is is not a prime Number\")\n",
    "elif is_prime:\n",
    "    print(f\"{check_number} Is a prime Number\")\n",
    "else:\n",
    "    print(f\"{check_number} Is is not a prime Number\")"
   ]
  },
  {
   "cell_type": "code",
   "execution_count": 21,
   "id": "5239c0d2",
   "metadata": {},
   "outputs": [
    {
     "name": "stdout",
     "output_type": "stream",
     "text": [
      "6357\n",
      "6 3 5 7 \n",
      "100\n",
      "4\n",
      "66\n"
     ]
    }
   ],
   "source": [
    "num = 7536\n",
    "num = str(num)\n",
    "num1 = num[::-1]\n",
    "print(num1)\n",
    "for i in num1:\n",
    "    print(int(i), end = \" \")\n",
    "\n",
    "print()\n",
    "\n",
    "box1 = [2,4,6,8,10]\n",
    "box2 = [22,44,66,88,100]\n",
    "\n",
    "a = box2[4]\n",
    "print(a)\n",
    "x = box1.index(10)\n",
    "print(x)\n",
    "z = box2[box1.index(6)]\n",
    "print(z)"
   ]
  },
  {
   "cell_type": "code",
   "execution_count": null,
   "id": "c1148b17",
   "metadata": {},
   "outputs": [],
   "source": []
  }
 ],
 "metadata": {
  "kernelspec": {
   "display_name": "venv",
   "language": "python",
   "name": "python3"
  },
  "language_info": {
   "codemirror_mode": {
    "name": "ipython",
    "version": 3
   },
   "file_extension": ".py",
   "mimetype": "text/x-python",
   "name": "python",
   "nbconvert_exporter": "python",
   "pygments_lexer": "ipython3",
   "version": "3.10.11"
  }
 },
 "nbformat": 4,
 "nbformat_minor": 5
}
