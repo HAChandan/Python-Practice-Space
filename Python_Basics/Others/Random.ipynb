{
 "cells": [
  {
   "cell_type": "code",
   "execution_count": 1,
   "id": "525f69fb",
   "metadata": {},
   "outputs": [
    {
     "name": "stdout",
     "output_type": "stream",
     "text": [
      "Random 0.30372312230958765\n"
     ]
    }
   ],
   "source": [
    "import random\n",
    "# Random functions\n",
    "# random.seed(100)\n",
    "# Seed method is used to initialize the random number generator\n",
    "# Seed function is used to save the state of the current random function\n",
    "\n",
    "# Random : Returns random float number between 0 to 1\n",
    "rand = random.random()\n",
    "print(\"Random\", rand)"
   ]
  },
  {
   "cell_type": "code",
   "execution_count": 2,
   "id": "4774fdf6",
   "metadata": {},
   "outputs": [
    {
     "name": "stdout",
     "output_type": "stream",
     "text": [
      "Uniform 7.960132316833714\n"
     ]
    }
   ],
   "source": [
    "# Uniform : Returns random float number between a to b\n",
    "lion = random.uniform(2, 8)\n",
    "print(\"Uniform\", lion)"
   ]
  },
  {
   "cell_type": "code",
   "execution_count": 3,
   "metadata": {},
   "outputs": [
    {
     "name": "stdout",
     "output_type": "stream",
     "text": [
      "Randint 2\n"
     ]
    }
   ],
   "source": [
    "# Randint : Returns random integer number between a to b\n",
    "tiger = random.randint(1, 6)\n",
    "print(\"Randint\", tiger)"
   ]
  },
  {
   "cell_type": "code",
   "execution_count": 4,
   "id": "c0f67b7f",
   "metadata": {},
   "outputs": [],
   "source": [
    "# Getrandbits : Returns the Integer number from the min decimal value and max decimal\n",
    "# value that a given bits k can take Takes bits as an input and returns the random\n",
    "# integer number that the bits can store"
   ]
  },
  {
   "cell_type": "code",
   "execution_count": 5,
   "id": "34c71b20",
   "metadata": {},
   "outputs": [
    {
     "name": "stdout",
     "output_type": "stream",
     "text": [
      "Getrandbits 18\n"
     ]
    }
   ],
   "source": [
    "deer = random.getrandbits(5)\n",
    "print(\"Getrandbits\", deer)\n"
   ]
  },
  {
   "cell_type": "code",
   "execution_count": 6,
   "id": "b92b2076",
   "metadata": {},
   "outputs": [
    {
     "name": "stdout",
     "output_type": "stream",
     "text": [
      "Choice 6\n"
     ]
    }
   ],
   "source": [
    "# Choice : Returns random number from the sequence passed\n",
    "l1 = [1, 2, 3, 4, 5, 6, 7, 8, 9]\n",
    "beer = random.choice(l1)\n",
    "print(\"Choice\", beer)"
   ]
  },
  {
   "cell_type": "code",
   "execution_count": 7,
   "id": "834fbeb0",
   "metadata": {},
   "outputs": [
    {
     "name": "stdout",
     "output_type": "stream",
     "text": [
      "Choices 77 65\n"
     ]
    }
   ],
   "source": [
    "# Choices : Returns multiple random number from the sequence passed\n",
    "l3 = [65, 47, 25, 35, 48, 98, 77, 55, 67, 54, 22, 38]\n",
    "rand, rand1 = random.choices(l3, k=2)\n",
    "print(\"Choices\", rand, rand1)"
   ]
  },
  {
   "cell_type": "code",
   "execution_count": 8,
   "id": "ece315d7",
   "metadata": {},
   "outputs": [
    {
     "name": "stdout",
     "output_type": "stream",
     "text": [
      "Choices in Cricket 36 36 85\n"
     ]
    }
   ],
   "source": [
    "l2 = [54, 74, 36, 47, 85, 14, 23, 58, 99]\n",
    "ball, bat, wicket = random.choices(l2, k=3)\n",
    "print(\"Choices in Cricket\", ball, bat, wicket)"
   ]
  },
  {
   "cell_type": "code",
   "execution_count": 9,
   "id": "9cf174f1",
   "metadata": {},
   "outputs": [
    {
     "name": "stdout",
     "output_type": "stream",
     "text": [
      "Randrange 0\n"
     ]
    }
   ],
   "source": [
    "# Will generate random number from start to stop in step of steps\n",
    "deer = random.randrange(0, 100, 10)\n",
    "print(\"Randrange\", deer)"
   ]
  },
  {
   "cell_type": "code",
   "execution_count": 10,
   "id": "d1d93ebc",
   "metadata": {},
   "outputs": [
    {
     "name": "stdout",
     "output_type": "stream",
     "text": [
      "Randbelow 1\n",
      "[7, 1, 2, 4, 6, 9, 3, 8, 5]\n"
     ]
    }
   ],
   "source": [
    "# Randbelow :\n",
    "# Will generate random number Integer value below the number specified\n",
    "import secrets\n",
    "dog = secrets.randbelow(7)\n",
    "print(\"Randbelow\", dog)\n",
    "# Shuffle\n",
    "random.shuffle(l1)\n",
    "print(l1)"
   ]
  },
  {
   "cell_type": "code",
   "execution_count": null,
   "id": "4a0cc091",
   "metadata": {},
   "outputs": [],
   "source": []
  }
 ],
 "metadata": {
  "kernelspec": {
   "display_name": "venv",
   "language": "python",
   "name": "python3"
  },
  "language_info": {
   "codemirror_mode": {
    "name": "ipython",
    "version": 3
   },
   "file_extension": ".py",
   "mimetype": "text/x-python",
   "name": "python",
   "nbconvert_exporter": "python",
   "pygments_lexer": "ipython3",
   "version": "3.10.11"
  }
 },
 "nbformat": 4,
 "nbformat_minor": 5
}
