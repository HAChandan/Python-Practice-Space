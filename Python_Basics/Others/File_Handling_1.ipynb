{
 "cells": [
  {
   "cell_type": "code",
   "execution_count": 3,
   "id": "1316bc71",
   "metadata": {},
   "outputs": [
    {
     "name": "stdout",
     "output_type": "stream",
     "text": [
      "Output of read file\n",
      "\n",
      "apple\n",
      "banana\n",
      "\n",
      "Output of read line \n",
      "\n"
     ]
    }
   ],
   "source": [
    "# File handling in python\n",
    "\n",
    "# 1) Reading\n",
    "frt = open('fruits.txt', 'r')\n",
    "print(\"Output of read file\\n\")\n",
    "print(frt.read())\n",
    "print()\n",
    "print(\"Output of read line \") # No output because end of file reached\n",
    "print(frt.readline())"
   ]
  },
  {
   "cell_type": "code",
   "execution_count": 4,
   "id": "209ac831",
   "metadata": {},
   "outputs": [
    {
     "name": "stdout",
     "output_type": "stream",
     "text": [
      "Output of read line1\n",
      "apple\n",
      "\n",
      "Output of read line2\n",
      "banana\n",
      "Output of read line3\n",
      "\n",
      "Output of read line4\n",
      "\n"
     ]
    }
   ],
   "source": [
    "frt = open('fruits.txt', 'r')\n",
    "print(\"Output of read line1\")\n",
    "print(frt.readline())\n",
    "print(\"Output of read line2\")\n",
    "print(frt.readline())\n",
    "print(\"Output of read line3\")\n",
    "print(frt.readline())\n",
    "# After last line is reached it will print none\n",
    "print(\"Output of read line4\")\n",
    "print(frt.readline())"
   ]
  },
  {
   "cell_type": "code",
   "execution_count": 5,
   "id": "8dbac15d",
   "metadata": {},
   "outputs": [
    {
     "name": "stdout",
     "output_type": "stream",
     "text": [
      "Output of read lines\n",
      "['apple\\n', 'banana']\n"
     ]
    }
   ],
   "source": [
    "frt = open('fruits.txt', 'r')\n",
    "print(\"Output of read lines\")\n",
    "print(frt.readlines())"
   ]
  },
  {
   "cell_type": "code",
   "execution_count": 6,
   "id": "2eabf646",
   "metadata": {},
   "outputs": [
    {
     "name": "stdout",
     "output_type": "stream",
     "text": [
      "Output of read line in characters\n",
      "apple\n"
     ]
    }
   ],
   "source": [
    "frt = open('fruits.txt', 'r')\n",
    "print(\"Output of read line in characters\")\n",
    "print(frt.readline(5))"
   ]
  },
  {
   "cell_type": "code",
   "execution_count": 7,
   "id": "f930c600",
   "metadata": {},
   "outputs": [
    {
     "name": "stdout",
     "output_type": "stream",
     "text": [
      "Output of read multiple lines in characters\n",
      "['apple\\n', 'banana']\n"
     ]
    }
   ],
   "source": [
    "frt = open('fruits.txt', 'r')\n",
    "print(\"Output of read multiple lines in characters\")\n",
    "print(frt.readlines(20))"
   ]
  },
  {
   "cell_type": "code",
   "execution_count": 8,
   "id": "7e5ff376",
   "metadata": {},
   "outputs": [
    {
     "name": "stdout",
     "output_type": "stream",
     "text": [
      "Output of read cat \n",
      " apple\n",
      "\n",
      "Output of read dog \n",
      " banana\n"
     ]
    }
   ],
   "source": [
    "frt = open('fruits.txt', 'r')\n",
    "cat = frt.readline()\n",
    "print(\"Output of read cat \\n\", cat)\n",
    "dog = frt.readline()\n",
    "print(\"Output of read dog \\n\", dog)"
   ]
  },
  {
   "cell_type": "code",
   "execution_count": 9,
   "id": "c9fb7003",
   "metadata": {},
   "outputs": [
    {
     "name": "stdout",
     "output_type": "stream",
     "text": [
      "using for loop\n",
      "apple\n",
      "\n",
      "banana\n",
      "\n"
     ]
    }
   ],
   "source": [
    "# Use for loop to read the line\n",
    "frt = open('fruits.txt', 'r')\n",
    "print(\"using for loop\")\n",
    "for i in frt:\n",
    "    print(i)\n",
    "print()"
   ]
  },
  {
   "cell_type": "code",
   "execution_count": 10,
   "id": "c997979e",
   "metadata": {},
   "outputs": [
    {
     "name": "stdout",
     "output_type": "stream",
     "text": [
      "File mode :  r\n",
      "File name :  fruits.txt\n",
      "File close check :  False\n",
      "File close check :  True\n"
     ]
    }
   ],
   "source": [
    "# File attributes\n",
    "print(\"File mode : \", frt.mode)\n",
    "print(\"File name : \", frt.name)\n",
    "print(\"File close check : \", frt.closed) # Check if the file is closed or not\n",
    "frt.close()\n",
    "print(\"File close check : \", frt.closed) # Check if the file is closed or not"
   ]
  },
  {
   "cell_type": "code",
   "execution_count": 11,
   "id": "d20ea1ec",
   "metadata": {},
   "outputs": [
    {
     "name": "stdout",
     "output_type": "stream",
     "text": [
      "\n",
      "Output of read plus file\n",
      "apple\n",
      "banana\n",
      "\n",
      "Output of read line\n",
      "\n"
     ]
    },
    {
     "data": {
      "text/plain": [
       "12"
      ]
     },
     "execution_count": 11,
     "metadata": {},
     "output_type": "execute_result"
    }
   ],
   "source": [
    "# 2) Reading and Writing\n",
    "frt = open('fruits.txt', 'r+')\n",
    "print(\"\\nOutput of read plus file\")\n",
    "print(frt.read())\n",
    "print()\n",
    "print(\"Output of read line\") # No output because end of file reached\n",
    "print(frt.readline())\n",
    "frt.write('\\nPomegranate')"
   ]
  },
  {
   "cell_type": "code",
   "execution_count": 12,
   "id": "d462849b",
   "metadata": {},
   "outputs": [
    {
     "name": "stdout",
     "output_type": "stream",
     "text": [
      "File mode :  r+\n",
      "File name :  fruits.txt\n",
      "File close check :  False\n",
      "File close check :  True\n"
     ]
    }
   ],
   "source": [
    "# File attributes\n",
    "print(\"File mode : \", frt.mode)\n",
    "print(\"File name : \", frt.name)\n",
    "print(\"File close check : \", frt.closed) # Check if the file is closed or not\n",
    "frt.close()\n",
    "print(\"File close check : \", frt.closed) # Check if the file is closed or not"
   ]
  },
  {
   "cell_type": "code",
   "execution_count": 13,
   "id": "d3d8a2b4",
   "metadata": {},
   "outputs": [
    {
     "data": {
      "text/plain": [
       "16"
      ]
     },
     "execution_count": 13,
     "metadata": {},
     "output_type": "execute_result"
    }
   ],
   "source": [
    "# 3) Append\n",
    "# How to use the Append Function (a)\n",
    "frt = open(\"fruits.txt\", 'a')\n",
    "frt.write('\\nJackfruit\\nGuava')\n",
    "# print(frt.read()) # It will give an error since read mode not possible in append mode"
   ]
  },
  {
   "cell_type": "code",
   "execution_count": 14,
   "id": "bee9fdcf",
   "metadata": {},
   "outputs": [
    {
     "name": "stdout",
     "output_type": "stream",
     "text": [
      "File mode :  a\n",
      "File name :  fruits.txt\n",
      "File close check :  False\n",
      "File close check :  True\n"
     ]
    }
   ],
   "source": [
    "# File attributes\n",
    "print(\"File mode : \", frt.mode)\n",
    "print(\"File name : \", frt.name)\n",
    "print(\"File close check : \", frt.closed) # Check if the file is closed or not\n",
    "frt.close()\n",
    "print(\"File close check : \", frt.closed) # Check if the file is closed or not"
   ]
  },
  {
   "cell_type": "code",
   "execution_count": 15,
   "id": "2adeb378",
   "metadata": {},
   "outputs": [
    {
     "name": "stdout",
     "output_type": "stream",
     "text": [
      "\n",
      "\n"
     ]
    }
   ],
   "source": [
    "# 4) Append and reading\n",
    "# How to use the Append Function (a+)\n",
    "frt = open(\"fruits.txt\", 'a+')\n",
    "print(frt.read()) # Since cursor is at last line it will print none\n",
    "frt.write('\\nPlums')\n",
    "print(frt.read()) # Since cursor is at last line it will print none\n",
    "# It will not give an error since read mode is possible in append plus mode"
   ]
  },
  {
   "cell_type": "code",
   "execution_count": 16,
   "id": "388c850d",
   "metadata": {},
   "outputs": [
    {
     "name": "stdout",
     "output_type": "stream",
     "text": [
      "File mode :  a+\n",
      "File name :  fruits.txt\n",
      "File close check :  False\n",
      "File close check :  True\n"
     ]
    }
   ],
   "source": [
    "# File attributes\n",
    "print(\"File mode : \", frt.mode)\n",
    "print(\"File name : \", frt.name)\n",
    "print(\"File close check : \", frt.closed) # Check if the file is closed or not\n",
    "frt.close()\n",
    "print(\"File close check : \", frt.closed) # Check if the file is closed or not"
   ]
  },
  {
   "cell_type": "code",
   "execution_count": 17,
   "id": "387f82a1",
   "metadata": {},
   "outputs": [],
   "source": [
    "# 5) Write Mode\n",
    "# How to use write mode\n",
    "frt = open('fruits.txt', 'w')\n",
    "# Once we open file in write(w) mode existing file will be rewritten(delete old file contents)\n",
    "frt.write('Apple\\nBanana\\nMango')\n",
    "# print(frt.read()) # It will give an error since read mode not possible in write mode\n",
    "frt.close()"
   ]
  },
  {
   "cell_type": "code",
   "execution_count": 18,
   "id": "f1557cb7",
   "metadata": {},
   "outputs": [
    {
     "data": {
      "text/plain": [
       "15"
      ]
     },
     "execution_count": 18,
     "metadata": {},
     "output_type": "execute_result"
    }
   ],
   "source": [
    "# How to use write mode\n",
    "# It will create a new file if the file does not exist\n",
    "frt = open('color.txt', 'w')\n",
    "# Once we open file in write(w) mode existing file will be rewritten(delete old file contents)\n",
    "frt.write('Red\\nGreen\\nWhite')"
   ]
  },
  {
   "cell_type": "code",
   "execution_count": 19,
   "id": "fd769f54",
   "metadata": {},
   "outputs": [
    {
     "name": "stdout",
     "output_type": "stream",
     "text": [
      "File mode :  w\n",
      "File name :  color.txt\n",
      "File close check :  False\n",
      "File close check :  True\n"
     ]
    }
   ],
   "source": [
    "# File attributes\n",
    "print(\"File mode : \", frt.mode)\n",
    "print(\"File name : \", frt.name)\n",
    "print(\"File close check : \", frt.closed) # Check if the file is closed or not\n",
    "frt.close()\n",
    "print(\"File close check : \", frt.closed) # Check if the file is closed or not"
   ]
  },
  {
   "cell_type": "code",
   "execution_count": 20,
   "id": "ac369c2c",
   "metadata": {},
   "outputs": [
    {
     "name": "stdout",
     "output_type": "stream",
     "text": [
      "\n"
     ]
    },
    {
     "data": {
      "text/plain": [
       "20"
      ]
     },
     "execution_count": 20,
     "metadata": {},
     "output_type": "execute_result"
    }
   ],
   "source": [
    "# 6) Write and Read Mode\n",
    "# How to use Write and Read mode\n",
    "frt = open('fruits.txt', 'w+')\n",
    "# Once we open file in write(w) mode existing file will be rewritten(delete old file contents)\n",
    "frt.write('Apple\\nBanana\\nMango')\n",
    "print(frt.read())\n",
    "# It will not give an error since read mode is possible in write plus mode\n",
    "# Since cursor is at last line it will print none\n",
    "frt.close()\n",
    "\n",
    "# How to use Write and Read mode\n",
    "# It will create a new file if the file does not exist\n",
    "frt = open('cricket.txt', 'w+')\n",
    "# Once we open file in write(w) mode existing file will be rewritten(delete old file contents)\n",
    "frt.write('Maxwell\\nSmith\\nWarner')"
   ]
  },
  {
   "cell_type": "code",
   "execution_count": 21,
   "id": "060b65f3",
   "metadata": {},
   "outputs": [
    {
     "name": "stdout",
     "output_type": "stream",
     "text": [
      "File mode :  w+\n",
      "File name :  cricket.txt\n",
      "File close check :  False\n",
      "File close check :  True\n"
     ]
    }
   ],
   "source": [
    "# File attributes\n",
    "print(\"File mode : \", frt.mode)\n",
    "print(\"File name : \", frt.name)\n",
    "print(\"File close check : \", frt.closed) # Check if the file is closed or not\n",
    "frt.close()\n",
    "print(\"File close check : \", frt.closed) # Check if the file is closed or not"
   ]
  },
  {
   "cell_type": "code",
   "execution_count": 22,
   "id": "3752934a",
   "metadata": {},
   "outputs": [],
   "source": [
    "# Using Context management\n",
    "# It will automatically close the file - explicit declaration to close the file is not required\n",
    "\n",
    "# when we use context management it will automatically close the file\n",
    "# we don't need to give the file.close to close the file"
   ]
  },
  {
   "cell_type": "code",
   "execution_count": 23,
   "id": "aedbe370",
   "metadata": {},
   "outputs": [
    {
     "name": "stdout",
     "output_type": "stream",
     "text": [
      "Context mode\n",
      "\n",
      "Apple\n",
      "Banana\n",
      "Mango\n",
      "File close check :  True\n"
     ]
    }
   ],
   "source": [
    "# 1) Reading\n",
    "with open('fruits.txt', 'r') as frt:\n",
    "    print(\"Context mode\\n\")\n",
    "    print(frt.read())\n",
    "print(\"File close check : \", frt.closed) # Check if the file is closed or not"
   ]
  },
  {
   "cell_type": "code",
   "execution_count": 24,
   "id": "a944877e",
   "metadata": {},
   "outputs": [
    {
     "name": "stdout",
     "output_type": "stream",
     "text": [
      "Context mode\n",
      "\n",
      "Apple\n",
      "Banana\n",
      "Mango\n",
      "\n",
      "File close check :  True\n"
     ]
    }
   ],
   "source": [
    "# 2) Reading and writing\n",
    "with open('fruits.txt', 'r+') as frt:\n",
    "    print(\"Context mode\\n\")\n",
    "    print(frt.read())\n",
    "    frt.write('\\nCoconut')\n",
    "    print(frt.read())\n",
    "print(\"File close check : \", frt.closed) # Check if the file is closed or not"
   ]
  },
  {
   "cell_type": "code",
   "execution_count": 25,
   "id": "52d34d27",
   "metadata": {},
   "outputs": [
    {
     "name": "stdout",
     "output_type": "stream",
     "text": [
      "Context mode\n",
      "\n",
      "File close check :  True\n"
     ]
    }
   ],
   "source": [
    "# 3) Append\n",
    "# If the file does not exist it will create new file\n",
    "with open('fruits.txt', 'a') as frt:\n",
    "    print(\"Context mode\\n\")\n",
    "    frt.write('\\nJackfruit\\nGuava')\n",
    "print(\"File close check : \", frt.closed) # Check if the file is closed or not"
   ]
  },
  {
   "cell_type": "code",
   "execution_count": 26,
   "id": "da53d314",
   "metadata": {},
   "outputs": [
    {
     "name": "stdout",
     "output_type": "stream",
     "text": [
      "Context mode\n",
      "\n",
      "\n",
      "File close check :  True\n"
     ]
    }
   ],
   "source": [
    "# 4) Append and Reading\n",
    "# If the file does not exist it will create new file\n",
    "with open('fruits.txt', 'a+') as frt:\n",
    "    print(\"Context mode\\n\")\n",
    "    frt.write('\\nPlums')\n",
    "    print(frt.read())  # Since cursor is at last line it will print none\n",
    "    # It will not give an error since read mode is possible in append plus mode\n",
    "print(\"File close check : \", frt.closed) # Check if the file is closed or not"
   ]
  },
  {
   "cell_type": "code",
   "execution_count": 27,
   "id": "924bf58f",
   "metadata": {},
   "outputs": [
    {
     "name": "stdout",
     "output_type": "stream",
     "text": [
      "Context mode\n",
      "\n",
      "File close check :  True\n"
     ]
    }
   ],
   "source": [
    "# 5) Writing\n",
    "# If the file does not exist it will create new file\n",
    "with open('fruits.txt', 'w') as frt:\n",
    "    print(\"Context mode\\n\")\n",
    "    frt.write('Apple\\nBanana\\nMango')\n",
    "print(\"File close check : \", frt.closed) # Check if the file is closed or not"
   ]
  },
  {
   "cell_type": "code",
   "execution_count": 28,
   "id": "73d25264",
   "metadata": {},
   "outputs": [
    {
     "name": "stdout",
     "output_type": "stream",
     "text": [
      "Context mode\n",
      "\n",
      "\n",
      "File close check :  True\n",
      "Context mode\n",
      "\n",
      "\n"
     ]
    }
   ],
   "source": [
    "# 6) Writing and Reading\n",
    "# If the file does not exist it will create new file\n",
    "with open('fruits.txt', 'w+') as frt:\n",
    "    print(\"Context mode\\n\")\n",
    "    frt.write('Apple\\nBanana\\nMango')\n",
    "    print(frt.read())  # Since cursor is at last line it will print none\n",
    "    # It will not give an error since read mode is possible in append plus mode\n",
    "print(\"File close check : \", frt.closed) # Check if the file is closed or not\n",
    "\n",
    "with open('animals.txt', 'w+') as frt:\n",
    "    # If the file does not exist it will create new file\n",
    "    print(\"Context mode\\n\")\n",
    "    frt.write('Cow\\nDog\\nCat\\nHorse\\nSheep')\n",
    "    print(frt.read())  # Since cursor is at last line it will print none\n",
    "    # It will not give an error since read mode is possible in append plus mode"
   ]
  },
  {
   "cell_type": "code",
   "execution_count": 29,
   "id": "751909d4",
   "metadata": {},
   "outputs": [
    {
     "name": "stdout",
     "output_type": "stream",
     "text": [
      "File mode :  w+\n",
      "File name :  animals.txt\n",
      "File close check :  True\n"
     ]
    }
   ],
   "source": [
    "# File attributes\n",
    "print(\"File mode : \", frt.mode)\n",
    "print(\"File name : \", frt.name)\n",
    "print(\"File close check : \", frt.closed) # Check if the file is closed or not"
   ]
  },
  {
   "cell_type": "code",
   "execution_count": 30,
   "id": "a0cc3244",
   "metadata": {},
   "outputs": [
    {
     "name": "stdout",
     "output_type": "stream",
     "text": [
      "read lines ['Apple\\n', 'Banana\\n', 'Mango']\n"
     ]
    }
   ],
   "source": [
    "# FLUSH function\n",
    "# Python automatically flushes the file before closing them. but you\n",
    "# may want to flush the data before closing any file, then we use flush function.\n",
    "with open('fruits.txt', 'r') as frt:\n",
    "    print(\"read lines\", frt.readlines())\n",
    "    frt.flush() # just flushes the internal buffer memory from the heep space and name space"
   ]
  },
  {
   "cell_type": "code",
   "execution_count": 31,
   "id": "bfe7d0e3",
   "metadata": {},
   "outputs": [],
   "source": [
    "# SEEK and TEll\n",
    "# Tell function will return a number where the cursor was in.\n",
    "# The method tell() returns the current position of the file read/write pointer within the file.\n",
    "# With seek Function it will tell and move the cursor where to start the reading of the file"
   ]
  },
  {
   "cell_type": "code",
   "execution_count": 32,
   "id": "a3616dbd",
   "metadata": {},
   "outputs": [
    {
     "name": "stdout",
     "output_type": "stream",
     "text": [
      "write lines \n",
      "56\n",
      "write lines\n",
      " Apple\n",
      "Banana\n",
      "Mango\n",
      "grapes \n",
      "pear \n",
      "peach \n",
      "watermelon\n"
     ]
    }
   ],
   "source": [
    "with open('fruits.txt', 'a+') as frt:\n",
    "    str = \"\\ngrapes \\npear \\npeach \\nwatermelon\"\n",
    "    print(\"write lines\", frt.read())\n",
    "    # since we use append cursor in last position, so it has nothing to read so this\n",
    "    # print statement doesn't give output so move the cursor to starting position\n",
    "    frt.writelines(str)\n",
    "    print(frt.tell())\n",
    "    frt.seek(0)\n",
    "    print(\"write lines\\n\", frt.read())\n",
    "    # The above read line will give the output since we have moved the cursor using seek function"
   ]
  },
  {
   "cell_type": "code",
   "execution_count": 33,
   "id": "0cbbdcd3",
   "metadata": {},
   "outputs": [
    {
     "name": "stdout",
     "output_type": "stream",
     "text": [
      "The file does not exist\n"
     ]
    }
   ],
   "source": [
    "# Delete the file\n",
    "\n",
    "import os\n",
    "os.remove(\"animals.txt\")\n",
    "\n",
    "# Check if file exist before deleting the file to avoid getting an error\n",
    "\n",
    "import os\n",
    "if os.path.exists(\"animals.txt\"):\n",
    "    os.remove(\"animals.txt\")\n",
    "else:\n",
    "    print(\"The file does not exist\")"
   ]
  },
  {
   "cell_type": "code",
   "execution_count": null,
   "id": "6f92ee8e",
   "metadata": {},
   "outputs": [],
   "source": []
  }
 ],
 "metadata": {
  "kernelspec": {
   "display_name": "venv",
   "language": "python",
   "name": "python3"
  },
  "language_info": {
   "codemirror_mode": {
    "name": "ipython",
    "version": 3
   },
   "file_extension": ".py",
   "mimetype": "text/x-python",
   "name": "python",
   "nbconvert_exporter": "python",
   "pygments_lexer": "ipython3",
   "version": "3.10.11"
  }
 },
 "nbformat": 4,
 "nbformat_minor": 5
}
