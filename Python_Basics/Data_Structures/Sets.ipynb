{
 "cells": [
  {
   "cell_type": "code",
   "execution_count": 1,
   "id": "c1cc03a5",
   "metadata": {},
   "outputs": [],
   "source": [
    "# Sets are unordered collection of data\n",
    "# Sets are not editable and do not contain duplicates\n",
    "# If contain duplicate it will remove duplicates\n",
    "# Sets can contain any immutable data elements like int, string, tuples"
   ]
  },
  {
   "cell_type": "code",
   "execution_count": null,
   "id": "bbb06c33",
   "metadata": {},
   "outputs": [],
   "source": [
    "\"\"\"🔹 What is a set in Python?\n",
    "A set is a built-in data structure in Python used to store unordered, unique elements.\n",
    "\n",
    "Properties of a set:\n",
    "Unordered: The elements are not stored in any particular order.\n",
    "\n",
    "Unindexed: You can't access elements by position (like s2[0]), which causes the error you’re seeing.\n",
    "\n",
    "No duplicates: If you add duplicate values, only one instance is kept.\n",
    "\n",
    "Ordered\t❌ No\n",
    "Indexed\t❌ No\n",
    "Duplicates allowed\t❌ No\n",
    "Mutable\t✅ Yes (can add/remove)\n",
    "\n",
    "\"\"\""
   ]
  },
  {
   "cell_type": "code",
   "execution_count": 2,
   "id": "45493ce6",
   "metadata": {},
   "outputs": [
    {
     "name": "stdout",
     "output_type": "stream",
     "text": [
      "{1, 2, 3, 4, 5}\n",
      "{'Bengaluru', 'Mangalore', 'Mandya', 'Mysuru'}\n"
     ]
    }
   ],
   "source": [
    "# Creating a set\n",
    "\n",
    "s1 = {1, 2, 3, 4, 5}\n",
    "s2 = {\"Mysuru\", \"Bengaluru\", \"Mandya\", \"Mangalore\", \"Mandya\"}\n",
    "print(s1)\n",
    "print(s2)"
   ]
  },
  {
   "cell_type": "code",
   "execution_count": 3,
   "id": "4d5a696b",
   "metadata": {},
   "outputs": [],
   "source": [
    "# Creating a sets using a sets construction\n",
    "\n",
    "l1 = [2, 4, 5, 6, 8, 10, 10]\n",
    "str1 = \"Prime intuit\"\n",
    "t1 = (1, 3, 5, 7, 9, 3, 5)\n",
    "d1 = {\"red\": \"rose\", \"white\": \"lilly\", \"purple\": \"lavender\"}"
   ]
  },
  {
   "cell_type": "code",
   "execution_count": 4,
   "id": "f9de0e92",
   "metadata": {},
   "outputs": [
    {
     "name": "stdout",
     "output_type": "stream",
     "text": [
      "[2, 4, 5, 6, 8, 10, 10]\n",
      "{2, 4, 5, 6, 8, 10}\n",
      "[2, 4, 5, 6, 8, 10]\n"
     ]
    }
   ],
   "source": [
    "# Converting a list into a set to get rid of duplicates\n",
    "s3 = set(l1)\n",
    "print(l1)\n",
    "print(s3)\n",
    "l1 = list(s3)\n",
    "print(l1)"
   ]
  },
  {
   "cell_type": "code",
   "execution_count": null,
   "id": "e076acf2",
   "metadata": {},
   "outputs": [
    {
     "ename": "TypeError",
     "evalue": "'set' object is not subscriptable",
     "output_type": "error",
     "traceback": [
      "\u001b[1;31m---------------------------------------------------------------------------\u001b[0m",
      "\u001b[1;31mTypeError\u001b[0m                                 Traceback (most recent call last)",
      "Cell \u001b[1;32mIn[5], line 2\u001b[0m\n\u001b[0;32m      1\u001b[0m s2 \u001b[38;5;241m=\u001b[39m {\u001b[38;5;124m\"\u001b[39m\u001b[38;5;124mMysuru\u001b[39m\u001b[38;5;124m\"\u001b[39m, \u001b[38;5;124m\"\u001b[39m\u001b[38;5;124mBengaluru\u001b[39m\u001b[38;5;124m\"\u001b[39m, \u001b[38;5;124m\"\u001b[39m\u001b[38;5;124mMandya\u001b[39m\u001b[38;5;124m\"\u001b[39m, \u001b[38;5;124m\"\u001b[39m\u001b[38;5;124mMangalore\u001b[39m\u001b[38;5;124m\"\u001b[39m, \u001b[38;5;124m\"\u001b[39m\u001b[38;5;124mMandya\u001b[39m\u001b[38;5;124m\"\u001b[39m}\n\u001b[1;32m----> 2\u001b[0m \u001b[43ms2\u001b[49m\u001b[43m[\u001b[49m\u001b[38;5;241;43m0\u001b[39;49m\u001b[43m]\u001b[49m\n",
      "\u001b[1;31mTypeError\u001b[0m: 'set' object is not subscriptable"
     ]
    }
   ],
   "source": [
    "# We will get the error because sets does not support indexing\n",
    "\n",
    "s2 = {\"Mysuru\", \"Bengaluru\", \"Mandya\", \"Mangalore\", \"Mandya\"}\n",
    "s2[0]"
   ]
  },
  {
   "cell_type": "code",
   "execution_count": 6,
   "id": "f9f44d1d",
   "metadata": {},
   "outputs": [
    {
     "name": "stdout",
     "output_type": "stream",
     "text": [
      "[2, 4, 5, 6, 8, 10]\n"
     ]
    }
   ],
   "source": [
    "# Concise way\n",
    "l1 = list(set(l1))\n",
    "print(l1)"
   ]
  },
  {
   "cell_type": "code",
   "execution_count": 10,
   "id": "fc181a00",
   "metadata": {},
   "outputs": [
    {
     "name": "stdout",
     "output_type": "stream",
     "text": [
      "Prime intuit\n",
      "{'i', 'u', 't', ' ', 'e', 'P', 'n', 'm', 'r'}\n"
     ]
    }
   ],
   "source": [
    "# Converting a string in to set\n",
    "s4 = set(str1)\n",
    "print(str1)\n",
    "print(s4)"
   ]
  },
  {
   "cell_type": "code",
   "execution_count": 11,
   "id": "f2dad88c",
   "metadata": {},
   "outputs": [
    {
     "name": "stdout",
     "output_type": "stream",
     "text": [
      "Prime intuit\n",
      "{'i', 'u', 't', ' ', 'e', 'P', 'n', 'm', 'r'}\n"
     ]
    }
   ],
   "source": [
    "# Converting a string in to set\n",
    "s4 = set(str1)\n",
    "print(str1)\n",
    "print(s4)"
   ]
  },
  {
   "cell_type": "code",
   "execution_count": 16,
   "id": "835bb4ba",
   "metadata": {},
   "outputs": [
    {
     "name": "stdout",
     "output_type": "stream",
     "text": [
      "(1, 3, 5, 7, 9, 3, 5)\n",
      "{1, 3, 5, 7, 9}\n"
     ]
    }
   ],
   "source": [
    "# Converting tuple in to a set\n",
    "s5 = set(t1)\n",
    "print(t1)\n",
    "print(s5)"
   ]
  },
  {
   "cell_type": "code",
   "execution_count": 18,
   "id": "d60dc1b8",
   "metadata": {},
   "outputs": [
    {
     "name": "stdout",
     "output_type": "stream",
     "text": [
      "{'red': 'rose', 'white': 'lilly', 'purple': 'lavender'}\n",
      "{'white', 'red', 'purple'}\n"
     ]
    }
   ],
   "source": [
    "# Converting a dict into a set\n",
    "s6 = set(d1)\n",
    "print(d1)\n",
    "print(s6)"
   ]
  },
  {
   "cell_type": "code",
   "execution_count": 19,
   "id": "6ba2e58e",
   "metadata": {},
   "outputs": [
    {
     "name": "stdout",
     "output_type": "stream",
     "text": [
      "{'Geeks', 'for', 12}\n",
      "{'Geeks', 'for', 12, 'Learning'}\n"
     ]
    }
   ],
   "source": [
    "# Adding an element in to a set\n",
    "myset = {\"Geeks\", \"for\", \"Geeks\"}\n",
    "myset.add(12)\n",
    "print(myset)\n",
    "myset.add(\"Learning\")\n",
    "print(myset)"
   ]
  },
  {
   "cell_type": "code",
   "execution_count": 20,
   "id": "00b4c677",
   "metadata": {},
   "outputs": [
    {
     "name": "stdout",
     "output_type": "stream",
     "text": [
      "{'Geeks', 'for', 12}\n"
     ]
    }
   ],
   "source": [
    "# Removing an element from the set()\n",
    "myset.remove(\"Learning\")\n",
    "print(myset)"
   ]
  },
  {
   "cell_type": "code",
   "execution_count": 23,
   "id": "8cb5a6dd",
   "metadata": {},
   "outputs": [
    {
     "name": "stdout",
     "output_type": "stream",
     "text": [
      "{98, 4, 58, 24, 125}\n"
     ]
    }
   ],
   "source": [
    "# discard v/s remove, discard will not give me an error if data element is not found\n",
    "Set10 = {4, 10, 24, 58, 98, 125}\n",
    "Set10.discard(10)\n",
    "Set10.discard(64) # This will not give error, although 64 is not in myset\n",
    "print(Set10)"
   ]
  },
  {
   "cell_type": "code",
   "execution_count": 24,
   "id": "1c9a05c2",
   "metadata": {},
   "outputs": [
    {
     "ename": "KeyError",
     "evalue": "64",
     "output_type": "error",
     "traceback": [
      "\u001b[1;31m---------------------------------------------------------------------------\u001b[0m",
      "\u001b[1;31mKeyError\u001b[0m                                  Traceback (most recent call last)",
      "Cell \u001b[1;32mIn[24], line 4\u001b[0m\n\u001b[0;32m      1\u001b[0m \u001b[38;5;66;03m# But remove will raise an error if element not found\u001b[39;00m\n\u001b[0;32m      3\u001b[0m Set10 \u001b[38;5;241m=\u001b[39m {\u001b[38;5;241m4\u001b[39m, \u001b[38;5;241m10\u001b[39m, \u001b[38;5;241m24\u001b[39m, \u001b[38;5;241m58\u001b[39m, \u001b[38;5;241m98\u001b[39m, \u001b[38;5;241m125\u001b[39m}\n\u001b[1;32m----> 4\u001b[0m \u001b[43mSet10\u001b[49m\u001b[38;5;241;43m.\u001b[39;49m\u001b[43mremove\u001b[49m\u001b[43m(\u001b[49m\u001b[38;5;241;43m64\u001b[39;49m\u001b[43m)\u001b[49m\n\u001b[0;32m      5\u001b[0m \u001b[38;5;28mprint\u001b[39m(Set10)\n",
      "\u001b[1;31mKeyError\u001b[0m: 64"
     ]
    }
   ],
   "source": [
    "# But remove will raise an error if element not found\n",
    "\n",
    "Set10 = {4, 10, 24, 58, 98, 125}\n",
    "Set10.remove(64)\n",
    "print(Set10)"
   ]
  },
  {
   "cell_type": "code",
   "execution_count": 28,
   "id": "e33e73b8",
   "metadata": {},
   "outputs": [
    {
     "name": "stdout",
     "output_type": "stream",
     "text": [
      "{True, 52.7, 10, 'for'} Pop item is:  Geeks\n",
      "{52.7, 10, 'for'} Pop item is:  True\n"
     ]
    }
   ],
   "source": [
    "# Understanding pop function\n",
    "# Remove random item from the set\n",
    "Set_1 = {\"Geeks\", \"for\", 10, 52.7, True}\n",
    "item = Set_1.pop()\n",
    "print(Set_1, \"Pop item is: \", item)\n",
    "item_2 = Set_1.pop()\n",
    "print(Set_1, \"Pop item is: \", item_2)"
   ]
  },
  {
   "cell_type": "code",
   "execution_count": 30,
   "id": "94451057",
   "metadata": {},
   "outputs": [
    {
     "name": "stdout",
     "output_type": "stream",
     "text": [
      "{66, 41, 75, 77, 84, 54, 25} Popped item:  32\n",
      "{'red', 'blue', 'orange', 'white'} Popped item:  black\n"
     ]
    }
   ],
   "source": [
    "# Example-2\n",
    "box1 = {54, 75, 25, 41, 32, 84, 66, 77}\n",
    "item = box1.pop()\n",
    "print(box1, \"Popped item: \", item)\n",
    "box2 = {\"white\", \"black\", \"orange\", \"red\", \"blue\"}\n",
    "item2 = box2.pop()\n",
    "print(box2, \"Popped item: \", item2)"
   ]
  },
  {
   "cell_type": "code",
   "execution_count": 32,
   "id": "dd745e0c",
   "metadata": {},
   "outputs": [],
   "source": [
    "# Mathematical operations / set operations\n",
    "\n",
    "s7 = {1, 2, 3, 4, 5, 6, 7, 8, 9}\n",
    "s8 = {0, 2, 4, 6, 8, 10}"
   ]
  },
  {
   "cell_type": "code",
   "execution_count": 33,
   "id": "ef20c884",
   "metadata": {},
   "outputs": [
    {
     "name": "stdout",
     "output_type": "stream",
     "text": [
      "Union of s7 and s8 =  {0, 1, 2, 3, 4, 5, 6, 7, 8, 9, 10}\n",
      "Union of s8 and s7 =  {0, 1, 2, 3, 4, 5, 6, 7, 8, 9, 10}\n"
     ]
    }
   ],
   "source": [
    "# Union\n",
    "print(\"Union of s7 and s8 = \", s7.union(s8))\n",
    "print(\"Union of s8 and s7 = \", s8.union(s7))"
   ]
  },
  {
   "cell_type": "code",
   "execution_count": 34,
   "id": "153169e1",
   "metadata": {},
   "outputs": [
    {
     "name": "stdout",
     "output_type": "stream",
     "text": [
      "Intersection of s7 , s8 =  {8, 2, 4, 6}\n",
      "Intersection of s8 , s7 =  {8, 2, 4, 6}\n"
     ]
    }
   ],
   "source": [
    "# Intersection\n",
    "print(\"Intersection of s7 , s8 = \", s7.intersection(s8))\n",
    "print(\"Intersection of s8 , s7 = \", s8.intersection(s7))"
   ]
  },
  {
   "cell_type": "code",
   "execution_count": 35,
   "id": "b024a716",
   "metadata": {},
   "outputs": [
    {
     "name": "stdout",
     "output_type": "stream",
     "text": [
      "Difference of s7 from s8 = (s7-s8) =  {1, 3, 5, 7, 9}\n",
      "Difference of s8 from s7 = (s8-s7) =  {0, 10}\n"
     ]
    }
   ],
   "source": [
    "# Difference\n",
    "print(\"Difference of s7 from s8 = (s7-s8) = \", s7.difference(s8))\n",
    "print(\"Difference of s8 from s7 = (s8-s7) = \", s8.difference(s7))"
   ]
  },
  {
   "cell_type": "code",
   "execution_count": 36,
   "id": "4dc13af0",
   "metadata": {},
   "outputs": [
    {
     "name": "stdout",
     "output_type": "stream",
     "text": [
      "Symmetric Difference of s7 from s8 = (s7-s8) & (s8-s7)=  {0, 1, 3, 5, 7, 9, 10}\n",
      "Symmetric Difference of s8 from s7 = (s8-s7) & (s7-s8)=  {0, 1, 3, 5, 7, 9, 10}\n"
     ]
    }
   ],
   "source": [
    "# Symmetric Difference\n",
    "print(\"Symmetric Difference of s7 from s8 = (s7-s8) & (s8-s7)= \", s7.symmetric_difference(s8))\n",
    "print(\"Symmetric Difference of s8 from s7 = (s8-s7) & (s7-s8)= \", s8.symmetric_difference(s7))"
   ]
  },
  {
   "cell_type": "code",
   "execution_count": 37,
   "id": "6aeb897e",
   "metadata": {},
   "outputs": [
    {
     "name": "stdout",
     "output_type": "stream",
     "text": [
      "is s7 disjoint of s8 : False\n",
      "is s9 disjoint of s10 : True\n"
     ]
    }
   ],
   "source": [
    "s9 = {1, 2, 3}\n",
    "s10 = {4, 5, 6}\n",
    "\n",
    "# Disjoint\n",
    "print(\"is s7 disjoint of s8 :\", s7.isdisjoint(s8))\n",
    "print(\"is s9 disjoint of s10 :\", s9.isdisjoint(s10))"
   ]
  },
  {
   "cell_type": "code",
   "execution_count": 38,
   "id": "95d1ac62",
   "metadata": {},
   "outputs": [
    {
     "name": "stdout",
     "output_type": "stream",
     "text": [
      "is s9 a subset of s7 :  True\n",
      "is s8 a subset of s7 :  False\n"
     ]
    }
   ],
   "source": [
    "# Subset\n",
    "print(\"is s9 a subset of s7 : \", s9.issubset(s7))\n",
    "print(\"is s8 a subset of s7 : \", s8.issubset(s7))"
   ]
  },
  {
   "cell_type": "code",
   "execution_count": 39,
   "id": "54f8d70c",
   "metadata": {},
   "outputs": [
    {
     "name": "stdout",
     "output_type": "stream",
     "text": [
      "is s7 a superset of s9 :  True\n",
      "is s7 a superset of s8 :  False\n"
     ]
    }
   ],
   "source": [
    "# Superset\n",
    "print(\"is s7 a superset of s9 : \", s7.issuperset(s9))\n",
    "print(\"is s7 a superset of s8 : \", s7.issuperset(s8))"
   ]
  },
  {
   "cell_type": "code",
   "execution_count": 40,
   "id": "19891f32",
   "metadata": {},
   "outputs": [
    {
     "name": "stdout",
     "output_type": "stream",
     "text": [
      "is value 1 present in s9 : True\n",
      "is value 10 present in s9 : False\n",
      "is value 4 not present in s9 : True\n",
      "is value 2 not present in s9 : False\n"
     ]
    }
   ],
   "source": [
    "# Membership Operators (in, notin)\n",
    "\n",
    "print(\"is value 1 present in s9 :\", 1.in(s9))\n",
    "print(\"is value 10 present in s9 :\", 10.in(s9))\n",
    "print(\"is value 4 not present in s9 :\", 4.not in(s9))\n",
    "print(\"is value 2 not present in s9 :\", 2.not in(s9))"
   ]
  },
  {
   "cell_type": "code",
   "execution_count": 41,
   "id": "9f0263a0",
   "metadata": {},
   "outputs": [
    {
     "name": "stdout",
     "output_type": "stream",
     "text": [
      "frozenset({10, 20, 5, 15})\n",
      "Frozen set : <class 'frozenset'>\n",
      "Set : <class 'set'>\n"
     ]
    }
   ],
   "source": [
    "# frozen sets\n",
    "\n",
    "l11 = [5, 10, 15, 20]\n",
    "f1 = frozenset(l11)\n",
    "print(f1)\n",
    "print(\"Frozen set :\",type(f1))\n",
    "print(\"Set :\",type(s9))"
   ]
  },
  {
   "cell_type": "code",
   "execution_count": 42,
   "id": "eaa1e606",
   "metadata": {},
   "outputs": [],
   "source": [
    "# frozen sets are immutable we cannot add or remove an element from frozen sets"
   ]
  },
  {
   "cell_type": "code",
   "execution_count": 43,
   "id": "47f869f9",
   "metadata": {},
   "outputs": [
    {
     "ename": "AttributeError",
     "evalue": "'frozenset' object has no attribute 'add'",
     "output_type": "error",
     "traceback": [
      "\u001b[1;31m---------------------------------------------------------------------------\u001b[0m",
      "\u001b[1;31mAttributeError\u001b[0m                            Traceback (most recent call last)",
      "Cell \u001b[1;32mIn[43], line 1\u001b[0m\n\u001b[1;32m----> 1\u001b[0m \u001b[43mf1\u001b[49m\u001b[38;5;241;43m.\u001b[39;49m\u001b[43madd\u001b[49m(\u001b[38;5;241m25\u001b[39m) \u001b[38;5;66;03m# will give an exception error\u001b[39;00m\n",
      "\u001b[1;31mAttributeError\u001b[0m: 'frozenset' object has no attribute 'add'"
     ]
    }
   ],
   "source": [
    "f1.add(25) # will give an exception error"
   ]
  },
  {
   "cell_type": "code",
   "execution_count": 44,
   "id": "0a6d63c3",
   "metadata": {},
   "outputs": [
    {
     "ename": "AttributeError",
     "evalue": "'frozenset' object has no attribute 'remove'",
     "output_type": "error",
     "traceback": [
      "\u001b[1;31m---------------------------------------------------------------------------\u001b[0m",
      "\u001b[1;31mAttributeError\u001b[0m                            Traceback (most recent call last)",
      "Cell \u001b[1;32mIn[44], line 1\u001b[0m\n\u001b[1;32m----> 1\u001b[0m \u001b[43mf1\u001b[49m\u001b[38;5;241;43m.\u001b[39;49m\u001b[43mremove\u001b[49m(\u001b[38;5;241m20\u001b[39m) \u001b[38;5;66;03m# will give an exception error\u001b[39;00m\n",
      "\u001b[1;31mAttributeError\u001b[0m: 'frozenset' object has no attribute 'remove'"
     ]
    }
   ],
   "source": [
    "f1.remove(20) # will give an exception error"
   ]
  },
  {
   "cell_type": "code",
   "execution_count": 50,
   "id": "8b4623b3",
   "metadata": {},
   "outputs": [],
   "source": [
    "s14 = {10, 20, 30, 40, 50, 60}"
   ]
  },
  {
   "cell_type": "code",
   "execution_count": 51,
   "id": "c5ee2e73",
   "metadata": {},
   "outputs": [
    {
     "name": "stdout",
     "output_type": "stream",
     "text": [
      "{50, 20, 70, 40, 10, 60, 30}\n"
     ]
    }
   ],
   "source": [
    "s14.add(70)\n",
    "print(s14)"
   ]
  },
  {
   "cell_type": "code",
   "execution_count": 52,
   "id": "5c54a796",
   "metadata": {},
   "outputs": [
    {
     "name": "stdout",
     "output_type": "stream",
     "text": [
      "{50, 70, 40, 10, 60, 30}\n"
     ]
    }
   ],
   "source": [
    "s14.remove(20)\n",
    "print(s14)"
   ]
  },
  {
   "cell_type": "code",
   "execution_count": 53,
   "id": "1a13b3f6",
   "metadata": {},
   "outputs": [
    {
     "name": "stdout",
     "output_type": "stream",
     "text": [
      "Set : <class 'set'>\n",
      "{33, 66, 99, 22, 55, 88, 44, 77}\n",
      "{33, 66, 99, 22, 88, 44, 77}\n"
     ]
    }
   ],
   "source": [
    "s14 = {22, 33, 44, 55, 66, 88, 99}\n",
    "print(\"Set :\",type(s14))\n",
    "s14.add(77)\n",
    "print(s14)\n",
    "s14.remove(55)\n",
    "print(s14)"
   ]
  },
  {
   "cell_type": "code",
   "execution_count": 54,
   "id": "e783ce4e",
   "metadata": {},
   "outputs": [
    {
     "name": "stdout",
     "output_type": "stream",
     "text": [
      "{33, 25, 58, 77, 46}\n",
      "Frozen set : <class 'frozenset'>\n"
     ]
    }
   ],
   "source": [
    "# frozen sets are immutable we cannot add or remove an element from frozen sets\n",
    "s11 = {25, 33, 46, 58, 77}\n",
    "f2 = frozenset(s11)\n",
    "print(s11)\n",
    "print(\"Frozen set :\",type(f2))"
   ]
  },
  {
   "cell_type": "code",
   "execution_count": 55,
   "id": "3b833ae0",
   "metadata": {},
   "outputs": [
    {
     "ename": "AttributeError",
     "evalue": "'frozenset' object has no attribute 'add'",
     "output_type": "error",
     "traceback": [
      "\u001b[1;31m---------------------------------------------------------------------------\u001b[0m",
      "\u001b[1;31mAttributeError\u001b[0m                            Traceback (most recent call last)",
      "Cell \u001b[1;32mIn[55], line 1\u001b[0m\n\u001b[1;32m----> 1\u001b[0m \u001b[43mf2\u001b[49m\u001b[38;5;241;43m.\u001b[39;49m\u001b[43madd\u001b[49m(\u001b[38;5;241m88\u001b[39m) \u001b[38;5;66;03m# will give an exception error\u001b[39;00m\n",
      "\u001b[1;31mAttributeError\u001b[0m: 'frozenset' object has no attribute 'add'"
     ]
    }
   ],
   "source": [
    "f2.add(88) # will give an exception error\n"
   ]
  },
  {
   "cell_type": "code",
   "execution_count": 56,
   "id": "4420a34f",
   "metadata": {},
   "outputs": [
    {
     "ename": "AttributeError",
     "evalue": "'frozenset' object has no attribute 'remove'",
     "output_type": "error",
     "traceback": [
      "\u001b[1;31m---------------------------------------------------------------------------\u001b[0m",
      "\u001b[1;31mAttributeError\u001b[0m                            Traceback (most recent call last)",
      "Cell \u001b[1;32mIn[56], line 1\u001b[0m\n\u001b[1;32m----> 1\u001b[0m \u001b[43mf2\u001b[49m\u001b[38;5;241;43m.\u001b[39;49m\u001b[43mremove\u001b[49m(\u001b[38;5;241m20\u001b[39m) \u001b[38;5;66;03m# will give an exception error\u001b[39;00m\n",
      "\u001b[1;31mAttributeError\u001b[0m: 'frozenset' object has no attribute 'remove'"
     ]
    }
   ],
   "source": [
    "f2.remove(20) # will give an exception error"
   ]
  },
  {
   "cell_type": "code",
   "execution_count": 57,
   "id": "79045cd1",
   "metadata": {},
   "outputs": [
    {
     "name": "stdout",
     "output_type": "stream",
     "text": [
      "5\n",
      "{1, 2, 3, 4, 5, 6, 7, 8, 9}\n",
      "1 9\n"
     ]
    }
   ],
   "source": [
    "# Some common functions between sets and list\n",
    "\n",
    "sa = {1, 2, 3, 4, 5}\n",
    "sb = {6, 7, 8, 9}\n",
    "\n",
    "print(len(sa))\n",
    "\n",
    "sa.update(sb)\n",
    "print(sa)\n",
    "\n",
    "print(min(sa), max(sa))"
   ]
  },
  {
   "cell_type": "code",
   "execution_count": 61,
   "id": "bed7c35f",
   "metadata": {},
   "outputs": [
    {
     "name": "stdout",
     "output_type": "stream",
     "text": [
      "5\n",
      "1 9\n"
     ]
    }
   ],
   "source": [
    "# Some common functions between sets and list\n",
    "\n",
    "la = [1, 2, 3, 4, 5]\n",
    "lb = [6, 7, 8, 9]\n",
    "\n",
    "print(len(la))\n",
    "\n",
    "# update will give an error\n",
    "# la.update(lb)\n",
    "# print(la)\n",
    "\n",
    "print(min(la), max(lb))"
   ]
  },
  {
   "cell_type": "code",
   "execution_count": 62,
   "id": "3fd8db42",
   "metadata": {},
   "outputs": [
    {
     "name": "stdout",
     "output_type": "stream",
     "text": [
      "{5, 6}\n"
     ]
    }
   ],
   "source": [
    "# Practice Problems:\n",
    "\n",
    "a = {1, 2, 3, 4, 5, 6}\n",
    "b = {5, 6, 7, 8, 9}\n",
    "\n",
    "# Return a new set having identical items from 2 sets\n",
    "c = a.intersection(b)\n",
    "print(c)"
   ]
  },
  {
   "cell_type": "code",
   "execution_count": 63,
   "id": "9c60692e",
   "metadata": {},
   "outputs": [
    {
     "name": "stdout",
     "output_type": "stream",
     "text": [
      "{1, 2, 3, 4, 5, 6, 7, 8, 9}\n"
     ]
    }
   ],
   "source": [
    "# Common elements between 2 sets\n",
    "# Get only unique items from two sets\n",
    "a5 = {1, 2, 3, 4, 5, 6}\n",
    "b5 = {5, 6, 7, 8, 9}\n",
    "print(a5.union(b5))"
   ]
  },
  {
   "cell_type": "code",
   "execution_count": 64,
   "id": "2a4fe347",
   "metadata": {},
   "outputs": [
    {
     "name": "stdout",
     "output_type": "stream",
     "text": [
      "{1, 2, 3, 4}\n",
      "{1, 2, 3, 4, 5, 6}\n"
     ]
    }
   ],
   "source": [
    "print(a5.difference(b5))\n",
    "print(a5)"
   ]
  },
  {
   "cell_type": "code",
   "execution_count": 65,
   "id": "b3a8ef0c",
   "metadata": {},
   "outputs": [
    {
     "name": "stdout",
     "output_type": "stream",
     "text": [
      "{1, 2, 3, 4}\n"
     ]
    }
   ],
   "source": [
    "# Update the first set with items that doest not exist in the second set\n",
    "a6 = {1, 2, 3, 4, 5, 6}\n",
    "b6 = {5, 6, 7, 8, 9}\n",
    "a6.difference_update(b6)\n",
    "print(a6)"
   ]
  },
  {
   "cell_type": "code",
   "execution_count": 66,
   "id": "1d22e956",
   "metadata": {},
   "outputs": [
    {
     "name": "stdout",
     "output_type": "stream",
     "text": [
      "{1, 2, 3, 4, 5}\n"
     ]
    }
   ],
   "source": [
    "# Remove items from the set at once\n",
    "sx = {1, 2, 3, 4, 5, 6, 7, 8}\n",
    "sx.difference_update({6, 7, 8})\n",
    "print(sx)"
   ]
  },
  {
   "cell_type": "code",
   "execution_count": 67,
   "id": "4614f052",
   "metadata": {},
   "outputs": [
    {
     "name": "stdout",
     "output_type": "stream",
     "text": [
      "{1, 2, 3, 4, 7, 8, 9}\n"
     ]
    }
   ],
   "source": [
    "# Return a set of elements present in set A or B, but not in both\n",
    "a22 = {1, 2, 3, 4, 5, 6}\n",
    "b22 = {5, 6, 7, 8, 9}\n",
    "a22.symmetric_difference(b22)\n",
    "print(a22.symmetric_difference(b22))"
   ]
  },
  {
   "cell_type": "code",
   "execution_count": 68,
   "id": "7e8890e0",
   "metadata": {},
   "outputs": [
    {
     "name": "stdout",
     "output_type": "stream",
     "text": [
      "{5, 6}\n"
     ]
    }
   ],
   "source": [
    "# Check if two sets have any elements in common\n",
    "# Display the common elemenst\n",
    "d = {1, 2, 3, 4, 5, 6}\n",
    "e = {5, 6, 7, 8, 9}\n",
    "if (d.isdisjoint(e)):\n",
    "    print(\"No common Elements\")\n",
    "else:\n",
    "    print(d.intersection(e))"
   ]
  },
  {
   "cell_type": "code",
   "execution_count": 69,
   "id": "0d95e21d",
   "metadata": {},
   "outputs": [
    {
     "name": "stdout",
     "output_type": "stream",
     "text": [
      "{1, 2, 3, 4, 7, 8, 9}\n"
     ]
    }
   ],
   "source": [
    "# Update s1 by adding items from set2 except common items\n",
    "\n",
    "f = {1, 2, 3, 4, 5, 6}\n",
    "g = {5, 6, 7, 8, 9}\n",
    "f.symmetric_difference_update(g)\n",
    "print(f)"
   ]
  },
  {
   "cell_type": "code",
   "execution_count": 70,
   "id": "cffee54c",
   "metadata": {},
   "outputs": [
    {
     "name": "stdout",
     "output_type": "stream",
     "text": [
      "{5, 6}\n"
     ]
    }
   ],
   "source": [
    "# Remove items from set1 that are not common to both set1 and set2\n",
    "g = {1, 2, 3, 4, 5, 6}\n",
    "h = {5, 6, 7, 8, 9}\n",
    "print(g.intersection(h))"
   ]
  },
  {
   "cell_type": "code",
   "execution_count": 71,
   "id": "9e6c957e",
   "metadata": {},
   "outputs": [
    {
     "name": "stdout",
     "output_type": "stream",
     "text": [
      "{5, 6}\n"
     ]
    }
   ],
   "source": [
    "# Or\n",
    "g.intersection_update(h)\n",
    "print(g)"
   ]
  },
  {
   "cell_type": "code",
   "execution_count": 72,
   "id": "46ac3cc8",
   "metadata": {},
   "outputs": [
    {
     "name": "stdout",
     "output_type": "stream",
     "text": [
      "True\n"
     ]
    }
   ],
   "source": [
    "# Python - Check if two lists have at-least one element common\n",
    "s9 = {1, 2, 3, 4, 5, 6}\n",
    "s10 = {5, 6, 7, 8, 9}\n",
    "print(not(set(s9).isdisjoint(set(s10))))\n",
    "# If disjoint is false that means element are common between 2 sets since\n",
    "# s9 and s10 have elements in common we need to print true use not operation"
   ]
  },
  {
   "cell_type": "code",
   "execution_count": 73,
   "id": "68cdafa5",
   "metadata": {},
   "outputs": [
    {
     "name": "stdout",
     "output_type": "stream",
     "text": [
      "{5}\n"
     ]
    }
   ],
   "source": [
    "# Program to find common elements in three lists using lists\n",
    "\n",
    "a3 = [1, 2, 3, 4, 5, 6]\n",
    "b3 = [5, 6, 7, 8, 9]\n",
    "c3 = [5, 8, 7, 11]\n",
    "print(set(a3).intersection(set(b3)).intersection(set(c3)))"
   ]
  },
  {
   "cell_type": "code",
   "execution_count": 74,
   "id": "61adf83d",
   "metadata": {},
   "outputs": [
    {
     "name": "stdout",
     "output_type": "stream",
     "text": [
      "{1, 2, 3, 7, 8}\n"
     ]
    }
   ],
   "source": [
    "# Python Program to Find missing and additional values in two lists\n",
    "\n",
    "ls1 = [1, 2, 3, 4, 5, 6]\n",
    "ls2 = [4, 5, 6, 7, 8]\n",
    "print(set(ls1).symmetric_difference(ls2))"
   ]
  },
  {
   "cell_type": "code",
   "execution_count": 75,
   "id": "1b8175aa",
   "metadata": {},
   "outputs": [
    {
     "name": "stdout",
     "output_type": "stream",
     "text": [
      "{1, 2, 3}\n",
      "{1}\n"
     ]
    }
   ],
   "source": [
    "# Python Program to Find difference between two list\n",
    "\n",
    "print(set(ls1).difference(set(ls2)))\n",
    "\n",
    "# Use set difference to find lost element from a duplicated array\n",
    "l1 = [1, 4, 5, 7, 9]\n",
    "l2 = [4, 5, 7, 9]\n",
    "print(set(l1).difference(set(l2)))"
   ]
  },
  {
   "cell_type": "code",
   "execution_count": null,
   "id": "0ef70884",
   "metadata": {},
   "outputs": [],
   "source": []
  }
 ],
 "metadata": {
  "kernelspec": {
   "display_name": "venv",
   "language": "python",
   "name": "python3"
  },
  "language_info": {
   "codemirror_mode": {
    "name": "ipython",
    "version": 3
   },
   "file_extension": ".py",
   "mimetype": "text/x-python",
   "name": "python",
   "nbconvert_exporter": "python",
   "pygments_lexer": "ipython3",
   "version": "3.10.11"
  }
 },
 "nbformat": 4,
 "nbformat_minor": 5
}
