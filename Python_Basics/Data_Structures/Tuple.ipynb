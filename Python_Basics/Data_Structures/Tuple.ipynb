{
 "cells": [
  {
   "cell_type": "code",
   "execution_count": 1,
   "id": "826450fd",
   "metadata": {},
   "outputs": [
    {
     "name": "stdout",
     "output_type": "stream",
     "text": [
      "(1, 2, 'three', 'four', 5.5)\n",
      "(1,)\n"
     ]
    }
   ],
   "source": [
    "# Creating a Tuple\n",
    "t1 = (1, 2, \"three\", \"four\", 5.5)\n",
    "t2 = t1[:1]\n",
    "print(t1)\n",
    "print(t2)"
   ]
  },
  {
   "cell_type": "code",
   "execution_count": 2,
   "id": "604908f4",
   "metadata": {},
   "outputs": [
    {
     "name": "stdout",
     "output_type": "stream",
     "text": [
      "(1, 2, 'three', 'four', 5.5, 1)\n"
     ]
    }
   ],
   "source": [
    "# Joining 2 tuples\n",
    "print(t1+t2)"
   ]
  },
  {
   "cell_type": "code",
   "execution_count": 4,
   "id": "2a276d46",
   "metadata": {},
   "outputs": [],
   "source": [
    "# tuple in Python is immutable.\n",
    "# Not Supported function"
   ]
  },
  {
   "cell_type": "code",
   "execution_count": 6,
   "id": "cdb252b6",
   "metadata": {},
   "outputs": [
    {
     "name": "stdout",
     "output_type": "stream",
     "text": [
      "(1, 2, 'three', 'four', 5.5, 1)\n"
     ]
    }
   ],
   "source": [
    "# Joining 2 tuples to create a new tuple\n",
    "t3 = (t1+t2)\n",
    "print(t3)"
   ]
  },
  {
   "cell_type": "code",
   "execution_count": 8,
   "id": "519082f5",
   "metadata": {},
   "outputs": [
    {
     "ename": "TypeError",
     "evalue": "'tuple' object does not support item assignment",
     "output_type": "error",
     "traceback": [
      "\u001b[1;31m---------------------------------------------------------------------------\u001b[0m",
      "\u001b[1;31mTypeError\u001b[0m                                 Traceback (most recent call last)",
      "Cell \u001b[1;32mIn[8], line 4\u001b[0m\n\u001b[0;32m      1\u001b[0m \u001b[38;5;66;03m# Error : updating a tuple is not possible\u001b[39;00m\n\u001b[0;32m      3\u001b[0m t4 \u001b[38;5;241m=\u001b[39m (\u001b[38;5;241m10\u001b[39m, \u001b[38;5;241m22\u001b[39m, \u001b[38;5;241m33\u001b[39m, \u001b[38;5;241m54\u001b[39m, \u001b[38;5;241m57\u001b[39m)\n\u001b[1;32m----> 4\u001b[0m \u001b[43mt4\u001b[49m\u001b[43m[\u001b[49m\u001b[38;5;241;43m1\u001b[39;49m\u001b[43m]\u001b[49m \u001b[38;5;241m=\u001b[39m \u001b[38;5;241m12\u001b[39m\n",
      "\u001b[1;31mTypeError\u001b[0m: 'tuple' object does not support item assignment"
     ]
    }
   ],
   "source": [
    "# Error : updating a tuple is not possible\n",
    "\n",
    "t4 = (10, 22, 33, 54, 57)\n",
    "t4[1] = 12"
   ]
  },
  {
   "cell_type": "code",
   "execution_count": 10,
   "id": "c521bc4b",
   "metadata": {},
   "outputs": [
    {
     "ename": "AttributeError",
     "evalue": "'tuple' object has no attribute 'append'",
     "output_type": "error",
     "traceback": [
      "\u001b[1;31m---------------------------------------------------------------------------\u001b[0m",
      "\u001b[1;31mAttributeError\u001b[0m                            Traceback (most recent call last)",
      "Cell \u001b[1;32mIn[10], line 4\u001b[0m\n\u001b[0;32m      1\u001b[0m \u001b[38;5;66;03m# Error : appending a tuple is not possible\u001b[39;00m\n\u001b[0;32m      3\u001b[0m t4 \u001b[38;5;241m=\u001b[39m (\u001b[38;5;241m10\u001b[39m, \u001b[38;5;241m22\u001b[39m, \u001b[38;5;241m33\u001b[39m, \u001b[38;5;241m54\u001b[39m, \u001b[38;5;241m57\u001b[39m)\n\u001b[1;32m----> 4\u001b[0m \u001b[43mt4\u001b[49m\u001b[38;5;241;43m.\u001b[39;49m\u001b[43mappend\u001b[49m(\u001b[38;5;241m4\u001b[39m) \n",
      "\u001b[1;31mAttributeError\u001b[0m: 'tuple' object has no attribute 'append'"
     ]
    }
   ],
   "source": [
    "# Error : appending a tuple is not possible\n",
    "\n",
    "t4 = (10, 22, 33, 54, 57)\n",
    "t4.append(4) "
   ]
  },
  {
   "cell_type": "code",
   "execution_count": 11,
   "id": "df1b70c0",
   "metadata": {},
   "outputs": [
    {
     "ename": "AttributeError",
     "evalue": "'tuple' object has no attribute 'remove'",
     "output_type": "error",
     "traceback": [
      "\u001b[1;31m---------------------------------------------------------------------------\u001b[0m",
      "\u001b[1;31mAttributeError\u001b[0m                            Traceback (most recent call last)",
      "Cell \u001b[1;32mIn[11], line 4\u001b[0m\n\u001b[0;32m      1\u001b[0m \u001b[38;5;66;03m# Error : tuple object has no attribute return or pop\u001b[39;00m\n\u001b[0;32m      3\u001b[0m t4 \u001b[38;5;241m=\u001b[39m (\u001b[38;5;241m10\u001b[39m, \u001b[38;5;241m22\u001b[39m, \u001b[38;5;241m33\u001b[39m, \u001b[38;5;241m54\u001b[39m, \u001b[38;5;241m57\u001b[39m)\n\u001b[1;32m----> 4\u001b[0m \u001b[43mt4\u001b[49m\u001b[38;5;241;43m.\u001b[39;49m\u001b[43mremove\u001b[49m(\u001b[38;5;241m3\u001b[39m) \n",
      "\u001b[1;31mAttributeError\u001b[0m: 'tuple' object has no attribute 'remove'"
     ]
    }
   ],
   "source": [
    "# Error : tuple object has no attribute return or pop\n",
    "\n",
    "t4 = (10, 22, 33, 54, 57)\n",
    "t4.remove(3) "
   ]
  },
  {
   "cell_type": "code",
   "execution_count": 12,
   "id": "d26958e1",
   "metadata": {},
   "outputs": [
    {
     "ename": "TypeError",
     "evalue": "'tuple' object doesn't support item deletion",
     "output_type": "error",
     "traceback": [
      "\u001b[1;31m---------------------------------------------------------------------------\u001b[0m",
      "\u001b[1;31mTypeError\u001b[0m                                 Traceback (most recent call last)",
      "Cell \u001b[1;32mIn[12], line 4\u001b[0m\n\u001b[0;32m      1\u001b[0m \u001b[38;5;66;03m# tuple does not support item deletion\u001b[39;00m\n\u001b[0;32m      3\u001b[0m t4 \u001b[38;5;241m=\u001b[39m (\u001b[38;5;241m10\u001b[39m, \u001b[38;5;241m22\u001b[39m, \u001b[38;5;241m33\u001b[39m, \u001b[38;5;241m54\u001b[39m, \u001b[38;5;241m57\u001b[39m)\n\u001b[1;32m----> 4\u001b[0m \u001b[38;5;28;01mdel\u001b[39;00m(t4[\u001b[38;5;241m0\u001b[39m]) \n",
      "\u001b[1;31mTypeError\u001b[0m: 'tuple' object doesn't support item deletion"
     ]
    }
   ],
   "source": [
    "# tuple does not support item deletion\n",
    "\n",
    "t4 = (10, 22, 33, 54, 57)\n",
    "del(t4[0]) "
   ]
  },
  {
   "cell_type": "code",
   "execution_count": 13,
   "id": "042eb9d4",
   "metadata": {},
   "outputs": [
    {
     "name": "stdout",
     "output_type": "stream",
     "text": [
      "(1, 2, [30, 4])\n"
     ]
    }
   ],
   "source": [
    "# if a tuple contains mutable elements like lists, the mutable elements themselves can be changed.\n",
    "\n",
    "nested_tuple = (1, 2, [3, 4])\n",
    "nested_tuple[2][0] = 30  # This is allowed\n",
    "print(nested_tuple)  # Output: (1, 2, [30, 4])"
   ]
  },
  {
   "cell_type": "code",
   "execution_count": null,
   "id": "df988e48",
   "metadata": {},
   "outputs": [],
   "source": [
    "# Deleting tuple is allowed\n",
    "\n",
    "del(t3)"
   ]
  },
  {
   "cell_type": "code",
   "execution_count": 15,
   "id": "73a635d0",
   "metadata": {},
   "outputs": [
    {
     "name": "stdout",
     "output_type": "stream",
     "text": [
      "5\n"
     ]
    }
   ],
   "source": [
    "# will print the length of the object\n",
    "print(len(t1))"
   ]
  },
  {
   "cell_type": "code",
   "execution_count": 16,
   "id": "696c9dec",
   "metadata": {},
   "outputs": [
    {
     "name": "stdout",
     "output_type": "stream",
     "text": [
      "True\n"
     ]
    }
   ],
   "source": [
    "# membership operator will return ture if item present in th etuple\n",
    "print(2 in t1)"
   ]
  },
  {
   "cell_type": "code",
   "execution_count": 17,
   "id": "1d111ae8",
   "metadata": {},
   "outputs": [
    {
     "name": "stdout",
     "output_type": "stream",
     "text": [
      "21\n"
     ]
    }
   ],
   "source": [
    "t4 = (3, 5, 7, 11, 21, 9)\n",
    "# will return the minimum of tuple\n",
    "print(max(t4))"
   ]
  },
  {
   "cell_type": "code",
   "execution_count": 18,
   "id": "d45ce85d",
   "metadata": {},
   "outputs": [
    {
     "name": "stdout",
     "output_type": "stream",
     "text": [
      "3\n"
     ]
    }
   ],
   "source": [
    "# will return the maximum of tuple\n",
    "print(min(t4))"
   ]
  },
  {
   "cell_type": "code",
   "execution_count": 19,
   "id": "cf95f085",
   "metadata": {},
   "outputs": [
    {
     "name": "stdout",
     "output_type": "stream",
     "text": [
      "9 25 49 121 441 81 \n",
      "1 2 three four 5.5 \n"
     ]
    }
   ],
   "source": [
    "for i in t4:\n",
    "    print(i**2, end=' ')\n",
    "print()\n",
    "\n",
    "for i in t1:\n",
    "    print(i , end=' ')\n",
    "print()"
   ]
  },
  {
   "cell_type": "code",
   "execution_count": 21,
   "id": "844f03a2",
   "metadata": {},
   "outputs": [
    {
     "name": "stdout",
     "output_type": "stream",
     "text": [
      "(3, 5, 7, 11, 21, 9)\n",
      "(3, 5, 7, 11, 21, 9, 3, 5, 7, 11, 21, 9)\n"
     ]
    }
   ],
   "source": [
    "print(t4)\n",
    "# printing a tuple multiple times\n",
    "print(t4*2)"
   ]
  },
  {
   "cell_type": "code",
   "execution_count": 22,
   "id": "1a334eda",
   "metadata": {},
   "outputs": [
    {
     "name": "stdout",
     "output_type": "stream",
     "text": [
      "(0, 2, 4, 6, 8, 10, 12, 14, 16, 18)\n",
      "(0, 3, 6, 9, 12, 15, 18, 21, 24, 27, 30)\n"
     ]
    }
   ],
   "source": [
    "# Creating a tuple using range function with increment\n",
    "t5 = tuple(range(0, 20, 2))\n",
    "print(t5)\n",
    "\n",
    "t6 = tuple(range(0, 31, 3))\n",
    "print(t6)"
   ]
  },
  {
   "cell_type": "code",
   "execution_count": null,
   "id": "356638a2",
   "metadata": {},
   "outputs": [],
   "source": []
  }
 ],
 "metadata": {
  "kernelspec": {
   "display_name": "venv",
   "language": "python",
   "name": "python3"
  },
  "language_info": {
   "codemirror_mode": {
    "name": "ipython",
    "version": 3
   },
   "file_extension": ".py",
   "mimetype": "text/x-python",
   "name": "python",
   "nbconvert_exporter": "python",
   "pygments_lexer": "ipython3",
   "version": "3.10.11"
  }
 },
 "nbformat": 4,
 "nbformat_minor": 5
}
