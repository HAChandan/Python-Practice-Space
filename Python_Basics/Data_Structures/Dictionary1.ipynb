{
 "cells": [
  {
   "cell_type": "code",
   "execution_count": 1,
   "id": "44f33024",
   "metadata": {},
   "outputs": [
    {
     "name": "stdout",
     "output_type": "stream",
     "text": [
      "{'Name': 'Chandan', 'Age': 26, 'Weight': 71}\n"
     ]
    }
   ],
   "source": [
    "# Creating an empty dictionary\n",
    "dict12 = {}\n",
    "\n",
    "# Adding values to the dictionary\n",
    "dict12[\"Name\"] = \"Chandan\"\n",
    "dict12[\"Age\"] = 26\n",
    "dict12[\"Weight\"] = 71\n",
    "print(dict12)"
   ]
  },
  {
   "cell_type": "code",
   "execution_count": 2,
   "id": "c0a7ccb9",
   "metadata": {},
   "outputs": [
    {
     "name": "stdout",
     "output_type": "stream",
     "text": [
      "Chandan\n"
     ]
    }
   ],
   "source": [
    "# Accessing a values from a dictionary\n",
    "print(dict12[\"Name\"])"
   ]
  },
  {
   "cell_type": "code",
   "execution_count": 3,
   "id": "ac996b9d",
   "metadata": {},
   "outputs": [
    {
     "name": "stdout",
     "output_type": "stream",
     "text": [
      "dfbb\n"
     ]
    }
   ],
   "source": [
    "# creating dictionary with values\n",
    "d1 = {'AMS':'afbs', 'MAHS':'dfbb', 'MNXA':'csdfb', 'NBVJ':'dsds', 'MAAJ':'esdb'}\n",
    "print(d1['MAHS'])"
   ]
  },
  {
   "cell_type": "code",
   "execution_count": 4,
   "id": "73c980bb",
   "metadata": {},
   "outputs": [
    {
     "name": "stdout",
     "output_type": "stream",
     "text": [
      "{4: 'a', 6: 'a', 7: 'a', 8: 'a', 9: 'a'}\n",
      "{4: [16, 36, 49, 64, 81], 6: [16, 36, 49, 64, 81], 7: [16, 36, 49, 64, 81], 8: [16, 36, 49, 64, 81], 9: [16, 36, 49, 64, 81]}\n"
     ]
    }
   ],
   "source": [
    "# creating dictionary with other iterables\n",
    "l1 = [4, 6, 7, 8, 9]\n",
    "l2 = [x**2 for x in l1]\n",
    "d2 = {}\n",
    "d2 = d2.fromkeys(l1, 'a')\n",
    "print(d2)\n",
    "d6 = {}\n",
    "d6 = d6.fromkeys(l1, l2)\n",
    "print(d6)"
   ]
  },
  {
   "cell_type": "code",
   "execution_count": 5,
   "id": "a2c0c6b2",
   "metadata": {},
   "outputs": [
    {
     "name": "stdout",
     "output_type": "stream",
     "text": [
      "{'One': 'Apple', 'Two': 'Mango', 'Three': 'Grapes', 'Four': 'Guva', 'Five': 'Orange', 'Six': 'Coko'}\n"
     ]
    }
   ],
   "source": [
    "# Using list for both keys and values\n",
    "L3 = ['One', 'Two', 'Three', 'Four', 'Five', 'Six']\n",
    "L4 = ['Apple', 'Mango', 'Grapes', 'Guva', 'Orange', 'Coko', 'Nuts']\n",
    "\n",
    "d3 = dict(zip(L3, L4))\n",
    "print(d3)"
   ]
  },
  {
   "cell_type": "code",
   "execution_count": 6,
   "id": "9d663fb7",
   "metadata": {},
   "outputs": [
    {
     "name": "stdout",
     "output_type": "stream",
     "text": [
      "[(4, 16, 34), (6, 36, 45), (7, 49, 64), (8, 64, 87), (9, 81, 97)]\n"
     ]
    }
   ],
   "source": [
    "# Zip function can be also used to create a list that contain tuples from 2 iterables\n",
    "l1 = [4, 6, 7, 8, 9]\n",
    "l2 = [16, 36, 49, 64, 81]\n",
    "l3 = (34, 45, 64, 87, 97)\n",
    "l4 = list(zip(l1, l2, l3))\n",
    "print(l4)"
   ]
  },
  {
   "cell_type": "code",
   "execution_count": 7,
   "id": "78d9218d",
   "metadata": {},
   "outputs": [
    {
     "name": "stdout",
     "output_type": "stream",
     "text": [
      "[(4, 'abc'), (7, 'def'), (8, 'ghi')]\n"
     ]
    }
   ],
   "source": [
    "# Zip function for uneven length of iterables (length of zip obj = len of shortest iterables)\n",
    "box2 = [4, 7, 8]\n",
    "box3 = ['abc', 'def', 'ghi', 'jkl', 'mno']\n",
    "box5 = list(zip(box2, box3))\n",
    "print(box5)"
   ]
  },
  {
   "cell_type": "code",
   "execution_count": 9,
   "id": "bfe502b5",
   "metadata": {},
   "outputs": [
    {
     "name": "stdout",
     "output_type": "stream",
     "text": [
      "['AMS', 'MAHS', 'MNXA', 'NBVJ', 'MAAJ']\n"
     ]
    }
   ],
   "source": [
    "# Retrieving all the keys\n",
    "d1 = {'AMS':'afbs', 'MAHS':'dfbb', 'MNXA':'csdfb', 'NBVJ':'dsds', 'MAAJ':'esdb'}\n",
    "l1 = list(d1.keys())\n",
    "print(l1)"
   ]
  },
  {
   "cell_type": "code",
   "execution_count": 10,
   "id": "f18f284c",
   "metadata": {},
   "outputs": [
    {
     "name": "stdout",
     "output_type": "stream",
     "text": [
      "['afbs', 'dfbb', 'csdfb', 'dsds', 'esdb']\n"
     ]
    }
   ],
   "source": [
    "# Retrieving all the values\n",
    "l2 = list(d1.values())\n",
    "print(l2)"
   ]
  },
  {
   "cell_type": "code",
   "execution_count": 11,
   "id": "f86bdff3",
   "metadata": {},
   "outputs": [
    {
     "name": "stdout",
     "output_type": "stream",
     "text": [
      "d1 is =  {'AMS': 'afbs', 'MAHS': 'dfbb', 'MNXA': 'csdfb', 'NBVJ': 'dsds', 'MAAJ': 'esdb'}\n",
      "{'AMS': 'afbs', 'MAHS': 'dfbb', 'MNXA': 'csdfb', 'NBVJ': 'dsds', 'MAAJ': 'esdb'}\n",
      "AMS MAHS MNXA NBVJ MAAJ \n",
      "afbs dfbb csdfb dsds esdb \n"
     ]
    }
   ],
   "source": [
    "print(\"d1 is = \", d1)\n",
    "\n",
    "print(d1)\n",
    "for i in d1:\n",
    "    print(i, end=' ') # to fetch keys\n",
    "print()\n",
    "\n",
    "for i in d1:\n",
    "    print(d1[i], end=' ') # to fetch values\n",
    "print()"
   ]
  },
  {
   "cell_type": "code",
   "execution_count": 12,
   "id": "50b934f9",
   "metadata": {},
   "outputs": [
    {
     "name": "stdout",
     "output_type": "stream",
     "text": [
      "The d2 is = {1: 'a', 2: 'a', 3: 'a', 4: 'a', 5: 'a'}\n",
      "1 a\n",
      "2 a\n",
      "3 a\n",
      "4 a\n",
      "5 a\n",
      "The updated d2 is = {1: 1, 2: 4, 3: 9, 4: 16, 5: 25}\n"
     ]
    }
   ],
   "source": [
    "# Looping example\n",
    "\n",
    "d2 = {1: 'a', 2: 'a', 3: 'a', 4: 'a', 5: 'a'}\n",
    "l2 = [1, 4, 9, 16, 25]\n",
    "\n",
    "print(\"The d2 is =\", d2)\n",
    "\n",
    "for i in d2:\n",
    "    print(i, end = ' ')\n",
    "    print(d2[i])\n",
    "    d2[i] = l2[i - 1]\n",
    "\n",
    "print(\"The updated d2 is =\", d2)"
   ]
  },
  {
   "cell_type": "code",
   "execution_count": 13,
   "id": "a270a4e2",
   "metadata": {},
   "outputs": [
    {
     "name": "stdout",
     "output_type": "stream",
     "text": [
      "{'a': 'mirror', 'b': 'mirror', 'c': 'mirror'}\n",
      "a b c \n"
     ]
    }
   ],
   "source": [
    "# Another Example\n",
    "\n",
    "l3 = ['a', 'b', 'c']\n",
    "l4 = ['rock', 'paper', 'scissor']\n",
    "d6 = {}\n",
    "d6 = d6.fromkeys(l3, 'mirror')\n",
    "print(d6)\n",
    "\n",
    "for i in d6:\n",
    "    print(i, end=' ')\n",
    "print()"
   ]
  },
  {
   "cell_type": "code",
   "execution_count": 14,
   "id": "2565096a",
   "metadata": {},
   "outputs": [
    {
     "name": "stdout",
     "output_type": "stream",
     "text": [
      "mirror mirror mirror \n"
     ]
    }
   ],
   "source": [
    "for i in d6:\n",
    "    print(d6[i], end=' ')\n",
    "print()"
   ]
  },
  {
   "cell_type": "code",
   "execution_count": 15,
   "id": "f305cf7e",
   "metadata": {},
   "outputs": [
    {
     "name": "stdout",
     "output_type": "stream",
     "text": [
      "{'a': 'rock', 'b': 'paper', 'c': 'scissor'}\n"
     ]
    }
   ],
   "source": [
    "x = 0\n",
    "for i in d6:\n",
    "    d6[i] = l4[x]\n",
    "    x = x + 1\n",
    "print(d6)"
   ]
  },
  {
   "cell_type": "code",
   "execution_count": 16,
   "id": "bc7c5d49",
   "metadata": {},
   "outputs": [
    {
     "name": "stdout",
     "output_type": "stream",
     "text": [
      "{'a': 'rock', 'b': 'paper', 'c': 'scissor'}\n"
     ]
    }
   ],
   "source": [
    "# zip used to create dictionary using two sets\n",
    "d7 = dict(zip(l3, l4))\n",
    "print(d7)"
   ]
  },
  {
   "cell_type": "code",
   "execution_count": 17,
   "id": "75dd27eb",
   "metadata": {},
   "outputs": [
    {
     "name": "stdout",
     "output_type": "stream",
     "text": [
      "d10 is {5: 25, 7: 49, 8: 64, 10: 100, 12: 144}\n",
      "5\n",
      "12\n"
     ]
    }
   ],
   "source": [
    "# Dictionary built-in function\n",
    "# min, max\n",
    "\n",
    "l1 = [5, 7, 8, 10, 12]\n",
    "l2 = [x**2 for x in l1]\n",
    "d10 = dict(zip(l1, l2))\n",
    "print(\"d10 is\", d10)\n",
    "print(min(d10))\n",
    "print(max(d10))"
   ]
  },
  {
   "cell_type": "code",
   "execution_count": 18,
   "id": "eafc23b6",
   "metadata": {},
   "outputs": [
    {
     "name": "stdout",
     "output_type": "stream",
     "text": [
      "Ford\n",
      "Mustang\n"
     ]
    }
   ],
   "source": [
    "#  get, returns the value of the keys that we pass\n",
    "\n",
    "Dict_11 = {\n",
    "  \"brand\": \"Ford\",\n",
    "  \"model\": \"Mustang\",\n",
    "  \"country\": \"Germany\",\n",
    "  \"type\": \"Petrol\"\n",
    "}\n",
    "print(Dict_11.get(\"brand\"))\n",
    "print(Dict_11.get(\"model\"))"
   ]
  },
  {
   "cell_type": "code",
   "execution_count": 20,
   "id": "a2a433e0",
   "metadata": {},
   "outputs": [
    {
     "name": "stdout",
     "output_type": "stream",
     "text": [
      "144\n"
     ]
    }
   ],
   "source": [
    "Dict_12 = {5: 25, 7: 49, 8: 64, 10: 100, 12: 144}\n",
    "print(Dict_12.get(max(Dict_12)))"
   ]
  },
  {
   "cell_type": "code",
   "execution_count": 21,
   "id": "8089b181",
   "metadata": {},
   "outputs": [
    {
     "name": "stdout",
     "output_type": "stream",
     "text": [
      "dict_items([('brand', 'Ford'), ('model', 'Mustang'), ('country', 'Germany'), ('type', 'Petrol')])\n"
     ]
    }
   ],
   "source": [
    "# items returns a list of all the item in the dictionary with\n",
    "# each key value pair inside a tuple\n",
    "print(Dict_11.items())\n",
    "l7 = list(Dict_11.items())"
   ]
  },
  {
   "cell_type": "code",
   "execution_count": 22,
   "id": "3e55512d",
   "metadata": {},
   "outputs": [
    {
     "name": "stdout",
     "output_type": "stream",
     "text": [
      "country\n",
      "Petrol\n"
     ]
    }
   ],
   "source": [
    "# Multilevel - indexing\n",
    "print(l7[2][0])\n",
    "print(l7[3][1])"
   ]
  },
  {
   "cell_type": "code",
   "execution_count": 23,
   "id": "24c3c285",
   "metadata": {},
   "outputs": [
    {
     "name": "stdout",
     "output_type": "stream",
     "text": [
      "6\n"
     ]
    }
   ],
   "source": [
    "# List Multilevel indexing \n",
    "l8 = [[1, 2], [3, 4, [5, 6]], 7, [8, 9]]\n",
    "print(l8[1][2][1])"
   ]
  },
  {
   "cell_type": "code",
   "execution_count": 24,
   "id": "b1a81aaa",
   "metadata": {},
   "outputs": [
    {
     "name": "stdout",
     "output_type": "stream",
     "text": [
      "4\n"
     ]
    }
   ],
   "source": [
    "# length function\n",
    "print(len(Dict_11))"
   ]
  },
  {
   "cell_type": "code",
   "execution_count": 25,
   "id": "d277682b",
   "metadata": {},
   "outputs": [
    {
     "name": "stdout",
     "output_type": "stream",
     "text": [
      "\n"
     ]
    }
   ],
   "source": [
    "# update all items of dictionary d10 to d11\n",
    "\n",
    "print()\n",
    "l9 = [4, 7, 8]\n",
    "l10 = [x**2 for x in l1]\n",
    "d10 = dict(zip(l9, l10))\n",
    "\n",
    "l11 = [10, 12, 15]\n",
    "l12 = [x**2 for x in l11]\n",
    "d11 = dict(zip(l11, l12))"
   ]
  },
  {
   "cell_type": "code",
   "execution_count": 26,
   "id": "c3b204fc",
   "metadata": {},
   "outputs": [
    {
     "name": "stdout",
     "output_type": "stream",
     "text": [
      "d11 is {10: 100, 12: 144, 15: 225}\n",
      "d10 is {4: 25, 7: 49, 8: 64}\n"
     ]
    }
   ],
   "source": [
    "print(\"d11 is\", d11)\n",
    "print(\"d10 is\", d10)"
   ]
  },
  {
   "cell_type": "code",
   "execution_count": 27,
   "id": "7fe1e706",
   "metadata": {},
   "outputs": [
    {
     "name": "stdout",
     "output_type": "stream",
     "text": [
      "Updated d10 is {4: 25, 7: 49, 8: 64, 10: 100, 12: 144, 15: 225}\n",
      "144\n"
     ]
    }
   ],
   "source": [
    "d10.update(d11)\n",
    "print(\"Updated d10 is\", d10)\n",
    "print(d10[12])"
   ]
  },
  {
   "cell_type": "code",
   "execution_count": 28,
   "id": "a0f6740c",
   "metadata": {},
   "outputs": [
    {
     "name": "stdout",
     "output_type": "stream",
     "text": [
      "{4: 25, 7: 49, 12: 144, 15: 225, 18: 324}\n",
      "324\n"
     ]
    }
   ],
   "source": [
    "# Set a default value if a key doesnt exist\n",
    "\n",
    "Dict_24 = {4: 25, 7: 49, 12: 144, 15: 225}\n",
    "Dict_24.setdefault(18, 324)\n",
    "print(Dict_24)\n",
    "print(Dict_24[18])"
   ]
  },
  {
   "cell_type": "code",
   "execution_count": 30,
   "id": "0e482418",
   "metadata": {},
   "outputs": [
    {
     "name": "stdout",
     "output_type": "stream",
     "text": [
      "{4: 25, 7: 49, 12: 144, 15: 225}\n",
      "49\n"
     ]
    }
   ],
   "source": [
    "# Set a default value if already exist it doest make any change\n",
    "\n",
    "Dict_30 = {4: 25, 7: 49, 12: 144, 15: 225}\n",
    "Dict_30.setdefault(7, 85)\n",
    "print(Dict_30)\n",
    "print(Dict_30[7])"
   ]
  },
  {
   "cell_type": "code",
   "execution_count": 31,
   "id": "bbe5ba01",
   "metadata": {},
   "outputs": [
    {
     "name": "stdout",
     "output_type": "stream",
     "text": [
      "Dict_24 after pop {4: 25, 7: 49, 12: 144, 15: 225, 18: 324}\n",
      "49\n",
      "Dict_24 after pop {4: 25, 12: 144, 15: 225, 18: 324}\n"
     ]
    }
   ],
   "source": [
    "# pop - remove the key value pair from the dictionary with passe key\n",
    "\n",
    "print(\"Dict_24 after pop\", Dict_24)\n",
    "print(Dict_24.pop(7))\n",
    "print(\"Dict_24 after pop\", Dict_24)"
   ]
  },
  {
   "cell_type": "code",
   "execution_count": 33,
   "id": "2b2f3bab",
   "metadata": {},
   "outputs": [
    {
     "name": "stdout",
     "output_type": "stream",
     "text": [
      "(15, 225)\n",
      "Dict_24 after popitem {4: 25, 12: 144}\n"
     ]
    }
   ],
   "source": [
    "# pop item - remove any random item from the dictionary\n",
    "print(Dict_24.popitem())\n",
    "print(\"Dict_24 after popitem\", Dict_24)"
   ]
  },
  {
   "cell_type": "code",
   "execution_count": 34,
   "id": "ef25343e",
   "metadata": {},
   "outputs": [
    {
     "name": "stdout",
     "output_type": "stream",
     "text": [
      "Dict_32 before clear {1: 'Python', 2: 'Java', 3: 'Ruby', 4: 'Scala'}\n",
      "Dict_32 after clear {}\n"
     ]
    }
   ],
   "source": [
    "Dict_32 ={1: 'Python', 2: 'Java', 3: 'Ruby', 4: 'Scala'}\n",
    "print(\"Dict_32 before clear\", Dict_32)\n",
    "Dict_32.clear()\n",
    "print(\"Dict_32 after clear\", Dict_32)"
   ]
  },
  {
   "cell_type": "code",
   "execution_count": 35,
   "id": "dddb9a44",
   "metadata": {},
   "outputs": [
    {
     "name": "stdout",
     "output_type": "stream",
     "text": [
      "The d6 {1: 'a', 2: 'b'}\n",
      "The d3 {1: 'a', 2: 'b'}\n"
     ]
    }
   ],
   "source": [
    "# Joining Two dictionary using **\n",
    "\n",
    "d3 = {1: 'a', 2: 'b'}\n",
    "d4 = {3: 'c', 4: 'e'}\n",
    "d6 = d3\n",
    "print(\"The d6\", d6)\n",
    "print(\"The d3\", d3)"
   ]
  },
  {
   "cell_type": "code",
   "execution_count": 36,
   "id": "8e777b38",
   "metadata": {},
   "outputs": [
    {
     "name": "stdout",
     "output_type": "stream",
     "text": [
      "Updated d3 =  {1: 'a', 2: 'b', 3: 'c', 4: 'e'}\n",
      "Updated d6 =  {1: 'a', 2: 'b', 3: 'c', 4: 'e'}\n"
     ]
    }
   ],
   "source": [
    "d3.update(d4)\n",
    "print(\"Updated d3 = \", d3)\n",
    "print(\"Updated d6 = \", d6)"
   ]
  },
  {
   "cell_type": "code",
   "execution_count": 37,
   "id": "73d6c2ad",
   "metadata": {},
   "outputs": [
    {
     "name": "stdout",
     "output_type": "stream",
     "text": [
      "The d5 {1: 'a', 2: 'b', 3: 'c', 4: 'e'}\n"
     ]
    }
   ],
   "source": [
    "# Copy - Copy Dictionary d1 into d3\n",
    "d5 = d3.copy()\n",
    "print(\"The d5\", d5)"
   ]
  },
  {
   "cell_type": "code",
   "execution_count": 38,
   "id": "92721eeb",
   "metadata": {},
   "outputs": [
    {
     "name": "stdout",
     "output_type": "stream",
     "text": [
      "The d3 {1: 'a', 2: 'z', 3: 'c', 4: 'e'}\n",
      "The d6 {1: 'a', 2: 'z', 3: 'c', 4: 'e'}\n"
     ]
    }
   ],
   "source": [
    "# Use of Copy function - Shallow copy\n",
    "d6[2] = 'z'\n",
    "print(\"The d3\",d3)\n",
    "print(\"The d6\",d6)\n"
   ]
  },
  {
   "cell_type": "code",
   "execution_count": 39,
   "id": "13eb357d",
   "metadata": {},
   "outputs": [
    {
     "name": "stdout",
     "output_type": "stream",
     "text": [
      "The d3 {1: 'a', 2: 'z', 3: 'c', 4: 'e'}\n",
      "The d5 {1: 'a', 2: 'b', 3: 'y', 4: 'e'}\n"
     ]
    }
   ],
   "source": [
    "# Use of Copy function - Deep copy\n",
    "\n",
    "d5[3] = 'y'\n",
    "print(\"The d3\", d3)\n",
    "print(\"The d5\", d5)"
   ]
  },
  {
   "cell_type": "code",
   "execution_count": null,
   "id": "151943e1",
   "metadata": {},
   "outputs": [],
   "source": []
  }
 ],
 "metadata": {
  "kernelspec": {
   "display_name": "venv",
   "language": "python",
   "name": "python3"
  },
  "language_info": {
   "codemirror_mode": {
    "name": "ipython",
    "version": 3
   },
   "file_extension": ".py",
   "mimetype": "text/x-python",
   "name": "python",
   "nbconvert_exporter": "python",
   "pygments_lexer": "ipython3",
   "version": "3.10.11"
  }
 },
 "nbformat": 4,
 "nbformat_minor": 5
}
