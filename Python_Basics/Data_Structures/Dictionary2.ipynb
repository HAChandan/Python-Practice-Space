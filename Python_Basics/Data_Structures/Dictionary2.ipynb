{
 "cells": [
  {
   "cell_type": "code",
   "execution_count": 3,
   "id": "dc6cba2d",
   "metadata": {},
   "outputs": [
    {
     "name": "stdout",
     "output_type": "stream",
     "text": [
      "# 1)Adding new value to the dictionary\n",
      "dict_values(['honda', 'unicorn', 2020])\n",
      "dict_values(['honda', 'unicorn', 2022])\n"
     ]
    }
   ],
   "source": [
    "\n",
    "print(\"# 1)Adding new value to the dictionary\")\n",
    "\n",
    "bike = {\n",
    "    \"brand\": \"honda\",\n",
    "    \"model\": \"unicorn\",\n",
    "    \"year\": 2020\n",
    "}\n",
    "\n",
    "show1 = bike.values()\n",
    "print(show1)\n",
    "\n",
    "bike[\"year\"] = 2022\n",
    "print(show1)"
   ]
  },
  {
   "cell_type": "code",
   "execution_count": 4,
   "id": "11f0d3a1",
   "metadata": {},
   "outputs": [
    {
     "name": "stdout",
     "output_type": "stream",
     "text": [
      "# 2)Accessing items of a dictionary\n",
      "2020\n"
     ]
    }
   ],
   "source": [
    "print(\"# 2)Accessing items of a dictionary\")\n",
    "\n",
    "bike = {\n",
    "    \"brand\": \"honda\",\n",
    "    \"model\": \"unicorn\",\n",
    "    \"year\": 2020\n",
    "}\n",
    "show3 = bike[\"year\"]\n",
    "print(show3)"
   ]
  },
  {
   "cell_type": "code",
   "execution_count": 5,
   "id": "adb1056b",
   "metadata": {},
   "outputs": [
    {
     "name": "stdout",
     "output_type": "stream",
     "text": [
      "# 3)Get keys \n",
      "dict_keys(['brand', 'model', 'year'])\n"
     ]
    }
   ],
   "source": [
    "print(\"# 3)Get keys \")\n",
    "\n",
    "bike = {\n",
    "    \"brand\": \"honda\",\n",
    "    \"model\": \"unicorn\",\n",
    "    \"year\": 2020\n",
    "}\n",
    "show2 = bike.keys()\n",
    "print(show2)\n"
   ]
  },
  {
   "cell_type": "code",
   "execution_count": 6,
   "id": "501308f5",
   "metadata": {},
   "outputs": [
    {
     "name": "stdout",
     "output_type": "stream",
     "text": [
      "# 4)Get values \n",
      "dict_values(['honda', 'unicorn', 2020])\n"
     ]
    }
   ],
   "source": [
    "print(\"# 4)Get values \")\n",
    "\n",
    "bike = {\n",
    "    \"brand\": \"honda\",\n",
    "    \"model\": \"unicorn\",\n",
    "    \"year\": 2020\n",
    "}\n",
    "show4 = bike.values()\n",
    "print(show4)"
   ]
  },
  {
   "cell_type": "code",
   "execution_count": 7,
   "id": "4224a53b",
   "metadata": {},
   "outputs": [
    {
     "name": "stdout",
     "output_type": "stream",
     "text": [
      "# 5)Make changes in the original Dictionary \n",
      "dict_values(['tvs', 'jupiter', 2019])\n",
      "dict_values(['tvs', 'jupiter', 2021])\n"
     ]
    }
   ],
   "source": [
    "print(\"# 5)Make changes in the original Dictionary \")\n",
    "\n",
    "bike = {\n",
    "    \"brand\": \"tvs\",\n",
    "    \"model\": \"jupiter\",\n",
    "    \"year\": 2019\n",
    "}\n",
    "show5 = bike.values()\n",
    "print(show5)\n",
    "\n",
    "bike[\"year\"] = 2021\n",
    "print(show5)\n"
   ]
  },
  {
   "cell_type": "code",
   "execution_count": 8,
   "id": "3b7f85b6",
   "metadata": {},
   "outputs": [
    {
     "name": "stdout",
     "output_type": "stream",
     "text": [
      "# 6)Get items in the Dictionary as a tuple in the list\n",
      "dict_items([('brand', 'tvs'), ('model', 'jupiter'), ('year', 2019)])\n"
     ]
    }
   ],
   "source": [
    "print(\"# 6)Get items in the Dictionary as a tuple in the list\")\n",
    "\n",
    "bike = {\n",
    "    \"brand\": \"tvs\",\n",
    "    \"model\": \"jupiter\",\n",
    "    \"year\": 2019\n",
    "}\n",
    "show6 = bike.items()\n",
    "print(show6)"
   ]
  },
  {
   "cell_type": "code",
   "execution_count": 10,
   "id": "f517c2a0",
   "metadata": {},
   "outputs": [
    {
     "name": "stdout",
     "output_type": "stream",
     "text": [
      "# 7)Adding Making a changes in the original dictionary and see that a item list is updated as well\n",
      "dict_items([('brand', 'tvs'), ('model', 'jupiter'), ('year', 1997)])\n",
      "dict_items([('brand', 'tvs'), ('model', 'jupiter'), ('year', '2021'), ('colour', 'gray'), ('price', '97000')])\n"
     ]
    }
   ],
   "source": [
    "print(\"# 7)Adding Making a changes in the original dictionary and see that a item list is updated as well\")\n",
    "\n",
    "bike = {\n",
    "    \"brand\": \"tvs\",\n",
    "    \"model\": \"jupiter\",\n",
    "    \"year\": 1997\n",
    "}\n",
    "show7 = bike.items()\n",
    "print(show7)\n",
    "\n",
    "bike[\"colour\"] = \"gray\"\n",
    "bike[\"year\"] = \"2021\"\n",
    "bike[\"price\"] = \"97000\"\n",
    "\n",
    "print(show7)\n"
   ]
  },
  {
   "cell_type": "code",
   "execution_count": 11,
   "id": "59e282bd",
   "metadata": {},
   "outputs": [
    {
     "name": "stdout",
     "output_type": "stream",
     "text": [
      "# 8)if statement and in to determine the key is present in the dictionary\n",
      "\n",
      "yes, the price is present in the bike\n",
      "97000\n"
     ]
    }
   ],
   "source": [
    "print(\"# 8)if statement and in to determine the key is present in the dictionary\")\n",
    "print()\n",
    "bike = {\n",
    "    \"brand\": \"tvs\",\n",
    "    \"model\": \"jupiter\",\n",
    "    \"year\": \"2017\",\n",
    "    \"price\": \"97000\"\n",
    "}\n",
    "if \"price\" in bike:\n",
    "    print(\"yes, the price is present in the bike\")\n",
    "else:\n",
    "    print(\"yes, the price is not present in the bike\")\n",
    "\n",
    "show8 = bike[\"price\"]\n",
    "print(show8)"
   ]
  },
  {
   "cell_type": "code",
   "execution_count": 12,
   "id": "ac5ea0f4",
   "metadata": {},
   "outputs": [
    {
     "name": "stdout",
     "output_type": "stream",
     "text": [
      "\n",
      "# 9)Change values\n",
      "\n",
      "{'brand': 'tvs', 'model': 'starcity', 'year': 2018, 'price': '97000'}\n",
      "\n"
     ]
    }
   ],
   "source": [
    "print()\n",
    "print(\"# 9)Change values\")\n",
    "print()\n",
    "bike = {\n",
    "    \"brand\": \"tvs\",\n",
    "    \"model\": \"jupiter\",\n",
    "    \"year\": \"2017\",\n",
    "    \"price\": \"97000\"\n",
    "}\n",
    "\n",
    "bike[\"year\"] = 2018\n",
    "bike[\"model\"] = \"starcity\"\n",
    "print(bike)\n",
    "print()"
   ]
  },
  {
   "cell_type": "code",
   "execution_count": 13,
   "id": "4f623aed",
   "metadata": {},
   "outputs": [
    {
     "name": "stdout",
     "output_type": "stream",
     "text": [
      "# 9)Change values\n",
      "\n",
      "{'brand': 'tvs', 'model': 'jupiter', 'year': '2017', 'price': '97000'}\n",
      "{'brand': 'tvs', 'model': 'starcity', 'year': 2018, 'price': '101000'}\n",
      "\n"
     ]
    }
   ],
   "source": [
    "print(\"# 9)Change values\")\n",
    "print()\n",
    "bike = {\n",
    "    \"brand\": \"tvs\",\n",
    "    \"model\": \"jupiter\",\n",
    "    \"year\": \"2017\",\n",
    "    \"price\": \"97000\"\n",
    "}\n",
    "print(bike)\n",
    "bike[\"year\"] = 2018\n",
    "bike[\"model\"] = \"starcity\"\n",
    "bike[\"price\"] = \"101000\"\n",
    "print(bike)\n",
    "print()"
   ]
  },
  {
   "cell_type": "code",
   "execution_count": 15,
   "id": "439db24b",
   "metadata": {},
   "outputs": [
    {
     "name": "stdout",
     "output_type": "stream",
     "text": [
      "# 10)Update Dictionary\n",
      "\n",
      "{'brand': 'tvs', 'model': 'jupiter', 'year': '2017', 'price': '97000'}\n",
      "{'brand': 'tvs', 'model': 'jupiter', 'year': 2022, 'price': '97000'}\n",
      "\n"
     ]
    }
   ],
   "source": [
    "print(\"# 10)Update Dictionary\")\n",
    "print()\n",
    "bike = {\n",
    "    \"brand\": \"tvs\",\n",
    "    \"model\": \"jupiter\",\n",
    "    \"year\": \"2017\",\n",
    "    \"price\": \"97000\"\n",
    "}\n",
    "print(bike)\n",
    "bike.update({\"year\": 2022})\n",
    "print(bike)\n",
    "print()"
   ]
  },
  {
   "cell_type": "code",
   "execution_count": null,
   "id": "b2e7e052",
   "metadata": {},
   "outputs": [
    {
     "name": "stdout",
     "output_type": "stream",
     "text": [
      "# 12)Removing Items (last item)\n",
      "\n",
      "{'brand': 'tvs', 'model': 'jupiter', 'year': '2017', 'price': '97000'}\n",
      "{'brand': 'tvs', 'model': 'jupiter', 'price': '97000'}\n"
     ]
    }
   ],
   "source": [
    "\n",
    "print(\"# 12)Removing Items\")\n",
    "print()\n",
    "bike = {\n",
    "    \"brand\": \"tvs\",\n",
    "    \"model\": \"jupiter\",\n",
    "    \"year\": \"2017\",\n",
    "    \"price\": \"97000\"\n",
    "}\n",
    "print(bike)\n",
    "bike.pop(\"year\")\n",
    "print(bike)"
   ]
  },
  {
   "cell_type": "code",
   "execution_count": 17,
   "id": "8b481435",
   "metadata": {},
   "outputs": [
    {
     "name": "stdout",
     "output_type": "stream",
     "text": [
      "# 13)Removing Items (last item)\n",
      "\n",
      "{'brand': 'tvs', 'model': 'jupiter', 'year': '2017', 'price': '97000'}\n",
      "{'brand': 'tvs', 'model': 'jupiter', 'year': '2017'}\n",
      "\n"
     ]
    }
   ],
   "source": [
    "print(\"# 13)Removing Items (last item)\")\n",
    "print()\n",
    "bike = {\n",
    "    \"brand\": \"tvs\",\n",
    "    \"model\": \"jupiter\",\n",
    "    \"year\": \"2017\",\n",
    "    \"price\": \"97000\"\n",
    "}\n",
    "print(bike)\n",
    "bike.popitem()\n",
    "print(bike)\n",
    "print()"
   ]
  },
  {
   "cell_type": "code",
   "execution_count": 18,
   "id": "2dc6cfa1",
   "metadata": {},
   "outputs": [
    {
     "name": "stdout",
     "output_type": "stream",
     "text": [
      "# 14)Removing Items using del keyword\n",
      "\n",
      "{'brand': 'tvs', 'model': 'jupiter', 'year': '2017', 'price': '97000'}\n",
      "{'brand': 'tvs', 'year': '2017', 'price': '97000'}\n",
      "\n"
     ]
    }
   ],
   "source": [
    "\n",
    "print(\"# 14)Removing Items using del keyword\")\n",
    "print()\n",
    "bike = {\n",
    "    \"brand\": \"tvs\",\n",
    "    \"model\": \"jupiter\",\n",
    "    \"year\": \"2017\",\n",
    "    \"price\": \"97000\"\n",
    "}\n",
    "print(bike)\n",
    "del bike[\"model\"]\n",
    "print(bike)\n",
    "print()"
   ]
  },
  {
   "cell_type": "code",
   "execution_count": 20,
   "id": "37fa13ba",
   "metadata": {},
   "outputs": [
    {
     "name": "stdout",
     "output_type": "stream",
     "text": [
      "# 15)del keyword to delete dictionary itself\n",
      "\n",
      "{'brand': 'tvs', 'model': 'jupiter', 'year': '2017', 'price': '97000'}\n"
     ]
    }
   ],
   "source": [
    "print(\"# 15)del keyword to delete dictionary itself\")\n",
    "print()\n",
    "bike = {\n",
    "    \"brand\": \"tvs\",\n",
    "    \"model\": \"jupiter\",\n",
    "    \"year\": \"2017\",\n",
    "    \"price\": \"97000\"\n",
    "}\n",
    "print(bike)"
   ]
  },
  {
   "cell_type": "code",
   "execution_count": 21,
   "id": "2dbd15eb",
   "metadata": {},
   "outputs": [
    {
     "ename": "NameError",
     "evalue": "name 'bike' is not defined",
     "output_type": "error",
     "traceback": [
      "\u001b[1;31m---------------------------------------------------------------------------\u001b[0m",
      "\u001b[1;31mNameError\u001b[0m                                 Traceback (most recent call last)",
      "Cell \u001b[1;32mIn[21], line 2\u001b[0m\n\u001b[0;32m      1\u001b[0m \u001b[38;5;28;01mdel\u001b[39;00m bike\n\u001b[1;32m----> 2\u001b[0m \u001b[38;5;28mprint\u001b[39m(\u001b[43mbike\u001b[49m)\n\u001b[0;32m      3\u001b[0m \u001b[38;5;28mprint\u001b[39m()\n",
      "\u001b[1;31mNameError\u001b[0m: name 'bike' is not defined"
     ]
    }
   ],
   "source": [
    "del bike\n",
    "print(bike)\n",
    "print()"
   ]
  },
  {
   "cell_type": "code",
   "execution_count": 22,
   "id": "85c62602",
   "metadata": {},
   "outputs": [
    {
     "name": "stdout",
     "output_type": "stream",
     "text": [
      "# 16)Clear Method empties the Dictionary:\n",
      "\n",
      "{'brand': 'tvs', 'model': 'jupiter', 'year': '2017', 'price': '97000'}\n",
      "{}\n",
      "\n"
     ]
    }
   ],
   "source": [
    "print(\"# 16)Clear Method empties the Dictionary:\")\n",
    "print()\n",
    "bike = {\n",
    "    \"brand\": \"tvs\",\n",
    "    \"model\": \"jupiter\",\n",
    "    \"year\": \"2017\",\n",
    "    \"price\": \"97000\"\n",
    "}\n",
    "print(bike)\n",
    "bike.clear()\n",
    "print(bike)\n",
    "print()"
   ]
  },
  {
   "cell_type": "code",
   "execution_count": 23,
   "id": "dee3c640",
   "metadata": {},
   "outputs": [
    {
     "name": "stdout",
     "output_type": "stream",
     "text": [
      "\n",
      "# 17)Loop through dictionary using for loop (Print all key names)\n",
      "\n",
      "brand\n",
      "model\n",
      "year\n",
      "price\n",
      "\n"
     ]
    }
   ],
   "source": [
    "print()\n",
    "print(\"# 17)Loop through dictionary using for loop (Print all key names)\")\n",
    "print()\n",
    "bike = {\n",
    "    \"brand\": \"tvs\",\n",
    "    \"model\": \"jupiter\",\n",
    "    \"year\": \"2017\",\n",
    "    \"price\": \"97000\"\n",
    "}\n",
    "for n in bike:\n",
    "    print(n)\n",
    "print()"
   ]
  },
  {
   "cell_type": "code",
   "execution_count": 24,
   "id": "e5a486f1",
   "metadata": {},
   "outputs": [
    {
     "name": "stdout",
     "output_type": "stream",
     "text": [
      "# 18)Loop through dictionary using for loop (Print all Values)\n",
      "\n",
      "tvs\n",
      "jupiter\n",
      "2017\n",
      "97000\n",
      "\n"
     ]
    }
   ],
   "source": [
    "print(\"# 18)Loop through dictionary using for loop (Print all Values)\")\n",
    "print()\n",
    "bike = {\n",
    "    \"brand\": \"tvs\",\n",
    "    \"model\": \"jupiter\",\n",
    "    \"year\": \"2017\",\n",
    "    \"price\": \"97000\"\n",
    "}\n",
    "for n in bike:\n",
    "    print(bike[n])\n",
    "print()"
   ]
  },
  {
   "cell_type": "code",
   "execution_count": 25,
   "id": "df0003cd",
   "metadata": {},
   "outputs": [
    {
     "name": "stdout",
     "output_type": "stream",
     "text": [
      "# 19)values method to return values of dictionary\n",
      "\n",
      "tvs\n",
      "jupiter\n",
      "2017\n",
      "97000\n",
      "\n"
     ]
    }
   ],
   "source": [
    "print(\"# 19)values method to return values of dictionary\")\n",
    "print()\n",
    "bike = {\n",
    "    \"brand\": \"tvs\",\n",
    "    \"model\": \"jupiter\",\n",
    "    \"year\": \"2017\",\n",
    "    \"price\": \"97000\"\n",
    "}\n",
    "for n in bike.values():\n",
    "    print(n)\n",
    "print()"
   ]
  },
  {
   "cell_type": "code",
   "execution_count": 26,
   "id": "908b98f3",
   "metadata": {},
   "outputs": [
    {
     "name": "stdout",
     "output_type": "stream",
     "text": [
      "# 20)keys method to return keys of dictionary\n",
      "\n",
      "brand\n",
      "model\n",
      "year\n",
      "price\n",
      "\n"
     ]
    }
   ],
   "source": [
    "print(\"# 20)keys method to return keys of dictionary\")\n",
    "print()\n",
    "bike = {\n",
    "    \"brand\": \"tvs\",\n",
    "    \"model\": \"jupiter\",\n",
    "    \"year\": \"2017\",\n",
    "    \"price\": \"97000\"\n",
    "}\n",
    "for n in bike.keys():\n",
    "    print(n)\n",
    "print()"
   ]
  },
  {
   "cell_type": "code",
   "execution_count": 27,
   "id": "1f26f0e4",
   "metadata": {},
   "outputs": [
    {
     "name": "stdout",
     "output_type": "stream",
     "text": [
      "# 20)Loop through both keys and values using items\n",
      "\n",
      "brand tvs\n",
      "model jupiter\n",
      "year 2017\n",
      "price 97000\n",
      "\n"
     ]
    }
   ],
   "source": [
    "print(\"# 20)Loop through both keys and values using items\")\n",
    "print()\n",
    "bike = {\n",
    "    \"brand\": \"tvs\",\n",
    "    \"model\": \"jupiter\",\n",
    "    \"year\": \"2017\",\n",
    "    \"price\": \"97000\"\n",
    "}\n",
    "for m, n in bike.items():\n",
    "    print(m, n)\n",
    "print()"
   ]
  },
  {
   "cell_type": "code",
   "execution_count": 28,
   "id": "1e96b155",
   "metadata": {},
   "outputs": [
    {
     "name": "stdout",
     "output_type": "stream",
     "text": [
      "# 21)Copy of the dictionary with copy method\n",
      "\n",
      "{'brand': 'hero honda', 'model': 'passion', 'year': '2008', 'price': '55000'}\n",
      "\n"
     ]
    }
   ],
   "source": [
    "print(\"# 21)Copy of the dictionary with copy method\")\n",
    "print()\n",
    "bike1 = {\n",
    "    \"brand\": \"hero honda\",\n",
    "    \"model\": \"passion\",\n",
    "    \"year\": \"2008\",\n",
    "    \"price\": \"55000\"\n",
    "}\n",
    "bike2 = bike1.copy()\n",
    "print(bike2)\n",
    "print()"
   ]
  },
  {
   "cell_type": "code",
   "execution_count": 29,
   "id": "4641c577",
   "metadata": {},
   "outputs": [
    {
     "name": "stdout",
     "output_type": "stream",
     "text": [
      "# 21)Copy of the dictionary with dict function\n",
      "\n",
      "{'brand': 'hero honda', 'model': 'passion', 'year': '2008', 'price': '55000'}\n",
      "{'brand': 'hero honda', 'model': 'passion', 'year': '2008', 'price': '55000'}\n",
      "\n"
     ]
    }
   ],
   "source": [
    "print(\"# 21)Copy of the dictionary with dict function\")\n",
    "print()\n",
    "bike1 = {\n",
    "    \"brand\": \"hero honda\",\n",
    "    \"model\": \"passion\",\n",
    "    \"year\": \"2008\",\n",
    "    \"price\": \"55000\"\n",
    "}\n",
    "print(bike1)\n",
    "bike2 = dict(bike1)\n",
    "print(bike2)\n",
    "print()"
   ]
  },
  {
   "cell_type": "code",
   "execution_count": 30,
   "id": "0edd8fa4",
   "metadata": {},
   "outputs": [
    {
     "name": "stdout",
     "output_type": "stream",
     "text": [
      "# 21)Nested Dictionaries\n",
      "\n",
      "{'bike1': {'brand': 'hero honda', 'model': 'passion', 'year': '2008'}, 'bike2': {'brand': 'honda', 'model': 'unicorn', 'year': '2020'}, 'car1': {'brand': 'bmw', 'model': '7 series', 'year': '2025'}}\n",
      "\n"
     ]
    }
   ],
   "source": [
    "print(\"# 21)Nested Dictionaries\")\n",
    "print()\n",
    "\n",
    "autofamily = {\n",
    "\"bike1\" : {\n",
    "    \"brand\": \"hero honda\",\n",
    "    \"model\": \"passion\",\n",
    "    \"year\": \"2008\"\n",
    "},\n",
    "\"bike2\" : {\n",
    "    \"brand\": \"honda\",\n",
    "    \"model\": \"unicorn\",\n",
    "    \"year\": \"2020\"\n",
    "},\n",
    "\"car1\" : {\n",
    "    \"brand\": \"bmw\",\n",
    "    \"model\": \"7 series\",\n",
    "    \"year\": \"2025\"\n",
    "}\n",
    "}\n",
    "print(autofamily)\n",
    "print()"
   ]
  },
  {
   "cell_type": "code",
   "execution_count": 31,
   "id": "6442d1aa",
   "metadata": {},
   "outputs": [
    {
     "name": "stdout",
     "output_type": "stream",
     "text": [
      "# 22)Create 3 Dictionaries and create 1 Dictionary that contain other 3 Dictionary\n",
      "\n",
      "{'tiger1': {'brand': 'hero honda', 'model': 'passion', 'year': '2008'}, 'tiger2': {'brand': 'honda', 'model': 'unicorn', 'year': '2020'}, 'tiger3': {'brand': 'bmw', 'model': '7 series', 'year': '2025'}}\n"
     ]
    }
   ],
   "source": [
    "print(\"# 22)Create 3 Dictionaries and create 1 Dictionary that contain other 3 Dictionary\")\n",
    "print()\n",
    "\n",
    "bike1 = {\n",
    "    \"brand\": \"hero honda\",\n",
    "    \"model\": \"passion\",\n",
    "    \"year\": \"2008\"\n",
    "}\n",
    "bike2 = {\n",
    "    \"brand\": \"honda\",\n",
    "    \"model\": \"unicorn\",\n",
    "    \"year\": \"2020\"\n",
    "}\n",
    "car1 = {\n",
    "    \"brand\": \"bmw\",\n",
    "    \"model\": \"7 series\",\n",
    "    \"year\": \"2025\"\n",
    "}\n",
    "\n",
    "autofamily = {\n",
    "    \"tiger1\" : bike1,\n",
    "    \"tiger2\" : bike2,\n",
    "    \"tiger3\" : car1\n",
    "}\n",
    "\n",
    "print(autofamily)"
   ]
  },
  {
   "cell_type": "code",
   "execution_count": null,
   "id": "7e399caa",
   "metadata": {},
   "outputs": [],
   "source": []
  }
 ],
 "metadata": {
  "kernelspec": {
   "display_name": "venv",
   "language": "python",
   "name": "python3"
  },
  "language_info": {
   "codemirror_mode": {
    "name": "ipython",
    "version": 3
   },
   "file_extension": ".py",
   "mimetype": "text/x-python",
   "name": "python",
   "nbconvert_exporter": "python",
   "pygments_lexer": "ipython3",
   "version": "3.10.11"
  }
 },
 "nbformat": 4,
 "nbformat_minor": 5
}
