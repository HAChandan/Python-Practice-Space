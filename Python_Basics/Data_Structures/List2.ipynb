{
 "cells": [
  {
   "cell_type": "code",
   "execution_count": 1,
   "id": "20e88590",
   "metadata": {},
   "outputs": [],
   "source": [
    "# Understanding how memory works on lists\n",
    "\n",
    "# Bytes will return the amount of memory used\n",
    "# ID - Will return address of memory location"
   ]
  },
  {
   "cell_type": "code",
   "execution_count": 2,
   "id": "42615b5b",
   "metadata": {},
   "outputs": [
    {
     "name": "stdout",
     "output_type": "stream",
     "text": [
      "[2, 4, 6, 8, 10]\n",
      "id of list lst1 1913567269248\n",
      "id of list items lst1 1913497452816 1913497452880 1913497452944 1913497453008\n"
     ]
    }
   ],
   "source": [
    "lst1 = [2, 4, 6, 8, 10]\n",
    "print(lst1)\n",
    "print(\"id of list lst1\", id(lst1))\n",
    "# Memory address of the values within a list lst1\n",
    "print(\"id of list items lst1\", id(lst1[0]), id(lst1[1]), id(lst1[2]), id(lst1[3]))"
   ]
  },
  {
   "cell_type": "code",
   "execution_count": 3,
   "id": "9e0728d2",
   "metadata": {},
   "outputs": [
    {
     "name": "stdout",
     "output_type": "stream",
     "text": [
      "[2, 4, 6, 8, 10]\n",
      "id of list lst2 1913567269248\n",
      "id of list items lst2 1913497452816 1913497452880 1913497452944 1913497453008\n"
     ]
    }
   ],
   "source": [
    "# What happens when we do a shallow copy\n",
    "lst2 = lst1\n",
    "print(lst2)\n",
    "print(\"id of list lst2\", id(lst2))\n",
    "# Memory address of the values within a list lst1\n",
    "print(\"id of list items lst2\", id(lst2[0]), id(lst2[1]), id(lst2[2]), id(lst2[3]))\n",
    "# The conclusion is lst1 and lst2 memory location and there items memory locations are same"
   ]
  },
  {
   "cell_type": "code",
   "execution_count": 4,
   "id": "d0ac06d1",
   "metadata": {},
   "outputs": [
    {
     "name": "stdout",
     "output_type": "stream",
     "text": [
      "[2, 4, 6, 8, 10]\n",
      "id of list lst3 1913567268992\n",
      "id of list items lst3 1913497452816 1913497452880 1913497452944 1913497453008\n"
     ]
    }
   ],
   "source": [
    "# what happens when we do a deep copy\n",
    "\n",
    "lst3 = lst1.copy()\n",
    "print(lst3)\n",
    "print(\"id of list lst3\", id(lst3))\n",
    "# Memory address of the values within a list lst1\n",
    "print(\"id of list items lst3\", id(lst3[0]), id(lst3[1]), id(lst3[2]), id(lst3[3]))\n",
    "# The conclusion is lst3 memory location is different from lst1 but lst3 items memory location are same as lst1"
   ]
  },
  {
   "cell_type": "code",
   "execution_count": 5,
   "id": "459ef3c7",
   "metadata": {},
   "outputs": [
    {
     "name": "stdout",
     "output_type": "stream",
     "text": [
      "id of list items lst3 1913497452848 1913497452880 1913497452944 1913497453008\n",
      "id of list items lst1 1913497452816 1913497452880 1913497452944 1913497453008\n"
     ]
    }
   ],
   "source": [
    "# Change the value in list lst2\n",
    "lst3[0] = 3\n",
    "print(\"id of list items lst3\", id(lst3[0]), id(lst3[1]), id(lst3[2]), id(lst3[3]))\n",
    "print(\"id of list items lst1\", id(lst1[0]), id(lst1[1]), id(lst1[2]), id(lst1[3]))\n",
    "# The conclusion is since we changed lst3 first element it will change only the lst3 first element id location\n",
    "# but remaining id location are same as lst1 because lst3 is copy of lst1"
   ]
  },
  {
   "cell_type": "code",
   "execution_count": 6,
   "id": "7acce8ae",
   "metadata": {},
   "outputs": [
    {
     "name": "stdout",
     "output_type": "stream",
     "text": [
      "id of list items lst2 1913497453136 1913497452880 1913497452944 1913497453008\n",
      "id of list items lst1 1913497453136 1913497452880 1913497452944 1913497453008\n",
      "id of list items lst3 1913497452848 1913497452880 1913497452944 1913497453008\n"
     ]
    }
   ],
   "source": [
    "lst2[0] = 12\n",
    "print(\"id of list items lst2\", id(lst2[0]), id(lst2[1]), id(lst2[2]), id(lst2[3]))\n",
    "print(\"id of list items lst1\", id(lst1[0]), id(lst1[1]), id(lst1[2]), id(lst1[3]))\n",
    "print(\"id of list items lst3\", id(lst3[0]), id(lst3[1]), id(lst3[2]), id(lst3[3]))\n",
    "# The conclusion is since we changed lst2 first element it will change both lst2 and lst1 frst element id location\n",
    "# because we defined lst1 and lst2 are equal"
   ]
  },
  {
   "cell_type": "code",
   "execution_count": null,
   "id": "e050e0c0",
   "metadata": {},
   "outputs": [],
   "source": []
  }
 ],
 "metadata": {
  "kernelspec": {
   "display_name": "venv",
   "language": "python",
   "name": "python3"
  },
  "language_info": {
   "codemirror_mode": {
    "name": "ipython",
    "version": 3
   },
   "file_extension": ".py",
   "mimetype": "text/x-python",
   "name": "python",
   "nbconvert_exporter": "python",
   "pygments_lexer": "ipython3",
   "version": "3.10.11"
  }
 },
 "nbformat": 4,
 "nbformat_minor": 5
}
