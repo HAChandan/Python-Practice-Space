{
 "cells": [
  {
   "cell_type": "code",
   "execution_count": 1,
   "id": "2097c0e5",
   "metadata": {},
   "outputs": [],
   "source": [
    "name = \"Chandan HA\"\n",
    "phrase = \"Chandan is from Hadya \""
   ]
  },
  {
   "cell_type": "code",
   "execution_count": 2,
   "id": "8f170c27",
   "metadata": {},
   "outputs": [
    {
     "name": "stdout",
     "output_type": "stream",
     "text": [
      "Chandan HA\n"
     ]
    }
   ],
   "source": [
    "# Print entire string\n",
    "print(name)"
   ]
  },
  {
   "cell_type": "code",
   "execution_count": 3,
   "id": "30df2841",
   "metadata": {},
   "outputs": [
    {
     "name": "stdout",
     "output_type": "stream",
     "text": [
      "10\n"
     ]
    }
   ],
   "source": [
    "# finding length of the string\n",
    "print(len(name))"
   ]
  },
  {
   "cell_type": "code",
   "execution_count": 4,
   "id": "5cff3ba0",
   "metadata": {},
   "outputs": [
    {
     "name": "stdout",
     "output_type": "stream",
     "text": [
      "n\n"
     ]
    }
   ],
   "source": [
    "# indexing individual character\n",
    "print(name[3])"
   ]
  },
  {
   "cell_type": "code",
   "execution_count": 5,
   "id": "ca85ccf0",
   "metadata": {},
   "outputs": [
    {
     "name": "stdout",
     "output_type": "stream",
     "text": [
      "HA\n"
     ]
    }
   ],
   "source": [
    "# slicing a string to required index\n",
    "print(name[8:10])"
   ]
  },
  {
   "cell_type": "code",
   "execution_count": 6,
   "id": "98837002",
   "metadata": {},
   "outputs": [
    {
     "name": "stdout",
     "output_type": "stream",
     "text": [
      "Chandan\n"
     ]
    }
   ],
   "source": [
    "# slicing a string : indicates from start of the string ie Oth index and end at range 7 ie 6th index\n",
    "print(name[:7])"
   ]
  },
  {
   "cell_type": "code",
   "execution_count": 7,
   "id": "47ddd643",
   "metadata": {},
   "outputs": [
    {
     "name": "stdout",
     "output_type": "stream",
     "text": [
      "HA\n"
     ]
    }
   ],
   "source": [
    "# slicing a string 8 indicates start from 7th index and : indicates up to the last index of the string\n",
    "print(name[8:])"
   ]
  },
  {
   "cell_type": "code",
   "execution_count": 8,
   "id": "125062ff",
   "metadata": {},
   "outputs": [
    {
     "name": "stdout",
     "output_type": "stream",
     "text": [
      "Chandan HA\n"
     ]
    }
   ],
   "source": [
    "# Print from starting to end index of the string\n",
    "print(name[::])"
   ]
  },
  {
   "cell_type": "code",
   "execution_count": 9,
   "id": "5ce61a13",
   "metadata": {},
   "outputs": [
    {
     "name": "stdout",
     "output_type": "stream",
     "text": [
      "C H A\n"
     ]
    }
   ],
   "source": [
    "# Printing the indivisual index of the string\n",
    "print(name[0], name[8], name[9])"
   ]
  },
  {
   "cell_type": "code",
   "execution_count": 10,
   "id": "d3cd1590",
   "metadata": {},
   "outputs": [],
   "source": [
    "place = \"Nanjangud Mysuru\""
   ]
  },
  {
   "cell_type": "code",
   "execution_count": 11,
   "id": "62857e06",
   "metadata": {},
   "outputs": [
    {
     "name": "stdout",
     "output_type": "stream",
     "text": [
      "d M\n"
     ]
    }
   ],
   "source": [
    "\n",
    "print(place[8:11])"
   ]
  },
  {
   "cell_type": "code",
   "execution_count": 12,
   "id": "0300f0c2",
   "metadata": {},
   "outputs": [
    {
     "name": "stdout",
     "output_type": "stream",
     "text": [
      "d M\n"
     ]
    }
   ],
   "source": [
    "print(place[8], place[10])"
   ]
  },
  {
   "cell_type": "code",
   "execution_count": 13,
   "id": "dd351242",
   "metadata": {},
   "outputs": [
    {
     "name": "stdout",
     "output_type": "stream",
     "text": [
      "Nanjangud Mysuru\n"
     ]
    }
   ],
   "source": [
    "# indicates from start and end\n",
    "print(place[::])"
   ]
  },
  {
   "cell_type": "code",
   "execution_count": 14,
   "id": "448f77ec",
   "metadata": {},
   "outputs": [
    {
     "name": "stdout",
     "output_type": "stream",
     "text": [
      "urusyM dugnajnaN\n"
     ]
    }
   ],
   "source": [
    "# print the string in reverse order\n",
    "print(place[::-1])"
   ]
  },
  {
   "cell_type": "code",
   "execution_count": 15,
   "id": "ecd65d83",
   "metadata": {},
   "outputs": [
    {
     "name": "stdout",
     "output_type": "stream",
     "text": [
      "uuy unja\n"
     ]
    }
   ],
   "source": [
    "# print the string in reverse order skip one index after printing one index\n",
    "print(place[::-2])"
   ]
  },
  {
   "cell_type": "code",
   "execution_count": 16,
   "id": "9446c1fa",
   "metadata": {},
   "outputs": [
    {
     "name": "stdout",
     "output_type": "stream",
     "text": [
      "us gjN\n"
     ]
    }
   ],
   "source": [
    "# print the string in reverse order skip two indexs after printing one index\n",
    "print(place[::-3])"
   ]
  },
  {
   "cell_type": "code",
   "execution_count": 17,
   "id": "d85bda4d",
   "metadata": {},
   "outputs": [
    {
     "name": "stdout",
     "output_type": "stream",
     "text": [
      "Hello !\n",
      "! olleH\n",
      "Hlo!\n"
     ]
    }
   ],
   "source": [
    "a = \"Hello !\"\n",
    "b = \"Prime Intuit\"\n",
    "c = \"one of the Finest Finishing School\"\n",
    "print(a[::])\n",
    "print(a[::-1])\n",
    "print(a[::+2])"
   ]
  },
  {
   "cell_type": "code",
   "execution_count": 18,
   "id": "6e1acd01",
   "metadata": {},
   "outputs": [
    {
     "name": "stdout",
     "output_type": "stream",
     "text": [
      "Hello ! Prime Intuit\n",
      "Hello ! Prime Intuit Finest Finishing School\n"
     ]
    }
   ],
   "source": [
    "# concatenation using two string\n",
    "d = a+\" \"+b \n",
    "print(d)\n",
    "\n",
    "# concatenation using two string with indexing\n",
    "e = a+\" \"+b+\" \"+c[11:] \n",
    "print(e)"
   ]
  },
  {
   "cell_type": "code",
   "execution_count": 19,
   "id": "f4ddbdf7",
   "metadata": {},
   "outputs": [
    {
     "name": "stdout",
     "output_type": "stream",
     "text": [
      "Courage Courage Courage \n",
      "Tiger Tiger Tiger Tiger Tiger Tiger Tiger \n"
     ]
    }
   ],
   "source": [
    "# multiply operator\n",
    "\n",
    "word = \"Courage \"\n",
    "print(word*3)\n",
    "print(\"Tiger \"*7)"
   ]
  },
  {
   "cell_type": "code",
   "execution_count": 20,
   "id": "c09c204a",
   "metadata": {},
   "outputs": [
    {
     "name": "stdout",
     "output_type": "stream",
     "text": [
      "True\n",
      "False\n",
      "True\n",
      "True\n"
     ]
    }
   ],
   "source": [
    "# Some membership operators (in and not in)\n",
    "\n",
    "courage = \"Courage that Build the Confidence to do good things\"\n",
    "\n",
    "# one string and one variable\n",
    "print(\"Confidence\" in courage)\n",
    "\n",
    "print(\"Fear\" in courage)\n",
    "\n",
    "\n",
    "print(\"good\" and \"things\" in courage)\n",
    "\n",
    "print(\"2\" in \"XF54236RF258\") # two string"
   ]
  },
  {
   "cell_type": "code",
   "execution_count": 21,
   "id": "d23f2f77",
   "metadata": {},
   "outputs": [
    {
     "name": "stdout",
     "output_type": "stream",
     "text": [
      "True\n",
      "False\n",
      "True\n"
     ]
    }
   ],
   "source": [
    "f = \"that\"\n",
    "print(f in courage)\n",
    "\n",
    "# not in\n",
    "print(\"Build\" not in courage)\n",
    "print(\"Lion\" not in courage)"
   ]
  },
  {
   "cell_type": "code",
   "execution_count": 23,
   "id": "b7168894",
   "metadata": {},
   "outputs": [
    {
     "name": "stdout",
     "output_type": "stream",
     "text": [
      "Our Perception is our Reality \n",
      "What We Think we Become \n",
      "Yadbavam Tadbavathi\n"
     ]
    }
   ],
   "source": [
    "# new line \\n\n",
    "print(\"Our Perception is our Reality \\nWhat We Think we Become \\nYadbavam Tadbavathi\")"
   ]
  },
  {
   "cell_type": "code",
   "execution_count": 24,
   "id": "a8e188e9",
   "metadata": {},
   "outputs": [
    {
     "name": "stdout",
     "output_type": "stream",
     "text": [
      "My name is Chandan and I weigh 71\n"
     ]
    }
   ],
   "source": [
    "\n",
    "# Formating, %, Format - perform string formating\n",
    "print(\"My name is %s and I weigh %d\"%(\"Chandan\", 71))"
   ]
  },
  {
   "cell_type": "code",
   "execution_count": 25,
   "id": "d5e1cf07",
   "metadata": {},
   "outputs": [
    {
     "name": "stdout",
     "output_type": "stream",
     "text": [
      "The certificate is issued to \n",
      "Mr Chandan \n",
      "He has scored CGPI of 8.770000 \n",
      "The certificate is issued to Mr Chandan \n",
      "He has scored CGPI of 8.770000 \n"
     ]
    }
   ],
   "source": [
    "name = \"Chandan\"\n",
    "cgpi = 8.77\n",
    "print(\"The certificate is issued to \\n\" \"Mr %s \\nHe has scored CGPI of %2f \"%(name, cgpi))\n",
    "print(\"The certificate is issued to \" \"Mr %s \\nHe has scored CGPI of %2f \"%(name, cgpi))"
   ]
  },
  {
   "cell_type": "code",
   "execution_count": 26,
   "id": "39ee13d9",
   "metadata": {},
   "outputs": [
    {
     "name": "stdout",
     "output_type": "stream",
     "text": [
      "The Major Key to Your Better Future is You\n"
     ]
    }
   ],
   "source": [
    "# Formating using f string\n",
    "var_1 = \"Major\"\n",
    "var_2 = \"You\"\n",
    "print(f\"The {var_1} Key to Your Better Future is {var_2}\")"
   ]
  },
  {
   "cell_type": "code",
   "execution_count": 27,
   "id": "1f73bdb5",
   "metadata": {},
   "outputs": [],
   "source": [
    "# String Functions\n",
    "\n",
    "a = \"   today is sunday\"\n",
    "x = \"the sea is calm today\"\n",
    "y = \"Wild and free also means mad and unpredictable\"\n",
    "fruits = \"i love apples and apples are my favorite fruits\"\n",
    "z = \"CONSISTENCY\"\n",
    "pi = \" PRIME INTUIT \"\n",
    "num = \"012345679\"\n",
    "num1 = \"345 4 5\"\n",
    "box1 = \"df5db48\"\n",
    "box2 = \"dfbdb\"\n",
    "box3 = \"ajnf97c js9\"\n",
    "box4 = \"as df sv\"\n",
    "list1 = [\"one\", \"two\", \"three\", \"four\", \"five\"]\n",
    "list2 = [\"six\", \"seven\", \"eight\"]\n",
    "box6 = \"8 9 7\""
   ]
  },
  {
   "cell_type": "code",
   "execution_count": 28,
   "id": "727ad548",
   "metadata": {},
   "outputs": [
    {
     "name": "stdout",
     "output_type": "stream",
     "text": [
      "The sea is calm today\n"
     ]
    }
   ],
   "source": [
    "# convert first character of a string to upper character\n",
    "print(x.capitalize())"
   ]
  },
  {
   "cell_type": "code",
   "execution_count": 29,
   "id": "4c86dc30",
   "metadata": {},
   "outputs": [
    {
     "name": "stdout",
     "output_type": "stream",
     "text": [
      "THE SEA IS CALM TODAY\n"
     ]
    }
   ],
   "source": [
    "# entire string is converted in to upper case\n",
    "print(x.upper())"
   ]
  },
  {
   "cell_type": "code",
   "execution_count": 30,
   "id": "54b87ec6",
   "metadata": {},
   "outputs": [
    {
     "name": "stdout",
     "output_type": "stream",
     "text": [
      "consistency\n"
     ]
    }
   ],
   "source": [
    "# entire string is converted in to lower case\n",
    "print(z.lower())"
   ]
  },
  {
   "cell_type": "code",
   "execution_count": 31,
   "id": "a9eb7277",
   "metadata": {},
   "outputs": [
    {
     "name": "stdout",
     "output_type": "stream",
     "text": [
      "True\n"
     ]
    }
   ],
   "source": [
    "# will return true if all the characters are upper case\n",
    "print(z.isupper())"
   ]
  },
  {
   "cell_type": "code",
   "execution_count": 32,
   "id": "009c4ad8",
   "metadata": {},
   "outputs": [
    {
     "name": "stdout",
     "output_type": "stream",
     "text": [
      "False\n"
     ]
    }
   ],
   "source": [
    "# will return false if any one of the character is upper case\n",
    "print(y.islower())"
   ]
  },
  {
   "cell_type": "code",
   "execution_count": 33,
   "id": "d1523131",
   "metadata": {},
   "outputs": [
    {
     "name": "stdout",
     "output_type": "stream",
     "text": [
      "14\n",
      "%%% PRIME INTUIT %%%\n"
     ]
    }
   ],
   "source": [
    "# position the string in the center\n",
    "print(len(pi))\n",
    "print(pi.center(20,\"%\"))"
   ]
  },
  {
   "cell_type": "code",
   "execution_count": 35,
   "id": "79a52d4b",
   "metadata": {},
   "outputs": [
    {
     "name": "stdout",
     "output_type": "stream",
     "text": [
      "True\n",
      "True\n",
      "False\n"
     ]
    }
   ],
   "source": [
    "# return true if sting contain only alfabet and neumaric without space\n",
    "print(box1.isalnum())\n",
    "print(box2.isalnum())\n",
    "print(box3.isalnum())"
   ]
  },
  {
   "cell_type": "code",
   "execution_count": 36,
   "id": "b2066a84",
   "metadata": {},
   "outputs": [
    {
     "name": "stdout",
     "output_type": "stream",
     "text": [
      "True\n",
      "False\n"
     ]
    }
   ],
   "source": [
    "# return true if sting contain only alfabet without space\n",
    "print(box2.isalpha())\n",
    "print(box4.isalpha())"
   ]
  },
  {
   "cell_type": "code",
   "execution_count": 37,
   "id": "657af780",
   "metadata": {},
   "outputs": [
    {
     "name": "stdout",
     "output_type": "stream",
     "text": [
      "True\n",
      "False\n"
     ]
    }
   ],
   "source": [
    "# return true if sting contain only numeric without space\n",
    "print(num.isdigit())\n",
    "print(num1.isdigit())"
   ]
  },
  {
   "cell_type": "code",
   "execution_count": 38,
   "id": "bde455cd",
   "metadata": {},
   "outputs": [
    {
     "name": "stdout",
     "output_type": "stream",
     "text": [
      "2\n"
     ]
    }
   ],
   "source": [
    "# returns the number of times a specified value occurs in the string\n",
    "print(fruits.count(\"apple\"))"
   ]
  },
  {
   "cell_type": "code",
   "execution_count": 39,
   "id": "896fa3cb",
   "metadata": {},
   "outputs": [
    {
     "name": "stdout",
     "output_type": "stream",
     "text": [
      "b'the sea is calm today'\n"
     ]
    }
   ],
   "source": [
    "# returns the encoded version of the string\n",
    "print(x.encode())\n"
   ]
  },
  {
   "cell_type": "code",
   "execution_count": 40,
   "id": "39838e34",
   "metadata": {},
   "outputs": [
    {
     "name": "stdout",
     "output_type": "stream",
     "text": [
      "True\n"
     ]
    }
   ],
   "source": [
    "# returns true if string ends with specified value\n",
    "print(a.endswith(\"y\"))"
   ]
  },
  {
   "cell_type": "code",
   "execution_count": 41,
   "id": "e936d26f",
   "metadata": {},
   "outputs": [
    {
     "name": "stdout",
     "output_type": "stream",
     "text": [
      "9\n",
      "7\n"
     ]
    }
   ],
   "source": [
    "# search the string for the specified value and returns starting index position of where it was found\n",
    "print(y.find(\"free\"))\n",
    "print(fruits.find(\"a\"))"
   ]
  },
  {
   "cell_type": "code",
   "execution_count": 42,
   "id": "25a11ce9",
   "metadata": {},
   "outputs": [
    {
     "name": "stdout",
     "output_type": "stream",
     "text": [
      "True\n",
      "False\n"
     ]
    }
   ],
   "source": [
    "# return true if sting contain only alfabet without space\n",
    "print(box2.isalpha())\n",
    "print(box4.isalpha())"
   ]
  },
  {
   "cell_type": "code",
   "execution_count": 44,
   "id": "81fc31b9",
   "metadata": {},
   "outputs": [
    {
     "name": "stdout",
     "output_type": "stream",
     "text": [
      "9\n",
      "7\n",
      "14\n"
     ]
    }
   ],
   "source": [
    "# search the string for the specified value and returns starting index position of where it was found\n",
    "print(y.find(\"free\"))\n",
    "print(fruits.find(\"a\"))\n",
    "print(fruits.find(\"and\"))"
   ]
  },
  {
   "cell_type": "code",
   "execution_count": 45,
   "id": "5254fcc0",
   "metadata": {},
   "outputs": [
    {
     "name": "stdout",
     "output_type": "stream",
     "text": [
      "for only 49.00 dollars!\n"
     ]
    }
   ],
   "source": [
    "# format specified value in a string and place it inside the string placeholder\n",
    "txt1 = \"for only {price:.2f} dollars!\"\n",
    "print(txt1.format(price = 49))"
   ]
  },
  {
   "cell_type": "code",
   "execution_count": 46,
   "id": "49129faf",
   "metadata": {},
   "outputs": [
    {
     "name": "stdout",
     "output_type": "stream",
     "text": [
      "25\n"
     ]
    }
   ],
   "source": [
    "# search the string for the specified value and returns the position of where it was found\n",
    "print(fruits.index(\"are\"))\n",
    "\n",
    "box5 = \"919498\"\n",
    "box6 = \"8 9 7\"\n",
    "box7 = \"sdv343j34\""
   ]
  },
  {
   "cell_type": "code",
   "execution_count": 47,
   "id": "1637b019",
   "metadata": {},
   "outputs": [
    {
     "name": "stdout",
     "output_type": "stream",
     "text": [
      "True\n",
      "False\n",
      "False\n"
     ]
    }
   ],
   "source": [
    "# returns true if all the character s in the string are decimal\n",
    "print(box5.isdecimal())\n",
    "print(box6.isdecimal())\n",
    "print(box7.isdecimal())"
   ]
  },
  {
   "cell_type": "code",
   "execution_count": 48,
   "id": "cdc4804a",
   "metadata": {},
   "outputs": [
    {
     "name": "stdout",
     "output_type": "stream",
     "text": [
      "True\n",
      "False\n",
      "False\n"
     ]
    }
   ],
   "source": [
    "# returns true if all the character s in the string are numeric\n",
    "print(box5.isnumeric())\n",
    "print(box6.isnumeric())\n",
    "print(box7.isnumeric())"
   ]
  },
  {
   "cell_type": "code",
   "execution_count": 49,
   "id": "e6e24c4f",
   "metadata": {},
   "outputs": [
    {
     "name": "stdout",
     "output_type": "stream",
     "text": [
      "True\n",
      "False\n"
     ]
    }
   ],
   "source": [
    "# returns true if string contain only white space\n",
    "box8 = \"  \"\n",
    "print(box8.isspace()) \n",
    "print(box6.isspace())"
   ]
  },
  {
   "cell_type": "code",
   "execution_count": 50,
   "id": "2c06f781",
   "metadata": {},
   "outputs": [
    {
     "name": "stdout",
     "output_type": "stream",
     "text": [
      "   today is sunday\n",
      "today is sunday\n"
     ]
    }
   ],
   "source": [
    "# returns the left trim version of a string\n",
    "print(a)\n",
    "print(a.lstrip())"
   ]
  },
  {
   "cell_type": "code",
   "execution_count": 51,
   "id": "6c334ad0",
   "metadata": {},
   "outputs": [
    {
     "name": "stdout",
     "output_type": "stream",
     "text": [
      "apple&mango&grapes\n"
     ]
    }
   ],
   "source": [
    "# joins the elements of the iterable with specified character to form a string\n",
    "myTuple = (\"apple\", \"mango\", \"grapes\")\n",
    "print(\"&\".join(myTuple))\n"
   ]
  },
  {
   "cell_type": "code",
   "execution_count": 52,
   "id": "8366e99e",
   "metadata": {},
   "outputs": [
    {
     "name": "stdout",
     "output_type": "stream",
     "text": [
      "today is sunday\n"
     ]
    }
   ],
   "source": [
    "abc = \"   today is sunday    \"\n",
    "print(abc.strip())"
   ]
  },
  {
   "cell_type": "code",
   "execution_count": 53,
   "id": "03b57fc1",
   "metadata": {},
   "outputs": [
    {
     "name": "stdout",
     "output_type": "stream",
     "text": [
      "3\n"
     ]
    }
   ],
   "source": [
    "# count the number of times in a character occurring in string\n",
    "print(x.count(\"a\"))"
   ]
  },
  {
   "cell_type": "code",
   "execution_count": 54,
   "id": "0bdf6d42",
   "metadata": {},
   "outputs": [
    {
     "name": "stdout",
     "output_type": "stream",
     "text": [
      "1\n",
      "0\n",
      "2\n"
     ]
    }
   ],
   "source": [
    "# count the number of times in substring occurring in string\n",
    "print(y.count(\"free\"))\n",
    "print(y.count(\"apples\"))\n",
    "print(fruits.count(\"apples\"))"
   ]
  },
  {
   "cell_type": "code",
   "execution_count": 55,
   "id": "8873dd03",
   "metadata": {},
   "outputs": [
    {
     "name": "stdout",
     "output_type": "stream",
     "text": [
      "True\n"
     ]
    }
   ],
   "source": [
    "# return true if string contains only spaces\n",
    "print(\"   \".isspace()) "
   ]
  },
  {
   "cell_type": "code",
   "execution_count": 56,
   "id": "4b4ce0cc",
   "metadata": {},
   "outputs": [
    {
     "name": "stdout",
     "output_type": "stream",
     "text": [
      "False\n"
     ]
    }
   ],
   "source": [
    "# return true if string contains only spaces\n",
    "print(\"  hbhxb \".isspace()) "
   ]
  },
  {
   "cell_type": "code",
   "execution_count": 57,
   "id": "a45e96e4",
   "metadata": {},
   "outputs": [
    {
     "name": "stdout",
     "output_type": "stream",
     "text": [
      "one_two_three_four_five\n",
      "one two three four five\n",
      "one&two&three\n"
     ]
    }
   ],
   "source": [
    "list1 = [\"one\", \"two\", \"three\", \"four\", \"five\"]\n",
    "list2 = [\"six\", \"seven\", \"eight\"]\n",
    "\n",
    "# joins the elements of the iterable with specified character to form a string\n",
    "print(\"_\".join(list1))\n",
    "print(\" \".join(list1))\n",
    "print(\"&\".join(list1[:3]))"
   ]
  },
  {
   "cell_type": "code",
   "execution_count": null,
   "id": "8ce89af1",
   "metadata": {},
   "outputs": [],
   "source": []
  }
 ],
 "metadata": {
  "kernelspec": {
   "display_name": "venv",
   "language": "python",
   "name": "python3"
  },
  "language_info": {
   "codemirror_mode": {
    "name": "ipython",
    "version": 3
   },
   "file_extension": ".py",
   "mimetype": "text/x-python",
   "name": "python",
   "nbconvert_exporter": "python",
   "pygments_lexer": "ipython3",
   "version": "3.10.11"
  }
 },
 "nbformat": 4,
 "nbformat_minor": 5
}
