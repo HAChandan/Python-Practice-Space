{
 "cells": [
  {
   "cell_type": "code",
   "execution_count": 1,
   "id": "e92343ca",
   "metadata": {},
   "outputs": [
    {
     "name": "stdout",
     "output_type": "stream",
     "text": [
      "There was a small boy named soma\n",
      "He used to sell flowers after his school\n",
      "Every day after 5 PM he used to go to market on his bicycle\n",
      "And sell flowers until it returned dark\n",
      "Today he made a profit of RS 250.58\n"
     ]
    }
   ],
   "source": [
    "print(\"There was a small boy named soma\")\n",
    "print(\"He used to sell flowers after his school\")\n",
    "print(\"Every day after 5 PM he used to go to market on his bicycle\")\n",
    "print(\"And sell flowers until it returned dark\")\n",
    "print(\"Today he made a profit of RS 250.58\")"
   ]
  },
  {
   "cell_type": "code",
   "execution_count": 2,
   "id": "522f2169",
   "metadata": {},
   "outputs": [
    {
     "name": "stdout",
     "output_type": "stream",
     "text": [
      "There was a small boy named Sidharth\n",
      "He used to sell Painting after his school\n",
      "Every day after 4 PM he used to go to market on his bicycle\n",
      "And sell Painting until it returned dark\n",
      "Today he made a profit of RS 350\n"
     ]
    }
   ],
   "source": [
    "name = \"Sidharth\"\n",
    "product = \"Painting\"\n",
    "time = \"4\"\n",
    "gain = \"350\"\n",
    "\n",
    "\n",
    "print(\"There was a small boy named\", name)\n",
    "print(\"He used to sell\", product, \"after his school\")\n",
    "print(\"Every day after\", time, \"PM he used to go to market on his bicycle\")\n",
    "print(\"And sell\", product, \"until it returned dark\")\n",
    "print(\"Today he made a profit of RS\", gain)"
   ]
  },
  {
   "cell_type": "code",
   "execution_count": 3,
   "id": "b2ad5e9e",
   "metadata": {},
   "outputs": [
    {
     "name": "stdout",
     "output_type": "stream",
     "text": [
      "a is  <class 'int'> 1751967072784\n",
      "b is <class 'int'> 1751967072784\n",
      "20\n",
      "0\n",
      "100\n",
      "1.0\n",
      "0\n"
     ]
    }
   ],
   "source": [
    "a = 10\n",
    "b = 10\n",
    "\n",
    "# print statement showing memory address\n",
    "print(\"a is \", type(a), id(a))\n",
    "print(\"b is\", type(b), id(b)) \n",
    "print(a + b)\n",
    "print(a - b)\n",
    "print(a * b)\n",
    "print(a / b)\n",
    "print(a % b)"
   ]
  },
  {
   "cell_type": "code",
   "execution_count": 5,
   "id": "a47e14df",
   "metadata": {},
   "outputs": [
    {
     "name": "stdout",
     "output_type": "stream",
     "text": [
      "Addition + ==> 87\n",
      "Subtraction - ==> 67\n",
      "Multiplication * ==> 770\n",
      "Division / ==> 7.7\n",
      "Modulus % ==> 7\n",
      "Floor division // ==> 7\n"
     ]
    }
   ],
   "source": [
    "d = 77\n",
    "e = 10\n",
    "c = d + e\n",
    "print(\"Addition + ==>\", c)\n",
    "c = d - e\n",
    "print(\"Subtraction - ==>\", c)\n",
    "c = d * e\n",
    "print(\"Multiplication * ==>\", c)\n",
    "c = d / e\n",
    "print(\"Division / ==>\", c)\n",
    "c = d % e\n",
    "print(\"Modulus % ==>\", c)\n",
    "c = d // e\n",
    "print(\"Floor division // ==>\", c)"
   ]
  },
  {
   "cell_type": "code",
   "execution_count": 6,
   "id": "9c70ee07",
   "metadata": {},
   "outputs": [
    {
     "name": "stdout",
     "output_type": "stream",
     "text": [
      "10 12 14\n"
     ]
    }
   ],
   "source": [
    "# Defining Multiple variables\n",
    "d, e ,f = 10, 12, 14 \n",
    "print(d, e, f)"
   ]
  },
  {
   "cell_type": "code",
   "execution_count": 7,
   "id": "37ea7e18",
   "metadata": {},
   "outputs": [
    {
     "name": "stdout",
     "output_type": "stream",
     "text": [
      "10 5\n",
      "5 10\n"
     ]
    }
   ],
   "source": [
    "# Swapping two Numbers Based on Multiple assignment(Method -1)\n",
    "\n",
    "a, b = 10, 5\n",
    "print(a,b)\n",
    "a, b = b, a\n",
    "print(a,b)"
   ]
  },
  {
   "cell_type": "code",
   "execution_count": 8,
   "id": "24120148",
   "metadata": {},
   "outputs": [
    {
     "name": "stdout",
     "output_type": "stream",
     "text": [
      "23 10\n"
     ]
    }
   ],
   "source": [
    "# Swapping two Numbers using third variable (Method -2)\n",
    "\n",
    "a, b = 10, 23\n",
    "c = a\n",
    "a = b\n",
    "b = c\n",
    "print(a,b)"
   ]
  },
  {
   "cell_type": "code",
   "execution_count": 9,
   "id": "2928cbf0",
   "metadata": {},
   "outputs": [
    {
     "name": "stdout",
     "output_type": "stream",
     "text": [
      "14 12\n"
     ]
    }
   ],
   "source": [
    "# Swapping two Numbers using addition (Method -3)\n",
    "\n",
    "a, b = 12, 14\n",
    "a = a + b #26\n",
    "b = a - b #12\n",
    "a = a - b #14\n",
    "print(a, b)"
   ]
  },
  {
   "cell_type": "code",
   "execution_count": 10,
   "id": "e52ebc18",
   "metadata": {},
   "outputs": [
    {
     "name": "stdout",
     "output_type": "stream",
     "text": [
      "5.0 10.0\n"
     ]
    }
   ],
   "source": [
    "# Swapping two Numbers using multiplication and division (Method -4)\n",
    "\n",
    "a, b = 10, 5\n",
    "a = a * b #50\n",
    "b = a / b #10\n",
    "a = a / b #5\n",
    "print(a, b)"
   ]
  },
  {
   "cell_type": "code",
   "execution_count": null,
   "id": "8840ca75",
   "metadata": {},
   "outputs": [
    {
     "name": "stdout",
     "output_type": "stream",
     "text": [
      "10 20\n"
     ]
    }
   ],
   "source": [
    "# Swapping two Numbers using multiplication and division (Method -5)\n",
    "\n",
    "a, b = 20, 10\n",
    "a = a / b #2\n",
    "b = a * b #20\n",
    "a = b / a #10\n",
    "print(int(a), int(b))"
   ]
  },
  {
   "cell_type": "code",
   "execution_count": 12,
   "id": "24300a00",
   "metadata": {},
   "outputs": [
    {
     "name": "stdout",
     "output_type": "stream",
     "text": [
      "Max Number is :  30\n"
     ]
    }
   ],
   "source": [
    "# Find Max of two numbers\n",
    "\n",
    "a = 25\n",
    "b = 30\n",
    "if a > b:\n",
    "    print(\"Max Number is : \", a)\n",
    "else:\n",
    "    a < b\n",
    "    print(\"Max Number is : \", b)"
   ]
  },
  {
   "cell_type": "code",
   "execution_count": 13,
   "id": "82855086",
   "metadata": {},
   "outputs": [
    {
     "name": "stdout",
     "output_type": "stream",
     "text": [
      "10 <class 'str'>\n"
     ]
    }
   ],
   "source": [
    "# Learning input function\n",
    "\n",
    "a = input(\"Enter number-1 : \")\n",
    "print(a, type(a))"
   ]
  },
  {
   "cell_type": "code",
   "execution_count": 14,
   "id": "df96a2b0",
   "metadata": {},
   "outputs": [
    {
     "name": "stdout",
     "output_type": "stream",
     "text": [
      "20 <class 'int'>\n"
     ]
    }
   ],
   "source": [
    "# Change Variable type from float to int by applying int cast\n",
    "\n",
    "a = input(\"Enter number-1 : \")\n",
    "a = int(a)\n",
    "print(a, type(a))"
   ]
  },
  {
   "cell_type": "code",
   "execution_count": 18,
   "id": "295325d7",
   "metadata": {},
   "outputs": [
    {
     "name": "stdout",
     "output_type": "stream",
     "text": [
      "25 <class 'int'>\n"
     ]
    }
   ],
   "source": [
    "# Change Variable type from float to int by applying int cast\n",
    "\n",
    "a = int(input(\"Enter number-1 : \"))\n",
    "print(a, type(a))"
   ]
  },
  {
   "cell_type": "code",
   "execution_count": 19,
   "id": "fcd8cceb",
   "metadata": {},
   "outputs": [
    {
     "name": "stdout",
     "output_type": "stream",
     "text": [
      "Max number is :  30\n"
     ]
    }
   ],
   "source": [
    "# Print maximum of three numbers\n",
    "\n",
    "a = int(input(\"Enter number1 : \"))\n",
    "b = int(input(\"Enter number2 : \"))\n",
    "c = int(input(\"Enter number3 : \"))\n",
    "\n",
    "if a >= b and a >= c:\n",
    "    print(\"Max number is : \", a)\n",
    "elif b >= a and b >= c:\n",
    "    print(\"Max number is : \", b)\n",
    "else:\n",
    "    print(\"Max number is : \", c)"
   ]
  },
  {
   "cell_type": "code",
   "execution_count": 20,
   "id": "6b2d6352",
   "metadata": {},
   "outputs": [
    {
     "name": "stdout",
     "output_type": "stream",
     "text": [
      "Descending order of the numbers is :  657 25 14\n"
     ]
    }
   ],
   "source": [
    "# maximum of three numbers and in descending order\n",
    "\n",
    "a = int(input(\"Enter number1 : \"))\n",
    "b = int(input(\"Enter number2 : \"))\n",
    "c = int(input(\"Enter number3 : \"))\n",
    "if a > b and a > c:\n",
    "    if b > c:\n",
    "        print(\"Descending order of the numbers is : \", a, b, c)\n",
    "    else:\n",
    "        print(\"Descending order of the numbers is : \", a, c, b)\n",
    "elif b > a and b > c:\n",
    "    if a > c:\n",
    "        print(\"Descending order of the numbers is : \", b, a, c)\n",
    "    else:\n",
    "        print(\"Descending order of the numbers is : \", b, c, a)\n",
    "elif a > b:\n",
    "    print(\"Descending order of the numbers is : \", c, a, b)\n",
    "else:\n",
    "    print(\"Descending order of the numbers is : \", c, b, a)"
   ]
  },
  {
   "cell_type": "code",
   "execution_count": 26,
   "id": "0d25158a",
   "metadata": {},
   "outputs": [
    {
     "name": "stdout",
     "output_type": "stream",
     "text": [
      "Max number is a, b  25\n"
     ]
    }
   ],
   "source": [
    "# maximum of three numbers\n",
    "\n",
    "a = int(input(\"Enter number1 : \"))\n",
    "b = int(input(\"Enter number2 : \"))\n",
    "c = int(input(\"Enter number3 : \"))\n",
    "\n",
    "# Case1 : a = b  = c\n",
    "\n",
    "if a == b == c:\n",
    "    print(\"all three numbers are same\")\n",
    "\n",
    "# Case2 : a = b  or b = c or c = a\n",
    "\n",
    "elif (a == b):\n",
    "    if a > c:\n",
    "        print(\"Max number is a, b \", a)\n",
    "    else:\n",
    "        print(\"Max number is c\", c)\n",
    "elif (b == c):\n",
    "    if b > a:\n",
    "        print(\"Max number is b, c \", b)\n",
    "    else:\n",
    "        print(\"Max number is a\", a)\n",
    "elif (c == a):\n",
    "    if c > b:\n",
    "        print(\"Max number is c, a \", a)\n",
    "    else:\n",
    "        print(\"Max number is b\", b)\n",
    "\n",
    "# Case3 : a != b != c\n",
    "\n",
    "elif a > b and a > c:\n",
    "    print(\"Max number is a : \", a)\n",
    "elif b > a and b > c:\n",
    "    print(\"Max number is b: \", b)\n",
    "else:\n",
    "    print(\"Max number is c: \", c)"
   ]
  },
  {
   "cell_type": "code",
   "execution_count": 2,
   "id": "91dfdab4",
   "metadata": {},
   "outputs": [
    {
     "name": "stdout",
     "output_type": "stream",
     "text": [
      "area of the circle with radius:  35.0 is 3848.95\n",
      "perimeter of the circle with radius:  35.0 is 219.94\n",
      "volume of the sphere with radius:  35.0 is 179617.66666666666\n",
      "surface of the circle with radius:  35.0 is 15395.8\n",
      "area of the circle with radius:  36.0 is 4072.0319999999997\n",
      "perimeter of the circle with radius:  36.0 is 226.224\n",
      "volume of the sphere with radius:  36.0 is 195457.536\n",
      "surface of the circle with radius:  36.0 is 16288.127999999999\n"
     ]
    }
   ],
   "source": [
    "# program for area and perimeter of circle, volume and surface area of sphere\n",
    "\n",
    "repeat = int(input(\"enter the number of intervals : \"))\n",
    "for i in range(repeat):\n",
    "    pi = 3.142\n",
    "    r = float(input(\"enter the radius is cms : \"))\n",
    "    # area of the circle:\n",
    "    area = pi*r**2\n",
    "    print(\"area of the circle with radius: \", r, \"is\", area)\n",
    "    # perimeter of the circle:\n",
    "    per = 2 * pi * r\n",
    "    print(\"perimeter of the circle with radius: \", r, \"is\", per)\n",
    "    # volume of the sphere:\n",
    "    vol = (4/3)*(pi*r**3)\n",
    "    print(\"volume of the sphere with radius: \", r, \"is\", vol)\n",
    "    surf = 4 * pi * r**2\n",
    "    print(\"surface of the circle with radius: \", r, \"is\", surf)"
   ]
  },
  {
   "cell_type": "code",
   "execution_count": 3,
   "id": "a5f484b7",
   "metadata": {},
   "outputs": [
    {
     "name": "stdout",
     "output_type": "stream",
     "text": [
      "<class 'tuple'>\n",
      "<class 'list'>\n",
      "<class 'dict'>\n",
      "<class 'set'>\n",
      "i\n",
      "P I\n",
      "Prime-Intuit\n",
      "12\n",
      "51\n",
      "Finishing School\n"
     ]
    }
   ],
   "source": [
    "a = (2, 3, 4, 5)\n",
    "b = [6, 7, 8, 9]\n",
    "\n",
    "c = {\n",
    "    'a' : 10,\n",
    "    'b' : 20,\n",
    "    'c' : 30,\n",
    "    }\n",
    "\n",
    "d = {\"apple\", \"banana\", \"cherry\"}\n",
    "\n",
    "print(type(a))\n",
    "print(type(b))\n",
    "print(type(c))\n",
    "print(type(d))\n",
    "\n",
    "name = \"Prime-Intuit\"\n",
    "Phrase = \"Prime-Intuit is one of the finest Finishing School \"\n",
    "print(name[2])\n",
    "print(name[0], name[6])\n",
    "print(Phrase[0:12])\n",
    "print(len(name))\n",
    "print(len(Phrase))\n",
    "print(Phrase[34:50])"
   ]
  },
  {
   "cell_type": "code",
   "execution_count": 1,
   "id": "a24914a8",
   "metadata": {},
   "outputs": [
    {
     "name": "stdout",
     "output_type": "stream",
     "text": [
      "Chandan Nanjangud\n",
      "C a\n",
      "Chand\n",
      "Chand\n",
      "ndan Nanjangud\n",
      "Chandan Nanjangud\n",
      "Chandan Nanjangud\n",
      "CadnNnagd\n",
      "Cnnaau\n",
      "dugnajnaN nadnahC\n",
      "dganNndaC\n",
      "an Nanjangud\n",
      "\n",
      "\n",
      "dnNnag\n",
      "\n",
      "17\n"
     ]
    }
   ],
   "source": [
    "# String indexing another example\n",
    "\n",
    "myName = 'Chandan Nanjangud'\n",
    "print(myName)\n",
    "print(myName[0], myName[12])\n",
    "print(myName[0:5])\n",
    "print(myName[:5])\n",
    "print(myName[3:17])\n",
    "print(myName[::])\n",
    "print(myName[:])\n",
    "print(myName[::2])\n",
    "print(myName[::3])\n",
    "print(myName[::-1])\n",
    "print(myName[::-2])\n",
    "print(myName[5:])\n",
    "print(myName[-2:-3])\n",
    "print(myName[4:7:-1])\n",
    "print(myName[4:-1:2])\n",
    "print(myName[4:2:3])\n",
    "print(len(myName))"
   ]
  },
  {
   "cell_type": "code",
   "execution_count": null,
   "id": "81f4831f",
   "metadata": {},
   "outputs": [],
   "source": []
  }
 ],
 "metadata": {
  "kernelspec": {
   "display_name": "venv",
   "language": "python",
   "name": "python3"
  },
  "language_info": {
   "codemirror_mode": {
    "name": "ipython",
    "version": 3
   },
   "file_extension": ".py",
   "mimetype": "text/x-python",
   "name": "python",
   "nbconvert_exporter": "python",
   "pygments_lexer": "ipython3",
   "version": "3.10.11"
  }
 },
 "nbformat": 4,
 "nbformat_minor": 5
}
