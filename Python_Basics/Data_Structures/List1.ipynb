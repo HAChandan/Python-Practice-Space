{
 "cells": [
  {
   "cell_type": "code",
   "execution_count": 1,
   "id": "9ae3f77f",
   "metadata": {},
   "outputs": [],
   "source": [
    "# All List Functions\n",
    "\n",
    "l1 = [1, 2, 3, 4, 5, 6, 7, 8, 9, 0]\n",
    "l2 = ['a','b','c','d','e', 'abc', 'xyz', 'B', 'G', 'R']"
   ]
  },
  {
   "cell_type": "code",
   "execution_count": 2,
   "id": "dbfd1e71",
   "metadata": {},
   "outputs": [
    {
     "name": "stdout",
     "output_type": "stream",
     "text": [
      "10\n",
      "10\n"
     ]
    }
   ],
   "source": [
    "# length function : returns the length of the list\n",
    "print(len(l1))\n",
    "print(len(l2))"
   ]
  },
  {
   "cell_type": "code",
   "execution_count": 3,
   "id": "a43fa4d2",
   "metadata": {},
   "outputs": [
    {
     "name": "stdout",
     "output_type": "stream",
     "text": [
      "9\n",
      "xyz\n"
     ]
    }
   ],
   "source": [
    "# max : returns the maximum value in the list\n",
    "print(max(l1))\n",
    "print(max(l2))"
   ]
  },
  {
   "cell_type": "code",
   "execution_count": 4,
   "id": "4ba12eb7",
   "metadata": {},
   "outputs": [
    {
     "name": "stdout",
     "output_type": "stream",
     "text": [
      "0\n",
      "B\n"
     ]
    }
   ],
   "source": [
    "# min : returns the minimum value in the list\n",
    "print(min(l1))\n",
    "print(min(l2))"
   ]
  },
  {
   "cell_type": "code",
   "execution_count": 5,
   "id": "5f66c8e1",
   "metadata": {},
   "outputs": [
    {
     "name": "stdout",
     "output_type": "stream",
     "text": [
      "[2, 4, 6]\n",
      "<class 'list'>\n"
     ]
    }
   ],
   "source": [
    "# list function : convert the tuple/sequence in to the list\n",
    "t1 = (2, 4, 6)\n",
    "l3 = list(t1)\n",
    "print(l3)\n",
    "print(type(l3))"
   ]
  },
  {
   "cell_type": "code",
   "execution_count": 6,
   "id": "5470023b",
   "metadata": {},
   "outputs": [
    {
     "name": "stdout",
     "output_type": "stream",
     "text": [
      "65\n",
      "[23, 45, 76]\n"
     ]
    }
   ],
   "source": [
    "# pop function : delete the value at the index and returns the value\n",
    "l3 = [23, 45, 65, 76]\n",
    "pick = l3.pop(2)\n",
    "print(pick)\n",
    "print(l3)"
   ]
  },
  {
   "cell_type": "code",
   "execution_count": 7,
   "id": "8fba77e8",
   "metadata": {},
   "outputs": [
    {
     "name": "stdout",
     "output_type": "stream",
     "text": [
      "The Removed item = None\n",
      "[65, 54, 76, 73, 34]\n"
     ]
    }
   ],
   "source": [
    "# remove : delete the value from the list\n",
    "l4 = [34, 65, 96, 54, 76, 73, 34]\n",
    "l4.remove(34)\n",
    "rem_item = l4.remove(96)\n",
    "print(\"The Removed item =\",rem_item)\n",
    "print(l4)"
   ]
  },
  {
   "cell_type": "code",
   "execution_count": 8,
   "id": "7c0b4cb5",
   "metadata": {},
   "outputs": [
    {
     "name": "stdout",
     "output_type": "stream",
     "text": [
      "[73, 76, 54, 96, 65, 34]\n"
     ]
    }
   ],
   "source": [
    "# reverse : reverse the list\n",
    "l5 = [34, 65, 96, 54, 76, 73]\n",
    "l5.reverse()\n",
    "print(l5)"
   ]
  },
  {
   "cell_type": "code",
   "execution_count": 9,
   "id": "e7b108dd",
   "metadata": {},
   "outputs": [
    {
     "name": "stdout",
     "output_type": "stream",
     "text": [
      "[12, 23, 23, 30, 34, 53, 65, 77, 88]\n"
     ]
    }
   ],
   "source": [
    "# sort : sort the data within the list in ascending order\n",
    "l6 = [34, 53, 23, 12, 30, 23, 65, 77, 88]\n",
    "l6.sort()\n",
    "print(l6)"
   ]
  },
  {
   "cell_type": "code",
   "execution_count": 10,
   "id": "b04baad1",
   "metadata": {},
   "outputs": [
    {
     "name": "stdout",
     "output_type": "stream",
     "text": [
      "[23, 53, 77, 23, 12, 30, 55, 65, 77, 88]\n"
     ]
    }
   ],
   "source": [
    "# insert : insert the data element in the index value specified\n",
    "l6 = [23, 53, 23, 12, 30, 55, 65, 77, 88]\n",
    "l6.insert(2, 77)\n",
    "print(l6)"
   ]
  },
  {
   "cell_type": "code",
   "execution_count": 11,
   "id": "bb0e7c47",
   "metadata": {},
   "outputs": [
    {
     "name": "stdout",
     "output_type": "stream",
     "text": [
      "['DS', 'AS', 'ER', 'SX', 'QS', 'CV', 'WS', 'HA']\n"
     ]
    }
   ],
   "source": [
    "# append : add the data element in to the end of the list\n",
    "L7 = ['DS', 'AS', 'ER', 'SX', 'QS', 'CV', 'WS']\n",
    "L7.append('HA')\n",
    "print(L7)"
   ]
  },
  {
   "cell_type": "code",
   "execution_count": 12,
   "id": "91bec580",
   "metadata": {},
   "outputs": [
    {
     "name": "stdout",
     "output_type": "stream",
     "text": [
      "[]\n"
     ]
    }
   ],
   "source": [
    "# clear : clear all the value in the list\n",
    "L8 = ['AFS', 'AAA', 'KSG', 'JAG']\n",
    "L8.clear()\n",
    "print(L8)"
   ]
  },
  {
   "cell_type": "code",
   "execution_count": null,
   "id": "e23e3fc0",
   "metadata": {},
   "outputs": [
    {
     "name": "stdout",
     "output_type": "stream",
     "text": [
      "['AFS', 'AAA', 'KSG', 'JAG', 'VGHV', 'JVHA']\n",
      "['AFS', 'AAA', 'KSG', 'JAG', 'VGHV', 'JVHA']\n",
      "['AFS', 'AAA', 'KSG', 'JAG', 'VGHV', 'JVHA']\n"
     ]
    }
   ],
   "source": [
    "# copy : copy the list\n",
    "L9 = ['AFS', 'AAA', 'KSG', 'JAG', 'VGHV', 'JVHA']\n",
    "L10 = L9\n",
    "L11 = L9.copy()\n",
    "print(L9)\n",
    "print(L10)\n",
    "print(L11)"
   ]
  },
  {
   "cell_type": "code",
   "execution_count": 14,
   "id": "3ce1b71a",
   "metadata": {},
   "outputs": [
    {
     "name": "stdout",
     "output_type": "stream",
     "text": [
      "[23, 34, 54, 67]\n",
      "[54, 67]\n",
      "[23, 34, 54, 67, 87, 95, 76]\n",
      "[54, 67, 87, 95, 76]\n",
      "[76, 95, 87, 67, 54, 34, 23]\n"
     ]
    }
   ],
   "source": [
    "# Indexing in List\n",
    "\n",
    "l1 = [23, 34, 54, 67, 87, 95, 76]\n",
    "\n",
    "print(l1[:4])\n",
    "print(l1[2:4])\n",
    "print(l1[:])\n",
    "print(l1[2:])\n",
    "print(l1[::-1])"
   ]
  },
  {
   "cell_type": "code",
   "execution_count": 15,
   "id": "932df951",
   "metadata": {},
   "outputs": [
    {
     "name": "stdout",
     "output_type": "stream",
     "text": [
      "[23, 34, 54, 67, 87, 95, 77]\n"
     ]
    }
   ],
   "source": [
    "# Replacing a element in the string\n",
    "\n",
    "l1[6] = 77\n",
    "print(l1)"
   ]
  },
  {
   "cell_type": "code",
   "execution_count": 16,
   "id": "4173ff4b",
   "metadata": {},
   "outputs": [
    {
     "name": "stdout",
     "output_type": "stream",
     "text": [
      "[23, 34, 54, 67, 87, 95, 77, 52]\n"
     ]
    }
   ],
   "source": [
    "# Adding an element to the end of the list\n",
    "l1.append(52)\n",
    "print(l1)"
   ]
  },
  {
   "cell_type": "code",
   "execution_count": 17,
   "id": "18cda68c",
   "metadata": {},
   "outputs": [
    {
     "name": "stdout",
     "output_type": "stream",
     "text": [
      "[1, 3, 5, 7, 9, 11]\n",
      "[0, 2, 4, 6, 8, 10, 12]\n",
      "[0, 2, 4, 6, 8, 10, 12]\n",
      "13\n"
     ]
    }
   ],
   "source": [
    "box1 = [0, 1, 2, 3, 4, 5, 6, 7, 8, 9, 10, 11, 12]\n",
    "\n",
    "# Using step to create odd number\n",
    "print(box1[1::2])\n",
    "\n",
    "# Using step to create even number\n",
    "print(box1[0::2])\n",
    "\n",
    "# Using step to create even number\n",
    "print(box1[::2])\n",
    "\n",
    "# Length function\n",
    "print(len(box1))"
   ]
  },
  {
   "cell_type": "code",
   "execution_count": 18,
   "id": "5ac4570f",
   "metadata": {},
   "outputs": [
    {
     "name": "stdout",
     "output_type": "stream",
     "text": [
      "[0, 1, 2, 3, 4, 5, 6, 7, 8, 9, 10, 11, 12, 14, 15, 16, 17, 18, 19, 20]\n"
     ]
    }
   ],
   "source": [
    "# Conatinating two list\n",
    "box1 = [0, 1, 2, 3, 4, 5, 6, 7, 8, 9, 10, 11, 12]\n",
    "box2 = [14, 15, 16, 17, 18, 19, 20]\n",
    "\n",
    "print(box1 + box2)"
   ]
  },
  {
   "cell_type": "code",
   "execution_count": 19,
   "id": "b66fd6f2",
   "metadata": {},
   "outputs": [
    {
     "name": "stdout",
     "output_type": "stream",
     "text": [
      "[0, 1, 2, 3, 4, 5, 6, 7, 8, 9, 10, 11, 12, 13, 14, 15, 16, 17, 18, 19, 20]\n"
     ]
    }
   ],
   "source": [
    "box1.append(13)\n",
    "\n",
    "new_box = box1 + box2\n",
    "print(new_box)"
   ]
  },
  {
   "cell_type": "code",
   "execution_count": 20,
   "id": "5c39fa60",
   "metadata": {},
   "outputs": [
    {
     "name": "stdout",
     "output_type": "stream",
     "text": [
      "13\n",
      "Printing all indivisual list items below\n",
      "0 1 2 3 4 5 6 7 8 9 10 11 12 \n"
     ]
    }
   ],
   "source": [
    "box1 = [0, 1, 2, 3, 4, 5, 6, 7, 8, 9, 10, 11, 12]\n",
    "print(len(box1))\n",
    "print(\"Printing all indivisual list items below\")\n",
    "for i in box1:\n",
    "    print(i, end=\" \")\n",
    "print()"
   ]
  },
  {
   "cell_type": "code",
   "execution_count": 21,
   "id": "604fcdeb",
   "metadata": {},
   "outputs": [
    {
     "name": "stdout",
     "output_type": "stream",
     "text": [
      "[36, 54, 58, 75, 45]\n",
      "[45, 54, 58, 75, 36]\n"
     ]
    }
   ],
   "source": [
    "# Swap the values of the first nd last item\n",
    "\n",
    "length = int(input(\"Enter the length of the list : \"))\n",
    "l3 = []\n",
    "x = 1\n",
    "while(x <= length):\n",
    "    y = int(input(\"Enter the list element : \"))\n",
    "    l3.append(y)\n",
    "    x = x + 1\n",
    "print(l3)\n",
    "a = l3[0]\n",
    "l3[0] = l3[length-1]\n",
    "l3[length-1] = a\n",
    "print(l3)"
   ]
  },
  {
   "cell_type": "code",
   "execution_count": 23,
   "id": "3cdc52e2",
   "metadata": {},
   "outputs": [
    {
     "name": "stdout",
     "output_type": "stream",
     "text": [
      "[85, 2456, 686, 68, 65]\n",
      "[85, 686, 68, 65]\n",
      "686\n"
     ]
    }
   ],
   "source": [
    "# Find the second highest in the list\n",
    "\n",
    "length = int(input(\"Enter the length of the list : \"))\n",
    "l4 = []\n",
    "x = 1\n",
    "while(x <= length):\n",
    "    y = int(input(\"Enter the list element : \"))\n",
    "    l4.append(y)\n",
    "    x = x + 1\n",
    "print(l4)\n",
    "l4.remove(max(l4))\n",
    "print(l4)\n",
    "print(max(l4))"
   ]
  },
  {
   "cell_type": "code",
   "execution_count": 25,
   "id": "b3570459",
   "metadata": {},
   "outputs": [
    {
     "name": "stdout",
     "output_type": "stream",
     "text": [
      "[10, 20, 30, 40, 50]\n",
      "5\n",
      "50 4\n",
      "[10, 20, 30, 40]\n",
      "40 3\n"
     ]
    }
   ],
   "source": [
    "# Find the second highest in the list Without using max function\n",
    "\n",
    "length = int(input(\"Enter the length of the list : \"))\n",
    "l4 = []\n",
    "x = 1\n",
    "while(x <= length):\n",
    "    y = int(input(\"Enter the list element : \"))\n",
    "    l4.append(y)\n",
    "    x = x + 1\n",
    "print(l4)\n",
    "print(len(l4))\n",
    "\n",
    "max = l4[0]\n",
    "x = 1\n",
    "ind = 0\n",
    "while x < len(l4):\n",
    "    if max < l4[x]:\n",
    "        max = l4[x]\n",
    "        ind = x\n",
    "    x = x + 1\n",
    "print(max, ind)\n",
    "\n",
    "del(l4[ind])\n",
    "print(l4)\n",
    "\n",
    "max = l4[0]\n",
    "x = 1\n",
    "ind = 0\n",
    "while x < len(l4):\n",
    "    if max < l4[x]:\n",
    "        max = l4[x]\n",
    "        ind = x\n",
    "    x = x + 1\n",
    "print(max, ind)"
   ]
  },
  {
   "cell_type": "code",
   "execution_count": 26,
   "id": "c2884faa",
   "metadata": {},
   "outputs": [
    {
     "name": "stdout",
     "output_type": "stream",
     "text": [
      "[2, 4, 6, 8] \n",
      " [4, 16, 36, 64]\n"
     ]
    }
   ],
   "source": [
    "# List comprehension, Concise way of creating a new list using existing iterable\n",
    "\n",
    "l1 = [2, 4, 6, 8]\n",
    "l2 = [x**2 for x in l1] # List Comprehension using l1 to create a list l2 of square values\n",
    "print(l1,'\\n',l2) # \\n indicates that the subsequent part of the print statement"
   ]
  },
  {
   "cell_type": "code",
   "execution_count": 27,
   "id": "20a1acb5",
   "metadata": {},
   "outputs": [
    {
     "name": "stdout",
     "output_type": "stream",
     "text": [
      "[9, 1, 1, 9]\n",
      "Variance 6.666666666666666\n",
      "Standard Deviation =  2.581988897471611\n"
     ]
    }
   ],
   "source": [
    "# Mean, Variance, Standard Deviation\n",
    "\n",
    "import math\n",
    "m = 5 # Mean of the l1\n",
    "\n",
    "l3 = [(x-m)**2 for x in l1]\n",
    "print(l3)\n",
    "var = (1/(len(l1)-1)) * (sum(l3))\n",
    "print(\"Variance\", var)\n",
    "print(\"Standard Deviation = \", math.sqrt(var))"
   ]
  },
  {
   "cell_type": "code",
   "execution_count": null,
   "id": "d56aabad",
   "metadata": {},
   "outputs": [],
   "source": []
  }
 ],
 "metadata": {
  "kernelspec": {
   "display_name": "venv",
   "language": "python",
   "name": "python3"
  },
  "language_info": {
   "codemirror_mode": {
    "name": "ipython",
    "version": 3
   },
   "file_extension": ".py",
   "mimetype": "text/x-python",
   "name": "python",
   "nbconvert_exporter": "python",
   "pygments_lexer": "ipython3",
   "version": "3.10.11"
  }
 },
 "nbformat": 4,
 "nbformat_minor": 5
}
