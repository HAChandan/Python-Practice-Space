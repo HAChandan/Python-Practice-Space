{
 "cells": [
  {
   "cell_type": "code",
   "execution_count": 2,
   "id": "1410c2b2",
   "metadata": {},
   "outputs": [
    {
     "name": "stdout",
     "output_type": "stream",
     "text": [
      "Sum =  30\n"
     ]
    }
   ],
   "source": [
    "# Introduction to functions:\n",
    "\n",
    "x = int(input(\"Enter the num 1: \"))\n",
    "y = int(input(\"Enter the num 2: \"))\n",
    "\n",
    "z = x + y\n",
    "print(\"Sum = \", z)"
   ]
  },
  {
   "cell_type": "code",
   "execution_count": 3,
   "id": "44e940d5",
   "metadata": {},
   "outputs": [
    {
     "name": "stdout",
     "output_type": "stream",
     "text": [
      "Sum =  55\n"
     ]
    }
   ],
   "source": [
    "xa = int(input(\"Enter the num 3: \"))\n",
    "ya = int(input(\"Enter the num 4: \"))\n",
    "\n",
    "za = xa + ya\n",
    "print(\"Sum = \", za)"
   ]
  },
  {
   "cell_type": "code",
   "execution_count": 4,
   "id": "df11ffb1",
   "metadata": {},
   "outputs": [
    {
     "name": "stdout",
     "output_type": "stream",
     "text": [
      "Sum =  94\n"
     ]
    }
   ],
   "source": [
    "xb = int(input(\"Enter the num 5: \"))\n",
    "yb = int(input(\"Enter the num 6: \"))\n",
    "\n",
    "zb = xb + yb\n",
    "print(\"Sum = \", zb)"
   ]
  },
  {
   "cell_type": "code",
   "execution_count": 5,
   "id": "59ba4eed",
   "metadata": {},
   "outputs": [],
   "source": [
    "# Instead of writing a addition formula everytime write function once and use as many time that you want.\n",
    "\n",
    "def addition(a, b):\n",
    "    c = a + b\n",
    "    return(\"addition\", c)"
   ]
  },
  {
   "cell_type": "code",
   "execution_count": 6,
   "id": "827602f4",
   "metadata": {},
   "outputs": [
    {
     "name": "stdout",
     "output_type": "stream",
     "text": [
      "Z =  ('addition', 30)\n",
      "\n",
      "Sum =  ('addition', 30)\n",
      "Sum =  ('addition', 55)\n",
      "Sum =  ('addition', 94)\n"
     ]
    }
   ],
   "source": [
    "z = addition(x, y)\n",
    "print(\"Z = \", z)\n",
    "print()\n",
    "print(\"Sum = \", addition(x, y))\n",
    "print(\"Sum = \", addition(xa, ya))\n",
    "print(\"Sum = \", addition(xb, yb))"
   ]
  },
  {
   "cell_type": "code",
   "execution_count": 7,
   "id": "0553c562",
   "metadata": {},
   "outputs": [],
   "source": [
    "# Another example\n",
    "\n",
    "x = int(input(\"Enter the num 1: \"))\n",
    "y = int(input(\"Enter the num 2: \"))\n",
    "z = int(input(\"Enter the num 3: \"))"
   ]
  },
  {
   "cell_type": "code",
   "execution_count": 8,
   "id": "3c426040",
   "metadata": {},
   "outputs": [],
   "source": [
    "def addition(a, b):\n",
    "    c = a + b\n",
    "    return(c)\n",
    "\n",
    "def subtraction(a, b):\n",
    "    return (a - b)\n",
    "\n",
    "def multiplication(a, b):\n",
    "    return (a * b)\n",
    "\n",
    "def division(a, b):\n",
    "    return (a / b)"
   ]
  },
  {
   "cell_type": "code",
   "execution_count": 9,
   "id": "18f71748",
   "metadata": {},
   "outputs": [
    {
     "name": "stdout",
     "output_type": "stream",
     "text": [
      "Addition of 2 Num :  30\n",
      "Subtraction of 2 Num :  -10\n",
      "Multiplication of 2 Num :  200\n",
      "Division of 2 Num :  0.5\n"
     ]
    }
   ],
   "source": [
    "print(\"Addition of 2 Num : \", addition(x, y))\n",
    "print(\"Subtraction of 2 Num : \", subtraction(x, y))\n",
    "print(\"Multiplication of 2 Num : \", multiplication(x, y))\n",
    "print(\"Division of 2 Num : \", division(x, y))"
   ]
  },
  {
   "cell_type": "code",
   "execution_count": 10,
   "id": "770bcb30",
   "metadata": {},
   "outputs": [
    {
     "name": "stdout",
     "output_type": "stream",
     "text": [
      "Addition of 3 Num :  60\n",
      "Subtraction of 3 Num :  -40\n",
      "multiplication of 3 Num :  6000\n",
      "division of 3 Num :  0.016666666666666666\n"
     ]
    }
   ],
   "source": [
    "# Using functions smartly\n",
    "print(\"Addition of 3 Num : \", addition(addition(x, y),z))\n",
    "print(\"Subtraction of 3 Num : \", subtraction(subtraction(x, y),z))\n",
    "print(\"multiplication of 3 Num : \", multiplication(multiplication(x, y),z))\n",
    "print(\"division of 3 Num : \", division(division(x, y),z))"
   ]
  },
  {
   "cell_type": "code",
   "execution_count": 11,
   "id": "b6d68dc9",
   "metadata": {},
   "outputs": [],
   "source": [
    "# Another example\n",
    "\n",
    "def arithmatic_oper(a, b):\n",
    "    add = a + b\n",
    "    sub = a - b\n",
    "    div = a / b\n",
    "    mul = a * b\n",
    "    return add, sub, div, mul"
   ]
  },
  {
   "cell_type": "code",
   "execution_count": 12,
   "id": "ad298435",
   "metadata": {},
   "outputs": [
    {
     "name": "stdout",
     "output_type": "stream",
     "text": [
      "15\n",
      "5\n",
      "2.0\n",
      "50\n"
     ]
    }
   ],
   "source": [
    "add_two, sub_two, mul_two, div_two = arithmatic_oper(10, 5)\n",
    "print(add_two)\n",
    "print(sub_two)\n",
    "print(mul_two)\n",
    "print(div_two)"
   ]
  },
  {
   "cell_type": "code",
   "execution_count": 13,
   "id": "e6fc8fce",
   "metadata": {},
   "outputs": [
    {
     "name": "stdout",
     "output_type": "stream",
     "text": [
      "Arithmatic Operations:  (45, 21, 2.75, 396)\n",
      "Type of Multiple return values:  <class 'tuple'>\n"
     ]
    }
   ],
   "source": [
    "print(\"Arithmatic Operations: \", arithmatic_oper(33, 12))\n",
    "print(\"Type of Multiple return values: \", type(arithmatic_oper(33, 12)))"
   ]
  },
  {
   "cell_type": "code",
   "execution_count": 14,
   "id": "c9a9a872",
   "metadata": {},
   "outputs": [],
   "source": [
    "# Another example\n",
    "\n",
    "x = int(input(\"Enter the num 1: \"))\n",
    "y = int(input(\"Enter the num 2: \"))\n",
    "z = int(input(\"Enter the num 3: \"))\n",
    "n = int(input(\"Enter the num 4: \"))"
   ]
  },
  {
   "cell_type": "code",
   "execution_count": 15,
   "id": "7e4e0355",
   "metadata": {},
   "outputs": [],
   "source": [
    "def maximum1(a, b):\n",
    "    if a > b:\n",
    "        return a\n",
    "    else:\n",
    "        return b\n",
    "\n",
    "def maximum2(a, b, c):\n",
    "    if a > b > c:\n",
    "        return a\n",
    "    elif b > a > c:\n",
    "        return b\n",
    "    else:\n",
    "        return c"
   ]
  },
  {
   "cell_type": "code",
   "execution_count": 16,
   "id": "77c8a27a",
   "metadata": {},
   "outputs": [
    {
     "name": "stdout",
     "output_type": "stream",
     "text": [
      "Maximum of 2 num :  356\n",
      "Maximum of 3 num :  356\n",
      "Maximum of 3 num :  356\n",
      "Maximum of 4 num :  356\n"
     ]
    }
   ],
   "source": [
    "print(\"Maximum of 2 num : \", maximum1(x, y))\n",
    "print(\"Maximum of 3 num : \", maximum1(maximum1(x, y),z))\n",
    "print(\"Maximum of 3 num : \", maximum2(x, y, z))\n",
    "print(\"Maximum of 4 num : \", maximum1(maximum1(x, y),maximum1(z, n)))"
   ]
  },
  {
   "cell_type": "code",
   "execution_count": 17,
   "id": "47917ade",
   "metadata": {},
   "outputs": [],
   "source": [
    "# Another example\n",
    "\n",
    "num1 = int(input(\"Enter a number 1 : \"))\n",
    "num2 = int(input(\"Enter a number 2 : \"))\n",
    "\n",
    "def function_2(a_number):\n",
    "    mul = a_number*2\n",
    "    return mul"
   ]
  },
  {
   "cell_type": "code",
   "execution_count": 18,
   "id": "4e8e190b",
   "metadata": {},
   "outputs": [],
   "source": [
    "# Calling function inside another function\n",
    "def function_1(num):\n",
    "    prod = num * num\n",
    "    ano_ope = function_2(prod)\n",
    "    return ano_ope\n"
   ]
  },
  {
   "cell_type": "code",
   "execution_count": 19,
   "id": "ac598bc2",
   "metadata": {},
   "outputs": [
    {
     "name": "stdout",
     "output_type": "stream",
     "text": [
      "Result :  512\n",
      "Result :  284\n",
      "Result :  131072\n",
      "Result :  40328\n"
     ]
    }
   ],
   "source": [
    "print(\"Result : \", function_2(num1))\n",
    "print(\"Result : \", function_2(num2))\n",
    "print(\"Result : \", function_1(num1))\n",
    "print(\"Result : \", function_1(num2))"
   ]
  },
  {
   "cell_type": "code",
   "execution_count": 20,
   "id": "868a12ad",
   "metadata": {},
   "outputs": [
    {
     "name": "stdout",
     "output_type": "stream",
     "text": [
      "odd number\n",
      "25\n",
      "even number\n",
      "30\n"
     ]
    }
   ],
   "source": [
    "# Another example\n",
    "\n",
    "def even_odd(ab):\n",
    "    if ab % 2 == 0:\n",
    "        print(\"even number\")\n",
    "        return ab\n",
    "    else:\n",
    "        print(\"odd number\")\n",
    "        return ab\n",
    "\n",
    "print(even_odd(25))\n",
    "print(even_odd(30))"
   ]
  },
  {
   "cell_type": "code",
   "execution_count": 21,
   "id": "84980f90",
   "metadata": {},
   "outputs": [],
   "source": [
    "# Another example\n",
    "\n",
    "def odd_even_list(list_name):\n",
    "    odd_list = []\n",
    "    even_list = []\n",
    "    for num in list_name:\n",
    "        if num % 2 == 0:\n",
    "            odd_list.append(num)\n",
    "        else:\n",
    "            even_list.append(num)\n",
    "    return odd_list, even_list"
   ]
  },
  {
   "cell_type": "code",
   "execution_count": 22,
   "id": "4c5c3d9c",
   "metadata": {},
   "outputs": [
    {
     "name": "stdout",
     "output_type": "stream",
     "text": [
      "([34, 54, 56, 6, 34], [23, 45, 65, 75, 55, 67, 89])\n",
      "ODD_NUM : [34, 54, 56, 6, 34]\n",
      "EVEN_NUM : [23, 45, 65, 75, 55, 67, 89]\n"
     ]
    }
   ],
   "source": [
    "num_list_L1 = [23, 34, 54, 45, 65, 56, 75, 6, 34, 55, 67, 89]\n",
    "\n",
    "print(odd_even_list(num_list_L1))\n",
    "ODD_NUM, EVEN_NUM = odd_even_list(num_list_L1)\n",
    "print(\"ODD_NUM :\", ODD_NUM)\n",
    "print(\"EVEN_NUM :\", EVEN_NUM)"
   ]
  },
  {
   "cell_type": "code",
   "execution_count": 23,
   "id": "ad4bed1f",
   "metadata": {},
   "outputs": [],
   "source": [
    "# Arbitrary Arguments\n",
    "# When we don't know how many arguments we give then we use * while passing parameters to the function\n",
    "# * before the parameter When python doesn't know how may value user enter\n",
    "\n",
    "def nk_total(*num):\n",
    "    length_numbers = len(num)\n",
    "    k = 0\n",
    "    total_sum = 0\n",
    "    while k < length_numbers:\n",
    "        total_sum = total_sum + num[k]\n",
    "        k = k + 1\n",
    "    return total_sum"
   ]
  },
  {
   "cell_type": "code",
   "execution_count": 24,
   "id": "d0cc7ee8",
   "metadata": {},
   "outputs": [
    {
     "name": "stdout",
     "output_type": "stream",
     "text": [
      "Sum of Values Entered 1 =  6\n",
      "Sum of Values Entered 2 =  30\n",
      "Sum of Values Entered 3 =  62\n",
      "Sum of Values Entered 4 =  154\n"
     ]
    }
   ],
   "source": [
    "print(\"Sum of Values Entered 1 = \", nk_total(2, 2, 2))\n",
    "print(\"Sum of Values Entered 2 = \", nk_total(2, 4, 6, 8, 10))\n",
    "print(\"Sum of Values Entered 3 = \", nk_total(7, 10 , 12, 16, 17))\n",
    "print(\"Sum of Values Entered 4 = \", nk_total(77, 77))"
   ]
  },
  {
   "cell_type": "code",
   "execution_count": 25,
   "id": "2e9e678e",
   "metadata": {},
   "outputs": [
    {
     "name": "stdout",
     "output_type": "stream",
     "text": [
      "The sum of the the_sum Variable =  254\n"
     ]
    }
   ],
   "source": [
    "the_sum =  nk_total(23, 45, 65, 78, 43)\n",
    "print(\"The sum of the the_sum Variable = \", the_sum)"
   ]
  },
  {
   "cell_type": "code",
   "execution_count": 26,
   "id": "9d226055",
   "metadata": {},
   "outputs": [
    {
     "name": "stdout",
     "output_type": "stream",
     "text": [
      "Colour =  red\n",
      "Colour =  white\n"
     ]
    }
   ],
   "source": [
    "# Default Parameter Value =\n",
    "# when user define a function and pass the parameter with variable = some name or number.\n",
    "# And when the function is called without passing the parameter it will use the default parameter when function is defined.\n",
    "\n",
    "def nk_color(c = \"blue\"):\n",
    "    print(\"Colour = \", c)\n",
    "\n",
    "nk_color(\"red\")\n",
    "nk_color(\"white\")"
   ]
  },
  {
   "cell_type": "code",
   "execution_count": 27,
   "id": "16549fa6",
   "metadata": {},
   "outputs": [
    {
     "name": "stdout",
     "output_type": "stream",
     "text": [
      "Colour =  blue\n"
     ]
    }
   ],
   "source": [
    "# Function called without parameter so it will use default parameter value c = \"blue\" from the function where it is called\n",
    "nk_color()"
   ]
  },
  {
   "cell_type": "code",
   "execution_count": 28,
   "id": "e349aee1",
   "metadata": {},
   "outputs": [
    {
     "name": "stdout",
     "output_type": "stream",
     "text": [
      "km to meters =  3000\n"
     ]
    }
   ],
   "source": [
    "def nk_trans(a, x, c=0):\n",
    "    newX = x*a+c\n",
    "    return newX\n",
    "print(\"km to meters = \", nk_trans(1000, 3))"
   ]
  },
  {
   "cell_type": "code",
   "execution_count": 29,
   "id": "46b4fcaa",
   "metadata": {},
   "outputs": [
    {
     "name": "stdout",
     "output_type": "stream",
     "text": [
      "Celsius to fahrenheit =  77.0\n",
      "Celsius to fahrenheit =  86.0\n",
      "Celsius to fahrenheit =  93.2\n"
     ]
    }
   ],
   "source": [
    "# Calculate fahrenheit using degree Celsius\n",
    "# Formula ==> Fahrenheit = (Celsius*(9/5))+32\n",
    "\n",
    "# In the below function a and b are default parameters\n",
    "def deg_to_far(cel, a=(9/5), b=32):\n",
    "    far = a*cel + b\n",
    "    return far\n",
    "print(\"Celsius to fahrenheit = \", deg_to_far(25))\n",
    "print(\"Celsius to fahrenheit = \", deg_to_far(30))\n",
    "print(\"Celsius to fahrenheit = \", deg_to_far(34))"
   ]
  },
  {
   "cell_type": "code",
   "execution_count": 30,
   "id": "8bbe1904",
   "metadata": {},
   "outputs": [
    {
     "name": "stdout",
     "output_type": "stream",
     "text": [
      "Fahrenheit to Celsius =  25.0\n",
      "Fahrenheit to Celsius =  30.0\n",
      "Fahrenheit to Celsius =  36.111111111111114\n"
     ]
    }
   ],
   "source": [
    "# Calculate Celsius using Fahrenheit\n",
    "# Formula ==> Celsius = (Fahrenheit-32)*5 / 9\n",
    "\n",
    "# In the below function x, y, z are default parameters\n",
    "def far_to_cel(far, x = 32, y = 5, z = 9):\n",
    "    cel = (far-x)*y / z\n",
    "    return cel\n",
    "\n",
    "print(\"Fahrenheit to Celsius = \", far_to_cel(77))\n",
    "print(\"Fahrenheit to Celsius = \", far_to_cel(86))\n",
    "print(\"Fahrenheit to Celsius = \", far_to_cel(97))"
   ]
  },
  {
   "cell_type": "code",
   "execution_count": 32,
   "id": "1968087c",
   "metadata": {},
   "outputs": [
    {
     "name": "stdout",
     "output_type": "stream",
     "text": [
      "Factorial of a Number 5 =  120\n"
     ]
    }
   ],
   "source": [
    "# Factorial of a number\n",
    "\n",
    "entered_num = int(input(\"Enter a Number : \"))\n",
    "fact = 1\n",
    "for i in range(1, entered_num+1):\n",
    "    fact = fact*i\n",
    "print(f\"Factorial of a Number {entered_num} = \", fact)"
   ]
  },
  {
   "cell_type": "code",
   "execution_count": 33,
   "id": "83e57ff7",
   "metadata": {},
   "outputs": [
    {
     "name": "stdout",
     "output_type": "stream",
     "text": [
      "Factorial of 5 =  120\n",
      "Factorial of 0 =  1\n",
      "Factorial of 7 =  5040\n",
      "Factorial of 8 =  40320\n"
     ]
    }
   ],
   "source": [
    "# recursion\n",
    "# Calling the function inside the same function\n",
    "def fact(m):\n",
    "    if m == 1 or m == 0:\n",
    "        return 1\n",
    "    else:\n",
    "        return m * fact(m-1)\n",
    "    \n",
    "# Example usage:\n",
    "print(\"Factorial of 5 = \", fact(5))\n",
    "print(\"Factorial of 0 = \", fact(0))\n",
    "print(\"Factorial of 7 = \", fact(7))\n",
    "print(\"Factorial of 8 = \", fact(8))"
   ]
  },
  {
   "cell_type": "code",
   "execution_count": 34,
   "id": "1f564e3d",
   "metadata": {},
   "outputs": [
    {
     "name": "stdout",
     "output_type": "stream",
     "text": [
      "15\n",
      "21\n"
     ]
    }
   ],
   "source": [
    "# Function to find the total sum of numbers from zero to number passed using recursion\n",
    "# Example - 0+1+2+3+4+5+6 = 21 for number 6\n",
    "\n",
    "def total_sum(num):\n",
    "    if num == 0:\n",
    "        return 0\n",
    "    else:\n",
    "        sum_of_num = num + total_sum(num-1)\n",
    "    return sum_of_num\n",
    "\n",
    "print(total_sum(5))\n",
    "print(total_sum(6))"
   ]
  },
  {
   "cell_type": "code",
   "execution_count": 38,
   "id": "ece1b68a",
   "metadata": {},
   "outputs": [
    {
     "name": "stdout",
     "output_type": "stream",
     "text": [
      "45\n"
     ]
    }
   ],
   "source": [
    "print(total_sum(9))"
   ]
  },
  {
   "cell_type": "code",
   "execution_count": 39,
   "id": "85ec0e95",
   "metadata": {},
   "outputs": [],
   "source": [
    "# Generator Function\n",
    "# Generator Function are simple way of creating a iterators\n",
    "# Use yield statement instead of return statement\n",
    "# It does not return a single value instead it returns an iterator object with a sequence of value\n",
    "# The output of the function should be stored in iterator like list, set, tuple\n",
    "\n",
    "def power_value(the_list, power):\n",
    "    for num in the_list:\n",
    "        result = num**power\n",
    "        yield(result)"
   ]
  },
  {
   "cell_type": "code",
   "execution_count": 40,
   "id": "893983c3",
   "metadata": {},
   "outputs": [
    {
     "name": "stdout",
     "output_type": "stream",
     "text": [
      "Cube of Numbers in the List using Generator [8, 64, 216, 512]\n"
     ]
    }
   ],
   "source": [
    "l1 = [2, 4, 6, 8]\n",
    "l2 = list(power_value(l1, 3))\n",
    "print(\"Cube of Numbers in the List using Generator\", l2)"
   ]
  },
  {
   "cell_type": "code",
   "execution_count": 41,
   "id": "1a582cc3",
   "metadata": {},
   "outputs": [
    {
     "name": "stdout",
     "output_type": "stream",
     "text": [
      "Square of Numbers in the List using Generator [100, 400, 900, 1600, 2500]\n"
     ]
    }
   ],
   "source": [
    "l3 = [10, 20, 30, 40, 50]\n",
    "l4 = list(power_value(l3, 2))\n",
    "print(\"Square of Numbers in the List using Generator\", l4)"
   ]
  },
  {
   "cell_type": "code",
   "execution_count": 43,
   "id": "31b7e15f",
   "metadata": {},
   "outputs": [
    {
     "name": "stdout",
     "output_type": "stream",
     "text": [
      "Fourth power of Numbers in the List using Generator and stored in Tuple:  (2401, 4096, 6561, 20736, 38416, 331776, 9834496)\n"
     ]
    }
   ],
   "source": [
    "num_list_L3 = [7, 8, 9, 12, 14, 24, 56]\n",
    "print(\"Fourth power of Numbers in the List using Generator and stored in Tuple: \", tuple(power_value(num_list_L3, 4)))"
   ]
  },
  {
   "cell_type": "code",
   "execution_count": 44,
   "id": "81c7af02",
   "metadata": {},
   "outputs": [],
   "source": [
    "'''\n",
    "a series of numbers in which each number ( Fibonacci number ) is the sum of the two preceding numbers.\n",
    " The simplest is the series 1, 1, 2, 3, 5, 8, etc.\n",
    "\n",
    "The Fibonacci sequence is the series of numbers where each number is the sum of the two preceding numbers.\n",
    "For example, 0, 1, 1, 2, 3, 5, 8, 13, 21, 34, 55, 89, 144, 233, 377, 610, … Mathematically we can describe \n",
    "this as: xn= xn-1 + xn-2.\n",
    "\n",
    "'''\n",
    "\n",
    "# Fibonacci series with terms:\n",
    "# Example if 10 is passed it will give first 10 Fibonacci Numbers\n",
    "\n",
    "def fibo_terms(terms):\n",
    "    num_1, num_2, incr = 0, 1, 1\n",
    "    while incr <= terms:\n",
    "        yield num_1\n",
    "        next_last = num_1 + num_2\n",
    "        num_1, num_2, incr = num_2, next_last, incr+1"
   ]
  },
  {
   "cell_type": "code",
   "execution_count": 45,
   "id": "ffd1b8ca",
   "metadata": {},
   "outputs": [],
   "source": [
    "# Fibonacci series with value limit:\n",
    "# Example if 85 is passed it will Fibonacci Numbers with in 85\n",
    "\n",
    "def fibo_limit(limit):\n",
    "    num_1, num_2 = 0, 1\n",
    "    while num_1 < limit:\n",
    "        yield num_1\n",
    "        num_1, num_2 = num_2, num_1 + num_2"
   ]
  },
  {
   "cell_type": "code",
   "execution_count": 48,
   "id": "8db23024",
   "metadata": {},
   "outputs": [
    {
     "name": "stdout",
     "output_type": "stream",
     "text": [
      "Fibonacci sequence for terms =  [0, 1, 1, 2, 3, 5]\n",
      "Fibonacci sequence for terms =  [0, 1, 1, 2, 3, 5, 8, 13, 21]\n",
      "Fibonacci sequence for terms =  [0, 1, 1, 2, 3, 5, 8, 13, 21, 34, 55, 89, 144, 233, 377]\n"
     ]
    }
   ],
   "source": [
    "# create a generator object for limits\n",
    "ay = list(fibo_terms(6))\n",
    "print(\"Fibonacci sequence for terms = \", ay)\n",
    "\n",
    "am = list(fibo_terms(9))\n",
    "print(\"Fibonacci sequence for terms = \", am)\n",
    "\n",
    "az = list(fibo_terms(15))\n",
    "print(\"Fibonacci sequence for terms = \", az)"
   ]
  },
  {
   "cell_type": "code",
   "execution_count": 51,
   "id": "3ddaa9a4",
   "metadata": {},
   "outputs": [
    {
     "name": "stdout",
     "output_type": "stream",
     "text": [
      "Fibonacci sequence for limit =  [0, 1, 1, 2, 3, 5, 8]\n",
      "Fibonacci sequence for limit =  [0, 1, 1, 2, 3, 5, 8, 13, 21, 34, 55]\n",
      "Fibonacci sequence for limit =  [0, 1, 1, 2, 3, 5, 8, 13, 21, 34, 55, 89, 144, 233]\n"
     ]
    }
   ],
   "source": [
    "# create a generator object for value\n",
    "ax = list(fibo_limit(11))\n",
    "print(\"Fibonacci sequence for limit = \", ax)\n",
    "\n",
    "cx = list(fibo_limit(80))\n",
    "print(\"Fibonacci sequence for limit = \", cx)\n",
    "\n",
    "bz = list(fibo_limit(332))\n",
    "print(\"Fibonacci sequence for limit = \", bz)"
   ]
  },
  {
   "cell_type": "code",
   "execution_count": 52,
   "id": "bfa963da",
   "metadata": {},
   "outputs": [
    {
     "name": "stdout",
     "output_type": "stream",
     "text": [
      "Lambda Multiply 6\n"
     ]
    }
   ],
   "source": [
    "# lambda function is small anonymous function.\n",
    "# lambda function can take any number of arguments, but can only have one expression\n",
    "\n",
    "# lambda function to multiply 2 numbers\n",
    "y = lambda a, b: a*b\n",
    "print(\"Lambda Multiply\", y(2, 3))"
   ]
  },
  {
   "cell_type": "code",
   "execution_count": 53,
   "id": "47c0a7dc",
   "metadata": {},
   "outputs": [
    {
     "name": "stdout",
     "output_type": "stream",
     "text": [
      "Lambda power 8\n"
     ]
    }
   ],
   "source": [
    "# lambda function to create a power of a number\n",
    "p = lambda a, b: a**b\n",
    "print(\"Lambda power\", p(2, 3))"
   ]
  },
  {
   "cell_type": "code",
   "execution_count": 54,
   "id": "1aced966",
   "metadata": {},
   "outputs": [
    {
     "name": "stdout",
     "output_type": "stream",
     "text": [
      "Degree to fahrenheit = 77.0\n",
      "Degree to fahrenheit = 83.21000000000001\n",
      "Degree to fahrenheit = 95.0\n",
      "Degree to fahrenheit = 104.0\n"
     ]
    }
   ],
   "source": [
    "# lambda function to convert degree to fahrenheit\n",
    "convert = lambda c, b = (9/5), a = 32 : c*b + a\n",
    "print(\"Degree to fahrenheit =\", convert(25))\n",
    "print(\"Degree to fahrenheit =\", convert(28.45))\n",
    "print(\"Degree to fahrenheit =\", convert(35))\n",
    "print(\"Degree to fahrenheit =\", convert(40))"
   ]
  },
  {
   "cell_type": "code",
   "execution_count": 55,
   "id": "0111f16a",
   "metadata": {},
   "outputs": [
    {
     "name": "stdout",
     "output_type": "stream",
     "text": [
      "Fahrenheit to Degree = 30.555555555555557\n",
      "Fahrenheit to Degree = 36.666666666666664\n"
     ]
    }
   ],
   "source": [
    "# lambda function to convert fahrenheit to degree\n",
    "fahr_to_deg = lambda far, x = 32, y = 5, z = 9: (far-x)*y / z\n",
    "print(\"Fahrenheit to Degree =\", fahr_to_deg(87))\n",
    "print(\"Fahrenheit to Degree =\", fahr_to_deg(98))"
   ]
  },
  {
   "cell_type": "code",
   "execution_count": 56,
   "id": "b15cb564",
   "metadata": {},
   "outputs": [
    {
     "name": "stdout",
     "output_type": "stream",
     "text": [
      "If 2 is even or Odd : Even\n",
      "If 5 is even or Odd : Odd\n"
     ]
    }
   ],
   "source": [
    "# lambda function to find odd and even numbers\n",
    "even_odd = lambda a: \"Even\" if (a%2 == 0) else \"Odd\"\n",
    "print(\"If 2 is even or Odd :\", even_odd(2))\n",
    "print(\"If 5 is even or Odd :\", even_odd(5))"
   ]
  },
  {
   "cell_type": "code",
   "execution_count": 57,
   "id": "699bbe9e",
   "metadata": {},
   "outputs": [
    {
     "name": "stdout",
     "output_type": "stream",
     "text": [
      "If 2 is even : True\n",
      "If 5 is even : False\n"
     ]
    }
   ],
   "source": [
    "# lambda function to find odd and even numbers\n",
    "even = lambda a: a % 2 == 0\n",
    "print(\"If 2 is even :\", even(2))\n",
    "print(\"If 5 is even :\", even(5))"
   ]
  },
  {
   "cell_type": "code",
   "execution_count": 59,
   "id": "7798d312",
   "metadata": {},
   "outputs": [
    {
     "name": "stdout",
     "output_type": "stream",
     "text": [
      "If 49 is Divisible by seven =  True\n",
      "If 51 is Divisible by seven =  False\n"
     ]
    }
   ],
   "source": [
    "# find if a given number is multiple of 7\n",
    "div10 = lambda b: b % 7 == 0\n",
    "num_one = 49\n",
    "num_two = 51\n",
    "print(f\"If {num_one} is Divisible by seven = \", div10(num_one))\n",
    "print(f\"If {num_two} is Divisible by seven = \", div10(num_two))"
   ]
  },
  {
   "cell_type": "code",
   "execution_count": 60,
   "id": "fe587bd4",
   "metadata": {},
   "outputs": [],
   "source": [
    "# making lambda more powerful by using it within a function\n",
    "def pow_of_num(i):\n",
    "    return lambda j: j**i"
   ]
  },
  {
   "cell_type": "code",
   "execution_count": 61,
   "id": "53b12207",
   "metadata": {},
   "outputs": [],
   "source": [
    "sqr = pow_of_num(2)\n",
    "cube = pow_of_num(3)\n",
    "fourth_pow = pow_of_num(4)"
   ]
  },
  {
   "cell_type": "code",
   "execution_count": 62,
   "id": "f983869b",
   "metadata": {},
   "outputs": [
    {
     "name": "stdout",
     "output_type": "stream",
     "text": [
      "square of 3 = 9\n",
      "square of 5 = 25\n",
      "square of 7 = 49\n"
     ]
    }
   ],
   "source": [
    "print(\"square of 3 =\", sqr(3))\n",
    "print(\"square of 5 =\", sqr(5))\n",
    "print(\"square of 7 =\", sqr(7))"
   ]
  },
  {
   "cell_type": "code",
   "execution_count": 63,
   "id": "83549fb2",
   "metadata": {},
   "outputs": [
    {
     "name": "stdout",
     "output_type": "stream",
     "text": [
      "cube of 3 = 27\n",
      "cube of 5 = 125\n",
      "cube of 7 = 343\n"
     ]
    }
   ],
   "source": [
    "print(\"cube of 3 =\", cube(3))\n",
    "print(\"cube of 5 =\", cube(5))\n",
    "print(\"cube of 7 =\", cube(7))"
   ]
  },
  {
   "cell_type": "code",
   "execution_count": 64,
   "id": "6d07f75e",
   "metadata": {},
   "outputs": [
    {
     "name": "stdout",
     "output_type": "stream",
     "text": [
      "Fourth power of 5 = 625\n",
      "Fourth power of 7 = 2401\n"
     ]
    }
   ],
   "source": [
    "print(\"Fourth power of 5 =\", fourth_pow(5))\n",
    "print(\"Fourth power of 7 =\", fourth_pow(7))"
   ]
  },
  {
   "cell_type": "code",
   "execution_count": 65,
   "id": "fb81ff8a",
   "metadata": {},
   "outputs": [
    {
     "name": "stdout",
     "output_type": "stream",
     "text": [
      "double of 4 : 8\n",
      "double of 10 : 20\n",
      "double of 23 : 46\n"
     ]
    }
   ],
   "source": [
    "def times(c):\n",
    "    return lambda d: c*d\n",
    "double = times(2)\n",
    "triple = times(3)\n",
    "print(\"double of 4 :\", double(4))\n",
    "print(\"double of 10 :\", double(10))\n",
    "print(\"double of 23 :\", double(23))"
   ]
  },
  {
   "cell_type": "code",
   "execution_count": 66,
   "id": "beb0c53b",
   "metadata": {},
   "outputs": [
    {
     "name": "stdout",
     "output_type": "stream",
     "text": [
      "triple of 5 : 15\n",
      "triple of 7 : 21\n",
      "triple of 9 : 27\n"
     ]
    }
   ],
   "source": [
    "print(\"triple of 5 :\", triple(5))\n",
    "print(\"triple of 7 :\", triple(7))\n",
    "print(\"triple of 9 :\", triple(9))"
   ]
  },
  {
   "cell_type": "code",
   "execution_count": 67,
   "id": "121f071b",
   "metadata": {},
   "outputs": [
    {
     "name": "stdout",
     "output_type": "stream",
     "text": [
      "sorted l5 : [[1, 2, 3], [4, 5, 6], [7, 8, 9]]\n",
      "sorted l10 : [[10, 15, 20, 25, 30], [2, 5, 7, 9, 10], [8, 12, 15, 17, 19], [5, 13, 17, 26, 26, 76, 76]]\n"
     ]
    }
   ],
   "source": [
    "# sort sub lists\n",
    "\n",
    "sort_list = lambda the_list:(sorted(inner_list) for inner_list in the_list)\n",
    "\n",
    "l5 = [[2, 3, 1], [4, 5, 6], [9, 7, 8]]\n",
    "print(\"sorted l5 :\", list(sort_list(l5)))\n",
    "l10 = [[30, 25, 20, 15, 10], [10, 5, 2, 7, 9], [15, 12, 8, 17, 19], [17, 13, 5, 26, 76, 26, 76]]\n",
    "print(\"sorted l10 :\", list(sort_list(l10)))"
   ]
  },
  {
   "cell_type": "code",
   "execution_count": 68,
   "id": "c6ff6824",
   "metadata": {},
   "outputs": [
    {
     "name": "stdout",
     "output_type": "stream",
     "text": [
      "Second highest =  [2, 5, 8]\n",
      "Second highest =  [25, 9, 17, 76]\n"
     ]
    }
   ],
   "source": [
    "# Find second largest element in the inner list\n",
    "second_large = lambda the_list, order: (i[-2] for i in order(the_list))\n",
    "print(\"Second highest = \", list(second_large(l5, sort_list)))\n",
    "print(\"Second highest = \", list(second_large(l10, sort_list)))"
   ]
  },
  {
   "cell_type": "code",
   "execution_count": 71,
   "id": "7db57f40",
   "metadata": {},
   "outputs": [
    {
     "name": "stdout",
     "output_type": "stream",
     "text": [
      "Second highest =  [2, 5, 8]\n",
      "Second highest =  [25, 9, 17, 26]\n"
     ]
    }
   ],
   "source": [
    "# Resolving probelm is above function by modifying it using CHATGPT\n",
    "\n",
    "second_large = lambda the_list, order: (next(x for x in reversed(i) if x != max(i)) for i in order(the_list))\n",
    "\n",
    "l10 = [[30, 25, 20, 15, 10], [10, 5, 2, 7, 9], [15, 12, 8, 17, 19], [17, 13, 5, 26, 76, 26, 76]]\n",
    "print(\"Second highest = \", list(second_large(l5, sort_list)))\n",
    "print(\"Second highest = \", list(second_large(l10, sort_list)))"
   ]
  },
  {
   "cell_type": "code",
   "execution_count": 72,
   "id": "dfaae162",
   "metadata": {},
   "outputs": [],
   "source": [
    "# Find unique second largest element in the inner list\n",
    "second_large = lambda the_list, order: (next(x for x in reversed(i) if x != max(i)) for i in order(the_list))"
   ]
  },
  {
   "cell_type": "code",
   "execution_count": 73,
   "id": "4541510b",
   "metadata": {},
   "outputs": [
    {
     "name": "stdout",
     "output_type": "stream",
     "text": [
      "Unique Second highest in l10: [25, 9, 17, 26]\n"
     ]
    }
   ],
   "source": [
    "second_largest_l10 = list(second_large(l10, sort_list))\n",
    "print(\"Unique Second highest in l10:\", second_largest_l10)"
   ]
  },
  {
   "cell_type": "code",
   "execution_count": 74,
   "id": "aed80d17",
   "metadata": {},
   "outputs": [
    {
     "name": "stdout",
     "output_type": "stream",
     "text": [
      "squares, map function : [1, 4, 9, 16, 25, 36, 49, 64, 81]\n"
     ]
    }
   ],
   "source": [
    "# map, filters, reduce\n",
    "# map function takes 2 items as arguments (function, iterable) and\n",
    "# applies the function to each element in the iterable\n",
    "# It returns a map object that need to be encapsulate inside an iterable\n",
    "\n",
    "# Example usage - 1:\n",
    "l1 = [1, 2, 3, 4, 5, 6, 7, 8, 9]\n",
    "sqr2 = lambda num : num**2\n",
    "print(\"squares, map function :\", list(map(sqr2, l1)))"
   ]
  },
  {
   "cell_type": "code",
   "execution_count": 75,
   "id": "096cf209",
   "metadata": {},
   "outputs": [
    {
     "name": "stdout",
     "output_type": "stream",
     "text": [
      "Celsius to Fahrenheit Using Lambda Function in Fahrenheit_Tuple : (93.2, 75.2, 114.8, 82.4, 102.2, 68.0)\n"
     ]
    }
   ],
   "source": [
    "# Example usage - 2:\n",
    "Celsius_Tuple = (34, 24, 46, 28, 39, 20)\n",
    "cel_to_farh = lambda cel, a=(9/5), b=32: a*cel + b\n",
    "Fahrenheit_Tuple = tuple(map(cel_to_farh, Celsius_Tuple))\n",
    "print(\"Celsius to Fahrenheit Using Lambda Function in Fahrenheit_Tuple :\", Fahrenheit_Tuple)"
   ]
  },
  {
   "cell_type": "code",
   "execution_count": 76,
   "id": "39996a93",
   "metadata": {},
   "outputs": [
    {
     "name": "stdout",
     "output_type": "stream",
     "text": [
      "<map object at 0x0000021C5C3F4CD0>\n",
      "<class 'map'>\n",
      "<class 'tuple'>\n",
      "Second tuple: (73.4, 107.60000000000001, 113.0, 125.60000000000001, 152.60000000000002)\n"
     ]
    }
   ],
   "source": [
    "# Example usage - 3:\n",
    "T1 = (23, 42, 45, 52, 67)\n",
    "Far = map(cel_to_farh, T1)\n",
    "print(Far)\n",
    "print(type(Far))\n",
    "Far_tuple = tuple(Far)\n",
    "print(type(Far_tuple))\n",
    "print(\"Second tuple:\", Far_tuple)"
   ]
  },
  {
   "cell_type": "code",
   "execution_count": 77,
   "id": "acf76136",
   "metadata": {},
   "outputs": [
    {
     "name": "stdout",
     "output_type": "stream",
     "text": [
      "even number, filter function [2, 4, 6, 8]\n",
      "odd number, filter function [1, 3, 5, 7, 9]\n"
     ]
    }
   ],
   "source": [
    "# filter function takes 2 items as arguments(function, iterable) it applies the function to each\n",
    "# element in the iterable and returns only values of those element which satisfies\n",
    "# the condition in the function\n",
    "\n",
    "even = lambda x : x % 2 == 0\n",
    "print(\"even number, filter function\", list(filter(even,l1)))\n",
    "print(\"odd number, filter function\", list(filter(lambda x : x % 2 != 0, l1)))"
   ]
  },
  {
   "cell_type": "code",
   "execution_count": 78,
   "id": "0ec553f4",
   "metadata": {},
   "outputs": [
    {
     "name": "stdout",
     "output_type": "stream",
     "text": [
      "Positive numbers: [3, 8, 7]\n"
     ]
    }
   ],
   "source": [
    "# ✅ 1. Filter positive numbers\n",
    "\n",
    "numbers = [-5, 3, 0, -1, 8, 7, -2]\n",
    "positive = list(filter(lambda x: x > 0, numbers))\n",
    "print(\"Positive numbers:\", positive)"
   ]
  },
  {
   "cell_type": "code",
   "execution_count": null,
   "id": "33f029b1",
   "metadata": {},
   "outputs": [
    {
     "name": "stdout",
     "output_type": "stream",
     "text": [
      "Words with length > 5: ['Machine', 'Science', 'Python']\n"
     ]
    }
   ],
   "source": [
    "# ✅ 2. Filter strings with length > 5\n",
    "\n",
    "words = [\"AI\", \"Machine\", \"Data\", \"Science\", \"Python\", \"Go\"]\n",
    "long_words = list(filter(lambda w: len(w) > 5, words))\n",
    "print(\"Words with length > 5:\", long_words)"
   ]
  },
  {
   "cell_type": "code",
   "execution_count": 80,
   "id": "0cf5ce2f",
   "metadata": {},
   "outputs": [
    {
     "name": "stdout",
     "output_type": "stream",
     "text": [
      "Names starting with A: ['Arun', 'Anita', 'Amar']\n"
     ]
    }
   ],
   "source": [
    "# ✅ 3. Filter names that start with 'A'\n",
    "\n",
    "names = [\"Arun\", \"Bob\", \"Anita\", \"Catherine\", \"Amar\"]\n",
    "a_names = list(filter(lambda name: name.startswith('A'), names))\n",
    "print(\"Names starting with A:\", a_names)"
   ]
  },
  {
   "cell_type": "code",
   "execution_count": 81,
   "id": "38cbc0e9",
   "metadata": {},
   "outputs": [
    {
     "name": "stdout",
     "output_type": "stream",
     "text": [
      "Vowels: ['a', 'e', 'i', 'o', 'u']\n"
     ]
    }
   ],
   "source": [
    "# ✅ 4. Filter only vowels from a list of characters\n",
    "\n",
    "chars = ['a', 'b', 'e', 'f', 'i', 'o', 'u', 'x']\n",
    "vowels = list(filter(lambda c: c in 'aeiou', chars))\n",
    "print(\"Vowels:\", vowels)"
   ]
  },
  {
   "cell_type": "code",
   "execution_count": 82,
   "id": "c87630ae",
   "metadata": {},
   "outputs": [
    {
     "name": "stdout",
     "output_type": "stream",
     "text": [
      "Even numbers: [10, 32, 54]\n"
     ]
    }
   ],
   "source": [
    "# ✅ 5. Filter even numbers using a named function\n",
    "\n",
    "def is_even(x):\n",
    "    return x % 2 == 0\n",
    "\n",
    "l1 = [10, 21, 32, 43, 54, 65]\n",
    "even_numbers = list(filter(is_even, l1))\n",
    "print(\"Even numbers:\", even_numbers)"
   ]
  },
  {
   "cell_type": "code",
   "execution_count": 83,
   "id": "c6e47d3e",
   "metadata": {},
   "outputs": [
    {
     "name": "stdout",
     "output_type": "stream",
     "text": [
      "Adult users: [{'name': 'Alice', 'age': 22}, {'name': 'Charlie', 'age': 25}]\n"
     ]
    }
   ],
   "source": [
    "# ✅ 6. Filter users above age 18 from a list of dictionaries\n",
    "\n",
    "users = [\n",
    "    {\"name\": \"Alice\", \"age\": 22},\n",
    "    {\"name\": \"Bob\", \"age\": 17},\n",
    "    {\"name\": \"Charlie\", \"age\": 25},\n",
    "    {\"name\": \"David\", \"age\": 15}\n",
    "]\n",
    "\n",
    "adults = list(filter(lambda user: user['age'] >= 18, users))\n",
    "print(\"Adult users:\", adults)"
   ]
  },
  {
   "cell_type": "code",
   "execution_count": 86,
   "id": "d6c703c9",
   "metadata": {},
   "outputs": [
    {
     "name": "stdout",
     "output_type": "stream",
     "text": [
      "output using reduce function : 100\n",
      "output using reduce function : 464\n"
     ]
    }
   ],
   "source": [
    "# reduce is an in built function python function belongs to functools module\n",
    "# Takes two items as an arguments function and a iterable\n",
    "# this performs the repetative opertion over a pair of iterable and return a reduced result\n",
    "import functools\n",
    "\n",
    "list6 =[10, 20, 30, 40]\n",
    "add1 = lambda x, y : x + y\n",
    "print(\"output using reduce function :\", functools.reduce(add1, list6))\n",
    "\n",
    "\n",
    "list6 =[25, 52, 75, 95, 63, 66, 88]\n",
    "print(\"output using reduce function :\", functools.reduce(add1, list6))"
   ]
  },
  {
   "cell_type": "code",
   "execution_count": 87,
   "id": "6ca9679a",
   "metadata": {},
   "outputs": [
    {
     "name": "stdout",
     "output_type": "stream",
     "text": [
      "<class 'int'>\n",
      "output using reduce function : 30\n"
     ]
    }
   ],
   "source": [
    "list10 =[12, 17, 23, 28, 32, 37, 45]\n",
    "beam = lambda x, y : (y - x) + 5\n",
    "value = functools.reduce(beam, list10)\n",
    "print(type(value))\n",
    "print(\"output using reduce function :\", value)"
   ]
  },
  {
   "cell_type": "code",
   "execution_count": 88,
   "id": "93970fd6",
   "metadata": {},
   "outputs": [
    {
     "name": "stdout",
     "output_type": "stream",
     "text": [
      "The sum of the list elements is : 17\n"
     ]
    }
   ],
   "source": [
    "\n",
    "'''\n",
    "The reduce(fun,seq) function is used to apply a particular function passed in its argument\n",
    " to all of the list elements mentioned in the sequence passed along.This function is defined in “functools” module.\n",
    "\n",
    "Working :  \n",
    "\n",
    "At first step, first two elements of sequence are picked and the result is obtained.\n",
    "Next step is to apply the same function to the previously attained result and the number just\n",
    " succeeding the second element and the result is again stored.\n",
    "This process continues till no more elements are left in the container.\n",
    "The final returned result is returned and printed on console.\n",
    "'''\n",
    "# python code to demonstrate working of reduce()\n",
    "  \n",
    "# importing functools for reduce()\n",
    "import functools\n",
    "  \n",
    "# initializing list\n",
    "lis = [1, 3, 5, 6, 2]\n",
    "  \n",
    "# using reduce to compute sum of list\n",
    "print(\"The sum of the list elements is : \", end=\"\")\n",
    "print(functools.reduce(lambda a, b: a+b, lis))"
   ]
  },
  {
   "cell_type": "code",
   "execution_count": 89,
   "id": "94f1ef27",
   "metadata": {},
   "outputs": [
    {
     "name": "stdout",
     "output_type": "stream",
     "text": [
      "The maximum element of the list is : 6\n"
     ]
    }
   ],
   "source": [
    "# using reduce to compute maximum element from list\n",
    "print(\"The maximum element of the list is : \", end=\"\")\n",
    "print(functools.reduce(lambda a, b: a if a > b else b, lis))\n",
    "\n",
    "# python code to demonstrate working of reduce()\n",
    "# using operator functions"
   ]
  },
  {
   "cell_type": "code",
   "execution_count": 90,
   "id": "18b46622",
   "metadata": {},
   "outputs": [
    {
     "name": "stdout",
     "output_type": "stream",
     "text": [
      "The sum of the list elements is : 17\n"
     ]
    }
   ],
   "source": [
    "\n",
    "# importing functools for reduce()\n",
    "import functools\n",
    "\n",
    "# importing operator for operator functions\n",
    "import operator\n",
    "\n",
    "# initializing list\n",
    "lis = [1, 3, 5, 6, 2]\n",
    "\n",
    "# using reduce to compute sum of list\n",
    "# using operator functions\n",
    "print(\"The sum of the list elements is : \", end=\"\")\n",
    "print(functools.reduce(operator.add, lis))"
   ]
  },
  {
   "cell_type": "code",
   "execution_count": 91,
   "id": "59f98bf5",
   "metadata": {},
   "outputs": [
    {
     "name": "stdout",
     "output_type": "stream",
     "text": [
      "The product of list elements is : 180\n",
      "The concatenated product is : geeksforgeeks\n"
     ]
    }
   ],
   "source": [
    "# using reduce to compute product\n",
    "# using operator functions\n",
    "print(\"The product of list elements is : \", end=\"\")\n",
    "print(functools.reduce(operator.mul, lis))\n",
    "\n",
    "# using reduce to concatenate string\n",
    "print(\"The concatenated product is : \", end=\"\")\n",
    "print(functools.reduce(operator.add, [\"geeks\", \"for\", \"geeks\"]))"
   ]
  },
  {
   "cell_type": "code",
   "execution_count": 92,
   "id": "8fa39cdd",
   "metadata": {},
   "outputs": [
    {
     "name": "stdout",
     "output_type": "stream",
     "text": [
      "The summation of list using accumulate is :[1, 4, 8, 18, 22]\n",
      "The summation of list using reduce is :22\n"
     ]
    }
   ],
   "source": [
    "'''\n",
    "reduce() vs accumulate() \n",
    "\n",
    "Both reduce() and accumulate() can be used to calculate the summation of a sequence elements. \n",
    "But there are differences in the implementation aspects in both of these.  \n",
    "\n",
    "reduce() is defined in “functools” module, accumulate() in “itertools” module.\n",
    "reduce() stores the intermediate result and only returns the final summation value. \n",
    "Whereas, accumulate() returns a iterator containing the intermediate results. \n",
    "The last number of the iterator returned is summation value of the list.\n",
    "reduce(fun, seq) takes function as 1st and sequence as 2nd argument. \n",
    "In contrast accumulate(seq, fun) takes sequence as 1st argument and function as 2nd argument.\n",
    "'''\n",
    "\n",
    "# python code to demonstrate summation\n",
    "# using reduce() and accumulate()\n",
    "  \n",
    "# importing itertools for accumulate()\n",
    "import itertools\n",
    "  \n",
    "# importing functools for reduce()\n",
    "import functools\n",
    "  \n",
    "# initializing list\n",
    "lis = [1, 3, 4, 10, 4]\n",
    "  \n",
    "# printing summation using accumulate()\n",
    "print(\"The summation of list using accumulate is :\", end=\"\")\n",
    "print(list(itertools.accumulate(lis, lambda x, y: x+y)))\n",
    "  \n",
    "# printing summation using reduce()\n",
    "print(\"The summation of list using reduce is :\", end=\"\")\n",
    "print(functools.reduce(lambda x, y: x+y, lis))"
   ]
  },
  {
   "cell_type": "code",
   "execution_count": 93,
   "id": "e493bd9c",
   "metadata": {},
   "outputs": [],
   "source": [
    "# Python program to  illustrate sum of two numbers.\n",
    "\n",
    "def reduce(function, iterable, initializer=None):\n",
    "    it = iter(iterable)\n",
    "    if initializer is None:\n",
    "        value = next(it)\n",
    "    else:\n",
    "        value = initializer\n",
    "    for element in it:\n",
    "        value = function(value, element)\n",
    "    return value\n",
    "  "
   ]
  },
  {
   "cell_type": "code",
   "execution_count": 94,
   "id": "b8f6faad",
   "metadata": {},
   "outputs": [
    {
     "name": "stdout",
     "output_type": "stream",
     "text": [
      "15\n",
      "35\n",
      "85\n"
     ]
    }
   ],
   "source": [
    "# Note that the initializer, when not None, is used as the first value instead of the first value from iterable,\n",
    "# and after the whole iterable.\n",
    "tup = (2,1,0,2,2,0,0,2)\n",
    "print(reduce(lambda x, y: x+y, tup,6))\n",
    "\n",
    "tup_two = (3, 5, 7, 9, 11)\n",
    "print(reduce(lambda x, y: x+y, tup_two))\n",
    "  \n",
    "tup_two = (3, 5, 7, 9, 11)\n",
    "print(reduce(lambda x, y: x+y, tup_two, 50))"
   ]
  },
  {
   "cell_type": "code",
   "execution_count": null,
   "id": "ce0ba9cc",
   "metadata": {},
   "outputs": [],
   "source": []
  }
 ],
 "metadata": {
  "kernelspec": {
   "display_name": "venv",
   "language": "python",
   "name": "python3"
  },
  "language_info": {
   "codemirror_mode": {
    "name": "ipython",
    "version": 3
   },
   "file_extension": ".py",
   "mimetype": "text/x-python",
   "name": "python",
   "nbconvert_exporter": "python",
   "pygments_lexer": "ipython3",
   "version": "3.10.11"
  }
 },
 "nbformat": 4,
 "nbformat_minor": 5
}
