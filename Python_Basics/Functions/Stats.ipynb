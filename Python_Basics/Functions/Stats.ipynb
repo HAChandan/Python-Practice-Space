{
 "cells": [
  {
   "cell_type": "code",
   "execution_count": 1,
   "id": "3654c232",
   "metadata": {},
   "outputs": [],
   "source": [
    "'''\n",
    "Functions for Statistics in python, Functions to find mean of data\n",
    "'''\n",
    "\n",
    "\n",
    "# Functions to find median of data Using while loop\n",
    "def nk_mean(l):\n",
    "    \"\"\"This functions take list as input and returns the mean value of that list\"\"\"\n",
    "    n = len(l)\n",
    "    sum1 = 0\n",
    "    x = 0\n",
    "    while x < n:\n",
    "        sum1 = sum1 + l[x]\n",
    "        x = x + 1\n",
    "    mean = sum1 / n\n",
    "    return(mean)"
   ]
  },
  {
   "cell_type": "code",
   "execution_count": 2,
   "id": "6fc9d35c",
   "metadata": {},
   "outputs": [],
   "source": [
    "# Functions to find median of data Using for loop\n",
    "def the_mean(pass_list):\n",
    "    \"\"\"This functions take list as input and returns the mean value of that list\"\"\"\n",
    "    len_list = len(pass_list)\n",
    "    sum_items = 0\n",
    "    for num in pass_list:\n",
    "        sum_items = sum_items + num\n",
    "    mean_list = sum_items/len_list\n",
    "    return mean_list"
   ]
  },
  {
   "cell_type": "code",
   "execution_count": 3,
   "metadata": {},
   "outputs": [
    {
     "name": "stdout",
     "output_type": "stream",
     "text": [
      "Mean of l1 :  31.076923076923077\n",
      "Mean of l1 :  31.076923076923077\n"
     ]
    }
   ],
   "source": [
    "l1 = [23, 44, 23, 12, 45, 62, 7, 9, 34, 98, 12, 23, 12]\n",
    "print(\"Mean of l1 : \", nk_mean(l1))\n",
    "print(\"Mean of l1 : \", the_mean(l1))"
   ]
  },
  {
   "cell_type": "code",
   "execution_count": 4,
   "id": "ab242540",
   "metadata": {},
   "outputs": [],
   "source": [
    "# Functions to find median of data\n",
    "def nk_median(l):\n",
    "    \"\"\"This function returns the median of the list\"\"\"\n",
    "    n = len(l)\n",
    "    if n % 2 == 0:\n",
    "        p = int(n / 2)\n",
    "        x = l[p - 1]\n",
    "        y = l[p]\n",
    "        median = (x + y) / 2\n",
    "        return(median)\n",
    "    else:\n",
    "        p = int((n + 1) / 2)\n",
    "        median = l[p - 1]\n",
    "        return(median)"
   ]
  },
  {
   "cell_type": "code",
   "execution_count": 7,
   "id": "a3bd1490",
   "metadata": {},
   "outputs": [],
   "source": [
    "def the_median(pass_list):\n",
    "    \"\"\"This function returns the median of the list\"\"\"\n",
    "    len_list = len(pass_list)\n",
    "    if len_list % 2 == 0:\n",
    "        half_length = int(len_list/2)\n",
    "        first_middle = pass_list[half_length]\n",
    "        second_middle = pass_list[half_length - 1]\n",
    "        median  = (first_middle + second_middle) /  2\n",
    "        return median\n",
    "    else:\n",
    "        mid_index = int((len_list + 1) / 2)\n",
    "        median = pass_list[mid_index-1]\n",
    "        return median"
   ]
  },
  {
   "cell_type": "code",
   "execution_count": 8,
   "id": "8091fcd5",
   "metadata": {},
   "outputs": [
    {
     "name": "stdout",
     "output_type": "stream",
     "text": [
      "Median of l1 :  7\n",
      "Median of l1 :  7\n"
     ]
    }
   ],
   "source": [
    "print(\"Median of l1 : \", nk_median(l1))\n",
    "print(\"Median of l1 : \", the_median(l1))\n",
    "\n",
    "l1 = [23, 44, 23, 12, 45, 62, 7, 9, 34, 98, 12, 23, 12]"
   ]
  },
  {
   "cell_type": "code",
   "execution_count": 9,
   "id": "d3923074",
   "metadata": {},
   "outputs": [
    {
     "name": "stdout",
     "output_type": "stream",
     "text": [
      "Mode of Passed List :  [23, 12]\n"
     ]
    }
   ],
   "source": [
    "\n",
    "# Functions to find mode of data method -1\n",
    "def the_mode(pass_list):\n",
    "    \"\"\"This function returns the mode of the list\"\"\"\n",
    "    count = []\n",
    "    items = []\n",
    "    for num in pass_list:\n",
    "        count_times = 0\n",
    "        if num in items:\n",
    "            continue\n",
    "        for value in pass_list:\n",
    "            if num == value:\n",
    "                count_times += 1\n",
    "        count.append(count_times)\n",
    "        items.append(num)\n",
    "    mode = []\n",
    "    for i in range(len(count)):\n",
    "        if count[i] == max(count):\n",
    "            mode.append(items[i])\n",
    "    return mode\n",
    "print(\"Mode of Passed List : \", the_mode(l1))"
   ]
  },
  {
   "cell_type": "code",
   "execution_count": 10,
   "id": "457a01ae",
   "metadata": {},
   "outputs": [],
   "source": [
    "\n",
    "# Functions to find mode of data method -2 using collections module\n",
    "from collections import Counter\n",
    "\n",
    "def find_mode(lst):\n",
    "    # Use Counter to count the frequency of each element in the list\n",
    "    counts = Counter(lst)\n",
    "    print(type(counts))\n",
    "    print(counts)\n",
    "    \n",
    "    # Find the maximum count\n",
    "    max_count = max(counts.values())\n",
    "    print(max_count)\n",
    "    print(counts.items())\n",
    "    \n",
    "    # Find all elements with the maximum count (the mode)\n",
    "    mode = [key for key, value in counts.items() if value == max_count]\n",
    "    \n",
    "    return mode"
   ]
  },
  {
   "cell_type": "code",
   "execution_count": 11,
   "id": "5622397b",
   "metadata": {},
   "outputs": [
    {
     "name": "stdout",
     "output_type": "stream",
     "text": [
      "<class 'collections.Counter'>\n",
      "Counter({23: 3, 12: 3, 44: 1, 45: 1, 62: 1, 7: 1, 9: 1, 34: 1, 98: 1})\n",
      "3\n",
      "dict_items([(23, 3), (44, 1), (12, 3), (45, 1), (62, 1), (7, 1), (9, 1), (34, 1), (98, 1)])\n",
      "Mode of Passed List :  [23, 12]\n"
     ]
    }
   ],
   "source": [
    "# Example usage:\n",
    "l1 = [23, 44, 23, 12, 45, 62, 7, 9, 34, 98, 12, 23, 12]\n",
    "mode_result = find_mode(l1)\n",
    "print(\"Mode of Passed List : \", mode_result)"
   ]
  },
  {
   "cell_type": "code",
   "execution_count": 12,
   "id": "1f9a730c",
   "metadata": {},
   "outputs": [],
   "source": [
    "\n",
    "# Functions to find varience\n",
    "\n",
    "# Method - 1\n",
    "def the_varience(pass_list):\n",
    "    \"\"\"This functions take list as input and returns the varience of that list\"\"\"\n",
    "    len_list = len(pass_list)\n",
    "    sum1 = 0\n",
    "    x = 0\n",
    "    while x < len_list:\n",
    "        sum1 = sum1 + pass_list[x]\n",
    "        x = x + 1\n",
    "    mean = sum1 / len_list\n",
    "    numerator = [(num - mean) ** 2 for num in pass_list]\n",
    "    variance = sum(numerator) / (len_list - 1)\n",
    "    return (variance)"
   ]
  },
  {
   "cell_type": "code",
   "execution_count": 13,
   "id": "3f630ed2",
   "metadata": {},
   "outputs": [
    {
     "name": "stdout",
     "output_type": "stream",
     "text": [
      "Varience of l1 :  679.9102564102565\n",
      "Varience of l1 :  679.9102564102565\n"
     ]
    }
   ],
   "source": [
    "\n",
    "# Example usage:\n",
    "print(\"Varience of l1 : \", the_varience(l1))\n",
    "\n",
    "# Method - 2\n",
    "def nk_varience1(pass_list):\n",
    "    \"\"\"This functions take list as input and returns the varience of that list\"\"\"\n",
    "    len_list = len(pass_list)\n",
    "    numerator = [(num - the_mean(pass_list)) ** 2 for num in pass_list]\n",
    "    variance = sum(numerator) / (len_list - 1)\n",
    "    return (variance)\n",
    "\n",
    "# Example usage:\n",
    "print(\"Varience of l1 : \", nk_varience1(l1))"
   ]
  },
  {
   "cell_type": "code",
   "execution_count": 14,
   "id": "d80238c6",
   "metadata": {},
   "outputs": [
    {
     "name": "stdout",
     "output_type": "stream",
     "text": [
      "Standard Deviation of l1 :  26.075088809249653\n"
     ]
    }
   ],
   "source": [
    "# Functions to find Standard deviation\n",
    "\n",
    "# Method - 1\n",
    "def find_stddev(pass_list):\n",
    "    \"\"\"This functions take list as input and returns the standard deviation of that list\"\"\"\n",
    "    sd = (the_varience(pass_list))**(1/2)\n",
    "    return sd\n",
    "\n",
    "# Example usage:\n",
    "print(\"Standard Deviation of l1 : \", find_stddev(l1))"
   ]
  },
  {
   "cell_type": "code",
   "execution_count": 15,
   "id": "eb71b3d1",
   "metadata": {},
   "outputs": [
    {
     "name": "stdout",
     "output_type": "stream",
     "text": [
      "Standard Deviation of l1 :  26.075088809249653\n"
     ]
    }
   ],
   "source": [
    "# Method - 2\n",
    "def the_stddev(pass_list):\n",
    "    \"\"\"This functions take list as input and returns the standard deviation of that list\"\"\"\n",
    "    import math\n",
    "    sd = math.sqrt(the_varience(pass_list))\n",
    "    return sd\n",
    "\n",
    "# Example usage:\n",
    "print(\"Standard Deviation of l1 : \", the_stddev(l1))"
   ]
  },
  {
   "cell_type": "code",
   "execution_count": 16,
   "id": "189a3374",
   "metadata": {},
   "outputs": [
    {
     "name": "stdout",
     "output_type": "stream",
     "text": [
      "Z-score of l1 :  [-0.3097563017333977, 0.4956100827734363, -0.3097563017333977, -0.7316148840941202, 0.5339608629880475, 1.1859241266364369, -0.9233687851671759, -0.8466672247379536, 0.11210228062732489, 2.5665522143624377, -0.7316148840941202, -0.3097563017333977, -0.7316148840941202]\n"
     ]
    }
   ],
   "source": [
    "# Functions to find Z-score\n",
    "\n",
    "def the_zscore(pass_list):\n",
    "    \"\"\"This functions take list as input and returns the Z-score of that list\"\"\"\n",
    "    z_score = [(num - nk_mean(pass_list)) / the_stddev(pass_list) for num in pass_list]\n",
    "    return z_score\n",
    "\n",
    "# Example usage:\n",
    "print(\"Z-score of l1 : \", the_zscore(l1))"
   ]
  },
  {
   "cell_type": "code",
   "execution_count": null,
   "id": "b5074d35",
   "metadata": {},
   "outputs": [],
   "source": []
  }
 ],
 "metadata": {
  "kernelspec": {
   "display_name": "venv",
   "language": "python",
   "name": "python3"
  },
  "language_info": {
   "codemirror_mode": {
    "name": "ipython",
    "version": 3
   },
   "file_extension": ".py",
   "mimetype": "text/x-python",
   "name": "python",
   "nbconvert_exporter": "python",
   "pygments_lexer": "ipython3",
   "version": "3.10.11"
  }
 },
 "nbformat": 4,
 "nbformat_minor": 5
}
