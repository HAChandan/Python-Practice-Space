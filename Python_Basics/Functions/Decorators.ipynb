{
 "cells": [
  {
   "cell_type": "code",
   "execution_count": 2,
   "id": "7434a75e",
   "metadata": {},
   "outputs": [
    {
     "name": "stdout",
     "output_type": "stream",
     "text": [
      "0.5\n",
      "-5\n"
     ]
    }
   ],
   "source": [
    "# Decorators concept in python\n",
    "\n",
    "def dev(a, b):\n",
    "    return (a/b)\n",
    "\n",
    "print(dev(5 ,10))\n",
    "\n",
    "def sub(a, b):\n",
    "    return (a-b)\n",
    "\n",
    "print(sub(15 ,20))"
   ]
  },
  {
   "cell_type": "code",
   "execution_count": 3,
   "id": "e7fda754",
   "metadata": {},
   "outputs": [],
   "source": [
    "def deco(func):\n",
    "    def inner(x, y):\n",
    "        if x < y:\n",
    "            x, y = y, x\n",
    "            return func(x, y)\n",
    "    return inner"
   ]
  },
  {
   "cell_type": "code",
   "execution_count": 4,
   "id": "47c32ff4",
   "metadata": {},
   "outputs": [
    {
     "name": "stdout",
     "output_type": "stream",
     "text": [
      "Modified division 2.0\n",
      "Modified subtraction 5\n"
     ]
    }
   ],
   "source": [
    "var_1 = deco(dev)\n",
    "print(\"Modified division\", var_1(5, 10))\n",
    "\n",
    "var_2 = deco(sub)\n",
    "print(\"Modified subtraction\", var_2(15, 20))"
   ]
  },
  {
   "cell_type": "code",
   "execution_count": 5,
   "id": "b7f46244",
   "metadata": {},
   "outputs": [
    {
     "name": "stdout",
     "output_type": "stream",
     "text": [
      "sorted l4 list : [10, 20, 40, 50, 60, 80, 90]\n"
     ]
    }
   ],
   "source": [
    "# Second Highest\n",
    "\n",
    "def sort2(pass_list):\n",
    "    pass_list.sort()\n",
    "    return pass_list\n",
    "\n",
    "l4 = [80, 90, 10, 40, 60, 50, 20]\n",
    "print(\"sorted l4 list :\", sort2(l4))"
   ]
  },
  {
   "cell_type": "code",
   "execution_count": 6,
   "id": "11c6cd4d",
   "metadata": {},
   "outputs": [],
   "source": [
    "def deco_sec_high(value):\n",
    "    def sec_high(the_list):\n",
    "        return value(the_list)[-2]\n",
    "    return sec_high"
   ]
  },
  {
   "cell_type": "code",
   "execution_count": null,
   "id": "752d0d57",
   "metadata": {},
   "outputs": [
    {
     "name": "stdout",
     "output_type": "stream",
     "text": [
      "sorted L2_num_list list : [11, 22, 44, 66, 77, 88, 99]\n",
      "second highest with sorted list l6 : 88\n"
     ]
    }
   ],
   "source": [
    "find_sec_high = deco_sec_high(sort2)\n",
    "l6 = [88, 44, 66, 99, 77, 22, 11]\n",
    "print(\"sorted L2_num_list list :\", sort2(l6 ))\n",
    "print(\"second highest with sorted list l6 :\", find_sec_high(l6))"
   ]
  },
  {
   "cell_type": "code",
   "execution_count": 8,
   "id": "f5dcace4",
   "metadata": {},
   "outputs": [
    {
     "name": "stdout",
     "output_type": "stream",
     "text": [
      "6\n",
      "77\n",
      "28\n"
     ]
    }
   ],
   "source": [
    "# LEARNING - 1\n",
    "\n",
    "def plus_one(number):\n",
    "    return number + 1\n",
    "\n",
    "# Calling Function Type - 1\n",
    "add_one = plus_one(5)\n",
    "print(add_one)\n",
    "\n",
    "# Calling Function Type - 2\n",
    "add_1 = plus_one\n",
    "print(add_1(76))\n",
    "\n",
    "# Calling Function Type - 3\n",
    "print(plus_one(27))"
   ]
  },
  {
   "cell_type": "code",
   "execution_count": 9,
   "id": "1c578175",
   "metadata": {},
   "outputs": [
    {
     "name": "stdout",
     "output_type": "stream",
     "text": [
      "46\n",
      "77\n"
     ]
    }
   ],
   "source": [
    "# LEARNING - 2\n",
    "\n",
    "def plus_one(number):\n",
    "    def add_one(number):\n",
    "        return number + 1\n",
    "\n",
    "    result = add_one(number)\n",
    "    return result\n",
    "\n",
    "# Calling Function Type - 1\n",
    "print(plus_one(45))\n",
    "\n",
    "# Calling Function Type - 2\n",
    "ac = plus_one(76)\n",
    "print(ac)"
   ]
  },
  {
   "cell_type": "code",
   "execution_count": 10,
   "id": "a6169e52",
   "metadata": {},
   "outputs": [
    {
     "name": "stdout",
     "output_type": "stream",
     "text": [
      "6\n",
      "77\n"
     ]
    }
   ],
   "source": [
    "# LEARNING - 3\n",
    "\n",
    "def plus_one(number):\n",
    "    return number + 1\n",
    "\n",
    "def function_call(function):\n",
    "    number_to_add = 5\n",
    "    return function(number_to_add)\n",
    "\n",
    "def function_call_2(function):\n",
    "    number_to_add_2 = 76\n",
    "    return function(number_to_add_2)\n",
    "\n",
    "print(function_call(plus_one))\n",
    "print(function_call_2(plus_one))"
   ]
  },
  {
   "cell_type": "code",
   "execution_count": 14,
   "id": "0eb31d0c",
   "metadata": {},
   "outputs": [
    {
     "name": "stdout",
     "output_type": "stream",
     "text": [
      "This is say_hi function\n",
      "This is text_fun function\n",
      "Learning decorators completed\n"
     ]
    }
   ],
   "source": [
    "# LEARNING - 4\n",
    "\n",
    "def hello_function(some_func):\n",
    "    def say_hi():\n",
    "        print(\"This is say_hi function\")\n",
    "        some_func()\n",
    "        print(\"Learning decorators completed\")\n",
    "    return say_hi\n",
    "\n",
    "def text_fun():\n",
    "    print(\"This is text_fun function\")\n",
    "\n",
    "# Using the decorator function manually\n",
    "the_call = hello_function(text_fun)\n",
    "the_call()\n",
    "\n"
   ]
  },
  {
   "cell_type": "code",
   "execution_count": 15,
   "id": "521fc1c0",
   "metadata": {},
   "outputs": [
    {
     "name": "stdout",
     "output_type": "stream",
     "text": [
      "This is say hi function\n",
      "This is text_fun function\n",
      "Learning decorators completed\n"
     ]
    }
   ],
   "source": [
    "# LEARNING - 4\n",
    "\n",
    "def hello_function(some_func):\n",
    "    def say_hi():\n",
    "        print(\"This is say hi function\")\n",
    "        some_func()\n",
    "        print(\"Learning decorators completed\")\n",
    "    return say_hi\n",
    "\n",
    "def text_fun():\n",
    "    print(\"This is text_fun function\")\n",
    "\n",
    "the_call = hello_function(text_fun)\n",
    "the_call()\n"
   ]
  },
  {
   "cell_type": "code",
   "execution_count": 16,
   "id": "f8542ff2",
   "metadata": {},
   "outputs": [
    {
     "name": "stdout",
     "output_type": "stream",
     "text": [
      "Some random message\n"
     ]
    }
   ],
   "source": [
    "# LEARNING - 5\n",
    "\n",
    "def print_message(message):\n",
    "    \"Enclosing Function\"\n",
    "    def message_sender():\n",
    "        \"Nested Function\"\n",
    "        print(message)\n",
    "    message_sender()\n",
    "\n",
    "print_message(\"Some random message\")"
   ]
  },
  {
   "cell_type": "code",
   "execution_count": 17,
   "id": "18411e95",
   "metadata": {},
   "outputs": [
    {
     "data": {
      "text/plain": [
       "'\\nDecorators are a very powerful and useful tool in Python since it allows programmers to \\nmodify the behaviour of a function or class. Decorators allow us to wrap another function \\nin order to extend the behaviour of the wrapped function, without permanently modifying it. \\nBut before diving deep into decorators let us understand some concepts that will come in \\nhandy in learning the decorators.\\n\\nFirst Class Objects\\nIn Python, functions are first class objects which means that functions in Python can be used or passed as arguments.\\nProperties of first class functions:\\nA function is an instance of the Object type.\\nYou can store the function in a variable.\\nYou can pass the function as a parameter to another function.\\nYou can return the function from a function.\\nYou can store them in data structures such as hash tables, lists, …\\nConsider the below examples for better understanding.\\n\\n'"
      ]
     },
     "execution_count": 17,
     "metadata": {},
     "output_type": "execute_result"
    }
   ],
   "source": [
    "\n",
    "# Greeks for Greeks Learning\n",
    "\n",
    "'''\n",
    "Decorators are a very powerful and useful tool in Python since it allows programmers to \n",
    "modify the behaviour of a function or class. Decorators allow us to wrap another function \n",
    "in order to extend the behaviour of the wrapped function, without permanently modifying it. \n",
    "But before diving deep into decorators let us understand some concepts that will come in \n",
    "handy in learning the decorators.\n",
    "\n",
    "First Class Objects\n",
    "In Python, functions are first class objects which means that functions in Python can be used or passed as arguments.\n",
    "Properties of first class functions:\n",
    "A function is an instance of the Object type.\n",
    "You can store the function in a variable.\n",
    "You can pass the function as a parameter to another function.\n",
    "You can return the function from a function.\n",
    "You can store them in data structures such as hash tables, lists, …\n",
    "Consider the below examples for better understanding.\n",
    "\n",
    "'''"
   ]
  },
  {
   "cell_type": "code",
   "execution_count": 18,
   "id": "97719042",
   "metadata": {},
   "outputs": [
    {
     "name": "stdout",
     "output_type": "stream",
     "text": [
      "HELLO\n",
      "HELLO\n"
     ]
    },
    {
     "data": {
      "text/plain": [
       "'\\nIn the above example, we have assigned the function shout to a variable.\\nThis will not call the function instead it takes the function object \\nreferenced by a shout and creates a second name pointing to it, yell.\\n\\n'"
      ]
     },
     "execution_count": 18,
     "metadata": {},
     "output_type": "execute_result"
    }
   ],
   "source": [
    "\n",
    "# Example 1: Treating the functions as objects.\n",
    "\n",
    "# Python program to illustrate functions\n",
    "# can be treated as objects\n",
    "def shout(text):\n",
    "\treturn text.upper()\n",
    "\n",
    "print(shout('Hello'))\n",
    "\n",
    "yell = shout\n",
    "\n",
    "print(yell('Hello'))\n",
    "\n",
    "'''\n",
    "In the above example, we have assigned the function shout to a variable.\n",
    "This will not call the function instead it takes the function object \n",
    "referenced by a shout and creates a second name pointing to it, yell.\n",
    "\n",
    "'''"
   ]
  },
  {
   "cell_type": "code",
   "execution_count": 19,
   "id": "8a479222",
   "metadata": {},
   "outputs": [
    {
     "name": "stdout",
     "output_type": "stream",
     "text": [
      "HI, I AM CREATED BY A FUNCTION PASSED AS AN ARGUMENT.\n",
      "hi, i am created by a function passed as an argument.\n"
     ]
    }
   ],
   "source": [
    "# Example 2: Passing the function as an argument\n",
    "\n",
    "# Python program to illustrate functions\n",
    "# can be passed as arguments to other functions\n",
    "def shout(text):\n",
    "\treturn text.upper()\n",
    "\n",
    "def whisper(text):\n",
    "\treturn text.lower()\n",
    "\n",
    "def greet(func):\n",
    "\t# storing the function in a variable\n",
    "\tgreeting = func(\"\"\"Hi, I am created by a function passed as an argument.\"\"\")\n",
    "\t# return keyword is optional here\n",
    "\tprint (greeting)\n",
    "\n",
    "greet(shout)\n",
    "greet(whisper)"
   ]
  },
  {
   "cell_type": "code",
   "execution_count": 23,
   "id": "8535a0f8",
   "metadata": {},
   "outputs": [
    {
     "name": "stdout",
     "output_type": "stream",
     "text": [
      "<function create_adder.<locals>.adder at 0x0000016BCCC248B0>\n",
      "25\n"
     ]
    }
   ],
   "source": [
    "'''\n",
    "In the above example, the greet function takes another \n",
    "function as a parameter (shout and whisper in this case). \n",
    "The function passed as an argument is then called inside the function greet.'''\n",
    "\n",
    "# Example 3: Returning functions from another function.\n",
    "\n",
    "# Python program to illustrate functions\n",
    "# Functions can return another function\n",
    "\n",
    "def create_adder(x):\n",
    "\tdef adder(y):\n",
    "\t\treturn x+y\n",
    "\n",
    "\treturn adder\n",
    "\n",
    "add_15 = create_adder(15)\n",
    "\n",
    "print(add_15)\n",
    "print(add_15(10))"
   ]
  },
  {
   "cell_type": "code",
   "execution_count": 24,
   "id": "65a85b47",
   "metadata": {},
   "outputs": [
    {
     "data": {
      "text/plain": [
       "'\\nIn the above example, we have created a function inside of another\\nfunction and then have returned the function created inside.\\nThe above three examples depict the important concepts that \\nare needed to understand decorators. After going through them let us now dive deep into decorators.'"
      ]
     },
     "execution_count": 24,
     "metadata": {},
     "output_type": "execute_result"
    }
   ],
   "source": [
    "'''\n",
    "In the above example, we have created a function inside of another\n",
    "function and then have returned the function created inside.\n",
    "The above three examples depict the important concepts that \n",
    "are needed to understand decorators. After going through them let us now dive deep into decorators.'''"
   ]
  },
  {
   "cell_type": "code",
   "execution_count": 25,
   "id": "abed315a",
   "metadata": {},
   "outputs": [
    {
     "data": {
      "text/plain": [
       "'\\nIn the above code, gfg_decorator is a callable function, \\nthat will add some code on the top of some another callable function, \\nhello_decorator function and return the wrapper function.'"
      ]
     },
     "execution_count": 25,
     "metadata": {},
     "output_type": "execute_result"
    }
   ],
   "source": [
    "\n",
    "# Decorators\n",
    "\n",
    "'''\n",
    "As stated above the decorators are used to modify the behaviour of function or class. \n",
    "In Decorators, functions are taken as the argument into another function and then called \n",
    "inside the wrapper function.\n",
    "'''\n",
    "\n",
    "# Syntax for Decorator:\n",
    "'''\n",
    "\n",
    "@gfg_decorator\n",
    "def hello_decorator():\n",
    "    print(\"Gfg\")\n",
    "\n",
    "Above code is equivalent to -\n",
    "\n",
    "def hello_decorator():\n",
    "    print(\"Gfg\")\n",
    "    \n",
    "hello_decorator = gfg_decorator(hello_decorator)'''\n",
    "\n",
    "'''\n",
    "In the above code, gfg_decorator is a callable function, \n",
    "that will add some code on the top of some another callable function, \n",
    "hello_decorator function and return the wrapper function.'''"
   ]
  },
  {
   "cell_type": "code",
   "execution_count": 26,
   "id": "69bda8ab",
   "metadata": {},
   "outputs": [
    {
     "name": "stdout",
     "output_type": "stream",
     "text": [
      "Hello, this is before function execution\n",
      "This is inside the function !!\n",
      "This is after function execution\n",
      "\n"
     ]
    }
   ],
   "source": [
    "\n",
    "# Decorator can modify the behaviour:\n",
    "\n",
    "# defining a decorator\n",
    "def hello_decorator(func):\n",
    "\n",
    "\t# inner1 is a Wrapper function in\n",
    "\t# which the argument is called\n",
    "\t\n",
    "\t# inner function can access the outer local\n",
    "\t# functions like in this case \"func\"\n",
    "\tdef inner1():\n",
    "\t\tprint(\"Hello, this is before function execution\")\n",
    "\n",
    "\t\t# calling the actual function now\n",
    "\t\t# inside the wrapper function.\n",
    "\t\tfunc()\n",
    "\n",
    "\t\tprint(\"This is after function execution\")\n",
    "\t\t\n",
    "\treturn inner1\n",
    "\n",
    "\n",
    "# defining a function, to be called inside wrapper\n",
    "def function_to_be_used():\n",
    "\tprint(\"This is inside the function !!\")\n",
    "\n",
    "\n",
    "# Can be used like this also\n",
    "call_fun = hello_decorator(function_to_be_used)\n",
    "call_fun()\n",
    "\n",
    "print()\n",
    "\n",
    "# passing 'function_to_be_used' inside the\n",
    "# decorator to control its behaviour\n",
    "function_to_be_used = hello_decorator(function_to_be_used)"
   ]
  },
  {
   "cell_type": "code",
   "execution_count": 27,
   "id": "991281fa",
   "metadata": {},
   "outputs": [
    {
     "name": "stdout",
     "output_type": "stream",
     "text": [
      "Hello, this is before function execution\n",
      "This is inside the function !!\n",
      "This is after function execution\n"
     ]
    }
   ],
   "source": [
    "\n",
    "\n",
    "'''\n",
    "Let’s jump to another example where we can easily find out the execution time of a function using a decorator.\n",
    "'''\n",
    "\n",
    "# calling the function\n",
    "function_to_be_used()\n",
    "\n",
    "\n",
    "# importing libraries\n",
    "import time\n",
    "import math\n",
    " \n",
    "# decorator to calculate duration\n",
    "# taken by any function.\n",
    "def calculate_time(func):\n",
    "     \n",
    "    # added arguments inside the inner1,\n",
    "    # if function takes any arguments,\n",
    "    # can be added like this.\n",
    "    def inner1(*args, **kwargs):\n",
    " \n",
    "        # storing time before function execution\n",
    "        begin = time.time()\n",
    "         \n",
    "        func(*args, **kwargs)\n",
    " \n",
    "        # storing time after function execution\n",
    "        end = time.time()\n",
    "        print(\"Total time taken in : \", func.__name__, end - begin)\n",
    " \n",
    "    return inner1"
   ]
  },
  {
   "cell_type": "code",
   "execution_count": 28,
   "id": "95c62fdb",
   "metadata": {},
   "outputs": [
    {
     "name": "stdout",
     "output_type": "stream",
     "text": [
      "3628800\n",
      "Total time taken in :  factorial 2.0080175399780273\n",
      "\n"
     ]
    }
   ],
   "source": [
    "\n",
    "# this can be added to any function present,\n",
    "# in this case to calculate a factorial\n",
    "@calculate_time\n",
    "def factorial(num):\n",
    " \n",
    "    # sleep 2 seconds because it takes very less time\n",
    "    # so that you can see the actual difference\n",
    "    time.sleep(2)\n",
    "    print(math.factorial(num))\n",
    " \n",
    "# calling the function.\n",
    "factorial(10)\n",
    "\n",
    "print()"
   ]
  },
  {
   "cell_type": "code",
   "execution_count": 29,
   "id": "d8072b08",
   "metadata": {},
   "outputs": [
    {
     "name": "stdout",
     "output_type": "stream",
     "text": [
      "before Execution\n",
      "Inside the function\n",
      "after Execution\n",
      "Sum of numbers= 30\n"
     ]
    }
   ],
   "source": [
    "\n",
    "'''\n",
    "What if a function returns something or an argument is passed to the function?\n",
    "In all the above examples the functions didn’t return anything so there wasn’t \n",
    "an issue, but one may need the returned value.\n",
    "\n",
    "'''\n",
    "\n",
    "def hello_decorator(func):\n",
    "\tdef inner1(*args, **kwargs):\n",
    "\t\t\n",
    "\t\tprint(\"before Execution\")\n",
    "\t\t\n",
    "\t\t# getting the returned value\n",
    "\t\treturned_value = func(*args, **kwargs)\n",
    "\t\tprint(\"after Execution\")\n",
    "\t\t\n",
    "\t\t# returning the value to the original frame\n",
    "\t\treturn returned_value\n",
    "\t\t\n",
    "\treturn inner1\n",
    "\n",
    "\n",
    "# adding decorator to the function\n",
    "@hello_decorator\n",
    "def sum_of_numbers(a, b, c):\n",
    "\tprint(\"Inside the function\")\n",
    "\treturn a + b + c\n",
    "\n",
    "num_one, num_two, num_three= 5, 10, 15\n",
    "\n",
    "# getting the value through return of the function\n",
    "print(\"Sum of numbers=\", sum_of_numbers(num_one, num_two, num_three))"
   ]
  },
  {
   "cell_type": "code",
   "execution_count": 30,
   "id": "7939a2e2",
   "metadata": {},
   "outputs": [
    {
     "name": "stdout",
     "output_type": "stream",
     "text": [
      "Befor Execution\n",
      "Inside the function\n",
      "After Execution\n",
      "Multiplication of numbers =  120\n"
     ]
    }
   ],
   "source": [
    "\n",
    "'''\n",
    "In the above example, you may notice a keen difference in the parameters of the inner function. \n",
    "The inner function takes the argument as *args and **kwargs which means that a tuple of positional \n",
    "arguments or a dictionary of keyword arguments can be passed of any length. This makes it a general \n",
    "decorator that can decorate a function having any number of arguments.\n",
    "\n",
    "'''\n",
    "\n",
    "# Another Example\n",
    "\n",
    "def multiplication_decorator(func):\n",
    "\tdef inner_func(*args, **kwargs):\n",
    "\t\tprint(\"Befor Execution\")\n",
    "\t\treturned_value = func(*args, **kwargs)\n",
    "\t\tprint(\"After Execution\")\n",
    "\t\treturn returned_value\n",
    "\treturn inner_func\n",
    "\n",
    "# adding decorator to the function\n",
    "@multiplication_decorator\n",
    "def mul_of_numbers(a, b, c):\n",
    "\tprint(\"Inside the function\")\n",
    "\treturn a * b * c\n",
    "\n",
    "ab, bc, cd= 4, 5, 6\n",
    "\n",
    "# getting the value through return of the function\n",
    "print(\"Multiplication of numbers = \", mul_of_numbers(ab, bc, cd))"
   ]
  },
  {
   "cell_type": "code",
   "execution_count": 31,
   "id": "4a701e9d",
   "metadata": {},
   "outputs": [
    {
     "name": "stdout",
     "output_type": "stream",
     "text": [
      "400\n",
      "200\n"
     ]
    },
    {
     "data": {
      "text/plain": [
       "'\\nThe above example is similar to calling the function as –\\n\\ndecor1(decor(num))\\ndecor(decor1(num2))\\n\\n'"
      ]
     },
     "execution_count": 31,
     "metadata": {},
     "output_type": "execute_result"
    }
   ],
   "source": [
    "\n",
    "# Chaining Decorators\n",
    "# In simpler terms chaining decorators means decorating a function with multiple decorators.\n",
    "\n",
    "# code for testing decorator chaining\n",
    "def decor1(func):\n",
    "\tdef inner():\n",
    "\t\tx = func()\n",
    "\t\treturn x * x\n",
    "\treturn inner\n",
    "\n",
    "def decor(func):\n",
    "\tdef inner():\n",
    "\t\tx = func()\n",
    "\t\treturn 2 * x\n",
    "\treturn inner\n",
    "\n",
    "@decor1\n",
    "@decor\n",
    "def num():\n",
    "\treturn 10\n",
    "\n",
    "@decor\n",
    "@decor1\n",
    "def num2():\n",
    "\treturn 10\n",
    "\n",
    "print(num())\n",
    "print(num2())\n",
    "\n",
    "'''\n",
    "The above example is similar to calling the function as –\n",
    "\n",
    "decor1(decor(num))\n",
    "decor(decor1(num2))\n",
    "\n",
    "'''"
   ]
  },
  {
   "cell_type": "code",
   "execution_count": null,
   "id": "d830a651",
   "metadata": {},
   "outputs": [],
   "source": []
  }
 ],
 "metadata": {
  "kernelspec": {
   "display_name": "venv",
   "language": "python",
   "name": "python3"
  },
  "language_info": {
   "codemirror_mode": {
    "name": "ipython",
    "version": 3
   },
   "file_extension": ".py",
   "mimetype": "text/x-python",
   "name": "python",
   "nbconvert_exporter": "python",
   "pygments_lexer": "ipython3",
   "version": "3.10.11"
  }
 },
 "nbformat": 4,
 "nbformat_minor": 5
}
