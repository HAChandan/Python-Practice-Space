{
 "cells": [
  {
   "cell_type": "code",
   "execution_count": 1,
   "id": "77dcb92b",
   "metadata": {},
   "outputs": [
    {
     "data": {
      "text/plain": [
       "'\\nClass & Object in Python\\nA class is a blueprint or template that defines the structure and behavior of objects. \\nAn object is an instance (actual realization) of a class.\\n'"
      ]
     },
     "execution_count": 1,
     "metadata": {},
     "output_type": "execute_result"
    }
   ],
   "source": [
    "\"\"\"\n",
    "Class & Object in Python\n",
    "A class is a blueprint or template that defines the structure and behavior of objects. \n",
    "An object is an instance (actual realization) of a class.\n",
    "\"\"\""
   ]
  },
  {
   "cell_type": "code",
   "execution_count": 2,
   "id": "7096ff7e",
   "metadata": {},
   "outputs": [
    {
     "data": {
      "text/plain": [
       "\"\\nKey Concepts Explained:\\nClass Definition: class Car: defines a blueprint for car objects with attributes and methods.\\nInstance Variables: Variables like self.brand, self.model that are unique to each object. Each car object has its own brand, model, etc.\\nClass Variables: Variables like wheels = 4 that are shared by all objects of the class.\\nConstructor (__init__): Special method called automatically when creating an object. It initializes the object's attributes.\\nInstance Methods: Functions defined inside the class that operate on object data. They always take self as the first parameter.\\nObjects: car1, car2, car3 are actual instances created from the Car class blueprint.\\nThe self Parameter: Refers to the current object instance, allowing methods to access and modify the object's attributes.\\nWhen you run this code, you'll see how multiple objects can be created from the same class, each with their \\nown unique data (instance variables) while sharing common behavior (methods) and some common attributes (class variables).\\n\""
      ]
     },
     "execution_count": 2,
     "metadata": {},
     "output_type": "execute_result"
    }
   ],
   "source": [
    "\"\"\"\n",
    "Key Concepts Explained:\n",
    "Class Definition: class Car: defines a blueprint for car objects with attributes and methods.\n",
    "Instance Variables: Variables like self.brand, self.model that are unique to each object. Each car object has its own brand, model, etc.\n",
    "Class Variables: Variables like wheels = 4 that are shared by all objects of the class.\n",
    "Constructor (__init__): Special method called automatically when creating an object. It initializes the object's attributes.\n",
    "Instance Methods: Functions defined inside the class that operate on object data. They always take self as the first parameter.\n",
    "Objects: car1, car2, car3 are actual instances created from the Car class blueprint.\n",
    "The self Parameter: Refers to the current object instance, allowing methods to access and modify the object's attributes.\n",
    "When you run this code, you'll see how multiple objects can be created from the same class, each with their \n",
    "own unique data (instance variables) while sharing common behavior (methods) and some common attributes (class variables).\n",
    "\"\"\""
   ]
  },
  {
   "cell_type": "code",
   "execution_count": 3,
   "id": "22e04ed2",
   "metadata": {},
   "outputs": [],
   "source": [
    "# Class Definition\n",
    "class Car:\n",
    "    # Class variable (shared by all objects)\n",
    "    wheels = 4\n",
    "    \n",
    "    # Constructor method (called when object is created)\n",
    "    def __init__(self, brand, model, year, color):\n",
    "        # Instance variables (unique to each object)\n",
    "        self.brand = brand\n",
    "        self.model = model\n",
    "        self.year = year\n",
    "        self.color = color\n",
    "        self.is_running = False\n",
    "    \n",
    "    # Instance method\n",
    "    def start_engine(self):\n",
    "        if not self.is_running:\n",
    "            self.is_running = True\n",
    "            print(f\"The {self.brand} {self.model} engine is now running!\")\n",
    "        else:\n",
    "            print(f\"The {self.brand} {self.model} is already running!\")\n",
    "    \n",
    "    def stop_engine(self):\n",
    "        if self.is_running:\n",
    "            self.is_running = False\n",
    "            print(f\"The {self.brand} {self.model} engine is now stopped.\")\n",
    "        else:\n",
    "            print(f\"The {self.brand} {self.model} is already stopped!\")\n",
    "    \n",
    "    def get_info(self):\n",
    "        status = \"running\" if self.is_running else \"stopped\"\n",
    "        return f\"{self.year} {self.brand} {self.model} ({self.color}) - Status: {status}\"\n",
    "    \n",
    "    def honk(self):\n",
    "        print(f\"The {self.brand} {self.model} goes BEEP BEEP!\")\n",
    "\n"
   ]
  },
  {
   "cell_type": "code",
   "execution_count": 4,
   "id": "84dcdc4f",
   "metadata": {},
   "outputs": [
    {
     "name": "stdout",
     "output_type": "stream",
     "text": [
      "=== Creating Car Objects ===\n"
     ]
    }
   ],
   "source": [
    "# Creating Objects (Instances of the Car class)\n",
    "print(\"=== Creating Car Objects ===\")\n",
    "car1 = Car(\"Toyota\", \"Camry\", 2022, \"Blue\")\n",
    "car2 = Car(\"Honda\", \"Civic\", 2021, \"Red\")\n",
    "car3 = Car(\"BMW\", \"X5\", 2023, \"Black\")"
   ]
  },
  {
   "cell_type": "code",
   "execution_count": 5,
   "id": "14c775b1",
   "metadata": {},
   "outputs": [
    {
     "name": "stdout",
     "output_type": "stream",
     "text": [
      "Car 1: 2022 Toyota Camry (Blue) - Status: stopped\n",
      "Car 2: 2021 Honda Civic (Red) - Status: stopped\n",
      "Car 3: 2023 BMW X5 (Black) - Status: stopped\n"
     ]
    }
   ],
   "source": [
    "print(f\"Car 1: {car1.get_info()}\")\n",
    "print(f\"Car 2: {car2.get_info()}\")\n",
    "print(f\"Car 3: {car3.get_info()}\")"
   ]
  },
  {
   "cell_type": "code",
   "execution_count": 6,
   "id": "5b9739b5",
   "metadata": {},
   "outputs": [
    {
     "name": "stdout",
     "output_type": "stream",
     "text": [
      "\n",
      "=== Accessing Class Variables ===\n",
      "All cars have 4 wheels\n",
      "Car1 wheels: 4\n",
      "Car2 wheels: 4\n"
     ]
    }
   ],
   "source": [
    "print(\"\\n=== Accessing Class Variables ===\")\n",
    "print(f\"All cars have {Car.wheels} wheels\")\n",
    "print(f\"Car1 wheels: {car1.wheels}\")\n",
    "print(f\"Car2 wheels: {car2.wheels}\")"
   ]
  },
  {
   "cell_type": "code",
   "execution_count": 7,
   "id": "e9336fb8",
   "metadata": {},
   "outputs": [
    {
     "name": "stdout",
     "output_type": "stream",
     "text": [
      "\n",
      "=== Using Instance Methods ===\n",
      "The Toyota Camry engine is now running!\n",
      "The Honda Civic engine is now running!\n"
     ]
    }
   ],
   "source": [
    "print(\"\\n=== Using Instance Methods ===\")\n",
    "# Starting engines\n",
    "car1.start_engine()\n",
    "car2.start_engine()"
   ]
  },
  {
   "cell_type": "code",
   "execution_count": 8,
   "id": "f2406637",
   "metadata": {},
   "outputs": [
    {
     "name": "stdout",
     "output_type": "stream",
     "text": [
      "The Toyota Camry is already running!\n"
     ]
    }
   ],
   "source": [
    "# Trying to start already running car\n",
    "car1.start_engine()"
   ]
  },
  {
   "cell_type": "code",
   "execution_count": 9,
   "id": "97eb52b6",
   "metadata": {},
   "outputs": [
    {
     "name": "stdout",
     "output_type": "stream",
     "text": [
      "The Toyota Camry goes BEEP BEEP!\n",
      "The Honda Civic goes BEEP BEEP!\n"
     ]
    }
   ],
   "source": [
    "# Honking\n",
    "car1.honk()\n",
    "car2.honk()"
   ]
  },
  {
   "cell_type": "code",
   "execution_count": 10,
   "id": "41a71086",
   "metadata": {},
   "outputs": [
    {
     "name": "stdout",
     "output_type": "stream",
     "text": [
      "\n",
      "=== Current Status ===\n",
      "Car 1: 2022 Toyota Camry (Blue) - Status: running\n",
      "Car 2: 2021 Honda Civic (Red) - Status: running\n",
      "Car 3: 2023 BMW X5 (Black) - Status: stopped\n"
     ]
    }
   ],
   "source": [
    "print(\"\\n=== Current Status ===\")\n",
    "print(f\"Car 1: {car1.get_info()}\")\n",
    "print(f\"Car 2: {car2.get_info()}\")\n",
    "print(f\"Car 3: {car3.get_info()}\")\n"
   ]
  },
  {
   "cell_type": "code",
   "execution_count": 11,
   "id": "0b6f31dc",
   "metadata": {},
   "outputs": [
    {
     "name": "stdout",
     "output_type": "stream",
     "text": [
      "\n",
      "=== Stopping Engines ===\n",
      "The Toyota Camry engine is now stopped.\n",
      "The Honda Civic engine is now stopped.\n"
     ]
    }
   ],
   "source": [
    "# Stopping engines\n",
    "print(\"\\n=== Stopping Engines ===\")\n",
    "car1.stop_engine()\n",
    "car2.stop_engine()"
   ]
  },
  {
   "cell_type": "code",
   "execution_count": 12,
   "id": "33376e2b",
   "metadata": {},
   "outputs": [
    {
     "name": "stdout",
     "output_type": "stream",
     "text": [
      "\n",
      "=== Final Status ===\n",
      "Car 1: 2022 Toyota Camry (Blue) - Status: stopped\n",
      "Car 2: 2021 Honda Civic (Red) - Status: stopped\n"
     ]
    }
   ],
   "source": [
    "print(\"\\n=== Final Status ===\")\n",
    "print(f\"Car 1: {car1.get_info()}\")\n",
    "print(f\"Car 2: {car2.get_info()}\")"
   ]
  },
  {
   "cell_type": "code",
   "execution_count": 13,
   "id": "2d94be43",
   "metadata": {},
   "outputs": [
    {
     "name": "stdout",
     "output_type": "stream",
     "text": [
      "\n",
      "=== Object Identity ===\n",
      "car1 is car2: False\n",
      "Type of car1: <class '__main__.Car'>\n",
      "car1 is instance of Car: True\n"
     ]
    }
   ],
   "source": [
    "print(\"\\n=== Object Identity ===\")\n",
    "print(f\"car1 is car2: {car1 is car2}\")  # False - different objects\n",
    "print(f\"Type of car1: {type(car1)}\")\n",
    "print(f\"car1 is instance of Car: {isinstance(car1, Car)}\")"
   ]
  },
  {
   "cell_type": "code",
   "execution_count": 14,
   "id": "7167d492",
   "metadata": {},
   "outputs": [
    {
     "name": "stdout",
     "output_type": "stream",
     "text": [
      "\n",
      "car1 brand: Toyota\n",
      "car2 color: Red\n",
      "car3 year: 2023\n"
     ]
    }
   ],
   "source": [
    "# Accessing individual object attributes\n",
    "print(f\"\\ncar1 brand: {car1.brand}\")\n",
    "print(f\"car2 color: {car2.color}\")\n",
    "print(f\"car3 year: {car3.year}\")"
   ]
  },
  {
   "cell_type": "code",
   "execution_count": null,
   "id": "1e25cc24",
   "metadata": {},
   "outputs": [],
   "source": []
  }
 ],
 "metadata": {
  "kernelspec": {
   "display_name": "venv",
   "language": "python",
   "name": "python3"
  },
  "language_info": {
   "codemirror_mode": {
    "name": "ipython",
    "version": 3
   },
   "file_extension": ".py",
   "mimetype": "text/x-python",
   "name": "python",
   "nbconvert_exporter": "python",
   "pygments_lexer": "ipython3",
   "version": "3.10.11"
  }
 },
 "nbformat": 4,
 "nbformat_minor": 5
}
