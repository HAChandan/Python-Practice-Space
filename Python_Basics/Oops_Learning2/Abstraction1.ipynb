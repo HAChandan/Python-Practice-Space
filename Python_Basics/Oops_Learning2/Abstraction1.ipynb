{
 "cells": [
  {
   "cell_type": "code",
   "execution_count": 1,
   "id": "9443c375",
   "metadata": {},
   "outputs": [
    {
     "data": {
      "text/plain": [
       "'\\nAbstraction is a fundamental concept in Object-Oriented Programming (OOP) that involves hiding the complex \\nimplementation details of an object and exposing only the essential features. It allows developers to focus on \\nthe functionality of an object without getting bogged down by the intricacies of its internal workings. In Python, \\nabstraction is often achieved through abstract classes and abstract methods.\\n\\nAbstract Classes and Abstract Methods:\\nAn abstract class is a class that cannot be instantiated on its own and may contain one or more abstract methods. \\nAn abstract method is a method declared in an abstract class without providing an implementation. Subclasses inheriting \\nfrom the abstract class must provide concrete implementations for the abstract methods, thereby enforcing a common interface.\\n\\nExample in Python:\\n\\n'"
      ]
     },
     "execution_count": 1,
     "metadata": {},
     "output_type": "execute_result"
    }
   ],
   "source": [
    "# Abstraction\n",
    "\n",
    "\"\"\"\n",
    "Abstraction is a fundamental concept in Object-Oriented Programming (OOP) that involves hiding the complex \n",
    "implementation details of an object and exposing only the essential features. It allows developers to focus on \n",
    "the functionality of an object without getting bogged down by the intricacies of its internal workings. In Python, \n",
    "abstraction is often achieved through abstract classes and abstract methods.\n",
    "\n",
    "Abstract Classes and Abstract Methods:\n",
    "An abstract class is a class that cannot be instantiated on its own and may contain one or more abstract methods. \n",
    "An abstract method is a method declared in an abstract class without providing an implementation. Subclasses inheriting \n",
    "from the abstract class must provide concrete implementations for the abstract methods, thereby enforcing a common interface.\n",
    "\n",
    "Example in Python:\n",
    "\n",
    "\"\"\""
   ]
  },
  {
   "cell_type": "code",
   "execution_count": 2,
   "id": "639e11dd",
   "metadata": {},
   "outputs": [],
   "source": [
    "from abc import ABC, abstractmethod\n",
    "\n",
    "class Shape(ABC):\n",
    "    @abstractmethod\n",
    "    def area(self):\n",
    "        pass\n",
    "\n",
    "\n",
    "class Circle(Shape):\n",
    "    def __init__(self, radius):\n",
    "        self.radius = radius\n",
    "\n",
    "    def area(self):\n",
    "        return 3.14 * self.radius * self.radius\n",
    "\n",
    "\n",
    "class Rectangle(Shape):\n",
    "    def __init__(self, length, width):\n",
    "        self.length = length\n",
    "        self.width = width\n",
    "\n",
    "    def area(self):\n",
    "        return self.length * self.width"
   ]
  },
  {
   "cell_type": "code",
   "execution_count": 3,
   "id": "9f4a908d",
   "metadata": {},
   "outputs": [
    {
     "name": "stdout",
     "output_type": "stream",
     "text": [
      "78.5\n",
      "24\n"
     ]
    }
   ],
   "source": [
    "# Creating instances of Circle and Rectangle\n",
    "circle_instance = Circle(5)\n",
    "rectangle_instance = Rectangle(4, 6)\n",
    "\n",
    "# Calling the area method on both instances\n",
    "print(circle_instance.area())       # Output: 78.5\n",
    "print(rectangle_instance.area())    # Output: 24"
   ]
  },
  {
   "cell_type": "code",
   "execution_count": 4,
   "id": "17a8ef0b",
   "metadata": {},
   "outputs": [
    {
     "data": {
      "text/plain": [
       "\"\\nBenefits of Abstraction:\\nSimplifies Complexity: Abstraction simplifies the representation of real-world entities by \\nfocusing on essential features and hiding unnecessary details, making code more manageable.\\n\\nPromotes Code Reusability: Abstract classes and methods enable the creation of a common interface, \\nfacilitating the reuse of code in different parts of a program or in future projects.\\n\\nEnhances Maintainability: By encapsulating implementation details within abstract classes, \\nchanges to the internal workings of a class won't affect the code that uses the class, promoting easier maintenance.\\n\\nEnforces Consistency: Abstraction ensures that subclasses adhere to a common interface, \\npromoting consistency in the way objects are used and reducing the likelihood of errors.\\n\\nSupports Polymorphism: Abstraction is closely tied to polymorphism, allowing objects of \\ndifferent classes to be treated uniformly through a common interface.\\n\\nOverall, abstraction is a powerful tool in software design that contributes to creating modular, \\nextensible, and maintainable code. It enables developers to build systems that are more adaptable \\nto change and easier to understand.\\n\""
      ]
     },
     "execution_count": 4,
     "metadata": {},
     "output_type": "execute_result"
    }
   ],
   "source": [
    "\"\"\"\n",
    "In this example, the Shape class is an abstract class with an abstract method area(). \n",
    "The Circle and Rectangle classes inherit from Shape and provide concrete implementations for the area method. \n",
    "The abstraction lies in defining a common interface (area) for different shapes without specifying how each shape calculates its area.\n",
    "\"\"\"\n",
    "\n",
    "\"\"\"\n",
    "Benefits of Abstraction:\n",
    "Simplifies Complexity: Abstraction simplifies the representation of real-world entities by \n",
    "focusing on essential features and hiding unnecessary details, making code more manageable.\n",
    "\n",
    "Promotes Code Reusability: Abstract classes and methods enable the creation of a common interface, \n",
    "facilitating the reuse of code in different parts of a program or in future projects.\n",
    "\n",
    "Enhances Maintainability: By encapsulating implementation details within abstract classes, \n",
    "changes to the internal workings of a class won't affect the code that uses the class, promoting easier maintenance.\n",
    "\n",
    "Enforces Consistency: Abstraction ensures that subclasses adhere to a common interface, \n",
    "promoting consistency in the way objects are used and reducing the likelihood of errors.\n",
    "\n",
    "Supports Polymorphism: Abstraction is closely tied to polymorphism, allowing objects of \n",
    "different classes to be treated uniformly through a common interface.\n",
    "\n",
    "Overall, abstraction is a powerful tool in software design that contributes to creating modular, \n",
    "extensible, and maintainable code. It enables developers to build systems that are more adaptable \n",
    "to change and easier to understand.\n",
    "\"\"\""
   ]
  },
  {
   "cell_type": "code",
   "execution_count": null,
   "id": "9209e7bb",
   "metadata": {},
   "outputs": [],
   "source": []
  }
 ],
 "metadata": {
  "kernelspec": {
   "display_name": "venv",
   "language": "python",
   "name": "python3"
  },
  "language_info": {
   "codemirror_mode": {
    "name": "ipython",
    "version": 3
   },
   "file_extension": ".py",
   "mimetype": "text/x-python",
   "name": "python",
   "nbconvert_exporter": "python",
   "pygments_lexer": "ipython3",
   "version": "3.10.11"
  }
 },
 "nbformat": 4,
 "nbformat_minor": 5
}
