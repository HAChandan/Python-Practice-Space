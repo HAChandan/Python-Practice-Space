{
 "cells": [
  {
   "cell_type": "markdown",
   "id": "eed4a95a",
   "metadata": {},
   "source": [
    "## Encapsulation:"
   ]
  },
  {
   "cell_type": "code",
   "execution_count": null,
   "id": "d8852b95",
   "metadata": {},
   "outputs": [],
   "source": [
    "\"\"\"\n",
    "Definition: Encapsulation is the bundling of data (attributes) and the methods that operate \n",
    "on the data into a single unit, known as a class. It helps in hiding the internal details of \n",
    "an object and exposing only what is necessary.\n",
    "Example in Python:\n",
    "\"\"\""
   ]
  },
  {
   "cell_type": "code",
   "execution_count": 1,
   "id": "c6ead980",
   "metadata": {},
   "outputs": [],
   "source": [
    "class Student:\n",
    "    def __init__(self, name, age):\n",
    "        self.name = name\n",
    "        self.age = age\n",
    "\n",
    "    def display_info(self):\n",
    "        print(f\"Name: {self.name}, Age: {self.age}\")\n"
   ]
  },
  {
   "cell_type": "code",
   "execution_count": 2,
   "id": "dc0b121d",
   "metadata": {},
   "outputs": [
    {
     "name": "stdout",
     "output_type": "stream",
     "text": [
      "Alice\n",
      "Name: Alice, Age: 20\n"
     ]
    }
   ],
   "source": [
    "# Creating an instance of the Student class\n",
    "student1 = Student(\"Alice\", 20)\n",
    "\n",
    "# Accessing attributes and calling a method\n",
    "print(student1.name)        # Output: Alice\n",
    "student1.display_info()     # Output: Name: Alice, Age: 20"
   ]
  },
  {
   "cell_type": "code",
   "execution_count": null,
   "id": "de45d3b0",
   "metadata": {},
   "outputs": [],
   "source": []
  }
 ],
 "metadata": {
  "kernelspec": {
   "display_name": "venv",
   "language": "python",
   "name": "python3"
  },
  "language_info": {
   "codemirror_mode": {
    "name": "ipython",
    "version": 3
   },
   "file_extension": ".py",
   "mimetype": "text/x-python",
   "name": "python",
   "nbconvert_exporter": "python",
   "pygments_lexer": "ipython3",
   "version": "3.10.11"
  }
 },
 "nbformat": 4,
 "nbformat_minor": 5
}
