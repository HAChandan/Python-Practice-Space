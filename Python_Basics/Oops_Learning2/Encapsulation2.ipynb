{
 "cells": [
  {
   "cell_type": "markdown",
   "id": "22763ce9",
   "metadata": {},
   "source": [
    "## Encapsulation:"
   ]
  },
  {
   "cell_type": "code",
   "execution_count": 1,
   "id": "2208f833",
   "metadata": {},
   "outputs": [
    {
     "data": {
      "text/plain": [
       "\"\\nHiding Internal Details:\\n\\nIn object-oriented programming, an object is a self-contained unit that represents \\na real-world entity. This object has attributes (data) and methods (functions) \\nassociated with it. Encapsulation allows you to bundle these attributes and \\nmethods together within a class, forming a cohesive and logical unit.\\n\\nThe internal details of an object, such as its data members and the specific \\nimplementation of methods, are encapsulated within the class. This means that \\nthe inner workings of the object are hidden from external entities, \\nincluding other parts of the program.\\n\\nBy hiding the internal details, you create a clear separation between the \\nimplementation and the external interface, reducing the complexity and making \\nit easier to manage and maintain the code.\\n\\nExposing Only What is Necessary:\\n\\nEncapsulation also involves selectively exposing only the essential \\nfeatures of an object to the outside world. The external interface, \\nwhich includes public methods and properties, provides a controlled \\nand well-defined way for other parts of the program to interact with \\nthe object.\\n\\nThe idea is to provide a set of methods that allow external entities to \\nperform necessary operations on the object without revealing the underlying complexity. \\nThis promotes a level of abstraction, allowing users of the class to work with the \\nobject at a higher, more intuitive level.\\n\\nBy exposing only what is necessary, you maintain a level of control over the object's \\nstate and behavior. This control prevents unintended misuse and ensures that interactions \\nwith the object adhere to the intended design.\\n\\n\""
      ]
     },
     "execution_count": 1,
     "metadata": {},
     "output_type": "execute_result"
    }
   ],
   "source": [
    "\"\"\"\n",
    "Hiding Internal Details:\n",
    "\n",
    "In object-oriented programming, an object is a self-contained unit that represents \n",
    "a real-world entity. This object has attributes (data) and methods (functions) \n",
    "associated with it. Encapsulation allows you to bundle these attributes and \n",
    "methods together within a class, forming a cohesive and logical unit.\n",
    "\n",
    "The internal details of an object, such as its data members and the specific \n",
    "implementation of methods, are encapsulated within the class. This means that \n",
    "the inner workings of the object are hidden from external entities, \n",
    "including other parts of the program.\n",
    "\n",
    "By hiding the internal details, you create a clear separation between the \n",
    "implementation and the external interface, reducing the complexity and making \n",
    "it easier to manage and maintain the code.\n",
    "\n",
    "Exposing Only What is Necessary:\n",
    "\n",
    "Encapsulation also involves selectively exposing only the essential \n",
    "features of an object to the outside world. The external interface, \n",
    "which includes public methods and properties, provides a controlled \n",
    "and well-defined way for other parts of the program to interact with \n",
    "the object.\n",
    "\n",
    "The idea is to provide a set of methods that allow external entities to \n",
    "perform necessary operations on the object without revealing the underlying complexity. \n",
    "This promotes a level of abstraction, allowing users of the class to work with the \n",
    "object at a higher, more intuitive level.\n",
    "\n",
    "By exposing only what is necessary, you maintain a level of control over the object's \n",
    "state and behavior. This control prevents unintended misuse and ensures that interactions \n",
    "with the object adhere to the intended design.\n",
    "\n",
    "\"\"\""
   ]
  },
  {
   "cell_type": "code",
   "execution_count": 2,
   "id": "8910129c",
   "metadata": {},
   "outputs": [
    {
     "data": {
      "text/plain": [
       "'\\nIn this example, the internal details (attributes _account_holder and _balance) \\nare hidden from external entities. The external interface consists of methods \\nlike get_balance, deposit, and withdraw, which expose only the necessary functionality \\nfor interacting with the BankAccount object. This encapsulation helps manage the \\ncomplexity of the object and provides a clear and controlled way to work with it.\\n'"
      ]
     },
     "execution_count": 2,
     "metadata": {},
     "output_type": "execute_result"
    }
   ],
   "source": [
    "\"\"\"\n",
    "In this example, the internal details (attributes _account_holder and _balance) \n",
    "are hidden from external entities. The external interface consists of methods \n",
    "like get_balance, deposit, and withdraw, which expose only the necessary functionality \n",
    "for interacting with the BankAccount object. This encapsulation helps manage the \n",
    "complexity of the object and provides a clear and controlled way to work with it.\n",
    "\"\"\""
   ]
  },
  {
   "cell_type": "code",
   "execution_count": 3,
   "id": "3e32b74f",
   "metadata": {},
   "outputs": [],
   "source": [
    "class BankAccount:\n",
    "    def __init__(self, account_holder, balance):\n",
    "        self._account_holder = account_holder  # Internal detail\n",
    "        self._balance = balance                # Internal detail\n",
    "\n",
    "    def get_balance(self):\n",
    "        return self._balance  # Exposed method\n",
    "\n",
    "    def deposit(self, amount):\n",
    "        if amount > 0:\n",
    "            self._balance += amount  # Internal detail\n",
    "\n",
    "    def withdraw(self, amount):\n",
    "        if amount > 0 and amount <= self._balance:\n",
    "            self._balance -= amount  # Internal detail"
   ]
  },
  {
   "cell_type": "code",
   "execution_count": 4,
   "id": "b37c8199",
   "metadata": {},
   "outputs": [
    {
     "name": "stdout",
     "output_type": "stream",
     "text": [
      "1000\n"
     ]
    }
   ],
   "source": [
    "# Creating an instance of BankAccount\n",
    "account = BankAccount(\"Alice\", 1000)\n",
    "\n",
    "# Using the external interface\n",
    "print(account.get_balance())  # Exposing balance\n",
    "account.deposit(500)           # Exposing deposit method\n",
    "account.withdraw(200)          # Exposing withdraw method\n",
    "\n",
    "\n"
   ]
  },
  {
   "cell_type": "code",
   "execution_count": 5,
   "id": "ef789d48",
   "metadata": {},
   "outputs": [
    {
     "name": "stdout",
     "output_type": "stream",
     "text": [
      "1300\n"
     ]
    }
   ],
   "source": [
    "print(account.get_balance()) "
   ]
  },
  {
   "cell_type": "code",
   "execution_count": 1,
   "id": "f71d455b",
   "metadata": {},
   "outputs": [
    {
     "data": {
      "text/plain": [
       "'\\nProtected members (in C++ and JAVA) are those members of the class that cannot \\nbe accessed outside the class but can be accessed from within the class and its subclasses. \\nTo accomplish this in Python, just follow the convention by prefixing the name of the member \\nby a single underscore “_”.\\n\\nAlthough the protected variable can be accessed out of the class as well as in the derived \\nclass (modified too in derived class), it is customary(convention not a rule) to not access \\nthe protected out the class body.\\n\\nNote: The __init__ method is a constructor and runs as soon as an object of a class is instantiated.  \\n\\n'"
      ]
     },
     "execution_count": 1,
     "metadata": {},
     "output_type": "execute_result"
    }
   ],
   "source": [
    "# Encapsulation in Python\n",
    "\n",
    "'''\n",
    "Encapsulation is one of the fundamental concepts in object-oriented programming (OOP). \n",
    "It describes the idea of wrapping data and the methods that work on data within one unit. \n",
    "This puts restrictions on accessing variables and methods directly and can prevent the accidental \n",
    "modification of data. To prevent accidental change, an object’s variable can only be changed by an \n",
    "object’s method. Those types of variables are known as private variables.\n",
    "\n",
    "A class is an example of encapsulation as it encapsulates all the data that is member functions, \n",
    "variables, etc. The goal of information hiding is to ensure that an object’s state is always valid \n",
    "by controlling access to attributes that are hidden from the outside world.\n",
    "'''\n",
    "\n",
    "'''\n",
    "\n",
    "Consider a real-life example of encapsulation, in a company, there are different sections \n",
    "like the accounts section, finance section, sales section etc. The finance section handles \n",
    "all the financial transactions and keeps records of all the data related to finance. Similarly, \n",
    "the sales section handles all the sales-related activities and keeps records of all the sales. \n",
    "Now there may arise a situation when due to some reason an official from the finance section \n",
    "needs all the data about sales in a particular month. In this case, he is not allowed to directly \n",
    "access the data of the sales section. He will first have to contact some other officer in the sales \n",
    "section and then request him to give the particular data. This is what encapsulation is. Here the \n",
    "data of the sales section and the employees that can manipulate them are wrapped under a single \n",
    "name “sales section”. Using encapsulation also hides the data. In this example, the data of the \n",
    "sections like sales, finance, or accounts are hidden from any other section.\n",
    "\n",
    "'''\n",
    "\n",
    "# Protected members\n",
    "\n",
    "'''\n",
    "Protected members (in C++ and JAVA) are those members of the class that cannot \n",
    "be accessed outside the class but can be accessed from within the class and its subclasses. \n",
    "To accomplish this in Python, just follow the convention by prefixing the name of the member \n",
    "by a single underscore “_”.\n",
    "\n",
    "Although the protected variable can be accessed out of the class as well as in the derived \n",
    "class (modified too in derived class), it is customary(convention not a rule) to not access \n",
    "the protected out the class body.\n",
    "\n",
    "Note: The __init__ method is a constructor and runs as soon as an object of a class is instantiated.  \n",
    "\n",
    "'''"
   ]
  },
  {
   "cell_type": "code",
   "execution_count": 2,
   "id": "e81dd38b",
   "metadata": {},
   "outputs": [
    {
     "name": "stdout",
     "output_type": "stream",
     "text": [
      "Calling protected member of base class:  2\n",
      "Calling modified protected member outside class:  3\n",
      "Accessing protected member of obj1:  3\n",
      "Accessing protected member of obj2:  2\n"
     ]
    }
   ],
   "source": [
    "# Python program to\n",
    "# demonstrate protected members\n",
    "\n",
    "# Creating a base class\n",
    "class Base:\n",
    "\tdef __init__(self):\n",
    "\n",
    "\t\t# Protected member\n",
    "\t\tself._a = 2\n",
    "\n",
    "# Creating a derived class\n",
    "class Derived(Base):\n",
    "\tdef __init__(self):\n",
    "\n",
    "\t\t# Calling constructor of\n",
    "\t\t# Base class\n",
    "\t\tBase.__init__(self)\n",
    "\t\tprint(\"Calling protected member of base class: \",\n",
    "\t\t\tself._a)\n",
    "\n",
    "\t\t# Modify the protected variable:\n",
    "\t\tself._a = 3\n",
    "\t\tprint(\"Calling modified protected member outside class: \",\n",
    "\t\t\tself._a)\n",
    "\n",
    "\n",
    "obj1 = Derived()\n",
    "\n",
    "obj2 = Base()\n",
    "\n",
    "# Calling protected member\n",
    "# Can be accessed but should not be done due to convention\n",
    "print(\"Accessing protected member of obj1: \", obj1._a)\n",
    "\n",
    "# Accessing the protected variable outside\n",
    "print(\"Accessing protected member of obj2: \", obj2._a)\n"
   ]
  },
  {
   "cell_type": "code",
   "execution_count": 3,
   "id": "0b952e0a",
   "metadata": {},
   "outputs": [
    {
     "data": {
      "text/plain": [
       "'\\nPrivate members are similar to protected members, the difference is that the class members \\ndeclared private should neither be accessed outside the class nor by any base class. \\nIn Python, there is no existence of Private instance variables that cannot be accessed except inside a class.\\n\\nHowever, to define a private member prefix the member name with double underscore “__”.\\n\\nNote: Python’s private and protected members can be accessed outside the class through python name mangling. \\n'"
      ]
     },
     "execution_count": 3,
     "metadata": {},
     "output_type": "execute_result"
    }
   ],
   "source": [
    "# Private members\n",
    "\n",
    "'''\n",
    "Private members are similar to protected members, the difference is that the class members \n",
    "declared private should neither be accessed outside the class nor by any base class. \n",
    "In Python, there is no existence of Private instance variables that cannot be accessed except inside a class.\n",
    "\n",
    "However, to define a private member prefix the member name with double underscore “__”.\n",
    "\n",
    "Note: Python’s private and protected members can be accessed outside the class through python name mangling. \n",
    "'''\n"
   ]
  },
  {
   "cell_type": "code",
   "execution_count": 4,
   "id": "7e4f58f3",
   "metadata": {},
   "outputs": [
    {
     "name": "stdout",
     "output_type": "stream",
     "text": [
      "GeeksforGeeks\n",
      "private members can be accessed only inside the class : GeeksforGeeks\n"
     ]
    }
   ],
   "source": [
    "# Python program to\n",
    "# demonstrate private members\n",
    "\n",
    "# Creating a Base class\n",
    "\n",
    "\n",
    "class Base:\n",
    "\tdef __init__(self):\n",
    "\t\tself.a = \"GeeksforGeeks\"\n",
    "\t\tself.__c = \"GeeksforGeeks\"\n",
    "\tdef base_fun(self):\n",
    "\t\tprint(\"private members can be accessed only inside the class :\", self.__c)\n",
    "\n",
    "# Creating a derived class\n",
    "class Derived(Base):\n",
    "\tdef __init__(self):\n",
    "\n",
    "\t\t# Calling constructor of\n",
    "\t\t# Base class\n",
    "\t\tBase.__init__(self)\n",
    "\t\tprint(\"Calling private member of base class: \")\n",
    "\t\tprint(self.__c)\n",
    "\n",
    "\n",
    "# Driver code\n",
    "obj1 = Base()\n",
    "print(obj1.a)\n",
    "obj1.base_fun()\n",
    "# print(obj1.c)"
   ]
  },
  {
   "cell_type": "code",
   "execution_count": null,
   "id": "9484403d",
   "metadata": {},
   "outputs": [],
   "source": []
  }
 ],
 "metadata": {
  "kernelspec": {
   "display_name": "venv",
   "language": "python",
   "name": "python3"
  },
  "language_info": {
   "codemirror_mode": {
    "name": "ipython",
    "version": 3
   },
   "file_extension": ".py",
   "mimetype": "text/x-python",
   "name": "python",
   "nbconvert_exporter": "python",
   "pygments_lexer": "ipython3",
   "version": "3.10.11"
  }
 },
 "nbformat": 4,
 "nbformat_minor": 5
}
