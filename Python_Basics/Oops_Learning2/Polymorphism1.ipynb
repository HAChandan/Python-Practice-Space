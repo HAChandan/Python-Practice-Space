{
 "cells": [
  {
   "cell_type": "code",
   "execution_count": 1,
   "id": "b76106e8",
   "metadata": {},
   "outputs": [
    {
     "data": {
      "text/plain": [
       "'\\n\\nPolymorphism is a key concept in Object-Oriented Programming (OOP) that allows objects to be treated as \\ninstances of their parent class, even when they are instances of a subclass. It provides a way to use a \\nsingle interface to represent different types of objects or, more specifically, to perform a single action \\nin multiple ways. Python supports two types of polymorphism: compile-time (or static) polymorphism and runtime (or dynamic) polymorphism.\\n\\n1. Compile-time Polymorphism (Method Overloading):\\nCompile-time polymorphism involves having multiple methods in the same class with the same name but different parameter lists. \\nThe method that gets called is determined at compile time based on the number and types of arguments passed.\\n\\nExample in Python:\\n\\n'"
      ]
     },
     "execution_count": 1,
     "metadata": {},
     "output_type": "execute_result"
    }
   ],
   "source": [
    "# Polymorphism\n",
    "\n",
    "\n",
    "\"\"\"\n",
    "\n",
    "Polymorphism is a key concept in Object-Oriented Programming (OOP) that allows objects to be treated as \n",
    "instances of their parent class, even when they are instances of a subclass. It provides a way to use a \n",
    "single interface to represent different types of objects or, more specifically, to perform a single action \n",
    "in multiple ways. Python supports two types of polymorphism: compile-time (or static) polymorphism and runtime (or dynamic) polymorphism.\n",
    "\n",
    "1. Compile-time Polymorphism (Method Overloading):\n",
    "Compile-time polymorphism involves having multiple methods in the same class with the same name but different parameter lists. \n",
    "The method that gets called is determined at compile time based on the number and types of arguments passed.\n",
    "\n",
    "Example in Python:\n",
    "\n",
    "\"\"\""
   ]
  },
  {
   "cell_type": "code",
   "execution_count": 2,
   "metadata": {},
   "outputs": [],
   "source": [
    "class MathOperations:\n",
    "    def add(self, x, y):\n",
    "        return x + y\n",
    "\n",
    "    def add(self, x, y, z):\n",
    "        return x + y + z"
   ]
  },
  {
   "cell_type": "code",
   "execution_count": 3,
   "id": "ae4bf3cf",
   "metadata": {},
   "outputs": [],
   "source": [
    "# Creating an instance of MathOperations\n",
    "math_instance = MathOperations()"
   ]
  },
  {
   "cell_type": "code",
   "execution_count": 4,
   "id": "1b062f3b",
   "metadata": {},
   "outputs": [
    {
     "ename": "TypeError",
     "evalue": "MathOperations.add() missing 1 required positional argument: 'z'",
     "output_type": "error",
     "traceback": [
      "\u001b[1;31m---------------------------------------------------------------------------\u001b[0m",
      "\u001b[1;31mTypeError\u001b[0m                                 Traceback (most recent call last)",
      "Cell \u001b[1;32mIn[4], line 3\u001b[0m\n\u001b[0;32m      1\u001b[0m \u001b[38;5;66;03m# This will result in an error as Python does not support method overloading in the traditional sense.\u001b[39;00m\n\u001b[0;32m      2\u001b[0m \u001b[38;5;66;03m# Instead, the latest defined method will override the previous one.\u001b[39;00m\n\u001b[1;32m----> 3\u001b[0m \u001b[43mmath_instance\u001b[49m\u001b[38;5;241;43m.\u001b[39;49m\u001b[43madd\u001b[49m\u001b[43m(\u001b[49m\u001b[38;5;241;43m2\u001b[39;49m\u001b[43m,\u001b[49m\u001b[43m \u001b[49m\u001b[38;5;241;43m3\u001b[39;49m\u001b[43m)\u001b[49m  \u001b[38;5;66;03m# Error: TypeError\u001b[39;00m\n",
      "\u001b[1;31mTypeError\u001b[0m: MathOperations.add() missing 1 required positional argument: 'z'"
     ]
    }
   ],
   "source": [
    "# This will result in an error as Python does not support method overloading in the traditional sense.\n",
    "# Instead, the latest defined method will override the previous one.\n",
    "math_instance.add(2, 3)  # Error: TypeError"
   ]
  },
  {
   "cell_type": "code",
   "execution_count": 5,
   "id": "fbce318d",
   "metadata": {},
   "outputs": [],
   "source": [
    "# To achieve similar functionality, you can use default values for parameters\n",
    "class MathOperationsWithDefaults:\n",
    "    def add(self, x, y, z=None):\n",
    "        if z is not None:\n",
    "            return x + y + z\n",
    "        else:\n",
    "            return x + y"
   ]
  },
  {
   "cell_type": "code",
   "execution_count": 6,
   "id": "aff8292c",
   "metadata": {},
   "outputs": [
    {
     "name": "stdout",
     "output_type": "stream",
     "text": [
      "5\n",
      "9\n"
     ]
    }
   ],
   "source": [
    "\n",
    "# Creating an instance of MathOperationsWithDefaults\n",
    "math_instance_with_defaults = MathOperationsWithDefaults()\n",
    "\n",
    "print(math_instance_with_defaults.add(2, 3))       # Output: 5\n",
    "print(math_instance_with_defaults.add(2, 3, 4))    # Output: 9"
   ]
  },
  {
   "cell_type": "code",
   "execution_count": null,
   "id": "4ddde4c6",
   "metadata": {},
   "outputs": [],
   "source": []
  }
 ],
 "metadata": {
  "kernelspec": {
   "display_name": "venv",
   "language": "python",
   "name": "python3"
  },
  "language_info": {
   "codemirror_mode": {
    "name": "ipython",
    "version": 3
   },
   "file_extension": ".py",
   "mimetype": "text/x-python",
   "name": "python",
   "nbconvert_exporter": "python",
   "pygments_lexer": "ipython3",
   "version": "3.10.11"
  }
 },
 "nbformat": 4,
 "nbformat_minor": 5
}
