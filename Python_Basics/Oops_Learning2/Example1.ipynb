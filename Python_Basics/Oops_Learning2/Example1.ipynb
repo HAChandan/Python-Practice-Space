{
 "cells": [
  {
   "cell_type": "code",
   "execution_count": 1,
   "id": "21f3e2b8",
   "metadata": {},
   "outputs": [
    {
     "data": {
      "text/plain": [
       "'\\nWhat is Polymorphism: The word polymorphism means having many forms. \\nIn programming, polymorphism means the same function name (but different signatures) \\nbeing used for different types. The key difference is the data types and number of arguments used in function.\\n'"
      ]
     },
     "execution_count": 1,
     "metadata": {},
     "output_type": "execute_result"
    }
   ],
   "source": [
    "# Polymorphism in Python\n",
    "\n",
    "'''\n",
    "What is Polymorphism: The word polymorphism means having many forms. \n",
    "In programming, polymorphism means the same function name (but different signatures) \n",
    "being used for different types. The key difference is the data types and number of arguments used in function.\n",
    "'''"
   ]
  },
  {
   "cell_type": "code",
   "execution_count": 2,
   "id": "4d3c7815",
   "metadata": {},
   "outputs": [
    {
     "name": "stdout",
     "output_type": "stream",
     "text": [
      "5\n"
     ]
    }
   ],
   "source": [
    "# Example of inbuilt polymorphic functions:\n",
    "\n",
    "# Python program to demonstrate in-built poly-\n",
    "# morphic functions\n",
    " \n",
    "# len() being used for a string\n",
    "print(len(\"geeks\"))"
   ]
  },
  {
   "cell_type": "code",
   "execution_count": 3,
   "metadata": {},
   "outputs": [
    {
     "name": "stdout",
     "output_type": "stream",
     "text": [
      "3\n"
     ]
    }
   ],
   "source": [
    "# len() being used for a list\n",
    "print(len([10, 20, 30]))"
   ]
  },
  {
   "cell_type": "code",
   "execution_count": 4,
   "id": "8d5f48af",
   "metadata": {},
   "outputs": [
    {
     "name": "stdout",
     "output_type": "stream",
     "text": [
      "5\n",
      "9\n"
     ]
    }
   ],
   "source": [
    "# Examples of user-defined polymorphic functions:\n",
    "\n",
    "# A simple Python function to demonstrate\n",
    "# Polymorphism\n",
    "\n",
    "def add(x, y, z = 0):\n",
    "\treturn x + y+z\n",
    "\n",
    "# Driver code\n",
    "print(add(2, 3))\n",
    "print(add(2, 3, 4))"
   ]
  },
  {
   "cell_type": "code",
   "execution_count": null,
   "id": "8919a131",
   "metadata": {},
   "outputs": [
    {
     "data": {
      "text/plain": [
       "'\\nThe below code shows how Python can use two different class types, \\nin the same way. We create a for loop that iterates through a tuple of objects. \\nThen call the methods without being concerned about which class type each object is. \\nWe assume that these methods actually exist in each class. \\n'"
      ]
     },
     "execution_count": 6,
     "metadata": {},
     "output_type": "execute_result"
    }
   ],
   "source": [
    "'''\n",
    "The below code shows how Python can use two different class types, \n",
    "in the same way. We create a b. \n",
    "Then call the methods without being concerned about which class type each object is. \n",
    "We assume that these methods actually exist in each class. \n",
    "'''"
   ]
  },
  {
   "cell_type": "code",
   "execution_count": 7,
   "id": "44cebe4e",
   "metadata": {},
   "outputs": [],
   "source": [
    "class India():\n",
    "\tdef capital(self):\n",
    "\t\tprint(\"New Delhi is the capital of India.\")\n",
    "\n",
    "\tdef language(self):\n",
    "\t\tprint(\"Hindi is the most widely spoken language of India.\")\n",
    "\n",
    "\tdef type(self):\n",
    "\t\tprint(\"India is a developing country.\")\n",
    "\n",
    "class USA():\n",
    "\tdef capital(self):\n",
    "\t\tprint(\"Washington, D.C. is the capital of USA.\")\n",
    "\n",
    "\tdef language(self):\n",
    "\t\tprint(\"English is the primary language of USA.\")\n",
    "\n",
    "\tdef type(self):\n",
    "\t\tprint(\"USA is a developed country.\")"
   ]
  },
  {
   "cell_type": "code",
   "execution_count": 8,
   "id": "0fb40fd1",
   "metadata": {},
   "outputs": [
    {
     "name": "stdout",
     "output_type": "stream",
     "text": [
      "New Delhi is the capital of India.\n",
      "Hindi is the most widely spoken language of India.\n",
      "India is a developing country.\n",
      "Washington, D.C. is the capital of USA.\n",
      "English is the primary language of USA.\n",
      "USA is a developed country.\n"
     ]
    }
   ],
   "source": [
    "obj_ind = India()\n",
    "obj_usa = USA()\n",
    "for country in (obj_ind, obj_usa):\n",
    "\tcountry.capital()\n",
    "\tcountry.language()\n",
    "\tcountry.type()\n"
   ]
  },
  {
   "cell_type": "code",
   "execution_count": 9,
   "id": "7da7b9ed",
   "metadata": {},
   "outputs": [
    {
     "data": {
      "text/plain": [
       "'\\nIn Python, Polymorphism lets us define methods in the child class that have the same name as the \\nmethods in the parent class. In inheritance, the child class inherits the methods from the parent class. \\nHowever, it is possible to modify a method in a child class that it has inherited from the parent class. \\nThis is particularly useful in cases where the method inherited from the parent class doesn’t quite fit the \\nchild class. In such cases, we re-implement the method in the child class. This process of re-implementing \\na method in the child class is known as Method Overriding.\\n\\n'"
      ]
     },
     "execution_count": 9,
     "metadata": {},
     "output_type": "execute_result"
    }
   ],
   "source": [
    "# Polymorphism with Inheritance: \n",
    "'''\n",
    "In Python, Polymorphism lets us define methods in the child class that have the same name as the \n",
    "methods in the parent class. In inheritance, the child class inherits the methods from the parent class. \n",
    "However, it is possible to modify a method in a child class that it has inherited from the parent class. \n",
    "This is particularly useful in cases where the method inherited from the parent class doesn’t quite fit the \n",
    "child class. In such cases, we re-implement the method in the child class. This process of re-implementing \n",
    "a method in the child class is known as Method Overriding.\n",
    "\n",
    "'''"
   ]
  },
  {
   "cell_type": "code",
   "execution_count": null,
   "id": "166d583a",
   "metadata": {},
   "outputs": [],
   "source": [
    "class Bird:\n",
    "    def intro(self):\n",
    "\t    print(\"There are many types of birds.\")\n",
    "    \n",
    "    def flight(self):\n",
    "        print(\"Most of the birds can fly but some cannot.\")\n",
    "\n",
    "class sparrow(Bird):\n",
    "    def flight(self):\n",
    "        print(\"Sparrows can fly.\")\n",
    "\n",
    "class ostrich(Bird):\n",
    "    def flight(self):\n",
    "        print(\"Ostriches cannot fly.\")"
   ]
  },
  {
   "cell_type": "code",
   "execution_count": 14,
   "id": "90a3b65b",
   "metadata": {},
   "outputs": [],
   "source": [
    "obj_bird = Bird()\n",
    "obj_spr = sparrow()\n",
    "obj_ost = ostrich()\n"
   ]
  },
  {
   "cell_type": "code",
   "execution_count": 15,
   "id": "09c28826",
   "metadata": {},
   "outputs": [
    {
     "name": "stdout",
     "output_type": "stream",
     "text": [
      "There are many types of birds.\n",
      "Most of the birds can fly but some cannot.\n",
      "There are many types of birds.\n",
      "Sparrows can fly.\n",
      "There are many types of birds.\n",
      "Ostriches cannot fly.\n"
     ]
    }
   ],
   "source": [
    "obj_bird.intro()\n",
    "obj_bird.flight()\n",
    "\n",
    "obj_spr.intro()\n",
    "obj_spr.flight()\n",
    "\n",
    "obj_ost.intro()\n",
    "obj_ost.flight()\n"
   ]
  },
  {
   "cell_type": "code",
   "execution_count": 16,
   "id": "18e46ba2",
   "metadata": {},
   "outputs": [
    {
     "data": {
      "text/plain": [
       "'\\nIt is also possible to create a function that can take any object, allowing for polymorphism. \\nIn this example, let’s create a function called “func()” which will take an object which we will name “obj”. \\nThough we are using the name ‘obj’, any instantiated object will be able to be called into this function. \\nNext, let’s give the function something to do that uses the ‘obj’ object we passed to it. In this case, \\nlet’s call the three methods, viz., capital(), language() and type(), each of which is defined in the two \\nclasses ‘India’ and ‘USA’. Next, let’s create instantiations of both the ‘India’ and ‘USA’ classes if \\nwe don’t have them already. With those, we can call their action using the same func() function:\\n'"
      ]
     },
     "execution_count": 16,
     "metadata": {},
     "output_type": "execute_result"
    }
   ],
   "source": [
    "# Polymorphism with a Function and objects: \n",
    "'''\n",
    "It is also possible to create a function that can take any object, allowing for polymorphism. \n",
    "In this example, let’s create a function called “func()” which will take an object which we will name “obj”. \n",
    "Though we are using the name ‘obj’, any instantiated object will be able to be called into this function. \n",
    "Next, let’s give the function something to do that uses the ‘obj’ object we passed to it. In this case, \n",
    "let’s call the three methods, viz., capital(), language() and type(), each of which is defined in the two \n",
    "classes ‘India’ and ‘USA’. Next, let’s create instantiations of both the ‘India’ and ‘USA’ classes if \n",
    "we don’t have them already. With those, we can call their action using the same func() function:\n",
    "'''"
   ]
  },
  {
   "cell_type": "code",
   "execution_count": 17,
   "id": "8dd728ef",
   "metadata": {},
   "outputs": [
    {
     "name": "stdout",
     "output_type": "stream",
     "text": [
      "New Delhi is the capital of India.\n",
      "Hindi is the most widely spoken language of India.\n",
      "India is a developing country.\n",
      "Washington, D.C. is the capital of USA.\n",
      "English is the primary language of USA.\n",
      "USA is a developed country.\n"
     ]
    }
   ],
   "source": [
    "def func(obj):\n",
    "    obj.capital()\n",
    "    obj.language()\n",
    "    obj.type()\n",
    "  \n",
    "obj_ind = India()\n",
    "obj_usa = USA()\n",
    "  \n",
    "func(obj_ind)\n",
    "func(obj_usa)"
   ]
  },
  {
   "cell_type": "code",
   "execution_count": 18,
   "id": "7039ec71",
   "metadata": {},
   "outputs": [
    {
     "name": "stdout",
     "output_type": "stream",
     "text": [
      "New Delhi is the capital of India.\n",
      "Hindi is the most widely spoken language of India.\n",
      "India is a developing country.\n",
      "Washington, D.C. is the capital of USA.\n",
      "English is the primary language of USA.\n",
      "USA is a developed country.\n"
     ]
    }
   ],
   "source": [
    "class India():\n",
    "    def capital(self):\n",
    "        print(\"New Delhi is the capital of India.\")\n",
    "  \n",
    "    def language(self):\n",
    "        print(\"Hindi is the most widely spoken language of India.\")\n",
    "  \n",
    "    def type(self):\n",
    "        print(\"India is a developing country.\")\n",
    "  \n",
    "class USA():\n",
    "    def capital(self):\n",
    "        print(\"Washington, D.C. is the capital of USA.\")\n",
    "  \n",
    "    def language(self):\n",
    "        print(\"English is the primary language of USA.\")\n",
    "  \n",
    "    def type(self):\n",
    "        print(\"USA is a developed country.\")\n",
    " \n",
    "def func(obj):\n",
    "    obj.capital()\n",
    "    obj.language()\n",
    "    obj.type()\n",
    "  \n",
    "obj_ind = India()\n",
    "obj_usa = USA()\n",
    "  \n",
    "func(obj_ind)\n",
    "func(obj_usa)\n"
   ]
  },
  {
   "cell_type": "code",
   "execution_count": 19,
   "id": "2fd039dd",
   "metadata": {},
   "outputs": [
    {
     "name": "stdout",
     "output_type": "stream",
     "text": [
      "Woof!\n",
      "Meow!\n"
     ]
    }
   ],
   "source": [
    "\n",
    "# Simple example of polymorphism: \n",
    "# polymorphism in Python using inheritance and method overriding:\n",
    "\n",
    "class Animal:\n",
    "\tdef speak(self):\n",
    "\t\traise NotImplementedError(\"Subclass must implement this method\")\n",
    "\n",
    "class Dog(Animal):\n",
    "\tdef speak(self):\n",
    "\t\treturn \"Woof!\"\n",
    "\n",
    "class Cat(Animal):\n",
    "\tdef speak(self):\n",
    "\t\treturn \"Meow!\"\n",
    "\n",
    "# Create a list of Animal objects\n",
    "animals = [Dog(), Cat()]\n",
    "\n",
    "# an = Animal()\n",
    "# print(an.speak())\n",
    "\n",
    "# Call the speak method on each object\n",
    "for animal in animals:\n",
    "\tprint(animal.speak())"
   ]
  },
  {
   "cell_type": "code",
   "execution_count": 20,
   "id": "8ae9d72b",
   "metadata": {},
   "outputs": [
    {
     "data": {
      "text/plain": [
       "'\\nFeatures of Static Variables\\nStatic variables are allocated memory once when the object for the class is created for the first time.\\nStatic variables are created outside of methods but inside a class\\nStatic variables can be accessed through a class but not directly with an instance.\\nStatic variables behavior doesn’t change for every object.\\nThe Python approach is simple; it doesn’t require a static keyword. \\n\\nNote: All variables which are assigned a value in the class declaration are class variables. \\nAnd variables that are assigned values inside methods are instance variables.\\n\\n\\n'"
      ]
     },
     "execution_count": 20,
     "metadata": {},
     "output_type": "execute_result"
    }
   ],
   "source": [
    "\n",
    "# Class or Static Variables in Python\n",
    "\n",
    "'''\n",
    "All objects share class or static variables. An instance or non-static variables are different \n",
    "for different objects (every object has a copy). For example, let a Computer Science Student be \n",
    "represented by a class CSStudent. The class may have a static variable whose value is “cse” for \n",
    "all objects. And class may also have non-static members like name and roll.\n",
    "\n",
    " In C++ and Java, we can use static keywords to make a variable a class variable. The variables \n",
    " which don’t have a preceding static keyword are instance variables. See this for the Java example \n",
    " and this for the C++ example.\n",
    "\n",
    "Explanation:\n",
    "In Python, a static variable is a variable that is shared among all instances of a class, \n",
    "rather than being unique to each instance. It is also sometimes referred to as a class variable, \n",
    "because it belongs to the class itself rather than any particular instance of the class.\n",
    "\n",
    "Static variables are defined inside the class definition, but outside of any method definitions. \n",
    "They are typically initialized with a value, just like an instance variable, but they can be \n",
    "accessed and modified through the class itself, rather than through an instance.\n",
    "\n",
    "'''\n",
    "\n",
    "\n",
    "'''\n",
    "Features of Static Variables\n",
    "Static variables are allocated memory once when the object for the class is created for the first time.\n",
    "Static variables are created outside of methods but inside a class\n",
    "Static variables can be accessed through a class but not directly with an instance.\n",
    "Static variables behavior doesn’t change for every object.\n",
    "The Python approach is simple; it doesn’t require a static keyword. \n",
    "\n",
    "Note: All variables which are assigned a value in the class declaration are class variables. \n",
    "And variables that are assigned values inside methods are instance variables.\n",
    "\n",
    "\n",
    "'''"
   ]
  },
  {
   "cell_type": "code",
   "execution_count": 21,
   "id": "70a1f1f3",
   "metadata": {},
   "outputs": [
    {
     "name": "stdout",
     "output_type": "stream",
     "text": [
      "cse\n",
      "cse\n",
      "Geek\n",
      "Nerd\n",
      "1\n",
      "2\n"
     ]
    }
   ],
   "source": [
    "# Example:\n",
    "\n",
    "# Python program to show that the variables with a value\n",
    "# assigned in class declaration, are class variables\n",
    "\n",
    "# Class for Computer Science Student\n",
    "class CSStudent:\n",
    "\tstream = 'cse'\t\t\t\t # Class Variable\n",
    "\tdef __init__(self,name,roll):\n",
    "\t\tself.name = name\t\t # Instance Variable\n",
    "\t\tself.roll = roll\t\t # Instance Variable\n",
    "\n",
    "# Objects of CSStudent class\n",
    "a = CSStudent('Geek', 1)\n",
    "b = CSStudent('Nerd', 2)\n",
    "\n",
    "print(a.stream) # prints \"cse\"\n",
    "print(b.stream) # prints \"cse\"\n",
    "print(a.name) # prints \"Geek\"\n",
    "print(b.name) # prints \"Nerd\"\n",
    "print(a.roll) # prints \"1\"\n",
    "print(b.roll) # prints \"2\""
   ]
  },
  {
   "cell_type": "code",
   "execution_count": 22,
   "id": "ee67de2e",
   "metadata": {},
   "outputs": [
    {
     "name": "stdout",
     "output_type": "stream",
     "text": [
      "cse\n",
      "ece\n",
      "cse\n",
      "ece\n",
      "mech\n"
     ]
    }
   ],
   "source": [
    "# Class variables can be accessed using class\n",
    "# name also\n",
    "print(CSStudent.stream) # prints \"cse\"\n",
    "\n",
    "# Now if we change the stream for just a it won't be changed for b\n",
    "a.stream = 'ece'\n",
    "print(a.stream) # prints 'ece'\n",
    "print(b.stream) # prints 'cse'\n",
    "\n",
    "# To change the stream for all instances of the class we can change it\n",
    "# directly from the class\n",
    "CSStudent.stream = 'mech'\n",
    "\n",
    "print(a.stream) # prints 'ece'\n",
    "print(b.stream) # prints 'mech'"
   ]
  },
  {
   "cell_type": "code",
   "execution_count": 23,
   "id": "99de8b30",
   "metadata": {},
   "outputs": [
    {
     "name": "stdout",
     "output_type": "stream",
     "text": [
      "1\n",
      "2\n",
      "2\n"
     ]
    }
   ],
   "source": [
    "class MyClass:\n",
    "    static_var = 0\n",
    " \n",
    "    def __init__(self):\n",
    "        MyClass.static_var += 1\n",
    "        self.instance_var = MyClass.static_var\n",
    " \n",
    "obj1 = MyClass()\n",
    "print(obj1.instance_var)  # Output: 1\n",
    " \n",
    "obj2 = MyClass()\n",
    "print(obj2.instance_var)  # Output: 2\n",
    " \n",
    "print(MyClass.static_var)  # Output: 2"
   ]
  },
  {
   "cell_type": "code",
   "execution_count": 24,
   "id": "c1142d95",
   "metadata": {},
   "outputs": [
    {
     "data": {
      "text/plain": [
       "'\\nClass method vs Static Method\\nThe difference between the Class method and the static method is:\\n\\nA class method takes cls as the first parameter while a static method needs no specific parameters.\\nA class method can access or modify the class state while a static method can’t access or modify it.\\nIn general, static methods know nothing about the class state. They are utility-type methods that \\ntake some parameters and work upon those parameters. On the other hand class methods must have \\nclass as a parameter.\\nWe use @classmethod decorator in python to create a class method and we use @staticmethod \\ndecorator to create a static method in python.\\nWhen to use the class or static method?\\nWe generally use the class method to create factory methods. Factory methods return class \\nobjects ( similar to a constructor ) for different use cases.\\nWe generally use static methods to create utility functions.\\nHow to define a class method and a static method?\\nTo define a class method in python, we use @classmethod decorator, and to define a static \\nmethod we use @staticmethod decorator. \\nLet us look at an example to understand the difference between both of them. Let us say \\nwe want to create a class Person. Now, python doesn’t support method overloading like C++ or \\nJava so we use class methods to create factory methods. In the below example we use a class \\nmethod to create a person object from birth year.\\n\\nAs explained above we use static methods to create utility functions. In the below example we \\nuse a static method to check if a person is an adult or not. \\n\\nOne simple Example :\\n\\nclass method:\\n'"
      ]
     },
     "execution_count": 24,
     "metadata": {},
     "output_type": "execute_result"
    }
   ],
   "source": [
    "\n",
    "'''\n",
    "Explanation:\n",
    "in this example, we define a class MyClass that has a static variable static_var initialized to 0. \n",
    "We also define an instance variable instance_var that is unique to each instance of the class.\n",
    "\n",
    "When we create an instance of the class (obj1), we increment the value of the static variable by 1 \n",
    "and assign it to the instance variable. When we create another instance of the class (obj2), we i\n",
    "ncrement the static variable again and assign the new value to the instance variable for that instance.\n",
    "\n",
    "Finally, we print out the value of the static variable using the class itself, rather than an instance \n",
    "of the class. As you can see, the value of the static variable is shared among all instances of the class, \n",
    "and it is incremented each time a new instance is created.\n",
    "\n",
    "Static variables can be useful for maintaining state across all instances of a class, or for sharing \n",
    "data among all instances of a class. However, it’s important to use them carefully and to ensure that \n",
    "their values are synchronized with the state of the program, especially in a multithreaded environment.\n",
    "\n",
    "Advantages:\n",
    "Memory efficiency: Since static variables are shared among all instances of a class, they can save memory \n",
    "by avoiding the need to create multiple copies of the same data.\n",
    "Shared state: Static variables can provide a way to maintain shared state across all instances of a class, \n",
    "allowing all instances to access and modify the same data.\n",
    "Easy to access: Static variables can be accessed using the class name itself, without needing an instance \n",
    "of the class. This can make it more convenient to access and modify the data stored in a static variable.\n",
    "Initialization: Static variables can be initialized when the class is defined, making it easy to ensure that \n",
    "the variable has a valid starting value.\n",
    "Readability: Static variables can improve the readability of the code, as they clearly indicate that the \n",
    "data stored in the variable is shared among all instances of the class.\n",
    "Disadvantages:\n",
    "Inflexibility: Static variables can be inflexible, as their values are shared across all instances of the \n",
    "class, making it difficult to have different values for different instances.\n",
    "Hidden dependencies: Static variables can create hidden dependencies between different parts of the code, \n",
    "making it difficult to understand and modify the code.\n",
    "Thread safety: Static variables can be problematic in a multithreaded environment, as they can introduce \n",
    "race conditions and synchronization issues if not properly synchronized.\n",
    "Namespace pollution: Static variables can add to the namespace of the class, potentially causing name \n",
    "conflicts and making it harder to maintain the code.\n",
    "Testing: Static variables can make it more difficult to write effective unit tests, as the state of the \n",
    "static variable may affect the behavior of the class and its methods.\n",
    "Overall, static variables can be a useful tool in Python programming, but they should be used with care \n",
    "and attention to potential downsides, such as inflexibility, hidden dependencies, and thread safety concerns.\n",
    "'''\n",
    "\n",
    "# Class method vs Static method in Python\n",
    "\n",
    "'''\n",
    "\n",
    "In this article, we will cover the basic difference between the class method vs Static \n",
    "method in Python and when to use the class method and static method in python.\n",
    "\n",
    "What is Class Method in Python? \n",
    "The @classmethod decorator is a built-in function decorator that is an expression \n",
    "that gets evaluated after your function is defined. The result of that evaluation \n",
    "shadows your function definition. A class method receives the class as an implicit \n",
    "first argument, just like an instance method receives the instance \n",
    "\n",
    "Syntax Python Class Method: \n",
    "\n",
    "class C(object):\n",
    "    @classmethod\n",
    "    def fun(cls, arg1, arg2, ...):\n",
    "       ....\n",
    "fun: function that needs to be converted into a class method\n",
    "returns: a class method for function.\n",
    "A class method is a method that is bound to the class and not the object of the class.\n",
    "They have the access to the state of the class as it takes a class parameter that points \n",
    "to the class and not the object instance.\n",
    "It can modify a class state that would apply across all the instances of the class. \n",
    "For example, it can modify a class variable that will be applicable to all the instances.\n",
    "\n",
    "'''\n",
    "\n",
    "# What is the Static Method in Python?\n",
    "\n",
    "'''\n",
    "A static method does not receive an implicit first argument. A static method \n",
    "is also a method that is bound to the class and not the object of the class. \n",
    "This method can’t access or modify the class state. It is present in a class \n",
    "because it makes sense for the method to be present in class.\n",
    "\n",
    "Syntax Python Static Method: \n",
    "\n",
    "class C(object):\n",
    "    @staticmethod\n",
    "    def fun(arg1, arg2, ...):\n",
    "        ...\n",
    "returns: a static method for function fun.\n",
    "\n",
    "'''\n",
    "\n",
    "'''\n",
    "Class method vs Static Method\n",
    "The difference between the Class method and the static method is:\n",
    "\n",
    "A class method takes cls as the first parameter while a static method needs no specific parameters.\n",
    "A class method can access or modify the class state while a static method can’t access or modify it.\n",
    "In general, static methods know nothing about the class state. They are utility-type methods that \n",
    "take some parameters and work upon those parameters. On the other hand class methods must have \n",
    "class as a parameter.\n",
    "We use @classmethod decorator in python to create a class method and we use @staticmethod \n",
    "decorator to create a static method in python.\n",
    "When to use the class or static method?\n",
    "We generally use the class method to create factory methods. Factory methods return class \n",
    "objects ( similar to a constructor ) for different use cases.\n",
    "We generally use static methods to create utility functions.\n",
    "How to define a class method and a static method?\n",
    "To define a class method in python, we use @classmethod decorator, and to define a static \n",
    "method we use @staticmethod decorator. \n",
    "Let us look at an example to understand the difference between both of them. Let us say \n",
    "we want to create a class Person. Now, python doesn’t support method overloading like C++ or \n",
    "Java so we use class methods to create factory methods. In the below example we use a class \n",
    "method to create a person object from birth year.\n",
    "\n",
    "As explained above we use static methods to create utility functions. In the below example we \n",
    "use a static method to check if a person is an adult or not. \n",
    "\n",
    "One simple Example :\n",
    "\n",
    "class method:\n",
    "'''"
   ]
  },
  {
   "cell_type": "code",
   "execution_count": 25,
   "id": "c1a88327",
   "metadata": {},
   "outputs": [
    {
     "name": "stdout",
     "output_type": "stream",
     "text": [
      "10\n",
      "30\n",
      "30\n"
     ]
    }
   ],
   "source": [
    "\n",
    "class MyClass:\n",
    "\tdef __init__(self, value):\n",
    "\t\tself.value = value\n",
    "\n",
    "\tdef get_value(self):\n",
    "\t\treturn self.value\n",
    "\n",
    "# Create an instance of MyClass\n",
    "obj = MyClass(10)\n",
    "\n",
    "# Call the get_value method on the instance\n",
    "print(obj.get_value()) # Output: 10\n",
    "\n",
    "# Output\n",
    "# 10\n",
    "\n",
    "\n",
    "# Static method:-\n",
    "\n",
    "class MyClass:\n",
    "\tdef __init__(self, value):\n",
    "\t\tself.value = value\n",
    "\n",
    "\t@staticmethod\n",
    "\tdef get_max_value(x, y):\n",
    "\t\treturn max(x, y)\n",
    "\n",
    "# Create an instance of MyClass\n",
    "obj = MyClass(10)\n",
    "\n",
    "print(MyClass.get_max_value(20, 30))\n",
    "\n",
    "print(obj.get_max_value(20, 30))"
   ]
  },
  {
   "cell_type": "code",
   "execution_count": 26,
   "id": "ec94ff81",
   "metadata": {},
   "outputs": [
    {
     "name": "stdout",
     "output_type": "stream",
     "text": [
      "21\n",
      "29\n",
      "True\n"
     ]
    }
   ],
   "source": [
    "\n",
    "# Below is the complete Implementation\n",
    "\n",
    "# Python program to demonstrate\n",
    "# use of class method and static method.\n",
    "from datetime import date\n",
    "\n",
    "\n",
    "class Person:\n",
    "\tdef __init__(self, name, age):\n",
    "\t\tself.name = name\n",
    "\t\tself.age = age\n",
    "\n",
    "\t# a class method to create a Person object by birth year.\n",
    "\t@classmethod\n",
    "\tdef fromBirthYear(cls, name, year):\n",
    "\t\treturn cls(name, date.today().year - year)\n",
    "\n",
    "\t# a static method to check if a Person is adult or not.\n",
    "\t@staticmethod\n",
    "\tdef isAdult(age):\n",
    "\t\treturn age > 18\n",
    "\n",
    "\n",
    "person1 = Person('mayank', 21)\n",
    "person2 = Person.fromBirthYear('mayank', 1996)\n",
    "\n",
    "print(person1.age)\n",
    "print(person2.age)\n",
    "\n",
    "# print the result\n",
    "print(Person.isAdult(22))\n"
   ]
  },
  {
   "cell_type": "code",
   "execution_count": null,
   "id": "4ea44008",
   "metadata": {},
   "outputs": [],
   "source": []
  }
 ],
 "metadata": {
  "kernelspec": {
   "display_name": "venv",
   "language": "python",
   "name": "python3"
  },
  "language_info": {
   "codemirror_mode": {
    "name": "ipython",
    "version": 3
   },
   "file_extension": ".py",
   "mimetype": "text/x-python",
   "name": "python",
   "nbconvert_exporter": "python",
   "pygments_lexer": "ipython3",
   "version": "3.10.11"
  }
 },
 "nbformat": 4,
 "nbformat_minor": 5
}
