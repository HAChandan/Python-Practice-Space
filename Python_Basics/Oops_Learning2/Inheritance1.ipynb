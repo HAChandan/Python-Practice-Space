{
 "cells": [
  {
   "cell_type": "code",
   "execution_count": 1,
   "id": "60397976",
   "metadata": {},
   "outputs": [
    {
     "data": {
      "text/plain": [
       "'\\nDefinition: Inheritance is a mechanism that allows a new class (subclass or derived class) \\nto inherit properties and behaviors of an existing class (base class or parent class). \\nIt promotes code reusability and establishes a relationship between classes.\\nExample in Python:\\n\\n'"
      ]
     },
     "execution_count": 1,
     "metadata": {},
     "output_type": "execute_result"
    }
   ],
   "source": [
    "\n",
    "\"\"\"\n",
    "Definition: Inheritance is a mechanism that allows a new class (subclass or derived class) \n",
    "to inherit properties and behaviors of an existing class (base class or parent class). \n",
    "It promotes code reusability and establishes a relationship between classes.\n",
    "Example in Python:\n",
    "\n",
    "\"\"\""
   ]
  },
  {
   "cell_type": "code",
   "execution_count": 2,
   "id": "0c9dd22b",
   "metadata": {},
   "outputs": [],
   "source": [
    "class Animal:\n",
    "    def speak(self):\n",
    "        pass\n",
    "\n",
    "    def motility(self):\n",
    "        print(\"Yes animals are able to move.\")\n",
    "\n",
    "\n",
    "class Dog(Animal):\n",
    "    def speak(self):\n",
    "        return \"Bow!\"\n",
    "\n",
    "\n",
    "class Wolf(Animal):\n",
    "    def speak(self):\n",
    "        return \"Woof!\""
   ]
  },
  {
   "cell_type": "code",
   "execution_count": 3,
   "id": "268248e9",
   "metadata": {},
   "outputs": [
    {
     "name": "stdout",
     "output_type": "stream",
     "text": [
      "Bow!\n",
      "Yes animals are able to move.\n"
     ]
    }
   ],
   "source": [
    "# Creating an instance of the Dog class\n",
    "dog_instance = Dog()\n",
    "\n",
    "# Calling the speak method from the Dog class\n",
    "print(dog_instance.speak())   # Output: Bow!\n",
    "\n",
    "# Calling the motility method from the Animal class\n",
    "dog_instance.motility()  # Yes animals are able to move."
   ]
  },
  {
   "cell_type": "code",
   "execution_count": 4,
   "id": "a19ab970",
   "metadata": {},
   "outputs": [
    {
     "name": "stdout",
     "output_type": "stream",
     "text": [
      "Woof!\n",
      "Yes animals are able to move.\n"
     ]
    }
   ],
   "source": [
    "# Creating an instance of the Wolf class\n",
    "wolf_instance = Wolf()\n",
    "\n",
    "# Calling the speak method from the Wolf class\n",
    "print(wolf_instance.speak())   # Output: Woof!\n",
    "\n",
    "# Calling the motility method from the Animal class\n",
    "wolf_instance.motility()  # Yes animals are able to move."
   ]
  },
  {
   "cell_type": "code",
   "execution_count": null,
   "id": "e24591d5",
   "metadata": {},
   "outputs": [],
   "source": []
  }
 ],
 "metadata": {
  "kernelspec": {
   "display_name": "venv",
   "language": "python",
   "name": "python3"
  },
  "language_info": {
   "codemirror_mode": {
    "name": "ipython",
    "version": 3
   },
   "file_extension": ".py",
   "mimetype": "text/x-python",
   "name": "python",
   "nbconvert_exporter": "python",
   "pygments_lexer": "ipython3",
   "version": "3.10.11"
  }
 },
 "nbformat": 4,
 "nbformat_minor": 5
}
