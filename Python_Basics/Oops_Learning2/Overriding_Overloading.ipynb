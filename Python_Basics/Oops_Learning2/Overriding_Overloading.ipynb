{
 "cells": [
  {
   "cell_type": "code",
   "execution_count": 1,
   "id": "7abf88a5",
   "metadata": {},
   "outputs": [
    {
     "data": {
      "text/plain": [
       "\"\\nIn Python, method overriding and method overloading have different meanings \\ncompared to some other programming languages like Java or C++. Python does not \\nsupport traditional method overloading based on the number or types of parameters. \\nInstead, Python focuses on method overriding, which allows a subclass to provide a \\nspecific implementation of a method that is already defined in its superclass.\\n\\nMethod Overriding:\\n\\nMethod overriding occurs when a subclass provides a specific implementation for a \\nmethod that is already defined in its superclass. The overridden method in the subclass \\nshould have the same name, parameters, and return type as the method in the superclass.\\n\\nHere's an example of method overriding in Python:\\n\\nIn this example, the speak method in the Dog class overrides the speak method in the Animal \\nclass, providing a specific implementation for dogs.\\n\""
      ]
     },
     "execution_count": 1,
     "metadata": {},
     "output_type": "execute_result"
    }
   ],
   "source": [
    "\n",
    "\"\"\"\n",
    "In Python, method overriding and method overloading have different meanings \n",
    "compared to some other programming languages like Java or C++. Python does not \n",
    "support traditional method overloading based on the number or types of parameters. \n",
    "Instead, Python focuses on method overriding, which allows a subclass to provide a \n",
    "specific implementation of a method that is already defined in its superclass.\n",
    "\n",
    "Method Overriding:\n",
    "\n",
    "Method overriding occurs when a subclass provides a specific implementation for a \n",
    "method that is already defined in its superclass. The overridden method in the subclass \n",
    "should have the same name, parameters, and return type as the method in the superclass.\n",
    "\n",
    "Here's an example of method overriding in Python:\n",
    "\n",
    "In this example, the speak method in the Dog class overrides the speak method in the Animal \n",
    "class, providing a specific implementation for dogs.\n",
    "\"\"\""
   ]
  },
  {
   "cell_type": "code",
   "execution_count": 2,
   "id": "57fef866",
   "metadata": {},
   "outputs": [
    {
     "name": "stdout",
     "output_type": "stream",
     "text": [
      "Animal speaks\n",
      "Dog barks\n"
     ]
    }
   ],
   "source": [
    "class Animal:\n",
    "    def speak(self):\n",
    "        print(\"Animal speaks\")\n",
    "\n",
    "class Dog(Animal):\n",
    "    def speak(self):\n",
    "        print(\"Dog barks\")\n",
    "\n",
    "animal = Animal()\n",
    "dog = Dog()\n",
    "\n",
    "animal.speak()  # Output: \"Animal speaks\"\n",
    "dog.speak()     # Output: \"Dog barks\""
   ]
  },
  {
   "cell_type": "code",
   "execution_count": 3,
   "id": "04f8312c",
   "metadata": {},
   "outputs": [
    {
     "data": {
      "text/plain": [
       "\"\\nMethod Overloading:\\n\\nAs mentioned earlier, Python does not support traditional method overloading based on the \\nnumber or types of parameters like some other languages do. However, you can achieve a similar \\neffect by using default parameter values and variable-length argument lists.\\n\\nHere's a simplified example:\\n\""
      ]
     },
     "execution_count": 3,
     "metadata": {},
     "output_type": "execute_result"
    }
   ],
   "source": [
    "\"\"\"\n",
    "Method Overloading:\n",
    "\n",
    "As mentioned earlier, Python does not support traditional method overloading based on the \n",
    "number or types of parameters like some other languages do. However, you can achieve a similar \n",
    "effect by using default parameter values and variable-length argument lists.\n",
    "\n",
    "Here's a simplified example:\n",
    "\"\"\""
   ]
  },
  {
   "cell_type": "code",
   "execution_count": 4,
   "id": "5cfb66e1",
   "metadata": {},
   "outputs": [
    {
     "name": "stdout",
     "output_type": "stream",
     "text": [
      "5\n",
      "10\n"
     ]
    }
   ],
   "source": [
    "class Calculator:\n",
    "    def add(self, a, b=0):\n",
    "        return a + b\n",
    "\n",
    "calc = Calculator()\n",
    "\n",
    "result1 = calc.add(5)\n",
    "result2 = calc.add(3, 7)\n",
    "\n",
    "print(result1)  # Output: 5\n",
    "print(result2)  # Output: 10"
   ]
  },
  {
   "cell_type": "code",
   "execution_count": 5,
   "id": "74b62ae5",
   "metadata": {},
   "outputs": [
    {
     "data": {
      "text/plain": [
       "'\\nIn this example, the add method can take one or two arguments. If you provide only one argument, \\nit assumes the second argument is 0. This mimics method overloading based on the number of arguments.\\n\\nPlease note that this is not true method overloading like in languages like Java, where you can have \\nmultiple methods with the same name but different parameter types. In Python, you achieve similar behavior \\nby defining a single method that can handle multiple parameter combinations.\\n\\nSo, in Python, method overriding is a fundamental concept for customizing behavior in subclasses, \\nwhile method overloading is achieved by using default arguments and variable-length argument lists to \\nhandle different parameter combinations within a single method. \\n'"
      ]
     },
     "execution_count": 5,
     "metadata": {},
     "output_type": "execute_result"
    }
   ],
   "source": [
    "\"\"\"\n",
    "In this example, the add method can take one or two arguments. If you provide only one argument, \n",
    "it assumes the second argument is 0. This mimics method overloading based on the number of arguments.\n",
    "\n",
    "Please note that this is not true method overloading like in languages like Java, where you can have \n",
    "multiple methods with the same name but different parameter types. In Python, you achieve similar behavior \n",
    "by defining a single method that can handle multiple parameter combinations.\n",
    "\n",
    "So, in Python, method overriding is a fundamental concept for customizing behavior in subclasses, \n",
    "while method overloading is achieved by using default arguments and variable-length argument lists to \n",
    "handle different parameter combinations within a single method. \n",
    "\"\"\""
   ]
  },
  {
   "cell_type": "code",
   "execution_count": null,
   "id": "b78df522",
   "metadata": {},
   "outputs": [],
   "source": []
  }
 ],
 "metadata": {
  "kernelspec": {
   "display_name": "venv",
   "language": "python",
   "name": "python3"
  },
  "language_info": {
   "codemirror_mode": {
    "name": "ipython",
    "version": 3
   },
   "file_extension": ".py",
   "mimetype": "text/x-python",
   "name": "python",
   "nbconvert_exporter": "python",
   "pygments_lexer": "ipython3",
   "version": "3.10.11"
  }
 },
 "nbformat": 4,
 "nbformat_minor": 5
}
