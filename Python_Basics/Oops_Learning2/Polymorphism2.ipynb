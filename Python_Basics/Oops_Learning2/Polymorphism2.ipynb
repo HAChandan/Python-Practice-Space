{
 "cells": [
  {
   "cell_type": "code",
   "execution_count": 1,
   "id": "0dbcb406",
   "metadata": {},
   "outputs": [
    {
     "data": {
      "text/plain": [
       "'\\n    2. Runtime Polymorphism (Method Overriding):\\nRuntime polymorphism, also known as dynamic polymorphism, involves the use of inheritance and method overriding. \\nIn this case, a method in the superclass is overridden in the subclass, providing a specific implementation in the subclass.\\n    \\n'"
      ]
     },
     "execution_count": 1,
     "metadata": {},
     "output_type": "execute_result"
    }
   ],
   "source": [
    "\"\"\"\n",
    "    2. Runtime Polymorphism (Method Overriding):\n",
    "Runtime polymorphism, also known as dynamic polymorphism, involves the use of inheritance and method overriding. \n",
    "In this case, a method in the superclass is overridden in the subclass, providing a specific implementation in the subclass.\n",
    "    \n",
    "\"\"\""
   ]
  },
  {
   "cell_type": "code",
   "execution_count": 3,
   "id": "e7f988b0",
   "metadata": {},
   "outputs": [],
   "source": [
    "# Example in Python:\n",
    "\n",
    "class Animal:\n",
    "    def speak(self):\n",
    "        return \"Generic animal sound\"\n",
    "\n",
    "class Dog(Animal):\n",
    "    def speak(self):\n",
    "        return \"Woof!\"\n",
    "\n",
    "class Cat(Animal):\n",
    "    def speak(self):\n",
    "        return \"Meow!\""
   ]
  },
  {
   "cell_type": "code",
   "execution_count": 4,
   "id": "95219a84",
   "metadata": {},
   "outputs": [],
   "source": [
    "# Creating instances of Animal, Dog, and Cat\n",
    "generic_animal = Animal()\n",
    "dog_instance = Dog()\n",
    "cat_instance = Cat()"
   ]
  },
  {
   "cell_type": "code",
   "execution_count": 5,
   "id": "ac4a7788",
   "metadata": {},
   "outputs": [
    {
     "name": "stdout",
     "output_type": "stream",
     "text": [
      "Generic animal sound\n",
      "Woof!\n",
      "Meow!\n"
     ]
    }
   ],
   "source": [
    "# Polymorphic function call\n",
    "print(generic_animal.speak())   # Output: Generic animal sound\n",
    "print(dog_instance.speak())      # Output: Woof!\n",
    "print(cat_instance.speak())      # Output: Meow!"
   ]
  },
  {
   "cell_type": "code",
   "execution_count": 6,
   "id": "809886c7",
   "metadata": {},
   "outputs": [
    {
     "data": {
      "text/plain": [
       "'\\nIn this example, the speak method in the Animal class is overridden in both the Dog and Cat subclasses. \\nWhen you call speak on an instance of Animal, Dog, or Cat, the appropriate overridden method is executed, \\ndemonstrating runtime polymorphism.\\n\\nPolymorphism is a powerful and flexible feature that allows for more generic and extensible code by \\ntreating objects based on their common interface. It enhances code readability, reusability, and maintainability in complex software systems.\\n'"
      ]
     },
     "execution_count": 6,
     "metadata": {},
     "output_type": "execute_result"
    }
   ],
   "source": [
    "\"\"\"\n",
    "In this example, the speak method in the Animal class is overridden in both the Dog and Cat subclasses. \n",
    "When you call speak on an instance of Animal, Dog, or Cat, the appropriate overridden method is executed, \n",
    "demonstrating runtime polymorphism.\n",
    "\n",
    "Polymorphism is a powerful and flexible feature that allows for more generic and extensible code by \n",
    "treating objects based on their common interface. It enhances code readability, reusability, and maintainability in complex software systems.\n",
    "\"\"\""
   ]
  },
  {
   "cell_type": "code",
   "execution_count": null,
   "id": "12f57cd2",
   "metadata": {},
   "outputs": [],
   "source": []
  }
 ],
 "metadata": {
  "kernelspec": {
   "display_name": "venv",
   "language": "python",
   "name": "python3"
  },
  "language_info": {
   "codemirror_mode": {
    "name": "ipython",
    "version": 3
   },
   "file_extension": ".py",
   "mimetype": "text/x-python",
   "name": "python",
   "nbconvert_exporter": "python",
   "pygments_lexer": "ipython3",
   "version": "3.10.11"
  }
 },
 "nbformat": 4,
 "nbformat_minor": 5
}
