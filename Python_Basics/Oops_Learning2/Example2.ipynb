{
 "cells": [
  {
   "cell_type": "code",
   "execution_count": 1,
   "id": "2e396614",
   "metadata": {},
   "outputs": [
    {
     "data": {
      "text/plain": [
       "'\\nThe __init__ method is similar to constructors in C++ and Java. It is run as soon as an object \\nof a class is instantiated. The method is useful to do any initialization you want to do with your object. \\nNow let us define a class and create some objects using the self and __init__ method.\\n\\n'"
      ]
     },
     "execution_count": 1,
     "metadata": {},
     "output_type": "execute_result"
    }
   ],
   "source": [
    "# Python OOPs Concepts\n",
    "\n",
    "'''\n",
    "In Python, object-oriented Programming (OOPs) is a programming paradigm that uses objects and classes \n",
    "in programming. It aims to implement real-world entities like inheritance, polymorphisms, encapsulation, \n",
    "etc. in the programming. The main concept of OOPs is to bind the data and the functions that work on \n",
    "that together as a single unit so that no other part of the code can access this data.\n",
    "\n",
    "OOPs Concepts in Python\n",
    "Class\n",
    "Objects\n",
    "Polymorphism\n",
    "Encapsulation\n",
    "Inheritance\n",
    "Data Abstraction\n",
    "'''\n",
    "\n",
    "# Python Class\n",
    "\n",
    "'''\n",
    "A class is a collection of objects. A class contains the blueprints or the prototype from which \n",
    "the objects are being created. It is a logical entity that contains some attributes and methods. \n",
    "\n",
    "To understand the need for creating a class let’s consider an example, let’s say you wanted \n",
    "to track the number of dogs that may have different attributes like breed, and age. If a list is used, \n",
    "the first element could be the dog’s breed while the second element could represent its age. Let’s suppose \n",
    "there are 100 different dogs, then how would you know which element is supposed to be which? What if you \n",
    "wanted to add other properties to these dogs? This lacks organization and it’s the exact need for classes. \n",
    "'''\n",
    "\n",
    "# Some points on Python class:\n",
    "\n",
    "'''\n",
    "Classes are created by keyword class.\n",
    "Attributes are the variables that belong to a class.\n",
    "Attributes are always public and can be accessed using the dot (.) operator. Eg.: Myclass.Myattribute\n",
    "\n",
    "Class Definition Syntax:\n",
    "\n",
    "class ClassName:\n",
    "   # Statement-1\n",
    "   .\n",
    "   .\n",
    "   .\n",
    "   # Statement-N\n",
    "\n",
    "'''\n",
    "# Creating an Empty Class in Python\n",
    "'''\n",
    "In the above example, we have created a class named Dog using the class keyword.\n",
    "\n",
    "# Python3 program to\n",
    "# demonstrate defining\n",
    "# a class\n",
    " \n",
    "class Dog:\n",
    "    pass\n",
    "'''\n",
    "\n",
    "# Python Objects\n",
    "\n",
    "'''\n",
    "The object is an entity that has a state and behavior associated with it. It may be any real-world \n",
    "object like a mouse, keyboard, chair, table, pen, etc. Integers, strings, floating-point numbers, \n",
    "even arrays, and dictionaries, are all objects. More specifically, any single integer or any single \n",
    "string is an object. The number 12 is an object, the string “Hello, world” is an object, a list is \n",
    "an object that can hold other objects, and so on. You’ve been using objects all along and may not even realize it.\n",
    "\n",
    "An object consists of:\n",
    "\n",
    "State: It is represented by the attributes of an object. It also reflects the properties of an object.\n",
    "Behavior: It is represented by the methods of an object. It also reflects the response of an object to other objects.\n",
    "Identity: It gives a unique name to an object and enables one object to interact with other objects.\n",
    "To understand the state, behavior, and identity let us take the example of the class dog (explained above). \n",
    "\n",
    "The identity can be considered as the name of the dog.\n",
    "State or Attributes can be considered as the breed, age, or color of the dog.\n",
    "The behavior can be considered as to whether the dog is eating or sleeping.\n",
    "'''\n",
    "\n",
    "# Creating an Object\n",
    "\n",
    "'''\n",
    "\n",
    "This will create an object named obj of the class Dog defined above. Before diving deep into objects \n",
    "and classes let us understand some basic keywords that will we used while working with objects and classes.\n",
    "\n",
    "obj = Dog()\n",
    "\n",
    "'''\n",
    "\n",
    "# The Python self\n",
    "\n",
    "'''\n",
    "Class methods must have an extra first parameter in the method definition. We do not give a value for \n",
    "this parameter when we call the method, Python provides it\n",
    "If we have a method that takes no arguments, then we still have to have one argument.\n",
    "This is similar to this pointer in C++ and this reference in Java.\n",
    "When we call a method of this object as myobject.method(arg1, arg2), this is automatically converted \n",
    "by Python into MyClass.method(myobject, arg1, arg2) – this is all the special self is about.\n",
    "\n",
    "'''\n",
    "\n",
    "# The Python __init__ Method\n",
    "\n",
    "'''\n",
    "The __init__ method is similar to constructors in C++ and Java. It is run as soon as an object \n",
    "of a class is instantiated. The method is useful to do any initialization you want to do with your object. \n",
    "Now let us define a class and create some objects using the self and __init__ method.\n",
    "\n",
    "'''"
   ]
  },
  {
   "cell_type": "code",
   "execution_count": 2,
   "id": "98349404",
   "metadata": {},
   "outputs": [],
   "source": [
    "\n",
    "# Creating a class and object with class and instance attributes\n",
    "\n",
    "class Dog:\n",
    "\n",
    "\t# class attribute\n",
    "\tattr1 = \"mammal\"\n",
    "\n",
    "\t# Instance attribute\n",
    "\tdef __init__(self, name, age):\n",
    "\t\tself.the_name = name\n",
    "\t\tself.the_age = age"
   ]
  },
  {
   "cell_type": "code",
   "execution_count": 3,
   "metadata": {},
   "outputs": [
    {
     "name": "stdout",
     "output_type": "stream",
     "text": [
      "Rodger is a mammal\n",
      "Tommy is also a mammal\n",
      "The dog name is - Rodger and its age is - 2\n",
      "The dog name is - Tommy and its age is - 4\n",
      "The dog name is - Raki and its age is - 4\n"
     ]
    }
   ],
   "source": [
    "\n",
    "# Driver code\n",
    "# Object instantiation\n",
    "Rodger = Dog(\"Rodger\", 2)\n",
    "Tommy = Dog(\"Tommy\", 4)\n",
    "Raki = Dog(\"Raki\", 4)\n",
    "\n",
    "# Accessing class attributes\n",
    "print(\"Rodger is a {}\".format(Rodger.__class__.attr1))\n",
    "print(\"Tommy is also a {}\".format(Tommy.__class__.attr1))\n",
    "\n",
    "# Accessing instance attributes\n",
    "print(f\"The dog name is - {Rodger.the_name} and its age is - {Rodger.the_age}\")\n",
    "print(f\"The dog name is - {Tommy.the_name} and its age is - {Tommy.the_age}\")\n",
    "print(f\"The dog name is - {Raki.the_name} and its age is - {Raki.the_age}\")"
   ]
  },
  {
   "cell_type": "code",
   "execution_count": 4,
   "id": "a9184747",
   "metadata": {},
   "outputs": [
    {
     "data": {
      "text/plain": [
       "'\\nHere, The Dog class is defined with two attributes:\\n\\nattr1 is a class attribute set to the value “mammal”. Class attributes are shared by all instances of the class.\\n__init__ is a special method (constructor) that initializes an instance of the Dog class. It takes two \\nparameters: self (referring to the instance being created) and name (representing the name of the dog). \\nThe name parameter is used to assign a name attribute to each instance of Dog.\\nThe speak method is defined within the Dog class. This method prints a string that \\nincludes the name of the dog instance.\\nThe driver code starts by creating two instances of the Dog class: Rodger and Tommy. \\nThe __init__ method is called for each instance to initialize their name attributes with the provided names. \\nThe speak method is called in both instances (Rodger.speak() and Tommy.speak()), causing each dog to print a \\nstatement with its name.\\n\\n'"
      ]
     },
     "execution_count": 4,
     "metadata": {},
     "output_type": "execute_result"
    }
   ],
   "source": [
    "\n",
    "# Creating Classes and objects with methods\n",
    "\n",
    "'''\n",
    "Here, The Dog class is defined with two attributes:\n",
    "\n",
    "attr1 is a class attribute set to the value “mammal”. Class attributes are shared by all instances of the class.\n",
    "__init__ is a special method (constructor) that initializes an instance of the Dog class. It takes two \n",
    "parameters: self (referring to the instance being created) and name (representing the name of the dog). \n",
    "The name parameter is used to assign a name attribute to each instance of Dog.\n",
    "The speak method is defined within the Dog class. This method prints a string that \n",
    "includes the name of the dog instance.\n",
    "The driver code starts by creating two instances of the Dog class: Rodger and Tommy. \n",
    "The __init__ method is called for each instance to initialize their name attributes with the provided names. \n",
    "The speak method is called in both instances (Rodger.speak() and Tommy.speak()), causing each dog to print a \n",
    "statement with its name.\n",
    "\n",
    "'''"
   ]
  },
  {
   "cell_type": "code",
   "execution_count": 5,
   "id": "8196fe37",
   "metadata": {},
   "outputs": [
    {
     "name": "stdout",
     "output_type": "stream",
     "text": [
      "Rodger is a mammal\n",
      "Tommy is also a mammal\n",
      "My name is Rodger and my age is 6\n",
      "My name is Tommy and my age is 7\n"
     ]
    }
   ],
   "source": [
    "\n",
    "class Dog:\n",
    " \n",
    "    # class attribute\n",
    "    attr1 = \"mammal\"\n",
    " \n",
    "    # Instance attribute\n",
    "    def __init__(self, the_name, the_age):\n",
    "        self.name = the_name\n",
    "        self.age = the_age\n",
    "         \n",
    "    def speak(self):\n",
    "        print(f\"My name is {self.name} and my age is {self.age}\")\n",
    " \n",
    "# Driver code\n",
    "# Object instantiation\n",
    "Rodger = Dog(\"Rodger\", 6)\n",
    "Tommy = Dog(\"Tommy\", 7)\n",
    "\n",
    "# Accessing class attributes\n",
    "print(\"Rodger is a {}\".format(Rodger.__class__.attr1))\n",
    "print(\"Tommy is also a {}\".format(Tommy.__class__.attr1))\n",
    "\n",
    "# Accessing class methods\n",
    "Rodger.speak()\n",
    "Tommy.speak()"
   ]
  },
  {
   "cell_type": "code",
   "execution_count": 6,
   "id": "14f0ab2a",
   "metadata": {},
   "outputs": [
    {
     "data": {
      "text/plain": [
       "'\\nInheritance is the capability of one class to derive or inherit the properties from another class. \\nThe class that derives properties is called the derived class or child class and the class from which \\nthe properties are being derived is called the base class or parent class. The benefits of inheritance are:\\n\\nIt represents real-world relationships well.\\nIt provides the reusability of a code. We don’t have to write the same code again and again. \\nAlso, it allows us to add more features to a class without modifying it.\\nIt is transitive in nature, which means that if class B inherits from another class A, \\nthen all the subclasses of B would automatically inherit from class A.\\n\\nTypes of Inheritance\\n\\nSingle Inheritance: Single-level inheritance enables a derived class to inherit characteristics \\nfrom a single-parent class.\\n\\nMultilevel Inheritance: Multi-level inheritance enables a derived class to inherit properties \\nfrom an immediate parent class which in turn inherits properties from his parent class.\\n\\nHierarchical Inheritance: Hierarchical-level inheritance enables more than one derived class \\nto inherit properties from a parent class.\\n\\nMultiple Inheritance: Multiple-level inheritance enables one derived class to inherit properties \\nfrom more than one base class.\\n\\nInheritance in Python\\nIn the above article, we have created two classes i.e. Person (parent class) and Employee (Child Class). \\nThe Employee class inherits from the Person class. We can use the methods of the person class through \\nthe employee class as seen in the display function in the above code. A child class can also modify \\nthe behavior of the parent class as seen through the details() method.\\n\\n'"
      ]
     },
     "execution_count": 6,
     "metadata": {},
     "output_type": "execute_result"
    }
   ],
   "source": [
    "\n",
    "# Python Inheritance\n",
    "\n",
    "'''\n",
    "Inheritance is the capability of one class to derive or inherit the properties from another class. \n",
    "The class that derives properties is called the derived class or child class and the class from which \n",
    "the properties are being derived is called the base class or parent class. The benefits of inheritance are:\n",
    "\n",
    "It represents real-world relationships well.\n",
    "It provides the reusability of a code. We don’t have to write the same code again and again. \n",
    "Also, it allows us to add more features to a class without modifying it.\n",
    "It is transitive in nature, which means that if class B inherits from another class A, \n",
    "then all the subclasses of B would automatically inherit from class A.\n",
    "\n",
    "Types of Inheritance\n",
    "\n",
    "Single Inheritance: Single-level inheritance enables a derived class to inherit characteristics \n",
    "from a single-parent class.\n",
    "\n",
    "Multilevel Inheritance: Multi-level inheritance enables a derived class to inherit properties \n",
    "from an immediate parent class which in turn inherits properties from his parent class.\n",
    "\n",
    "Hierarchical Inheritance: Hierarchical-level inheritance enables more than one derived class \n",
    "to inherit properties from a parent class.\n",
    "\n",
    "Multiple Inheritance: Multiple-level inheritance enables one derived class to inherit properties \n",
    "from more than one base class.\n",
    "\n",
    "Inheritance in Python\n",
    "In the above article, we have created two classes i.e. Person (parent class) and Employee (Child Class). \n",
    "The Employee class inherits from the Person class. We can use the methods of the person class through \n",
    "the employee class as seen in the display function in the above code. A child class can also modify \n",
    "the behavior of the parent class as seen through the details() method.\n",
    "\n",
    "'''"
   ]
  },
  {
   "cell_type": "code",
   "execution_count": 7,
   "id": "6b69e7bc",
   "metadata": {},
   "outputs": [],
   "source": [
    "# Python code to demonstrate how parent constructors\n",
    "# are called.\n",
    "\n",
    "# parent class\n",
    "class Person(object):\n",
    "\n",
    "\t# __init__ is known as the constructor\n",
    "\tdef __init__(self, the_name, the_idnumber):\n",
    "\t\tself.name = the_name\n",
    "\t\tself.idnumber = the_idnumber\n",
    "\n",
    "\tdef display(self):\n",
    "\t\tprint(self.name)\n",
    "\t\tprint(self.idnumber)\n",
    "\t\t\n",
    "\tdef details(self):\n",
    "\t\tprint(\"My name is {}\".format(self.name))\n",
    "\t\tprint(\"IdNumber: {}\".format(self.idnumber))\n",
    "\t\n",
    "# child class\n",
    "class Employee(Person):\n",
    "\tdef __init__(self, the_name, the_idnumber, the_salary, the_post):\n",
    "\t\tself.salary = the_salary\n",
    "\t\tself.post = the_post\n",
    "\n",
    "\t\t# invoking the __init__ of the parent class\n",
    "\t\tPerson.__init__(self, the_name, the_idnumber)\n",
    "\t\t\n",
    "\tdef details(self):\n",
    "\t\tprint(\"My name is {}\".format(self.name))\n",
    "\t\tprint(\"IdNumber: {}\".format(self.idnumber))\n",
    "\t\tprint(\"Post: {}\".format(self.post))\n",
    "\t\tprint(\"Salary: {}\".format(self.salary))"
   ]
  },
  {
   "cell_type": "code",
   "execution_count": 8,
   "id": "8af28008",
   "metadata": {},
   "outputs": [
    {
     "name": "stdout",
     "output_type": "stream",
     "text": [
      "Rahul\n",
      "886012\n",
      "\n",
      "My name is Rahul\n",
      "IdNumber: 886012\n",
      "Post: Intern\n",
      "Salary: 200000\n"
     ]
    }
   ],
   "source": [
    "\n",
    "# creation of an object variable or an instance\n",
    "char_one = Employee('Rahul', 886012, 200000, \"Intern\")\n",
    "\n",
    "# calling a function of the class Person using\n",
    "# its instance\n",
    "char_one.display()\n",
    "print()\n",
    "char_one.details()"
   ]
  },
  {
   "cell_type": "code",
   "execution_count": 9,
   "id": "7405456c",
   "metadata": {},
   "outputs": [
    {
     "data": {
      "text/plain": [
       "'\\nPolymorphism simply means having many forms. For example, we need to determine \\nif the given species of birds fly or not, using polymorphism we can do this using a single function.\\n\\nPolymorphism in Python\\nThis code demonstrates the concept of inheritance and method overriding in Python classes. \\nIt shows how subclasses can override methods defined in their parent class to provide specific \\nbehavior while still inheriting other methods from the parent class.\\n'"
      ]
     },
     "execution_count": 9,
     "metadata": {},
     "output_type": "execute_result"
    }
   ],
   "source": [
    "# Python Polymorphism\n",
    "\n",
    "'''\n",
    "Polymorphism simply means having many forms. For example, we need to determine \n",
    "if the given species of birds fly or not, using polymorphism we can do this using a single function.\n",
    "\n",
    "Polymorphism in Python\n",
    "This code demonstrates the concept of inheritance and method overriding in Python classes. \n",
    "It shows how subclasses can override methods defined in their parent class to provide specific \n",
    "behavior while still inheriting other methods from the parent class.\n",
    "'''"
   ]
  },
  {
   "cell_type": "code",
   "execution_count": 10,
   "id": "0d11e80a",
   "metadata": {},
   "outputs": [
    {
     "name": "stdout",
     "output_type": "stream",
     "text": [
      "There are many types of birds.\n",
      "Most of the birds can fly but some cannot.\n",
      "There are many types of birds.\n",
      "Sparrows can fly.\n",
      "There are many types of birds.\n",
      "Ostriches cannot fly.\n"
     ]
    }
   ],
   "source": [
    "class Bird:\n",
    "\n",
    "\tdef intro(self):\n",
    "\t\tprint(\"There are many types of birds.\")\n",
    "\n",
    "\tdef flight(self):\n",
    "\t\tprint(\"Most of the birds can fly but some cannot.\")\n",
    "\n",
    "class sparrow(Bird):\n",
    "\n",
    "\tdef flight(self):\n",
    "\t\tprint(\"Sparrows can fly.\")\n",
    "\n",
    "class ostrich(Bird):\n",
    "\n",
    "\tdef flight(self):\n",
    "\t\tprint(\"Ostriches cannot fly.\")\n",
    "\n",
    "obj_bird = Bird()\n",
    "obj_spr = sparrow()\n",
    "obj_ost = ostrich()\n",
    "\n",
    "obj_bird.intro()\n",
    "obj_bird.flight()\n",
    "\n",
    "obj_spr.intro()\n",
    "obj_spr.flight()\n",
    "\n",
    "obj_ost.intro()\n",
    "obj_ost.flight()"
   ]
  },
  {
   "cell_type": "code",
   "execution_count": 11,
   "id": "2017ecd0",
   "metadata": {},
   "outputs": [
    {
     "data": {
      "text/plain": [
       "'\\nIn the above example, we have created the c variable as the private attribute. \\nWe cannot even access this attribute directly and can’t even change its value.\\n'"
      ]
     },
     "execution_count": 11,
     "metadata": {},
     "output_type": "execute_result"
    }
   ],
   "source": [
    "# Python Encapsulation\n",
    "\n",
    "'''\n",
    "Encapsulation is one of the fundamental concepts in object-oriented programming (OOP). \n",
    "It describes the idea of wrapping data and the methods that work on data within one unit. \n",
    "This puts restrictions on accessing variables and methods directly and can prevent the accidental \n",
    "modification of data. To prevent accidental change, an object’s variable can only be changed by an \n",
    "object’s method. Those types of variables are known as private variables.\n",
    "\n",
    "A class is an example of encapsulation as it encapsulates all the data that is member functions, variables, etc.\n",
    "\n",
    "'''\n",
    "\n",
    "# Encapsulation in Python\n",
    "'''\n",
    "In the above example, we have created the c variable as the private attribute. \n",
    "We cannot even access this attribute directly and can’t even change its value.\n",
    "'''"
   ]
  },
  {
   "cell_type": "code",
   "execution_count": 12,
   "id": "1c2c914b",
   "metadata": {},
   "outputs": [],
   "source": [
    "# Python program to\n",
    "# demonstrate private members\n",
    "\n",
    "# Creating a Base class\n",
    "class Base:\n",
    "\tdef __init__(self):\n",
    "\t\tself.a = \"GeeksforGeeks\"\n",
    "\t\tself.__c = \"TheforGeeks\"\n",
    "\n",
    "# Creating a derived class\n",
    "class Derived(Base):\n",
    "\tdef __init__(self):\n",
    "\n",
    "\t\t# Calling constructor of\n",
    "\t\t# Base class\n",
    "\t\tBase.__init__(self)\n",
    "\t\tprint(\"Calling private member of base class: \")\n",
    "\t\tprint(self.__c)"
   ]
  },
  {
   "cell_type": "code",
   "execution_count": 13,
   "id": "d33d5a31",
   "metadata": {},
   "outputs": [
    {
     "name": "stdout",
     "output_type": "stream",
     "text": [
      "GeeksforGeeks\n"
     ]
    }
   ],
   "source": [
    "# Driver code\n",
    "obj1 = Base()\n",
    "print(obj1.a)"
   ]
  },
  {
   "cell_type": "code",
   "execution_count": 14,
   "id": "f51e822f",
   "metadata": {},
   "outputs": [
    {
     "ename": "AttributeError",
     "evalue": "'Base' object has no attribute 'c'",
     "output_type": "error",
     "traceback": [
      "\u001b[1;31m---------------------------------------------------------------------------\u001b[0m",
      "\u001b[1;31mAttributeError\u001b[0m                            Traceback (most recent call last)",
      "Cell \u001b[1;32mIn[14], line 1\u001b[0m\n\u001b[1;32m----> 1\u001b[0m \u001b[38;5;28mprint\u001b[39m(\u001b[43mobj1\u001b[49m\u001b[38;5;241;43m.\u001b[39;49m\u001b[43mc\u001b[49m)\n",
      "\u001b[1;31mAttributeError\u001b[0m: 'Base' object has no attribute 'c'"
     ]
    }
   ],
   "source": [
    "print(obj1.c)"
   ]
  },
  {
   "cell_type": "code",
   "execution_count": 15,
   "id": "cc33d676",
   "metadata": {},
   "outputs": [
    {
     "name": "stdout",
     "output_type": "stream",
     "text": [
      "Calling private member of base class: \n"
     ]
    },
    {
     "ename": "AttributeError",
     "evalue": "'Derived' object has no attribute '_Derived__c'",
     "output_type": "error",
     "traceback": [
      "\u001b[1;31m---------------------------------------------------------------------------\u001b[0m",
      "\u001b[1;31mAttributeError\u001b[0m                            Traceback (most recent call last)",
      "Cell \u001b[1;32mIn[15], line 1\u001b[0m\n\u001b[1;32m----> 1\u001b[0m obj2 \u001b[38;5;241m=\u001b[39m \u001b[43mDerived\u001b[49m\u001b[43m(\u001b[49m\u001b[43m)\u001b[49m\n\u001b[0;32m      2\u001b[0m \u001b[38;5;66;03m# print(obj2.c)\u001b[39;00m\n",
      "Cell \u001b[1;32mIn[12], line 18\u001b[0m, in \u001b[0;36mDerived.__init__\u001b[1;34m(self)\u001b[0m\n\u001b[0;32m     16\u001b[0m Base\u001b[38;5;241m.\u001b[39m\u001b[38;5;21m__init__\u001b[39m(\u001b[38;5;28mself\u001b[39m)\n\u001b[0;32m     17\u001b[0m \u001b[38;5;28mprint\u001b[39m(\u001b[38;5;124m\"\u001b[39m\u001b[38;5;124mCalling private member of base class: \u001b[39m\u001b[38;5;124m\"\u001b[39m)\n\u001b[1;32m---> 18\u001b[0m \u001b[38;5;28mprint\u001b[39m(\u001b[38;5;28;43mself\u001b[39;49m\u001b[38;5;241;43m.\u001b[39;49m\u001b[43m__c\u001b[49m)\n",
      "\u001b[1;31mAttributeError\u001b[0m: 'Derived' object has no attribute '_Derived__c'"
     ]
    }
   ],
   "source": [
    "obj2 = Derived()\n",
    "# print(obj2.c)"
   ]
  },
  {
   "cell_type": "code",
   "execution_count": 16,
   "id": "f7c8c3c5",
   "metadata": {},
   "outputs": [
    {
     "data": {
      "text/plain": [
       "'\\nIt hides unnecessary code details from the user. Also,  when we do not want to give out \\nsensitive parts of our code implementation and this is where data abstraction came.\\n\\nData Abstraction in Python can be achieved by creating abstract classes.\\n'"
      ]
     },
     "execution_count": 16,
     "metadata": {},
     "output_type": "execute_result"
    }
   ],
   "source": [
    "\n",
    "'''\n",
    "It hides unnecessary code details from the user. Also,  when we do not want to give out \n",
    "sensitive parts of our code implementation and this is where data abstraction came.\n",
    "\n",
    "Data Abstraction in Python can be achieved by creating abstract classes.\n",
    "'''"
   ]
  },
  {
   "cell_type": "code",
   "execution_count": 17,
   "id": "d24416b8",
   "metadata": {},
   "outputs": [],
   "source": [
    "# Uncommenting obj2 = Derived() will\n",
    "# also raise an AtrributeError as\n",
    "# private member of base class\n",
    "# is called inside derived class"
   ]
  },
  {
   "cell_type": "code",
   "execution_count": null,
   "id": "c084e164",
   "metadata": {},
   "outputs": [],
   "source": []
  }
 ],
 "metadata": {
  "kernelspec": {
   "display_name": "venv",
   "language": "python",
   "name": "python3"
  },
  "language_info": {
   "codemirror_mode": {
    "name": "ipython",
    "version": 3
   },
   "file_extension": ".py",
   "mimetype": "text/x-python",
   "name": "python",
   "nbconvert_exporter": "python",
   "pygments_lexer": "ipython3",
   "version": "3.10.11"
  }
 },
 "nbformat": 4,
 "nbformat_minor": 5
}
